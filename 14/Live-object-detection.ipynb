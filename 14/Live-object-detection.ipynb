{
 "cells": [
  {
   "cell_type": "code",
   "execution_count": 9,
   "metadata": {},
   "outputs": [],
   "source": [
    "# pip install opencv-python\n",
    "import  cv2\n",
    "import cvlib as cv\n",
    "from cvlib.object_detection import draw_bbox, detect_common_objects, draw_bbox\n",
    "\n",
    "webcam = cv2.VideoCapture(0)\n",
    "\n",
    "while webcam.isOpened():\n",
    "    ret, frame = webcam.read()\n",
    "    bbox,label,conf = cv.detect_common_objects(frame)\n",
    "    out = draw_bbox(frame,bbox,label,conf)\n",
    "\n",
    "    cv2.imshow('Real-time object detection', out)\n",
    "\n",
    "    if cv2.waitKey(1) & 0xFF == ord('q'):\n",
    "        break\n",
    "\n",
    "webcam.release()\n",
    "cv2.destroyAllWindows()\n"
   ]
  }
 ],
 "metadata": {
  "kernelspec": {
   "display_name": "Python 3",
   "language": "python",
   "name": "python3"
  },
  "language_info": {
   "codemirror_mode": {
    "name": "ipython",
    "version": 3
   },
   "file_extension": ".py",
   "mimetype": "text/x-python",
   "name": "python",
   "nbconvert_exporter": "python",
   "pygments_lexer": "ipython3",
   "version": "3.11.5"
  }
 },
 "nbformat": 4,
 "nbformat_minor": 2
}
