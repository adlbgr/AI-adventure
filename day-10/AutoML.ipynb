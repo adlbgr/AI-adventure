{
  "cells": [
    {
      "cell_type": "code",
      "execution_count": 8,
      "metadata": {
        "colab": {
          "base_uri": "https://localhost:8080/"
        },
        "id": "y2SBAy0hpQW-",
        "outputId": "54f8a7d4-9439-46c6-8384-88110a77c971"
      },
      "outputs": [
        {
          "name": "stdout",
          "output_type": "stream",
          "text": [
            "Collecting pycaret\n",
            "  Using cached pycaret-3.3.2-py3-none-any.whl.metadata (17 kB)\n",
            "Requirement already satisfied: ipython>=5.5.0 in c:\\users\\bugra\\appdata\\roaming\\python\\python311\\site-packages (from pycaret) (8.20.0)\n",
            "Requirement already satisfied: ipywidgets>=7.6.5 in c:\\users\\bugra\\appdata\\local\\programs\\python\\python311\\lib\\site-packages (from pycaret) (8.1.2)\n",
            "Requirement already satisfied: tqdm>=4.62.0 in c:\\users\\bugra\\appdata\\local\\programs\\python\\python311\\lib\\site-packages (from pycaret) (4.66.2)\n",
            "Requirement already satisfied: numpy<1.27,>=1.21 in c:\\users\\bugra\\appdata\\local\\programs\\python\\python311\\lib\\site-packages (from pycaret) (1.25.2)\n",
            "Requirement already satisfied: pandas<2.2.0 in c:\\users\\bugra\\appdata\\local\\programs\\python\\python311\\lib\\site-packages (from pycaret) (2.1.4)\n",
            "Requirement already satisfied: jinja2>=3 in c:\\users\\bugra\\appdata\\local\\programs\\python\\python311\\lib\\site-packages (from pycaret) (3.1.3)\n",
            "Requirement already satisfied: scipy<=1.11.4,>=1.6.1 in c:\\users\\bugra\\appdata\\local\\programs\\python\\python311\\lib\\site-packages (from pycaret) (1.11.4)\n",
            "Requirement already satisfied: joblib<1.4,>=1.2.0 in c:\\users\\bugra\\appdata\\local\\programs\\python\\python311\\lib\\site-packages (from pycaret) (1.3.2)\n",
            "Requirement already satisfied: scikit-learn>1.4.0 in c:\\users\\bugra\\appdata\\local\\programs\\python\\python311\\lib\\site-packages (from pycaret) (1.4.2)\n",
            "Collecting pyod>=1.1.3 (from pycaret)\n",
            "  Using cached pyod-2.0.2-py3-none-any.whl\n",
            "Requirement already satisfied: imbalanced-learn>=0.12.0 in c:\\users\\bugra\\appdata\\local\\programs\\python\\python311\\lib\\site-packages (from pycaret) (0.12.3)\n",
            "Collecting category-encoders>=2.4.0 (from pycaret)\n",
            "  Using cached category_encoders-2.6.3-py2.py3-none-any.whl.metadata (8.0 kB)\n",
            "Requirement already satisfied: lightgbm>=3.0.0 in c:\\users\\bugra\\appdata\\local\\programs\\python\\python311\\lib\\site-packages (from pycaret) (4.5.0)\n",
            "Requirement already satisfied: numba>=0.55.0 in c:\\users\\bugra\\appdata\\local\\programs\\python\\python311\\lib\\site-packages (from pycaret) (0.58.1)\n",
            "Requirement already satisfied: requests>=2.27.1 in c:\\users\\bugra\\appdata\\local\\programs\\python\\python311\\lib\\site-packages (from pycaret) (2.32.3)\n",
            "Requirement already satisfied: psutil>=5.9.0 in c:\\users\\bugra\\appdata\\roaming\\python\\python311\\site-packages (from pycaret) (5.9.7)\n",
            "Requirement already satisfied: markupsafe>=2.0.1 in c:\\users\\bugra\\appdata\\local\\programs\\python\\python311\\lib\\site-packages (from pycaret) (2.1.5)\n",
            "Requirement already satisfied: importlib-metadata>=4.12.0 in c:\\users\\bugra\\appdata\\local\\programs\\python\\python311\\lib\\site-packages (from pycaret) (8.4.0)\n",
            "Requirement already satisfied: nbformat>=4.2.0 in c:\\users\\bugra\\appdata\\local\\programs\\python\\python311\\lib\\site-packages (from pycaret) (5.9.2)\n",
            "Requirement already satisfied: cloudpickle in c:\\users\\bugra\\appdata\\local\\programs\\python\\python311\\lib\\site-packages (from pycaret) (3.0.0)\n",
            "Requirement already satisfied: deprecation>=2.1.0 in c:\\users\\bugra\\appdata\\local\\programs\\python\\python311\\lib\\site-packages (from pycaret) (2.1.0)\n",
            "Requirement already satisfied: xxhash in c:\\users\\bugra\\appdata\\local\\programs\\python\\python311\\lib\\site-packages (from pycaret) (3.5.0)\n",
            "Collecting matplotlib<3.8.0 (from pycaret)\n",
            "  Using cached matplotlib-3.7.5-cp311-cp311-win_amd64.whl.metadata (5.8 kB)\n",
            "Collecting scikit-plot>=0.3.7 (from pycaret)\n",
            "  Using cached scikit_plot-0.3.7-py3-none-any.whl.metadata (7.1 kB)\n",
            "Requirement already satisfied: yellowbrick>=1.4 in c:\\users\\bugra\\appdata\\local\\programs\\python\\python311\\lib\\site-packages (from pycaret) (1.5)\n",
            "Requirement already satisfied: plotly>=5.14.0 in c:\\users\\bugra\\appdata\\local\\programs\\python\\python311\\lib\\site-packages (from pycaret) (5.23.0)\n",
            "Requirement already satisfied: kaleido>=0.2.1 in c:\\users\\bugra\\appdata\\local\\programs\\python\\python311\\lib\\site-packages (from pycaret) (0.2.1)\n",
            "Requirement already satisfied: schemdraw==0.15 in c:\\users\\bugra\\appdata\\local\\programs\\python\\python311\\lib\\site-packages (from pycaret) (0.15)\n",
            "Collecting plotly-resampler>=0.8.3.1 (from pycaret)\n",
            "  Using cached plotly_resampler-0.10.0-py3-none-any.whl.metadata (13 kB)\n",
            "Requirement already satisfied: statsmodels>=0.12.1 in c:\\users\\bugra\\appdata\\local\\programs\\python\\python311\\lib\\site-packages (from pycaret) (0.14.1)\n",
            "Collecting sktime==0.26.0 (from pycaret)\n",
            "  Using cached sktime-0.26.0-py3-none-any.whl.metadata (29 kB)\n",
            "Collecting tbats>=1.1.3 (from pycaret)\n",
            "  Using cached tbats-1.1.3-py3-none-any.whl.metadata (3.8 kB)\n",
            "Collecting pmdarima>=2.0.4 (from pycaret)\n",
            "  Using cached pmdarima-2.0.4-cp311-cp311-win_amd64.whl.metadata (8.0 kB)\n",
            "Requirement already satisfied: packaging in c:\\users\\bugra\\appdata\\roaming\\python\\python311\\site-packages (from sktime==0.26.0->pycaret) (23.2)\n",
            "Requirement already satisfied: scikit-base<0.8.0 in c:\\users\\bugra\\appdata\\local\\programs\\python\\python311\\lib\\site-packages (from sktime==0.26.0->pycaret) (0.7.8)\n",
            "Requirement already satisfied: patsy>=0.5.1 in c:\\users\\bugra\\appdata\\local\\programs\\python\\python311\\lib\\site-packages (from category-encoders>=2.4.0->pycaret) (0.5.6)\n",
            "Requirement already satisfied: threadpoolctl>=2.0.0 in c:\\users\\bugra\\appdata\\local\\programs\\python\\python311\\lib\\site-packages (from imbalanced-learn>=0.12.0->pycaret) (3.2.0)\n",
            "Requirement already satisfied: zipp>=0.5 in c:\\users\\bugra\\appdata\\local\\programs\\python\\python311\\lib\\site-packages (from importlib-metadata>=4.12.0->pycaret) (3.20.1)\n",
            "Requirement already satisfied: decorator in c:\\users\\bugra\\appdata\\roaming\\python\\python311\\site-packages (from ipython>=5.5.0->pycaret) (5.1.1)\n",
            "Requirement already satisfied: jedi>=0.16 in c:\\users\\bugra\\appdata\\roaming\\python\\python311\\site-packages (from ipython>=5.5.0->pycaret) (0.19.1)\n",
            "Requirement already satisfied: matplotlib-inline in c:\\users\\bugra\\appdata\\roaming\\python\\python311\\site-packages (from ipython>=5.5.0->pycaret) (0.1.6)\n",
            "Requirement already satisfied: prompt-toolkit<3.1.0,>=3.0.41 in c:\\users\\bugra\\appdata\\roaming\\python\\python311\\site-packages (from ipython>=5.5.0->pycaret) (3.0.43)\n",
            "Requirement already satisfied: pygments>=2.4.0 in c:\\users\\bugra\\appdata\\roaming\\python\\python311\\site-packages (from ipython>=5.5.0->pycaret) (2.17.2)\n",
            "Requirement already satisfied: stack-data in c:\\users\\bugra\\appdata\\roaming\\python\\python311\\site-packages (from ipython>=5.5.0->pycaret) (0.6.3)\n",
            "Requirement already satisfied: traitlets>=5 in c:\\users\\bugra\\appdata\\roaming\\python\\python311\\site-packages (from ipython>=5.5.0->pycaret) (5.14.1)\n",
            "Requirement already satisfied: colorama in c:\\users\\bugra\\appdata\\roaming\\python\\python311\\site-packages (from ipython>=5.5.0->pycaret) (0.4.6)\n",
            "Requirement already satisfied: comm>=0.1.3 in c:\\users\\bugra\\appdata\\roaming\\python\\python311\\site-packages (from ipywidgets>=7.6.5->pycaret) (0.2.1)\n",
            "Requirement already satisfied: widgetsnbextension~=4.0.10 in c:\\users\\bugra\\appdata\\local\\programs\\python\\python311\\lib\\site-packages (from ipywidgets>=7.6.5->pycaret) (4.0.10)\n",
            "Requirement already satisfied: jupyterlab-widgets~=3.0.10 in c:\\users\\bugra\\appdata\\local\\programs\\python\\python311\\lib\\site-packages (from ipywidgets>=7.6.5->pycaret) (3.0.10)\n",
            "Requirement already satisfied: contourpy>=1.0.1 in c:\\users\\bugra\\appdata\\local\\programs\\python\\python311\\lib\\site-packages (from matplotlib<3.8.0->pycaret) (1.2.0)\n",
            "Requirement already satisfied: cycler>=0.10 in c:\\users\\bugra\\appdata\\local\\programs\\python\\python311\\lib\\site-packages (from matplotlib<3.8.0->pycaret) (0.12.1)\n",
            "Requirement already satisfied: fonttools>=4.22.0 in c:\\users\\bugra\\appdata\\local\\programs\\python\\python311\\lib\\site-packages (from matplotlib<3.8.0->pycaret) (4.47.2)\n",
            "Requirement already satisfied: kiwisolver>=1.0.1 in c:\\users\\bugra\\appdata\\local\\programs\\python\\python311\\lib\\site-packages (from matplotlib<3.8.0->pycaret) (1.4.5)\n",
            "Requirement already satisfied: pillow>=6.2.0 in c:\\users\\bugra\\appdata\\local\\programs\\python\\python311\\lib\\site-packages (from matplotlib<3.8.0->pycaret) (10.2.0)\n",
            "Requirement already satisfied: pyparsing>=2.3.1 in c:\\users\\bugra\\appdata\\local\\programs\\python\\python311\\lib\\site-packages (from matplotlib<3.8.0->pycaret) (3.1.1)\n",
            "Requirement already satisfied: python-dateutil>=2.7 in c:\\users\\bugra\\appdata\\roaming\\python\\python311\\site-packages (from matplotlib<3.8.0->pycaret) (2.8.2)\n",
            "Requirement already satisfied: fastjsonschema in c:\\users\\bugra\\appdata\\local\\programs\\python\\python311\\lib\\site-packages (from nbformat>=4.2.0->pycaret) (2.19.1)\n",
            "Requirement already satisfied: jsonschema>=2.6 in c:\\users\\bugra\\appdata\\local\\programs\\python\\python311\\lib\\site-packages (from nbformat>=4.2.0->pycaret) (4.21.1)\n",
            "Requirement already satisfied: jupyter-core in c:\\users\\bugra\\appdata\\roaming\\python\\python311\\site-packages (from nbformat>=4.2.0->pycaret) (5.7.1)\n",
            "Requirement already satisfied: llvmlite<0.42,>=0.41.0dev0 in c:\\users\\bugra\\appdata\\local\\programs\\python\\python311\\lib\\site-packages (from numba>=0.55.0->pycaret) (0.41.1)\n",
            "Requirement already satisfied: pytz>=2020.1 in c:\\users\\bugra\\appdata\\local\\programs\\python\\python311\\lib\\site-packages (from pandas<2.2.0->pycaret) (2023.3.post1)\n",
            "Requirement already satisfied: tzdata>=2022.1 in c:\\users\\bugra\\appdata\\local\\programs\\python\\python311\\lib\\site-packages (from pandas<2.2.0->pycaret) (2023.4)\n",
            "Requirement already satisfied: tenacity>=6.2.0 in c:\\users\\bugra\\appdata\\local\\programs\\python\\python311\\lib\\site-packages (from plotly>=5.14.0->pycaret) (8.5.0)\n",
            "Collecting dash>=2.9.0 (from plotly-resampler>=0.8.3.1->pycaret)\n",
            "  Using cached dash-2.18.0-py3-none-any.whl.metadata (10 kB)\n",
            "Requirement already satisfied: orjson<4.0.0,>=3.8.0 in c:\\users\\bugra\\appdata\\local\\programs\\python\\python311\\lib\\site-packages (from plotly-resampler>=0.8.3.1->pycaret) (3.10.7)\n",
            "Requirement already satisfied: tsdownsample>=0.1.3 in c:\\users\\bugra\\appdata\\local\\programs\\python\\python311\\lib\\site-packages (from plotly-resampler>=0.8.3.1->pycaret) (0.1.3)\n",
            "Requirement already satisfied: Cython!=0.29.18,!=0.29.31,>=0.29 in c:\\users\\bugra\\appdata\\local\\programs\\python\\python311\\lib\\site-packages (from pmdarima>=2.0.4->pycaret) (3.0.11)\n",
            "Requirement already satisfied: urllib3 in c:\\users\\bugra\\appdata\\local\\programs\\python\\python311\\lib\\site-packages (from pmdarima>=2.0.4->pycaret) (2.2.0)\n",
            "Requirement already satisfied: setuptools!=50.0.0,>=38.6.0 in c:\\users\\bugra\\appdata\\local\\programs\\python\\python311\\lib\\site-packages (from pmdarima>=2.0.4->pycaret) (65.5.0)\n",
            "Requirement already satisfied: charset-normalizer<4,>=2 in c:\\users\\bugra\\appdata\\local\\programs\\python\\python311\\lib\\site-packages (from requests>=2.27.1->pycaret) (3.3.2)\n",
            "Requirement already satisfied: idna<4,>=2.5 in c:\\users\\bugra\\appdata\\local\\programs\\python\\python311\\lib\\site-packages (from requests>=2.27.1->pycaret) (2.10)\n",
            "Requirement already satisfied: certifi>=2017.4.17 in c:\\users\\bugra\\appdata\\local\\programs\\python\\python311\\lib\\site-packages (from requests>=2.27.1->pycaret) (2023.11.17)\n",
            "Requirement already satisfied: Flask<3.1,>=1.0.4 in c:\\users\\bugra\\appdata\\local\\programs\\python\\python311\\lib\\site-packages (from dash>=2.9.0->plotly-resampler>=0.8.3.1->pycaret) (3.0.3)\n",
            "Requirement already satisfied: Werkzeug<3.1 in c:\\users\\bugra\\appdata\\local\\programs\\python\\python311\\lib\\site-packages (from dash>=2.9.0->plotly-resampler>=0.8.3.1->pycaret) (3.0.3)\n",
            "Requirement already satisfied: dash-html-components==2.0.0 in c:\\users\\bugra\\appdata\\local\\programs\\python\\python311\\lib\\site-packages (from dash>=2.9.0->plotly-resampler>=0.8.3.1->pycaret) (2.0.0)\n",
            "Requirement already satisfied: dash-core-components==2.0.0 in c:\\users\\bugra\\appdata\\local\\programs\\python\\python311\\lib\\site-packages (from dash>=2.9.0->plotly-resampler>=0.8.3.1->pycaret) (2.0.0)\n",
            "Requirement already satisfied: dash-table==5.0.0 in c:\\users\\bugra\\appdata\\local\\programs\\python\\python311\\lib\\site-packages (from dash>=2.9.0->plotly-resampler>=0.8.3.1->pycaret) (5.0.0)\n",
            "Requirement already satisfied: typing-extensions>=4.1.1 in c:\\users\\bugra\\appdata\\local\\programs\\python\\python311\\lib\\site-packages (from dash>=2.9.0->plotly-resampler>=0.8.3.1->pycaret) (4.12.2)\n",
            "Requirement already satisfied: retrying in c:\\users\\bugra\\appdata\\local\\programs\\python\\python311\\lib\\site-packages (from dash>=2.9.0->plotly-resampler>=0.8.3.1->pycaret) (1.3.4)\n",
            "Requirement already satisfied: nest-asyncio in c:\\users\\bugra\\appdata\\roaming\\python\\python311\\site-packages (from dash>=2.9.0->plotly-resampler>=0.8.3.1->pycaret) (1.5.9)\n",
            "Requirement already satisfied: parso<0.9.0,>=0.8.3 in c:\\users\\bugra\\appdata\\roaming\\python\\python311\\site-packages (from jedi>=0.16->ipython>=5.5.0->pycaret) (0.8.3)\n",
            "Requirement already satisfied: attrs>=22.2.0 in c:\\users\\bugra\\appdata\\local\\programs\\python\\python311\\lib\\site-packages (from jsonschema>=2.6->nbformat>=4.2.0->pycaret) (23.2.0)\n",
            "Requirement already satisfied: jsonschema-specifications>=2023.03.6 in c:\\users\\bugra\\appdata\\local\\programs\\python\\python311\\lib\\site-packages (from jsonschema>=2.6->nbformat>=4.2.0->pycaret) (2023.12.1)\n",
            "Requirement already satisfied: referencing>=0.28.4 in c:\\users\\bugra\\appdata\\local\\programs\\python\\python311\\lib\\site-packages (from jsonschema>=2.6->nbformat>=4.2.0->pycaret) (0.33.0)\n",
            "Requirement already satisfied: rpds-py>=0.7.1 in c:\\users\\bugra\\appdata\\local\\programs\\python\\python311\\lib\\site-packages (from jsonschema>=2.6->nbformat>=4.2.0->pycaret) (0.17.1)\n",
            "Requirement already satisfied: six in c:\\users\\bugra\\appdata\\roaming\\python\\python311\\site-packages (from patsy>=0.5.1->category-encoders>=2.4.0->pycaret) (1.16.0)\n",
            "Requirement already satisfied: wcwidth in c:\\users\\bugra\\appdata\\roaming\\python\\python311\\site-packages (from prompt-toolkit<3.1.0,>=3.0.41->ipython>=5.5.0->pycaret) (0.2.13)\n",
            "Requirement already satisfied: platformdirs>=2.5 in c:\\users\\bugra\\appdata\\roaming\\python\\python311\\site-packages (from jupyter-core->nbformat>=4.2.0->pycaret) (4.1.0)\n",
            "Requirement already satisfied: pywin32>=300 in c:\\users\\bugra\\appdata\\roaming\\python\\python311\\site-packages (from jupyter-core->nbformat>=4.2.0->pycaret) (306)\n",
            "Requirement already satisfied: executing>=1.2.0 in c:\\users\\bugra\\appdata\\roaming\\python\\python311\\site-packages (from stack-data->ipython>=5.5.0->pycaret) (2.0.1)\n",
            "Requirement already satisfied: asttokens>=2.1.0 in c:\\users\\bugra\\appdata\\roaming\\python\\python311\\site-packages (from stack-data->ipython>=5.5.0->pycaret) (2.4.1)\n",
            "Requirement already satisfied: pure-eval in c:\\users\\bugra\\appdata\\roaming\\python\\python311\\site-packages (from stack-data->ipython>=5.5.0->pycaret) (0.2.2)\n",
            "Requirement already satisfied: itsdangerous>=2.1.2 in c:\\users\\bugra\\appdata\\local\\programs\\python\\python311\\lib\\site-packages (from Flask<3.1,>=1.0.4->dash>=2.9.0->plotly-resampler>=0.8.3.1->pycaret) (2.2.0)\n",
            "Requirement already satisfied: click>=8.1.3 in c:\\users\\bugra\\appdata\\local\\programs\\python\\python311\\lib\\site-packages (from Flask<3.1,>=1.0.4->dash>=2.9.0->plotly-resampler>=0.8.3.1->pycaret) (8.1.7)\n",
            "Requirement already satisfied: blinker>=1.6.2 in c:\\users\\bugra\\appdata\\local\\programs\\python\\python311\\lib\\site-packages (from Flask<3.1,>=1.0.4->dash>=2.9.0->plotly-resampler>=0.8.3.1->pycaret) (1.8.2)\n",
            "Using cached pycaret-3.3.2-py3-none-any.whl (486 kB)\n",
            "Using cached sktime-0.26.0-py3-none-any.whl (21.8 MB)\n",
            "Using cached category_encoders-2.6.3-py2.py3-none-any.whl (81 kB)\n",
            "Using cached matplotlib-3.7.5-cp311-cp311-win_amd64.whl (7.5 MB)\n",
            "Using cached plotly_resampler-0.10.0-py3-none-any.whl (80 kB)\n",
            "Using cached pmdarima-2.0.4-cp311-cp311-win_amd64.whl (614 kB)\n",
            "Using cached scikit_plot-0.3.7-py3-none-any.whl (33 kB)\n",
            "Using cached tbats-1.1.3-py3-none-any.whl (44 kB)\n",
            "Using cached dash-2.18.0-py3-none-any.whl (7.5 MB)\n",
            "Installing collected packages: matplotlib, sktime, scikit-plot, pyod, dash, pmdarima, plotly-resampler, category-encoders, tbats, pycaret\n"
          ]
        },
        {
          "name": "stderr",
          "output_type": "stream",
          "text": [
            "WARNING: Ignoring invalid distribution ~atplotlib (C:\\Users\\bugra\\AppData\\Local\\Programs\\Python\\Python311\\Lib\\site-packages)\n",
            "WARNING: Ignoring invalid distribution ~atplotlib (C:\\Users\\bugra\\AppData\\Local\\Programs\\Python\\Python311\\Lib\\site-packages)\n",
            "ERROR: Could not install packages due to an OSError: [WinError 5] Erişim engellendi: 'C:\\\\Users\\\\bugra\\\\AppData\\\\Local\\\\Programs\\\\Python\\\\Python311\\\\Lib\\\\site-packages\\\\matplotlib\\\\ft2font.cp311-win_amd64.pyd'\n",
            "Consider using the `--user` option or check the permissions.\n",
            "\n"
          ]
        }
      ],
      "source": [
        "# !pip install pycaret"
      ]
    },
    {
      "cell_type": "markdown",
      "metadata": {
        "id": "socjNPQBpr8B"
      },
      "source": [
        "# Regression with AutoML"
      ]
    },
    {
      "cell_type": "code",
      "execution_count": 10,
      "metadata": {
        "colab": {
          "base_uri": "https://localhost:8080/",
          "height": 663
        },
        "id": "Lxa_JfkXpinz",
        "outputId": "22b7149b-6e52-440b-936d-0f08501b3ac5"
      },
      "outputs": [
        {
          "data": {
            "text/html": [
              "<style type=\"text/css\">\n",
              "#T_6bcae_row8_col1 {\n",
              "  background-color: lightgreen;\n",
              "}\n",
              "</style>\n",
              "<table id=\"T_6bcae\">\n",
              "  <thead>\n",
              "    <tr>\n",
              "      <th class=\"blank level0\" >&nbsp;</th>\n",
              "      <th id=\"T_6bcae_level0_col0\" class=\"col_heading level0 col0\" >Description</th>\n",
              "      <th id=\"T_6bcae_level0_col1\" class=\"col_heading level0 col1\" >Value</th>\n",
              "    </tr>\n",
              "  </thead>\n",
              "  <tbody>\n",
              "    <tr>\n",
              "      <th id=\"T_6bcae_level0_row0\" class=\"row_heading level0 row0\" >0</th>\n",
              "      <td id=\"T_6bcae_row0_col0\" class=\"data row0 col0\" >Session id</td>\n",
              "      <td id=\"T_6bcae_row0_col1\" class=\"data row0 col1\" >7585</td>\n",
              "    </tr>\n",
              "    <tr>\n",
              "      <th id=\"T_6bcae_level0_row1\" class=\"row_heading level0 row1\" >1</th>\n",
              "      <td id=\"T_6bcae_row1_col0\" class=\"data row1 col0\" >Target</td>\n",
              "      <td id=\"T_6bcae_row1_col1\" class=\"data row1 col1\" >price</td>\n",
              "    </tr>\n",
              "    <tr>\n",
              "      <th id=\"T_6bcae_level0_row2\" class=\"row_heading level0 row2\" >2</th>\n",
              "      <td id=\"T_6bcae_row2_col0\" class=\"data row2 col0\" >Target type</td>\n",
              "      <td id=\"T_6bcae_row2_col1\" class=\"data row2 col1\" >Regression</td>\n",
              "    </tr>\n",
              "    <tr>\n",
              "      <th id=\"T_6bcae_level0_row3\" class=\"row_heading level0 row3\" >3</th>\n",
              "      <td id=\"T_6bcae_row3_col0\" class=\"data row3 col0\" >Original data shape</td>\n",
              "      <td id=\"T_6bcae_row3_col1\" class=\"data row3 col1\" >(19034, 82)</td>\n",
              "    </tr>\n",
              "    <tr>\n",
              "      <th id=\"T_6bcae_level0_row4\" class=\"row_heading level0 row4\" >4</th>\n",
              "      <td id=\"T_6bcae_row4_col0\" class=\"data row4 col0\" >Transformed data shape</td>\n",
              "      <td id=\"T_6bcae_row4_col1\" class=\"data row4 col1\" >(19034, 82)</td>\n",
              "    </tr>\n",
              "    <tr>\n",
              "      <th id=\"T_6bcae_level0_row5\" class=\"row_heading level0 row5\" >5</th>\n",
              "      <td id=\"T_6bcae_row5_col0\" class=\"data row5 col0\" >Transformed train set shape</td>\n",
              "      <td id=\"T_6bcae_row5_col1\" class=\"data row5 col1\" >(13323, 82)</td>\n",
              "    </tr>\n",
              "    <tr>\n",
              "      <th id=\"T_6bcae_level0_row6\" class=\"row_heading level0 row6\" >6</th>\n",
              "      <td id=\"T_6bcae_row6_col0\" class=\"data row6 col0\" >Transformed test set shape</td>\n",
              "      <td id=\"T_6bcae_row6_col1\" class=\"data row6 col1\" >(5711, 82)</td>\n",
              "    </tr>\n",
              "    <tr>\n",
              "      <th id=\"T_6bcae_level0_row7\" class=\"row_heading level0 row7\" >7</th>\n",
              "      <td id=\"T_6bcae_row7_col0\" class=\"data row7 col0\" >Numeric features</td>\n",
              "      <td id=\"T_6bcae_row7_col1\" class=\"data row7 col1\" >81</td>\n",
              "    </tr>\n",
              "    <tr>\n",
              "      <th id=\"T_6bcae_level0_row8\" class=\"row_heading level0 row8\" >8</th>\n",
              "      <td id=\"T_6bcae_row8_col0\" class=\"data row8 col0\" >Preprocess</td>\n",
              "      <td id=\"T_6bcae_row8_col1\" class=\"data row8 col1\" >True</td>\n",
              "    </tr>\n",
              "    <tr>\n",
              "      <th id=\"T_6bcae_level0_row9\" class=\"row_heading level0 row9\" >9</th>\n",
              "      <td id=\"T_6bcae_row9_col0\" class=\"data row9 col0\" >Imputation type</td>\n",
              "      <td id=\"T_6bcae_row9_col1\" class=\"data row9 col1\" >simple</td>\n",
              "    </tr>\n",
              "    <tr>\n",
              "      <th id=\"T_6bcae_level0_row10\" class=\"row_heading level0 row10\" >10</th>\n",
              "      <td id=\"T_6bcae_row10_col0\" class=\"data row10 col0\" >Numeric imputation</td>\n",
              "      <td id=\"T_6bcae_row10_col1\" class=\"data row10 col1\" >mean</td>\n",
              "    </tr>\n",
              "    <tr>\n",
              "      <th id=\"T_6bcae_level0_row11\" class=\"row_heading level0 row11\" >11</th>\n",
              "      <td id=\"T_6bcae_row11_col0\" class=\"data row11 col0\" >Categorical imputation</td>\n",
              "      <td id=\"T_6bcae_row11_col1\" class=\"data row11 col1\" >mode</td>\n",
              "    </tr>\n",
              "    <tr>\n",
              "      <th id=\"T_6bcae_level0_row12\" class=\"row_heading level0 row12\" >12</th>\n",
              "      <td id=\"T_6bcae_row12_col0\" class=\"data row12 col0\" >Fold Generator</td>\n",
              "      <td id=\"T_6bcae_row12_col1\" class=\"data row12 col1\" >KFold</td>\n",
              "    </tr>\n",
              "    <tr>\n",
              "      <th id=\"T_6bcae_level0_row13\" class=\"row_heading level0 row13\" >13</th>\n",
              "      <td id=\"T_6bcae_row13_col0\" class=\"data row13 col0\" >Fold Number</td>\n",
              "      <td id=\"T_6bcae_row13_col1\" class=\"data row13 col1\" >10</td>\n",
              "    </tr>\n",
              "    <tr>\n",
              "      <th id=\"T_6bcae_level0_row14\" class=\"row_heading level0 row14\" >14</th>\n",
              "      <td id=\"T_6bcae_row14_col0\" class=\"data row14 col0\" >CPU Jobs</td>\n",
              "      <td id=\"T_6bcae_row14_col1\" class=\"data row14 col1\" >-1</td>\n",
              "    </tr>\n",
              "    <tr>\n",
              "      <th id=\"T_6bcae_level0_row15\" class=\"row_heading level0 row15\" >15</th>\n",
              "      <td id=\"T_6bcae_row15_col0\" class=\"data row15 col0\" >Use GPU</td>\n",
              "      <td id=\"T_6bcae_row15_col1\" class=\"data row15 col1\" >False</td>\n",
              "    </tr>\n",
              "    <tr>\n",
              "      <th id=\"T_6bcae_level0_row16\" class=\"row_heading level0 row16\" >16</th>\n",
              "      <td id=\"T_6bcae_row16_col0\" class=\"data row16 col0\" >Log Experiment</td>\n",
              "      <td id=\"T_6bcae_row16_col1\" class=\"data row16 col1\" >False</td>\n",
              "    </tr>\n",
              "    <tr>\n",
              "      <th id=\"T_6bcae_level0_row17\" class=\"row_heading level0 row17\" >17</th>\n",
              "      <td id=\"T_6bcae_row17_col0\" class=\"data row17 col0\" >Experiment Name</td>\n",
              "      <td id=\"T_6bcae_row17_col1\" class=\"data row17 col1\" >reg-default-name</td>\n",
              "    </tr>\n",
              "    <tr>\n",
              "      <th id=\"T_6bcae_level0_row18\" class=\"row_heading level0 row18\" >18</th>\n",
              "      <td id=\"T_6bcae_row18_col0\" class=\"data row18 col0\" >USI</td>\n",
              "      <td id=\"T_6bcae_row18_col1\" class=\"data row18 col1\" >8546</td>\n",
              "    </tr>\n",
              "  </tbody>\n",
              "</table>\n"
            ],
            "text/plain": [
              "<pandas.io.formats.style.Styler at 0x22ce217cd50>"
            ]
          },
          "metadata": {},
          "output_type": "display_data"
        },
        {
          "data": {
            "text/plain": [
              "<pycaret.regression.oop.RegressionExperiment at 0x22cbde2dc50>"
            ]
          },
          "execution_count": 10,
          "metadata": {},
          "output_type": "execute_result"
        }
      ],
      "source": [
        "from pycaret.regression import *\n",
        "import pandas as pd\n",
        "df = pd.read_pickle('data/kc_house.pkl')\n",
        "setup(data = df ,target = \"price\")"
      ]
    },
    {
      "cell_type": "code",
      "execution_count": 11,
      "metadata": {
        "colab": {
          "base_uri": "https://localhost:8080/",
          "height": 442,
          "referenced_widgets": [
            "bcee5b18f115458ebc840f1b7cc44d3f",
            "7f121dce8ab44a53ae5b883057cd3869",
            "aa08b6c9bd984d9c92dc02c7a0b9fc2e",
            "7af5442f92ce4d32b73a23919d452ce5",
            "3b2ac814f532463f8f1f1b5a0a332c9f",
            "40c065bec8e84f0b9edac4860515eeca",
            "9553e71f5edf44068ebc75edeb8af0d7",
            "5e25a8d89d424b20b5d8ac84d290a3cf",
            "539bd04ad1d648f2ac1e3fd6cbd6faf5",
            "bb1daf069e5341edadab89d6998c344c",
            "74548851d14d4651bd4c433f4d00fab5"
          ]
        },
        "id": "x7ztL_lJp6mC",
        "outputId": "021dff26-f721-4bd3-a1af-40e549165438"
      },
      "outputs": [
        {
          "data": {
            "text/html": [],
            "text/plain": [
              "<IPython.core.display.HTML object>"
            ]
          },
          "metadata": {},
          "output_type": "display_data"
        },
        {
          "data": {
            "text/html": [
              "<style type=\"text/css\">\n",
              "#T_cfd1e th {\n",
              "  text-align: left;\n",
              "}\n",
              "#T_cfd1e_row0_col0, #T_cfd1e_row1_col0, #T_cfd1e_row1_col1, #T_cfd1e_row1_col2, #T_cfd1e_row1_col3, #T_cfd1e_row1_col4, #T_cfd1e_row1_col5, #T_cfd1e_row1_col6, #T_cfd1e_row2_col0, #T_cfd1e_row2_col1, #T_cfd1e_row2_col2, #T_cfd1e_row2_col3, #T_cfd1e_row2_col4, #T_cfd1e_row2_col5, #T_cfd1e_row2_col6, #T_cfd1e_row3_col0, #T_cfd1e_row3_col1, #T_cfd1e_row3_col2, #T_cfd1e_row3_col3, #T_cfd1e_row3_col4, #T_cfd1e_row3_col5, #T_cfd1e_row3_col6, #T_cfd1e_row4_col0, #T_cfd1e_row4_col1, #T_cfd1e_row4_col2, #T_cfd1e_row4_col3, #T_cfd1e_row4_col4, #T_cfd1e_row4_col5, #T_cfd1e_row4_col6, #T_cfd1e_row5_col0, #T_cfd1e_row5_col1, #T_cfd1e_row5_col2, #T_cfd1e_row5_col3, #T_cfd1e_row5_col4, #T_cfd1e_row5_col5, #T_cfd1e_row5_col6, #T_cfd1e_row6_col0, #T_cfd1e_row6_col1, #T_cfd1e_row6_col2, #T_cfd1e_row6_col3, #T_cfd1e_row6_col4, #T_cfd1e_row6_col5, #T_cfd1e_row6_col6, #T_cfd1e_row7_col0, #T_cfd1e_row7_col1, #T_cfd1e_row7_col2, #T_cfd1e_row7_col3, #T_cfd1e_row7_col4, #T_cfd1e_row7_col5, #T_cfd1e_row7_col6, #T_cfd1e_row8_col0, #T_cfd1e_row8_col1, #T_cfd1e_row8_col2, #T_cfd1e_row8_col3, #T_cfd1e_row8_col4, #T_cfd1e_row8_col5, #T_cfd1e_row8_col6, #T_cfd1e_row9_col0, #T_cfd1e_row9_col1, #T_cfd1e_row9_col2, #T_cfd1e_row9_col3, #T_cfd1e_row9_col4, #T_cfd1e_row9_col5, #T_cfd1e_row9_col6, #T_cfd1e_row10_col0, #T_cfd1e_row10_col1, #T_cfd1e_row10_col2, #T_cfd1e_row10_col3, #T_cfd1e_row10_col4, #T_cfd1e_row10_col5, #T_cfd1e_row10_col6, #T_cfd1e_row11_col0, #T_cfd1e_row11_col1, #T_cfd1e_row11_col2, #T_cfd1e_row11_col3, #T_cfd1e_row11_col4, #T_cfd1e_row11_col5, #T_cfd1e_row11_col6, #T_cfd1e_row12_col0, #T_cfd1e_row12_col1, #T_cfd1e_row12_col2, #T_cfd1e_row12_col3, #T_cfd1e_row12_col4, #T_cfd1e_row12_col5, #T_cfd1e_row12_col6, #T_cfd1e_row13_col0, #T_cfd1e_row13_col1, #T_cfd1e_row13_col2, #T_cfd1e_row13_col3, #T_cfd1e_row13_col4, #T_cfd1e_row13_col5, #T_cfd1e_row13_col6, #T_cfd1e_row14_col0, #T_cfd1e_row14_col1, #T_cfd1e_row14_col2, #T_cfd1e_row14_col3, #T_cfd1e_row14_col4, #T_cfd1e_row14_col5, #T_cfd1e_row14_col6, #T_cfd1e_row15_col0, #T_cfd1e_row15_col1, #T_cfd1e_row15_col2, #T_cfd1e_row15_col3, #T_cfd1e_row15_col4, #T_cfd1e_row15_col5, #T_cfd1e_row15_col6, #T_cfd1e_row16_col0, #T_cfd1e_row16_col1, #T_cfd1e_row16_col2, #T_cfd1e_row16_col3, #T_cfd1e_row16_col4, #T_cfd1e_row16_col5, #T_cfd1e_row16_col6, #T_cfd1e_row17_col0, #T_cfd1e_row17_col1, #T_cfd1e_row17_col2, #T_cfd1e_row17_col3, #T_cfd1e_row17_col4, #T_cfd1e_row17_col5, #T_cfd1e_row17_col6, #T_cfd1e_row18_col0, #T_cfd1e_row18_col1, #T_cfd1e_row18_col2, #T_cfd1e_row18_col3, #T_cfd1e_row18_col4, #T_cfd1e_row18_col5, #T_cfd1e_row18_col6, #T_cfd1e_row19_col0, #T_cfd1e_row19_col1, #T_cfd1e_row19_col2, #T_cfd1e_row19_col3, #T_cfd1e_row19_col4, #T_cfd1e_row19_col5, #T_cfd1e_row19_col6 {\n",
              "  text-align: left;\n",
              "}\n",
              "#T_cfd1e_row0_col1, #T_cfd1e_row0_col2, #T_cfd1e_row0_col3, #T_cfd1e_row0_col4, #T_cfd1e_row0_col5, #T_cfd1e_row0_col6 {\n",
              "  text-align: left;\n",
              "  background-color: yellow;\n",
              "}\n",
              "#T_cfd1e_row0_col7, #T_cfd1e_row1_col7, #T_cfd1e_row2_col7, #T_cfd1e_row3_col7, #T_cfd1e_row4_col7, #T_cfd1e_row5_col7, #T_cfd1e_row6_col7, #T_cfd1e_row7_col7, #T_cfd1e_row8_col7, #T_cfd1e_row9_col7, #T_cfd1e_row10_col7, #T_cfd1e_row11_col7, #T_cfd1e_row12_col7, #T_cfd1e_row13_col7, #T_cfd1e_row14_col7, #T_cfd1e_row15_col7, #T_cfd1e_row16_col7, #T_cfd1e_row17_col7, #T_cfd1e_row19_col7 {\n",
              "  text-align: left;\n",
              "  background-color: lightgrey;\n",
              "}\n",
              "#T_cfd1e_row18_col7 {\n",
              "  text-align: left;\n",
              "  background-color: yellow;\n",
              "  background-color: lightgrey;\n",
              "}\n",
              "</style>\n",
              "<table id=\"T_cfd1e\">\n",
              "  <thead>\n",
              "    <tr>\n",
              "      <th class=\"blank level0\" >&nbsp;</th>\n",
              "      <th id=\"T_cfd1e_level0_col0\" class=\"col_heading level0 col0\" >Model</th>\n",
              "      <th id=\"T_cfd1e_level0_col1\" class=\"col_heading level0 col1\" >MAE</th>\n",
              "      <th id=\"T_cfd1e_level0_col2\" class=\"col_heading level0 col2\" >MSE</th>\n",
              "      <th id=\"T_cfd1e_level0_col3\" class=\"col_heading level0 col3\" >RMSE</th>\n",
              "      <th id=\"T_cfd1e_level0_col4\" class=\"col_heading level0 col4\" >R2</th>\n",
              "      <th id=\"T_cfd1e_level0_col5\" class=\"col_heading level0 col5\" >RMSLE</th>\n",
              "      <th id=\"T_cfd1e_level0_col6\" class=\"col_heading level0 col6\" >MAPE</th>\n",
              "      <th id=\"T_cfd1e_level0_col7\" class=\"col_heading level0 col7\" >TT (Sec)</th>\n",
              "    </tr>\n",
              "  </thead>\n",
              "  <tbody>\n",
              "    <tr>\n",
              "      <th id=\"T_cfd1e_level0_row0\" class=\"row_heading level0 row0\" >catboost</th>\n",
              "      <td id=\"T_cfd1e_row0_col0\" class=\"data row0 col0\" >CatBoost Regressor</td>\n",
              "      <td id=\"T_cfd1e_row0_col1\" class=\"data row0 col1\" >60490.3930</td>\n",
              "      <td id=\"T_cfd1e_row0_col2\" class=\"data row0 col2\" >7699427522.2564</td>\n",
              "      <td id=\"T_cfd1e_row0_col3\" class=\"data row0 col3\" >87701.5329</td>\n",
              "      <td id=\"T_cfd1e_row0_col4\" class=\"data row0 col4\" >0.8445</td>\n",
              "      <td id=\"T_cfd1e_row0_col5\" class=\"data row0 col5\" >0.1846</td>\n",
              "      <td id=\"T_cfd1e_row0_col6\" class=\"data row0 col6\" >0.1399</td>\n",
              "      <td id=\"T_cfd1e_row0_col7\" class=\"data row0 col7\" >1.9940</td>\n",
              "    </tr>\n",
              "    <tr>\n",
              "      <th id=\"T_cfd1e_level0_row1\" class=\"row_heading level0 row1\" >lightgbm</th>\n",
              "      <td id=\"T_cfd1e_row1_col0\" class=\"data row1 col0\" >Light Gradient Boosting Machine</td>\n",
              "      <td id=\"T_cfd1e_row1_col1\" class=\"data row1 col1\" >64121.8377</td>\n",
              "      <td id=\"T_cfd1e_row1_col2\" class=\"data row1 col2\" >8576042167.3386</td>\n",
              "      <td id=\"T_cfd1e_row1_col3\" class=\"data row1 col3\" >92556.8410</td>\n",
              "      <td id=\"T_cfd1e_row1_col4\" class=\"data row1 col4\" >0.8267</td>\n",
              "      <td id=\"T_cfd1e_row1_col5\" class=\"data row1 col5\" >0.1943</td>\n",
              "      <td id=\"T_cfd1e_row1_col6\" class=\"data row1 col6\" >0.1486</td>\n",
              "      <td id=\"T_cfd1e_row1_col7\" class=\"data row1 col7\" >0.1520</td>\n",
              "    </tr>\n",
              "    <tr>\n",
              "      <th id=\"T_cfd1e_level0_row2\" class=\"row_heading level0 row2\" >xgboost</th>\n",
              "      <td id=\"T_cfd1e_row2_col0\" class=\"data row2 col0\" >Extreme Gradient Boosting</td>\n",
              "      <td id=\"T_cfd1e_row2_col1\" class=\"data row2 col1\" >63739.2379</td>\n",
              "      <td id=\"T_cfd1e_row2_col2\" class=\"data row2 col2\" >8651608422.4000</td>\n",
              "      <td id=\"T_cfd1e_row2_col3\" class=\"data row2 col3\" >92971.5531</td>\n",
              "      <td id=\"T_cfd1e_row2_col4\" class=\"data row2 col4\" >0.8252</td>\n",
              "      <td id=\"T_cfd1e_row2_col5\" class=\"data row2 col5\" >0.1930</td>\n",
              "      <td id=\"T_cfd1e_row2_col6\" class=\"data row2 col6\" >0.1466</td>\n",
              "      <td id=\"T_cfd1e_row2_col7\" class=\"data row2 col7\" >0.1920</td>\n",
              "    </tr>\n",
              "    <tr>\n",
              "      <th id=\"T_cfd1e_level0_row3\" class=\"row_heading level0 row3\" >lasso</th>\n",
              "      <td id=\"T_cfd1e_row3_col0\" class=\"data row3 col0\" >Lasso Regression</td>\n",
              "      <td id=\"T_cfd1e_row3_col1\" class=\"data row3 col1\" >66121.5185</td>\n",
              "      <td id=\"T_cfd1e_row3_col2\" class=\"data row3 col2\" >8665239355.1565</td>\n",
              "      <td id=\"T_cfd1e_row3_col3\" class=\"data row3 col3\" >93034.2302</td>\n",
              "      <td id=\"T_cfd1e_row3_col4\" class=\"data row3 col4\" >0.8249</td>\n",
              "      <td id=\"T_cfd1e_row3_col5\" class=\"data row3 col5\" >0.2231</td>\n",
              "      <td id=\"T_cfd1e_row3_col6\" class=\"data row3 col6\" >0.1527</td>\n",
              "      <td id=\"T_cfd1e_row3_col7\" class=\"data row3 col7\" >0.5260</td>\n",
              "    </tr>\n",
              "    <tr>\n",
              "      <th id=\"T_cfd1e_level0_row4\" class=\"row_heading level0 row4\" >lr</th>\n",
              "      <td id=\"T_cfd1e_row4_col0\" class=\"data row4 col0\" >Linear Regression</td>\n",
              "      <td id=\"T_cfd1e_row4_col1\" class=\"data row4 col1\" >66124.8912</td>\n",
              "      <td id=\"T_cfd1e_row4_col2\" class=\"data row4 col2\" >8665082973.0554</td>\n",
              "      <td id=\"T_cfd1e_row4_col3\" class=\"data row4 col3\" >93033.3438</td>\n",
              "      <td id=\"T_cfd1e_row4_col4\" class=\"data row4 col4\" >0.8249</td>\n",
              "      <td id=\"T_cfd1e_row4_col5\" class=\"data row4 col5\" >0.2227</td>\n",
              "      <td id=\"T_cfd1e_row4_col6\" class=\"data row4 col6\" >0.1527</td>\n",
              "      <td id=\"T_cfd1e_row4_col7\" class=\"data row4 col7\" >0.7560</td>\n",
              "    </tr>\n",
              "    <tr>\n",
              "      <th id=\"T_cfd1e_level0_row5\" class=\"row_heading level0 row5\" >llar</th>\n",
              "      <td id=\"T_cfd1e_row5_col0\" class=\"data row5 col0\" >Lasso Least Angle Regression</td>\n",
              "      <td id=\"T_cfd1e_row5_col1\" class=\"data row5 col1\" >66121.5186</td>\n",
              "      <td id=\"T_cfd1e_row5_col2\" class=\"data row5 col2\" >8665239341.5820</td>\n",
              "      <td id=\"T_cfd1e_row5_col3\" class=\"data row5 col3\" >93034.2302</td>\n",
              "      <td id=\"T_cfd1e_row5_col4\" class=\"data row5 col4\" >0.8249</td>\n",
              "      <td id=\"T_cfd1e_row5_col5\" class=\"data row5 col5\" >0.2231</td>\n",
              "      <td id=\"T_cfd1e_row5_col6\" class=\"data row5 col6\" >0.1527</td>\n",
              "      <td id=\"T_cfd1e_row5_col7\" class=\"data row5 col7\" >0.0500</td>\n",
              "    </tr>\n",
              "    <tr>\n",
              "      <th id=\"T_cfd1e_level0_row6\" class=\"row_heading level0 row6\" >br</th>\n",
              "      <td id=\"T_cfd1e_row6_col0\" class=\"data row6 col0\" >Bayesian Ridge</td>\n",
              "      <td id=\"T_cfd1e_row6_col1\" class=\"data row6 col1\" >66122.6957</td>\n",
              "      <td id=\"T_cfd1e_row6_col2\" class=\"data row6 col2\" >8667220879.8880</td>\n",
              "      <td id=\"T_cfd1e_row6_col3\" class=\"data row6 col3\" >93045.0592</td>\n",
              "      <td id=\"T_cfd1e_row6_col4\" class=\"data row6 col4\" >0.8249</td>\n",
              "      <td id=\"T_cfd1e_row6_col5\" class=\"data row6 col5\" >0.2253</td>\n",
              "      <td id=\"T_cfd1e_row6_col6\" class=\"data row6 col6\" >0.1527</td>\n",
              "      <td id=\"T_cfd1e_row6_col7\" class=\"data row6 col7\" >0.2350</td>\n",
              "    </tr>\n",
              "    <tr>\n",
              "      <th id=\"T_cfd1e_level0_row7\" class=\"row_heading level0 row7\" >ridge</th>\n",
              "      <td id=\"T_cfd1e_row7_col0\" class=\"data row7 col0\" >Ridge Regression</td>\n",
              "      <td id=\"T_cfd1e_row7_col1\" class=\"data row7 col1\" >66303.8241</td>\n",
              "      <td id=\"T_cfd1e_row7_col2\" class=\"data row7 col2\" >8706803969.3432</td>\n",
              "      <td id=\"T_cfd1e_row7_col3\" class=\"data row7 col3\" >93258.5910</td>\n",
              "      <td id=\"T_cfd1e_row7_col4\" class=\"data row7 col4\" >0.8241</td>\n",
              "      <td id=\"T_cfd1e_row7_col5\" class=\"data row7 col5\" >0.2220</td>\n",
              "      <td id=\"T_cfd1e_row7_col6\" class=\"data row7 col6\" >0.1534</td>\n",
              "      <td id=\"T_cfd1e_row7_col7\" class=\"data row7 col7\" >0.0670</td>\n",
              "    </tr>\n",
              "    <tr>\n",
              "      <th id=\"T_cfd1e_level0_row8\" class=\"row_heading level0 row8\" >et</th>\n",
              "      <td id=\"T_cfd1e_row8_col0\" class=\"data row8 col0\" >Extra Trees Regressor</td>\n",
              "      <td id=\"T_cfd1e_row8_col1\" class=\"data row8 col1\" >66656.3349</td>\n",
              "      <td id=\"T_cfd1e_row8_col2\" class=\"data row8 col2\" >9950970992.7129</td>\n",
              "      <td id=\"T_cfd1e_row8_col3\" class=\"data row8 col3\" >99704.5182</td>\n",
              "      <td id=\"T_cfd1e_row8_col4\" class=\"data row8 col4\" >0.7990</td>\n",
              "      <td id=\"T_cfd1e_row8_col5\" class=\"data row8 col5\" >0.2040</td>\n",
              "      <td id=\"T_cfd1e_row8_col6\" class=\"data row8 col6\" >0.1500</td>\n",
              "      <td id=\"T_cfd1e_row8_col7\" class=\"data row8 col7\" >5.6160</td>\n",
              "    </tr>\n",
              "    <tr>\n",
              "      <th id=\"T_cfd1e_level0_row9\" class=\"row_heading level0 row9\" >rf</th>\n",
              "      <td id=\"T_cfd1e_row9_col0\" class=\"data row9 col0\" >Random Forest Regressor</td>\n",
              "      <td id=\"T_cfd1e_row9_col1\" class=\"data row9 col1\" >69769.6508</td>\n",
              "      <td id=\"T_cfd1e_row9_col2\" class=\"data row9 col2\" >10773136140.6534</td>\n",
              "      <td id=\"T_cfd1e_row9_col3\" class=\"data row9 col3\" >103736.8810</td>\n",
              "      <td id=\"T_cfd1e_row9_col4\" class=\"data row9 col4\" >0.7824</td>\n",
              "      <td id=\"T_cfd1e_row9_col5\" class=\"data row9 col5\" >0.2106</td>\n",
              "      <td id=\"T_cfd1e_row9_col6\" class=\"data row9 col6\" >0.1581</td>\n",
              "      <td id=\"T_cfd1e_row9_col7\" class=\"data row9 col7\" >3.5700</td>\n",
              "    </tr>\n",
              "    <tr>\n",
              "      <th id=\"T_cfd1e_level0_row10\" class=\"row_heading level0 row10\" >gbr</th>\n",
              "      <td id=\"T_cfd1e_row10_col0\" class=\"data row10 col0\" >Gradient Boosting Regressor</td>\n",
              "      <td id=\"T_cfd1e_row10_col1\" class=\"data row10 col1\" >83182.6619</td>\n",
              "      <td id=\"T_cfd1e_row10_col2\" class=\"data row10 col2\" >12461390503.2114</td>\n",
              "      <td id=\"T_cfd1e_row10_col3\" class=\"data row10 col3\" >111592.5843</td>\n",
              "      <td id=\"T_cfd1e_row10_col4\" class=\"data row10 col4\" >0.7483</td>\n",
              "      <td id=\"T_cfd1e_row10_col5\" class=\"data row10 col5\" >0.2437</td>\n",
              "      <td id=\"T_cfd1e_row10_col6\" class=\"data row10 col6\" >0.2030</td>\n",
              "      <td id=\"T_cfd1e_row10_col7\" class=\"data row10 col7\" >0.5810</td>\n",
              "    </tr>\n",
              "    <tr>\n",
              "      <th id=\"T_cfd1e_level0_row11\" class=\"row_heading level0 row11\" >dt</th>\n",
              "      <td id=\"T_cfd1e_row11_col0\" class=\"data row11 col0\" >Decision Tree Regressor</td>\n",
              "      <td id=\"T_cfd1e_row11_col1\" class=\"data row11 col1\" >92641.3524</td>\n",
              "      <td id=\"T_cfd1e_row11_col2\" class=\"data row11 col2\" >19102448907.8350</td>\n",
              "      <td id=\"T_cfd1e_row11_col3\" class=\"data row11 col3\" >138142.8085</td>\n",
              "      <td id=\"T_cfd1e_row11_col4\" class=\"data row11 col4\" >0.6138</td>\n",
              "      <td id=\"T_cfd1e_row11_col5\" class=\"data row11 col5\" >0.2795</td>\n",
              "      <td id=\"T_cfd1e_row11_col6\" class=\"data row11 col6\" >0.2065</td>\n",
              "      <td id=\"T_cfd1e_row11_col7\" class=\"data row11 col7\" >0.1110</td>\n",
              "    </tr>\n",
              "    <tr>\n",
              "      <th id=\"T_cfd1e_level0_row12\" class=\"row_heading level0 row12\" >omp</th>\n",
              "      <td id=\"T_cfd1e_row12_col0\" class=\"data row12 col0\" >Orthogonal Matching Pursuit</td>\n",
              "      <td id=\"T_cfd1e_row12_col1\" class=\"data row12 col1\" >109037.0824</td>\n",
              "      <td id=\"T_cfd1e_row12_col2\" class=\"data row12 col2\" >20699277130.2930</td>\n",
              "      <td id=\"T_cfd1e_row12_col3\" class=\"data row12 col3\" >143829.5178</td>\n",
              "      <td id=\"T_cfd1e_row12_col4\" class=\"data row12 col4\" >0.5815</td>\n",
              "      <td id=\"T_cfd1e_row12_col5\" class=\"data row12 col5\" >0.3223</td>\n",
              "      <td id=\"T_cfd1e_row12_col6\" class=\"data row12 col6\" >0.2656</td>\n",
              "      <td id=\"T_cfd1e_row12_col7\" class=\"data row12 col7\" >0.0670</td>\n",
              "    </tr>\n",
              "    <tr>\n",
              "      <th id=\"T_cfd1e_level0_row13\" class=\"row_heading level0 row13\" >en</th>\n",
              "      <td id=\"T_cfd1e_row13_col0\" class=\"data row13 col0\" >Elastic Net</td>\n",
              "      <td id=\"T_cfd1e_row13_col1\" class=\"data row13 col1\" >112609.9325</td>\n",
              "      <td id=\"T_cfd1e_row13_col2\" class=\"data row13 col2\" >21775303014.0039</td>\n",
              "      <td id=\"T_cfd1e_row13_col3\" class=\"data row13 col3\" >147506.7243</td>\n",
              "      <td id=\"T_cfd1e_row13_col4\" class=\"data row13 col4\" >0.5602</td>\n",
              "      <td id=\"T_cfd1e_row13_col5\" class=\"data row13 col5\" >0.3173</td>\n",
              "      <td id=\"T_cfd1e_row13_col6\" class=\"data row13 col6\" >0.2760</td>\n",
              "      <td id=\"T_cfd1e_row13_col7\" class=\"data row13 col7\" >0.1630</td>\n",
              "    </tr>\n",
              "    <tr>\n",
              "      <th id=\"T_cfd1e_level0_row14\" class=\"row_heading level0 row14\" >huber</th>\n",
              "      <td id=\"T_cfd1e_row14_col0\" class=\"data row14 col0\" >Huber Regressor</td>\n",
              "      <td id=\"T_cfd1e_row14_col1\" class=\"data row14 col1\" >115951.5022</td>\n",
              "      <td id=\"T_cfd1e_row14_col2\" class=\"data row14 col2\" >23450397248.3897</td>\n",
              "      <td id=\"T_cfd1e_row14_col3\" class=\"data row14 col3\" >153057.2489</td>\n",
              "      <td id=\"T_cfd1e_row14_col4\" class=\"data row14 col4\" >0.5266</td>\n",
              "      <td id=\"T_cfd1e_row14_col5\" class=\"data row14 col5\" >0.3235</td>\n",
              "      <td id=\"T_cfd1e_row14_col6\" class=\"data row14 col6\" >0.2820</td>\n",
              "      <td id=\"T_cfd1e_row14_col7\" class=\"data row14 col7\" >0.8440</td>\n",
              "    </tr>\n",
              "    <tr>\n",
              "      <th id=\"T_cfd1e_level0_row15\" class=\"row_heading level0 row15\" >ada</th>\n",
              "      <td id=\"T_cfd1e_row15_col0\" class=\"data row15 col0\" >AdaBoost Regressor</td>\n",
              "      <td id=\"T_cfd1e_row15_col1\" class=\"data row15 col1\" >140464.0412</td>\n",
              "      <td id=\"T_cfd1e_row15_col2\" class=\"data row15 col2\" >29457876341.1655</td>\n",
              "      <td id=\"T_cfd1e_row15_col3\" class=\"data row15 col3\" >171453.0973</td>\n",
              "      <td id=\"T_cfd1e_row15_col4\" class=\"data row15 col4\" >0.4043</td>\n",
              "      <td id=\"T_cfd1e_row15_col5\" class=\"data row15 col5\" >0.4032</td>\n",
              "      <td id=\"T_cfd1e_row15_col6\" class=\"data row15 col6\" >0.4053</td>\n",
              "      <td id=\"T_cfd1e_row15_col7\" class=\"data row15 col7\" >0.9960</td>\n",
              "    </tr>\n",
              "    <tr>\n",
              "      <th id=\"T_cfd1e_level0_row16\" class=\"row_heading level0 row16\" >knn</th>\n",
              "      <td id=\"T_cfd1e_row16_col0\" class=\"data row16 col0\" >K Neighbors Regressor</td>\n",
              "      <td id=\"T_cfd1e_row16_col1\" class=\"data row16 col1\" >130894.0820</td>\n",
              "      <td id=\"T_cfd1e_row16_col2\" class=\"data row16 col2\" >30193744896.0000</td>\n",
              "      <td id=\"T_cfd1e_row16_col3\" class=\"data row16 col3\" >173670.0625</td>\n",
              "      <td id=\"T_cfd1e_row16_col4\" class=\"data row16 col4\" >0.3906</td>\n",
              "      <td id=\"T_cfd1e_row16_col5\" class=\"data row16 col5\" >0.3627</td>\n",
              "      <td id=\"T_cfd1e_row16_col6\" class=\"data row16 col6\" >0.3135</td>\n",
              "      <td id=\"T_cfd1e_row16_col7\" class=\"data row16 col7\" >0.0890</td>\n",
              "    </tr>\n",
              "    <tr>\n",
              "      <th id=\"T_cfd1e_level0_row17\" class=\"row_heading level0 row17\" >par</th>\n",
              "      <td id=\"T_cfd1e_row17_col0\" class=\"data row17 col0\" >Passive Aggressive Regressor</td>\n",
              "      <td id=\"T_cfd1e_row17_col1\" class=\"data row17 col1\" >158668.8452</td>\n",
              "      <td id=\"T_cfd1e_row17_col2\" class=\"data row17 col2\" >41675962870.5412</td>\n",
              "      <td id=\"T_cfd1e_row17_col3\" class=\"data row17 col3\" >201430.3071</td>\n",
              "      <td id=\"T_cfd1e_row17_col4\" class=\"data row17 col4\" >0.1521</td>\n",
              "      <td id=\"T_cfd1e_row17_col5\" class=\"data row17 col5\" >0.4153</td>\n",
              "      <td id=\"T_cfd1e_row17_col6\" class=\"data row17 col6\" >0.4017</td>\n",
              "      <td id=\"T_cfd1e_row17_col7\" class=\"data row17 col7\" >0.0540</td>\n",
              "    </tr>\n",
              "    <tr>\n",
              "      <th id=\"T_cfd1e_level0_row18\" class=\"row_heading level0 row18\" >dummy</th>\n",
              "      <td id=\"T_cfd1e_row18_col0\" class=\"data row18 col0\" >Dummy Regressor</td>\n",
              "      <td id=\"T_cfd1e_row18_col1\" class=\"data row18 col1\" >174663.8109</td>\n",
              "      <td id=\"T_cfd1e_row18_col2\" class=\"data row18 col2\" >49654517350.4000</td>\n",
              "      <td id=\"T_cfd1e_row18_col3\" class=\"data row18 col3\" >222696.5438</td>\n",
              "      <td id=\"T_cfd1e_row18_col4\" class=\"data row18 col4\" >-0.0012</td>\n",
              "      <td id=\"T_cfd1e_row18_col5\" class=\"data row18 col5\" >0.4694</td>\n",
              "      <td id=\"T_cfd1e_row18_col6\" class=\"data row18 col6\" >0.4517</td>\n",
              "      <td id=\"T_cfd1e_row18_col7\" class=\"data row18 col7\" >0.0350</td>\n",
              "    </tr>\n",
              "    <tr>\n",
              "      <th id=\"T_cfd1e_level0_row19\" class=\"row_heading level0 row19\" >lar</th>\n",
              "      <td id=\"T_cfd1e_row19_col0\" class=\"data row19 col0\" >Least Angle Regression</td>\n",
              "      <td id=\"T_cfd1e_row19_col1\" class=\"data row19 col1\" >202198303.1162</td>\n",
              "      <td id=\"T_cfd1e_row19_col2\" class=\"data row19 col2\" >466415322873611264.0000</td>\n",
              "      <td id=\"T_cfd1e_row19_col3\" class=\"data row19 col3\" >502411297.7222</td>\n",
              "      <td id=\"T_cfd1e_row19_col4\" class=\"data row19 col4\" >-9335887.4243</td>\n",
              "      <td id=\"T_cfd1e_row19_col5\" class=\"data row19 col5\" >4.8087</td>\n",
              "      <td id=\"T_cfd1e_row19_col6\" class=\"data row19 col6\" >597.9063</td>\n",
              "      <td id=\"T_cfd1e_row19_col7\" class=\"data row19 col7\" >0.0550</td>\n",
              "    </tr>\n",
              "  </tbody>\n",
              "</table>\n"
            ],
            "text/plain": [
              "<pandas.io.formats.style.Styler at 0x22ce32abb50>"
            ]
          },
          "metadata": {},
          "output_type": "display_data"
        },
        {
          "data": {
            "text/html": [],
            "text/plain": [
              "<IPython.core.display.HTML object>"
            ]
          },
          "metadata": {},
          "output_type": "display_data"
        }
      ],
      "source": [
        "best_model = compare_models()"
      ]
    },
    {
      "cell_type": "markdown",
      "metadata": {
        "id": "lkZnbChsq4P5"
      },
      "source": [
        "# Classification"
      ]
    },
    {
      "cell_type": "code",
      "execution_count": 13,
      "metadata": {
        "colab": {
          "base_uri": "https://localhost:8080/",
          "height": 663
        },
        "id": "WcxjxPlzqEkh",
        "outputId": "f1e84225-e96e-4207-ef42-ef43a1a255fa"
      },
      "outputs": [
        {
          "data": {
            "text/html": [
              "<style type=\"text/css\">\n",
              "#T_2a98e_row8_col1 {\n",
              "  background-color: lightgreen;\n",
              "}\n",
              "</style>\n",
              "<table id=\"T_2a98e\">\n",
              "  <thead>\n",
              "    <tr>\n",
              "      <th class=\"blank level0\" >&nbsp;</th>\n",
              "      <th id=\"T_2a98e_level0_col0\" class=\"col_heading level0 col0\" >Description</th>\n",
              "      <th id=\"T_2a98e_level0_col1\" class=\"col_heading level0 col1\" >Value</th>\n",
              "    </tr>\n",
              "  </thead>\n",
              "  <tbody>\n",
              "    <tr>\n",
              "      <th id=\"T_2a98e_level0_row0\" class=\"row_heading level0 row0\" >0</th>\n",
              "      <td id=\"T_2a98e_row0_col0\" class=\"data row0 col0\" >Session id</td>\n",
              "      <td id=\"T_2a98e_row0_col1\" class=\"data row0 col1\" >2161</td>\n",
              "    </tr>\n",
              "    <tr>\n",
              "      <th id=\"T_2a98e_level0_row1\" class=\"row_heading level0 row1\" >1</th>\n",
              "      <td id=\"T_2a98e_row1_col0\" class=\"data row1 col0\" >Target</td>\n",
              "      <td id=\"T_2a98e_row1_col1\" class=\"data row1 col1\" >Outcome</td>\n",
              "    </tr>\n",
              "    <tr>\n",
              "      <th id=\"T_2a98e_level0_row2\" class=\"row_heading level0 row2\" >2</th>\n",
              "      <td id=\"T_2a98e_row2_col0\" class=\"data row2 col0\" >Target type</td>\n",
              "      <td id=\"T_2a98e_row2_col1\" class=\"data row2 col1\" >Binary</td>\n",
              "    </tr>\n",
              "    <tr>\n",
              "      <th id=\"T_2a98e_level0_row3\" class=\"row_heading level0 row3\" >3</th>\n",
              "      <td id=\"T_2a98e_row3_col0\" class=\"data row3 col0\" >Original data shape</td>\n",
              "      <td id=\"T_2a98e_row3_col1\" class=\"data row3 col1\" >(768, 9)</td>\n",
              "    </tr>\n",
              "    <tr>\n",
              "      <th id=\"T_2a98e_level0_row4\" class=\"row_heading level0 row4\" >4</th>\n",
              "      <td id=\"T_2a98e_row4_col0\" class=\"data row4 col0\" >Transformed data shape</td>\n",
              "      <td id=\"T_2a98e_row4_col1\" class=\"data row4 col1\" >(768, 9)</td>\n",
              "    </tr>\n",
              "    <tr>\n",
              "      <th id=\"T_2a98e_level0_row5\" class=\"row_heading level0 row5\" >5</th>\n",
              "      <td id=\"T_2a98e_row5_col0\" class=\"data row5 col0\" >Transformed train set shape</td>\n",
              "      <td id=\"T_2a98e_row5_col1\" class=\"data row5 col1\" >(537, 9)</td>\n",
              "    </tr>\n",
              "    <tr>\n",
              "      <th id=\"T_2a98e_level0_row6\" class=\"row_heading level0 row6\" >6</th>\n",
              "      <td id=\"T_2a98e_row6_col0\" class=\"data row6 col0\" >Transformed test set shape</td>\n",
              "      <td id=\"T_2a98e_row6_col1\" class=\"data row6 col1\" >(231, 9)</td>\n",
              "    </tr>\n",
              "    <tr>\n",
              "      <th id=\"T_2a98e_level0_row7\" class=\"row_heading level0 row7\" >7</th>\n",
              "      <td id=\"T_2a98e_row7_col0\" class=\"data row7 col0\" >Numeric features</td>\n",
              "      <td id=\"T_2a98e_row7_col1\" class=\"data row7 col1\" >8</td>\n",
              "    </tr>\n",
              "    <tr>\n",
              "      <th id=\"T_2a98e_level0_row8\" class=\"row_heading level0 row8\" >8</th>\n",
              "      <td id=\"T_2a98e_row8_col0\" class=\"data row8 col0\" >Preprocess</td>\n",
              "      <td id=\"T_2a98e_row8_col1\" class=\"data row8 col1\" >True</td>\n",
              "    </tr>\n",
              "    <tr>\n",
              "      <th id=\"T_2a98e_level0_row9\" class=\"row_heading level0 row9\" >9</th>\n",
              "      <td id=\"T_2a98e_row9_col0\" class=\"data row9 col0\" >Imputation type</td>\n",
              "      <td id=\"T_2a98e_row9_col1\" class=\"data row9 col1\" >simple</td>\n",
              "    </tr>\n",
              "    <tr>\n",
              "      <th id=\"T_2a98e_level0_row10\" class=\"row_heading level0 row10\" >10</th>\n",
              "      <td id=\"T_2a98e_row10_col0\" class=\"data row10 col0\" >Numeric imputation</td>\n",
              "      <td id=\"T_2a98e_row10_col1\" class=\"data row10 col1\" >mean</td>\n",
              "    </tr>\n",
              "    <tr>\n",
              "      <th id=\"T_2a98e_level0_row11\" class=\"row_heading level0 row11\" >11</th>\n",
              "      <td id=\"T_2a98e_row11_col0\" class=\"data row11 col0\" >Categorical imputation</td>\n",
              "      <td id=\"T_2a98e_row11_col1\" class=\"data row11 col1\" >mode</td>\n",
              "    </tr>\n",
              "    <tr>\n",
              "      <th id=\"T_2a98e_level0_row12\" class=\"row_heading level0 row12\" >12</th>\n",
              "      <td id=\"T_2a98e_row12_col0\" class=\"data row12 col0\" >Fold Generator</td>\n",
              "      <td id=\"T_2a98e_row12_col1\" class=\"data row12 col1\" >StratifiedKFold</td>\n",
              "    </tr>\n",
              "    <tr>\n",
              "      <th id=\"T_2a98e_level0_row13\" class=\"row_heading level0 row13\" >13</th>\n",
              "      <td id=\"T_2a98e_row13_col0\" class=\"data row13 col0\" >Fold Number</td>\n",
              "      <td id=\"T_2a98e_row13_col1\" class=\"data row13 col1\" >10</td>\n",
              "    </tr>\n",
              "    <tr>\n",
              "      <th id=\"T_2a98e_level0_row14\" class=\"row_heading level0 row14\" >14</th>\n",
              "      <td id=\"T_2a98e_row14_col0\" class=\"data row14 col0\" >CPU Jobs</td>\n",
              "      <td id=\"T_2a98e_row14_col1\" class=\"data row14 col1\" >-1</td>\n",
              "    </tr>\n",
              "    <tr>\n",
              "      <th id=\"T_2a98e_level0_row15\" class=\"row_heading level0 row15\" >15</th>\n",
              "      <td id=\"T_2a98e_row15_col0\" class=\"data row15 col0\" >Use GPU</td>\n",
              "      <td id=\"T_2a98e_row15_col1\" class=\"data row15 col1\" >False</td>\n",
              "    </tr>\n",
              "    <tr>\n",
              "      <th id=\"T_2a98e_level0_row16\" class=\"row_heading level0 row16\" >16</th>\n",
              "      <td id=\"T_2a98e_row16_col0\" class=\"data row16 col0\" >Log Experiment</td>\n",
              "      <td id=\"T_2a98e_row16_col1\" class=\"data row16 col1\" >False</td>\n",
              "    </tr>\n",
              "    <tr>\n",
              "      <th id=\"T_2a98e_level0_row17\" class=\"row_heading level0 row17\" >17</th>\n",
              "      <td id=\"T_2a98e_row17_col0\" class=\"data row17 col0\" >Experiment Name</td>\n",
              "      <td id=\"T_2a98e_row17_col1\" class=\"data row17 col1\" >clf-default-name</td>\n",
              "    </tr>\n",
              "    <tr>\n",
              "      <th id=\"T_2a98e_level0_row18\" class=\"row_heading level0 row18\" >18</th>\n",
              "      <td id=\"T_2a98e_row18_col0\" class=\"data row18 col0\" >USI</td>\n",
              "      <td id=\"T_2a98e_row18_col1\" class=\"data row18 col1\" >0984</td>\n",
              "    </tr>\n",
              "  </tbody>\n",
              "</table>\n"
            ],
            "text/plain": [
              "<pandas.io.formats.style.Styler at 0x22ce215db90>"
            ]
          },
          "metadata": {},
          "output_type": "display_data"
        },
        {
          "data": {
            "text/plain": [
              "<pycaret.classification.oop.ClassificationExperiment at 0x22cbab6f190>"
            ]
          },
          "execution_count": 13,
          "metadata": {},
          "output_type": "execute_result"
        }
      ],
      "source": [
        "from pycaret.classification import *\n",
        "\n",
        "df = pd.read_csv('data/pima-indians-diabetes.csv')\n",
        "setup(data = df ,target = \"Outcome\")"
      ]
    },
    {
      "cell_type": "code",
      "execution_count": 14,
      "metadata": {
        "colab": {
          "base_uri": "https://localhost:8080/",
          "height": 687,
          "referenced_widgets": [
            "81612a5f2b0e4904bb66441384976317",
            "bb64774798b2423abf6317e33bb68205",
            "220a229802f64c9aa6d3395884f59693",
            "b4a8c30a328e48f5a96d2f95255fdab2",
            "bad769505f314985bc35fd9c6babd837",
            "ef0b95fa00e842e79878e2bca83d5262",
            "a0e49620f8684ce2803122a0808265fe",
            "06c3b305bf7b4b90a2343f5697823957",
            "5168a326e37f495893c228b283b5ca50",
            "f0397b41e8fd48cf91a10b1e981ac434",
            "20667251f1794d1a88cd69ffe7fbd7bd"
          ]
        },
        "id": "-gfxKXOxrAkD",
        "outputId": "d60a3d00-c73f-47f3-a064-e91b07a07b20"
      },
      "outputs": [
        {
          "data": {
            "text/html": [],
            "text/plain": [
              "<IPython.core.display.HTML object>"
            ]
          },
          "metadata": {},
          "output_type": "display_data"
        },
        {
          "data": {
            "text/html": [
              "<style type=\"text/css\">\n",
              "#T_489fb th {\n",
              "  text-align: left;\n",
              "}\n",
              "#T_489fb_row0_col0, #T_489fb_row0_col2, #T_489fb_row0_col3, #T_489fb_row0_col4, #T_489fb_row1_col0, #T_489fb_row1_col1, #T_489fb_row1_col2, #T_489fb_row1_col3, #T_489fb_row1_col4, #T_489fb_row1_col5, #T_489fb_row1_col6, #T_489fb_row1_col7, #T_489fb_row2_col0, #T_489fb_row2_col1, #T_489fb_row2_col3, #T_489fb_row2_col5, #T_489fb_row2_col6, #T_489fb_row2_col7, #T_489fb_row3_col0, #T_489fb_row3_col1, #T_489fb_row3_col2, #T_489fb_row3_col3, #T_489fb_row3_col4, #T_489fb_row3_col5, #T_489fb_row3_col6, #T_489fb_row3_col7, #T_489fb_row4_col0, #T_489fb_row4_col1, #T_489fb_row4_col2, #T_489fb_row4_col3, #T_489fb_row4_col4, #T_489fb_row4_col5, #T_489fb_row4_col6, #T_489fb_row4_col7, #T_489fb_row5_col0, #T_489fb_row5_col1, #T_489fb_row5_col2, #T_489fb_row5_col3, #T_489fb_row5_col4, #T_489fb_row5_col5, #T_489fb_row5_col6, #T_489fb_row5_col7, #T_489fb_row6_col0, #T_489fb_row6_col1, #T_489fb_row6_col2, #T_489fb_row6_col3, #T_489fb_row6_col4, #T_489fb_row6_col5, #T_489fb_row6_col6, #T_489fb_row6_col7, #T_489fb_row7_col0, #T_489fb_row7_col1, #T_489fb_row7_col2, #T_489fb_row7_col4, #T_489fb_row7_col5, #T_489fb_row7_col6, #T_489fb_row7_col7, #T_489fb_row8_col0, #T_489fb_row8_col1, #T_489fb_row8_col2, #T_489fb_row8_col3, #T_489fb_row8_col4, #T_489fb_row8_col5, #T_489fb_row8_col6, #T_489fb_row8_col7, #T_489fb_row9_col0, #T_489fb_row9_col1, #T_489fb_row9_col2, #T_489fb_row9_col3, #T_489fb_row9_col4, #T_489fb_row9_col5, #T_489fb_row9_col6, #T_489fb_row9_col7, #T_489fb_row10_col0, #T_489fb_row10_col1, #T_489fb_row10_col2, #T_489fb_row10_col3, #T_489fb_row10_col4, #T_489fb_row10_col5, #T_489fb_row10_col6, #T_489fb_row10_col7, #T_489fb_row11_col0, #T_489fb_row11_col1, #T_489fb_row11_col2, #T_489fb_row11_col3, #T_489fb_row11_col4, #T_489fb_row11_col5, #T_489fb_row11_col6, #T_489fb_row11_col7, #T_489fb_row12_col0, #T_489fb_row12_col1, #T_489fb_row12_col2, #T_489fb_row12_col3, #T_489fb_row12_col4, #T_489fb_row12_col5, #T_489fb_row12_col6, #T_489fb_row12_col7, #T_489fb_row13_col0, #T_489fb_row13_col1, #T_489fb_row13_col2, #T_489fb_row13_col3, #T_489fb_row13_col4, #T_489fb_row13_col5, #T_489fb_row13_col6, #T_489fb_row13_col7, #T_489fb_row14_col0, #T_489fb_row14_col1, #T_489fb_row14_col2, #T_489fb_row14_col3, #T_489fb_row14_col4, #T_489fb_row14_col5, #T_489fb_row14_col6, #T_489fb_row14_col7, #T_489fb_row15_col0, #T_489fb_row15_col1, #T_489fb_row15_col2, #T_489fb_row15_col3, #T_489fb_row15_col4, #T_489fb_row15_col5, #T_489fb_row15_col6, #T_489fb_row15_col7 {\n",
              "  text-align: left;\n",
              "}\n",
              "#T_489fb_row0_col1, #T_489fb_row0_col5, #T_489fb_row0_col6, #T_489fb_row0_col7, #T_489fb_row2_col2, #T_489fb_row2_col4, #T_489fb_row7_col3 {\n",
              "  text-align: left;\n",
              "  background-color: yellow;\n",
              "}\n",
              "#T_489fb_row0_col8, #T_489fb_row13_col8, #T_489fb_row14_col8, #T_489fb_row15_col8 {\n",
              "  text-align: left;\n",
              "  background-color: yellow;\n",
              "  background-color: lightgrey;\n",
              "}\n",
              "#T_489fb_row1_col8, #T_489fb_row2_col8, #T_489fb_row3_col8, #T_489fb_row4_col8, #T_489fb_row5_col8, #T_489fb_row6_col8, #T_489fb_row7_col8, #T_489fb_row8_col8, #T_489fb_row9_col8, #T_489fb_row10_col8, #T_489fb_row11_col8, #T_489fb_row12_col8 {\n",
              "  text-align: left;\n",
              "  background-color: lightgrey;\n",
              "}\n",
              "</style>\n",
              "<table id=\"T_489fb\">\n",
              "  <thead>\n",
              "    <tr>\n",
              "      <th class=\"blank level0\" >&nbsp;</th>\n",
              "      <th id=\"T_489fb_level0_col0\" class=\"col_heading level0 col0\" >Model</th>\n",
              "      <th id=\"T_489fb_level0_col1\" class=\"col_heading level0 col1\" >Accuracy</th>\n",
              "      <th id=\"T_489fb_level0_col2\" class=\"col_heading level0 col2\" >AUC</th>\n",
              "      <th id=\"T_489fb_level0_col3\" class=\"col_heading level0 col3\" >Recall</th>\n",
              "      <th id=\"T_489fb_level0_col4\" class=\"col_heading level0 col4\" >Prec.</th>\n",
              "      <th id=\"T_489fb_level0_col5\" class=\"col_heading level0 col5\" >F1</th>\n",
              "      <th id=\"T_489fb_level0_col6\" class=\"col_heading level0 col6\" >Kappa</th>\n",
              "      <th id=\"T_489fb_level0_col7\" class=\"col_heading level0 col7\" >MCC</th>\n",
              "      <th id=\"T_489fb_level0_col8\" class=\"col_heading level0 col8\" >TT (Sec)</th>\n",
              "    </tr>\n",
              "  </thead>\n",
              "  <tbody>\n",
              "    <tr>\n",
              "      <th id=\"T_489fb_level0_row0\" class=\"row_heading level0 row0\" >lda</th>\n",
              "      <td id=\"T_489fb_row0_col0\" class=\"data row0 col0\" >Linear Discriminant Analysis</td>\n",
              "      <td id=\"T_489fb_row0_col1\" class=\"data row0 col1\" >0.7973</td>\n",
              "      <td id=\"T_489fb_row0_col2\" class=\"data row0 col2\" >0.8471</td>\n",
              "      <td id=\"T_489fb_row0_col3\" class=\"data row0 col3\" >0.6158</td>\n",
              "      <td id=\"T_489fb_row0_col4\" class=\"data row0 col4\" >0.7678</td>\n",
              "      <td id=\"T_489fb_row0_col5\" class=\"data row0 col5\" >0.6783</td>\n",
              "      <td id=\"T_489fb_row0_col6\" class=\"data row0 col6\" >0.5336</td>\n",
              "      <td id=\"T_489fb_row0_col7\" class=\"data row0 col7\" >0.5442</td>\n",
              "      <td id=\"T_489fb_row0_col8\" class=\"data row0 col8\" >0.0100</td>\n",
              "    </tr>\n",
              "    <tr>\n",
              "      <th id=\"T_489fb_level0_row1\" class=\"row_heading level0 row1\" >lr</th>\n",
              "      <td id=\"T_489fb_row1_col0\" class=\"data row1 col0\" >Logistic Regression</td>\n",
              "      <td id=\"T_489fb_row1_col1\" class=\"data row1 col1\" >0.7954</td>\n",
              "      <td id=\"T_489fb_row1_col2\" class=\"data row1 col2\" >0.8455</td>\n",
              "      <td id=\"T_489fb_row1_col3\" class=\"data row1 col3\" >0.6158</td>\n",
              "      <td id=\"T_489fb_row1_col4\" class=\"data row1 col4\" >0.7609</td>\n",
              "      <td id=\"T_489fb_row1_col5\" class=\"data row1 col5\" >0.6766</td>\n",
              "      <td id=\"T_489fb_row1_col6\" class=\"data row1 col6\" >0.5299</td>\n",
              "      <td id=\"T_489fb_row1_col7\" class=\"data row1 col7\" >0.5392</td>\n",
              "      <td id=\"T_489fb_row1_col8\" class=\"data row1 col8\" >0.0200</td>\n",
              "    </tr>\n",
              "    <tr>\n",
              "      <th id=\"T_489fb_level0_row2\" class=\"row_heading level0 row2\" >ridge</th>\n",
              "      <td id=\"T_489fb_row2_col0\" class=\"data row2 col0\" >Ridge Classifier</td>\n",
              "      <td id=\"T_489fb_row2_col1\" class=\"data row2 col1\" >0.7954</td>\n",
              "      <td id=\"T_489fb_row2_col2\" class=\"data row2 col2\" >0.8472</td>\n",
              "      <td id=\"T_489fb_row2_col3\" class=\"data row2 col3\" >0.5889</td>\n",
              "      <td id=\"T_489fb_row2_col4\" class=\"data row2 col4\" >0.7763</td>\n",
              "      <td id=\"T_489fb_row2_col5\" class=\"data row2 col5\" >0.6651</td>\n",
              "      <td id=\"T_489fb_row2_col6\" class=\"data row2 col6\" >0.5226</td>\n",
              "      <td id=\"T_489fb_row2_col7\" class=\"data row2 col7\" >0.5359</td>\n",
              "      <td id=\"T_489fb_row2_col8\" class=\"data row2 col8\" >0.0130</td>\n",
              "    </tr>\n",
              "    <tr>\n",
              "      <th id=\"T_489fb_level0_row3\" class=\"row_heading level0 row3\" >catboost</th>\n",
              "      <td id=\"T_489fb_row3_col0\" class=\"data row3 col0\" >CatBoost Classifier</td>\n",
              "      <td id=\"T_489fb_row3_col1\" class=\"data row3 col1\" >0.7880</td>\n",
              "      <td id=\"T_489fb_row3_col2\" class=\"data row3 col2\" >0.8434</td>\n",
              "      <td id=\"T_489fb_row3_col3\" class=\"data row3 col3\" >0.6058</td>\n",
              "      <td id=\"T_489fb_row3_col4\" class=\"data row3 col4\" >0.7382</td>\n",
              "      <td id=\"T_489fb_row3_col5\" class=\"data row3 col5\" >0.6637</td>\n",
              "      <td id=\"T_489fb_row3_col6\" class=\"data row3 col6\" >0.5118</td>\n",
              "      <td id=\"T_489fb_row3_col7\" class=\"data row3 col7\" >0.5182</td>\n",
              "      <td id=\"T_489fb_row3_col8\" class=\"data row3 col8\" >1.0700</td>\n",
              "    </tr>\n",
              "    <tr>\n",
              "      <th id=\"T_489fb_level0_row4\" class=\"row_heading level0 row4\" >rf</th>\n",
              "      <td id=\"T_489fb_row4_col0\" class=\"data row4 col0\" >Random Forest Classifier</td>\n",
              "      <td id=\"T_489fb_row4_col1\" class=\"data row4 col1\" >0.7823</td>\n",
              "      <td id=\"T_489fb_row4_col2\" class=\"data row4 col2\" >0.8366</td>\n",
              "      <td id=\"T_489fb_row4_col3\" class=\"data row4 col3\" >0.5944</td>\n",
              "      <td id=\"T_489fb_row4_col4\" class=\"data row4 col4\" >0.7345</td>\n",
              "      <td id=\"T_489fb_row4_col5\" class=\"data row4 col5\" >0.6543</td>\n",
              "      <td id=\"T_489fb_row4_col6\" class=\"data row4 col6\" >0.4984</td>\n",
              "      <td id=\"T_489fb_row4_col7\" class=\"data row4 col7\" >0.5064</td>\n",
              "      <td id=\"T_489fb_row4_col8\" class=\"data row4 col8\" >0.0890</td>\n",
              "    </tr>\n",
              "    <tr>\n",
              "      <th id=\"T_489fb_level0_row5\" class=\"row_heading level0 row5\" >gbc</th>\n",
              "      <td id=\"T_489fb_row5_col0\" class=\"data row5 col0\" >Gradient Boosting Classifier</td>\n",
              "      <td id=\"T_489fb_row5_col1\" class=\"data row5 col1\" >0.7750</td>\n",
              "      <td id=\"T_489fb_row5_col2\" class=\"data row5 col2\" >0.8371</td>\n",
              "      <td id=\"T_489fb_row5_col3\" class=\"data row5 col3\" >0.6006</td>\n",
              "      <td id=\"T_489fb_row5_col4\" class=\"data row5 col4\" >0.7127</td>\n",
              "      <td id=\"T_489fb_row5_col5\" class=\"data row5 col5\" >0.6491</td>\n",
              "      <td id=\"T_489fb_row5_col6\" class=\"data row5 col6\" >0.4858</td>\n",
              "      <td id=\"T_489fb_row5_col7\" class=\"data row5 col7\" >0.4918</td>\n",
              "      <td id=\"T_489fb_row5_col8\" class=\"data row5 col8\" >0.0640</td>\n",
              "    </tr>\n",
              "    <tr>\n",
              "      <th id=\"T_489fb_level0_row6\" class=\"row_heading level0 row6\" >et</th>\n",
              "      <td id=\"T_489fb_row6_col0\" class=\"data row6 col0\" >Extra Trees Classifier</td>\n",
              "      <td id=\"T_489fb_row6_col1\" class=\"data row6 col1\" >0.7693</td>\n",
              "      <td id=\"T_489fb_row6_col2\" class=\"data row6 col2\" >0.8297</td>\n",
              "      <td id=\"T_489fb_row6_col3\" class=\"data row6 col3\" >0.5626</td>\n",
              "      <td id=\"T_489fb_row6_col4\" class=\"data row6 col4\" >0.7153</td>\n",
              "      <td id=\"T_489fb_row6_col5\" class=\"data row6 col5\" >0.6284</td>\n",
              "      <td id=\"T_489fb_row6_col6\" class=\"data row6 col6\" >0.4651</td>\n",
              "      <td id=\"T_489fb_row6_col7\" class=\"data row6 col7\" >0.4729</td>\n",
              "      <td id=\"T_489fb_row6_col8\" class=\"data row6 col8\" >0.0890</td>\n",
              "    </tr>\n",
              "    <tr>\n",
              "      <th id=\"T_489fb_level0_row7\" class=\"row_heading level0 row7\" >lightgbm</th>\n",
              "      <td id=\"T_489fb_row7_col0\" class=\"data row7 col0\" >Light Gradient Boosting Machine</td>\n",
              "      <td id=\"T_489fb_row7_col1\" class=\"data row7 col1\" >0.7658</td>\n",
              "      <td id=\"T_489fb_row7_col2\" class=\"data row7 col2\" >0.8068</td>\n",
              "      <td id=\"T_489fb_row7_col3\" class=\"data row7 col3\" >0.6439</td>\n",
              "      <td id=\"T_489fb_row7_col4\" class=\"data row7 col4\" >0.6769</td>\n",
              "      <td id=\"T_489fb_row7_col5\" class=\"data row7 col5\" >0.6558</td>\n",
              "      <td id=\"T_489fb_row7_col6\" class=\"data row7 col6\" >0.4794</td>\n",
              "      <td id=\"T_489fb_row7_col7\" class=\"data row7 col7\" >0.4829</td>\n",
              "      <td id=\"T_489fb_row7_col8\" class=\"data row7 col8\" >0.0540</td>\n",
              "    </tr>\n",
              "    <tr>\n",
              "      <th id=\"T_489fb_level0_row8\" class=\"row_heading level0 row8\" >nb</th>\n",
              "      <td id=\"T_489fb_row8_col0\" class=\"data row8 col0\" >Naive Bayes</td>\n",
              "      <td id=\"T_489fb_row8_col1\" class=\"data row8 col1\" >0.7656</td>\n",
              "      <td id=\"T_489fb_row8_col2\" class=\"data row8 col2\" >0.8175</td>\n",
              "      <td id=\"T_489fb_row8_col3\" class=\"data row8 col3\" >0.6102</td>\n",
              "      <td id=\"T_489fb_row8_col4\" class=\"data row8 col4\" >0.6974</td>\n",
              "      <td id=\"T_489fb_row8_col5\" class=\"data row8 col5\" >0.6458</td>\n",
              "      <td id=\"T_489fb_row8_col6\" class=\"data row8 col6\" >0.4723</td>\n",
              "      <td id=\"T_489fb_row8_col7\" class=\"data row8 col7\" >0.4785</td>\n",
              "      <td id=\"T_489fb_row8_col8\" class=\"data row8 col8\" >0.0110</td>\n",
              "    </tr>\n",
              "    <tr>\n",
              "      <th id=\"T_489fb_level0_row9\" class=\"row_heading level0 row9\" >xgboost</th>\n",
              "      <td id=\"T_489fb_row9_col0\" class=\"data row9 col0\" >Extreme Gradient Boosting</td>\n",
              "      <td id=\"T_489fb_row9_col1\" class=\"data row9 col1\" >0.7584</td>\n",
              "      <td id=\"T_489fb_row9_col2\" class=\"data row9 col2\" >0.8035</td>\n",
              "      <td id=\"T_489fb_row9_col3\" class=\"data row9 col3\" >0.6272</td>\n",
              "      <td id=\"T_489fb_row9_col4\" class=\"data row9 col4\" >0.6630</td>\n",
              "      <td id=\"T_489fb_row9_col5\" class=\"data row9 col5\" >0.6422</td>\n",
              "      <td id=\"T_489fb_row9_col6\" class=\"data row9 col6\" >0.4606</td>\n",
              "      <td id=\"T_489fb_row9_col7\" class=\"data row9 col7\" >0.4628</td>\n",
              "      <td id=\"T_489fb_row9_col8\" class=\"data row9 col8\" >0.0250</td>\n",
              "    </tr>\n",
              "    <tr>\n",
              "      <th id=\"T_489fb_level0_row10\" class=\"row_heading level0 row10\" >qda</th>\n",
              "      <td id=\"T_489fb_row10_col0\" class=\"data row10 col0\" >Quadratic Discriminant Analysis</td>\n",
              "      <td id=\"T_489fb_row10_col1\" class=\"data row10 col1\" >0.7507</td>\n",
              "      <td id=\"T_489fb_row10_col2\" class=\"data row10 col2\" >0.8169</td>\n",
              "      <td id=\"T_489fb_row10_col3\" class=\"data row10 col3\" >0.5725</td>\n",
              "      <td id=\"T_489fb_row10_col4\" class=\"data row10 col4\" >0.6786</td>\n",
              "      <td id=\"T_489fb_row10_col5\" class=\"data row10 col5\" >0.6165</td>\n",
              "      <td id=\"T_489fb_row10_col6\" class=\"data row10 col6\" >0.4340</td>\n",
              "      <td id=\"T_489fb_row10_col7\" class=\"data row10 col7\" >0.4407</td>\n",
              "      <td id=\"T_489fb_row10_col8\" class=\"data row10 col8\" >0.0110</td>\n",
              "    </tr>\n",
              "    <tr>\n",
              "      <th id=\"T_489fb_level0_row11\" class=\"row_heading level0 row11\" >ada</th>\n",
              "      <td id=\"T_489fb_row11_col0\" class=\"data row11 col0\" >Ada Boost Classifier</td>\n",
              "      <td id=\"T_489fb_row11_col1\" class=\"data row11 col1\" >0.7506</td>\n",
              "      <td id=\"T_489fb_row11_col2\" class=\"data row11 col2\" >0.8027</td>\n",
              "      <td id=\"T_489fb_row11_col3\" class=\"data row11 col3\" >0.6056</td>\n",
              "      <td id=\"T_489fb_row11_col4\" class=\"data row11 col4\" >0.6552</td>\n",
              "      <td id=\"T_489fb_row11_col5\" class=\"data row11 col5\" >0.6275</td>\n",
              "      <td id=\"T_489fb_row11_col6\" class=\"data row11 col6\" >0.4411</td>\n",
              "      <td id=\"T_489fb_row11_col7\" class=\"data row11 col7\" >0.4432</td>\n",
              "      <td id=\"T_489fb_row11_col8\" class=\"data row11 col8\" >0.0420</td>\n",
              "    </tr>\n",
              "    <tr>\n",
              "      <th id=\"T_489fb_level0_row12\" class=\"row_heading level0 row12\" >knn</th>\n",
              "      <td id=\"T_489fb_row12_col0\" class=\"data row12 col0\" >K Neighbors Classifier</td>\n",
              "      <td id=\"T_489fb_row12_col1\" class=\"data row12 col1\" >0.7359</td>\n",
              "      <td id=\"T_489fb_row12_col2\" class=\"data row12 col2\" >0.7725</td>\n",
              "      <td id=\"T_489fb_row12_col3\" class=\"data row12 col3\" >0.5740</td>\n",
              "      <td id=\"T_489fb_row12_col4\" class=\"data row12 col4\" >0.6332</td>\n",
              "      <td id=\"T_489fb_row12_col5\" class=\"data row12 col5\" >0.6000</td>\n",
              "      <td id=\"T_489fb_row12_col6\" class=\"data row12 col6\" >0.4043</td>\n",
              "      <td id=\"T_489fb_row12_col7\" class=\"data row12 col7\" >0.4068</td>\n",
              "      <td id=\"T_489fb_row12_col8\" class=\"data row12 col8\" >0.0180</td>\n",
              "    </tr>\n",
              "    <tr>\n",
              "      <th id=\"T_489fb_level0_row13\" class=\"row_heading level0 row13\" >dt</th>\n",
              "      <td id=\"T_489fb_row13_col0\" class=\"data row13 col0\" >Decision Tree Classifier</td>\n",
              "      <td id=\"T_489fb_row13_col1\" class=\"data row13 col1\" >0.6837</td>\n",
              "      <td id=\"T_489fb_row13_col2\" class=\"data row13 col2\" >0.6593</td>\n",
              "      <td id=\"T_489fb_row13_col3\" class=\"data row13 col3\" >0.5787</td>\n",
              "      <td id=\"T_489fb_row13_col4\" class=\"data row13 col4\" >0.5475</td>\n",
              "      <td id=\"T_489fb_row13_col5\" class=\"data row13 col5\" >0.5593</td>\n",
              "      <td id=\"T_489fb_row13_col6\" class=\"data row13 col6\" >0.3142</td>\n",
              "      <td id=\"T_489fb_row13_col7\" class=\"data row13 col7\" >0.3164</td>\n",
              "      <td id=\"T_489fb_row13_col8\" class=\"data row13 col8\" >0.0100</td>\n",
              "    </tr>\n",
              "    <tr>\n",
              "      <th id=\"T_489fb_level0_row14\" class=\"row_heading level0 row14\" >dummy</th>\n",
              "      <td id=\"T_489fb_row14_col0\" class=\"data row14 col0\" >Dummy Classifier</td>\n",
              "      <td id=\"T_489fb_row14_col1\" class=\"data row14 col1\" >0.6518</td>\n",
              "      <td id=\"T_489fb_row14_col2\" class=\"data row14 col2\" >0.5000</td>\n",
              "      <td id=\"T_489fb_row14_col3\" class=\"data row14 col3\" >0.0000</td>\n",
              "      <td id=\"T_489fb_row14_col4\" class=\"data row14 col4\" >0.0000</td>\n",
              "      <td id=\"T_489fb_row14_col5\" class=\"data row14 col5\" >0.0000</td>\n",
              "      <td id=\"T_489fb_row14_col6\" class=\"data row14 col6\" >0.0000</td>\n",
              "      <td id=\"T_489fb_row14_col7\" class=\"data row14 col7\" >0.0000</td>\n",
              "      <td id=\"T_489fb_row14_col8\" class=\"data row14 col8\" >0.0100</td>\n",
              "    </tr>\n",
              "    <tr>\n",
              "      <th id=\"T_489fb_level0_row15\" class=\"row_heading level0 row15\" >svm</th>\n",
              "      <td id=\"T_489fb_row15_col0\" class=\"data row15 col0\" >SVM - Linear Kernel</td>\n",
              "      <td id=\"T_489fb_row15_col1\" class=\"data row15 col1\" >0.6446</td>\n",
              "      <td id=\"T_489fb_row15_col2\" class=\"data row15 col2\" >0.5758</td>\n",
              "      <td id=\"T_489fb_row15_col3\" class=\"data row15 col3\" >0.2833</td>\n",
              "      <td id=\"T_489fb_row15_col4\" class=\"data row15 col4\" >0.4332</td>\n",
              "      <td id=\"T_489fb_row15_col5\" class=\"data row15 col5\" >0.3035</td>\n",
              "      <td id=\"T_489fb_row15_col6\" class=\"data row15 col6\" >0.1284</td>\n",
              "      <td id=\"T_489fb_row15_col7\" class=\"data row15 col7\" >0.1490</td>\n",
              "      <td id=\"T_489fb_row15_col8\" class=\"data row15 col8\" >0.0100</td>\n",
              "    </tr>\n",
              "  </tbody>\n",
              "</table>\n"
            ],
            "text/plain": [
              "<pandas.io.formats.style.Styler at 0x22ce388fd50>"
            ]
          },
          "metadata": {},
          "output_type": "display_data"
        },
        {
          "data": {
            "text/html": [],
            "text/plain": [
              "<IPython.core.display.HTML object>"
            ]
          },
          "metadata": {},
          "output_type": "display_data"
        },
        {
          "data": {
            "text/html": [
              "<style>#sk-container-id-1 {\n",
              "  /* Definition of color scheme common for light and dark mode */\n",
              "  --sklearn-color-text: black;\n",
              "  --sklearn-color-line: gray;\n",
              "  /* Definition of color scheme for unfitted estimators */\n",
              "  --sklearn-color-unfitted-level-0: #fff5e6;\n",
              "  --sklearn-color-unfitted-level-1: #f6e4d2;\n",
              "  --sklearn-color-unfitted-level-2: #ffe0b3;\n",
              "  --sklearn-color-unfitted-level-3: chocolate;\n",
              "  /* Definition of color scheme for fitted estimators */\n",
              "  --sklearn-color-fitted-level-0: #f0f8ff;\n",
              "  --sklearn-color-fitted-level-1: #d4ebff;\n",
              "  --sklearn-color-fitted-level-2: #b3dbfd;\n",
              "  --sklearn-color-fitted-level-3: cornflowerblue;\n",
              "\n",
              "  /* Specific color for light theme */\n",
              "  --sklearn-color-text-on-default-background: var(--sg-text-color, var(--theme-code-foreground, var(--jp-content-font-color1, black)));\n",
              "  --sklearn-color-background: var(--sg-background-color, var(--theme-background, var(--jp-layout-color0, white)));\n",
              "  --sklearn-color-border-box: var(--sg-text-color, var(--theme-code-foreground, var(--jp-content-font-color1, black)));\n",
              "  --sklearn-color-icon: #696969;\n",
              "\n",
              "  @media (prefers-color-scheme: dark) {\n",
              "    /* Redefinition of color scheme for dark theme */\n",
              "    --sklearn-color-text-on-default-background: var(--sg-text-color, var(--theme-code-foreground, var(--jp-content-font-color1, white)));\n",
              "    --sklearn-color-background: var(--sg-background-color, var(--theme-background, var(--jp-layout-color0, #111)));\n",
              "    --sklearn-color-border-box: var(--sg-text-color, var(--theme-code-foreground, var(--jp-content-font-color1, white)));\n",
              "    --sklearn-color-icon: #878787;\n",
              "  }\n",
              "}\n",
              "\n",
              "#sk-container-id-1 {\n",
              "  color: var(--sklearn-color-text);\n",
              "}\n",
              "\n",
              "#sk-container-id-1 pre {\n",
              "  padding: 0;\n",
              "}\n",
              "\n",
              "#sk-container-id-1 input.sk-hidden--visually {\n",
              "  border: 0;\n",
              "  clip: rect(1px 1px 1px 1px);\n",
              "  clip: rect(1px, 1px, 1px, 1px);\n",
              "  height: 1px;\n",
              "  margin: -1px;\n",
              "  overflow: hidden;\n",
              "  padding: 0;\n",
              "  position: absolute;\n",
              "  width: 1px;\n",
              "}\n",
              "\n",
              "#sk-container-id-1 div.sk-dashed-wrapped {\n",
              "  border: 1px dashed var(--sklearn-color-line);\n",
              "  margin: 0 0.4em 0.5em 0.4em;\n",
              "  box-sizing: border-box;\n",
              "  padding-bottom: 0.4em;\n",
              "  background-color: var(--sklearn-color-background);\n",
              "}\n",
              "\n",
              "#sk-container-id-1 div.sk-container {\n",
              "  /* jupyter's `normalize.less` sets `[hidden] { display: none; }`\n",
              "     but bootstrap.min.css set `[hidden] { display: none !important; }`\n",
              "     so we also need the `!important` here to be able to override the\n",
              "     default hidden behavior on the sphinx rendered scikit-learn.org.\n",
              "     See: https://github.com/scikit-learn/scikit-learn/issues/21755 */\n",
              "  display: inline-block !important;\n",
              "  position: relative;\n",
              "}\n",
              "\n",
              "#sk-container-id-1 div.sk-text-repr-fallback {\n",
              "  display: none;\n",
              "}\n",
              "\n",
              "div.sk-parallel-item,\n",
              "div.sk-serial,\n",
              "div.sk-item {\n",
              "  /* draw centered vertical line to link estimators */\n",
              "  background-image: linear-gradient(var(--sklearn-color-text-on-default-background), var(--sklearn-color-text-on-default-background));\n",
              "  background-size: 2px 100%;\n",
              "  background-repeat: no-repeat;\n",
              "  background-position: center center;\n",
              "}\n",
              "\n",
              "/* Parallel-specific style estimator block */\n",
              "\n",
              "#sk-container-id-1 div.sk-parallel-item::after {\n",
              "  content: \"\";\n",
              "  width: 100%;\n",
              "  border-bottom: 2px solid var(--sklearn-color-text-on-default-background);\n",
              "  flex-grow: 1;\n",
              "}\n",
              "\n",
              "#sk-container-id-1 div.sk-parallel {\n",
              "  display: flex;\n",
              "  align-items: stretch;\n",
              "  justify-content: center;\n",
              "  background-color: var(--sklearn-color-background);\n",
              "  position: relative;\n",
              "}\n",
              "\n",
              "#sk-container-id-1 div.sk-parallel-item {\n",
              "  display: flex;\n",
              "  flex-direction: column;\n",
              "}\n",
              "\n",
              "#sk-container-id-1 div.sk-parallel-item:first-child::after {\n",
              "  align-self: flex-end;\n",
              "  width: 50%;\n",
              "}\n",
              "\n",
              "#sk-container-id-1 div.sk-parallel-item:last-child::after {\n",
              "  align-self: flex-start;\n",
              "  width: 50%;\n",
              "}\n",
              "\n",
              "#sk-container-id-1 div.sk-parallel-item:only-child::after {\n",
              "  width: 0;\n",
              "}\n",
              "\n",
              "/* Serial-specific style estimator block */\n",
              "\n",
              "#sk-container-id-1 div.sk-serial {\n",
              "  display: flex;\n",
              "  flex-direction: column;\n",
              "  align-items: center;\n",
              "  background-color: var(--sklearn-color-background);\n",
              "  padding-right: 1em;\n",
              "  padding-left: 1em;\n",
              "}\n",
              "\n",
              "\n",
              "/* Toggleable style: style used for estimator/Pipeline/ColumnTransformer box that is\n",
              "clickable and can be expanded/collapsed.\n",
              "- Pipeline and ColumnTransformer use this feature and define the default style\n",
              "- Estimators will overwrite some part of the style using the `sk-estimator` class\n",
              "*/\n",
              "\n",
              "/* Pipeline and ColumnTransformer style (default) */\n",
              "\n",
              "#sk-container-id-1 div.sk-toggleable {\n",
              "  /* Default theme specific background. It is overwritten whether we have a\n",
              "  specific estimator or a Pipeline/ColumnTransformer */\n",
              "  background-color: var(--sklearn-color-background);\n",
              "}\n",
              "\n",
              "/* Toggleable label */\n",
              "#sk-container-id-1 label.sk-toggleable__label {\n",
              "  cursor: pointer;\n",
              "  display: block;\n",
              "  width: 100%;\n",
              "  margin-bottom: 0;\n",
              "  padding: 0.5em;\n",
              "  box-sizing: border-box;\n",
              "  text-align: center;\n",
              "}\n",
              "\n",
              "#sk-container-id-1 label.sk-toggleable__label-arrow:before {\n",
              "  /* Arrow on the left of the label */\n",
              "  content: \"▸\";\n",
              "  float: left;\n",
              "  margin-right: 0.25em;\n",
              "  color: var(--sklearn-color-icon);\n",
              "}\n",
              "\n",
              "#sk-container-id-1 label.sk-toggleable__label-arrow:hover:before {\n",
              "  color: var(--sklearn-color-text);\n",
              "}\n",
              "\n",
              "/* Toggleable content - dropdown */\n",
              "\n",
              "#sk-container-id-1 div.sk-toggleable__content {\n",
              "  max-height: 0;\n",
              "  max-width: 0;\n",
              "  overflow: hidden;\n",
              "  text-align: left;\n",
              "  /* unfitted */\n",
              "  background-color: var(--sklearn-color-unfitted-level-0);\n",
              "}\n",
              "\n",
              "#sk-container-id-1 div.sk-toggleable__content.fitted {\n",
              "  /* fitted */\n",
              "  background-color: var(--sklearn-color-fitted-level-0);\n",
              "}\n",
              "\n",
              "#sk-container-id-1 div.sk-toggleable__content pre {\n",
              "  margin: 0.2em;\n",
              "  border-radius: 0.25em;\n",
              "  color: var(--sklearn-color-text);\n",
              "  /* unfitted */\n",
              "  background-color: var(--sklearn-color-unfitted-level-0);\n",
              "}\n",
              "\n",
              "#sk-container-id-1 div.sk-toggleable__content.fitted pre {\n",
              "  /* unfitted */\n",
              "  background-color: var(--sklearn-color-fitted-level-0);\n",
              "}\n",
              "\n",
              "#sk-container-id-1 input.sk-toggleable__control:checked~div.sk-toggleable__content {\n",
              "  /* Expand drop-down */\n",
              "  max-height: 200px;\n",
              "  max-width: 100%;\n",
              "  overflow: auto;\n",
              "}\n",
              "\n",
              "#sk-container-id-1 input.sk-toggleable__control:checked~label.sk-toggleable__label-arrow:before {\n",
              "  content: \"▾\";\n",
              "}\n",
              "\n",
              "/* Pipeline/ColumnTransformer-specific style */\n",
              "\n",
              "#sk-container-id-1 div.sk-label input.sk-toggleable__control:checked~label.sk-toggleable__label {\n",
              "  color: var(--sklearn-color-text);\n",
              "  background-color: var(--sklearn-color-unfitted-level-2);\n",
              "}\n",
              "\n",
              "#sk-container-id-1 div.sk-label.fitted input.sk-toggleable__control:checked~label.sk-toggleable__label {\n",
              "  background-color: var(--sklearn-color-fitted-level-2);\n",
              "}\n",
              "\n",
              "/* Estimator-specific style */\n",
              "\n",
              "/* Colorize estimator box */\n",
              "#sk-container-id-1 div.sk-estimator input.sk-toggleable__control:checked~label.sk-toggleable__label {\n",
              "  /* unfitted */\n",
              "  background-color: var(--sklearn-color-unfitted-level-2);\n",
              "}\n",
              "\n",
              "#sk-container-id-1 div.sk-estimator.fitted input.sk-toggleable__control:checked~label.sk-toggleable__label {\n",
              "  /* fitted */\n",
              "  background-color: var(--sklearn-color-fitted-level-2);\n",
              "}\n",
              "\n",
              "#sk-container-id-1 div.sk-label label.sk-toggleable__label,\n",
              "#sk-container-id-1 div.sk-label label {\n",
              "  /* The background is the default theme color */\n",
              "  color: var(--sklearn-color-text-on-default-background);\n",
              "}\n",
              "\n",
              "/* On hover, darken the color of the background */\n",
              "#sk-container-id-1 div.sk-label:hover label.sk-toggleable__label {\n",
              "  color: var(--sklearn-color-text);\n",
              "  background-color: var(--sklearn-color-unfitted-level-2);\n",
              "}\n",
              "\n",
              "/* Label box, darken color on hover, fitted */\n",
              "#sk-container-id-1 div.sk-label.fitted:hover label.sk-toggleable__label.fitted {\n",
              "  color: var(--sklearn-color-text);\n",
              "  background-color: var(--sklearn-color-fitted-level-2);\n",
              "}\n",
              "\n",
              "/* Estimator label */\n",
              "\n",
              "#sk-container-id-1 div.sk-label label {\n",
              "  font-family: monospace;\n",
              "  font-weight: bold;\n",
              "  display: inline-block;\n",
              "  line-height: 1.2em;\n",
              "}\n",
              "\n",
              "#sk-container-id-1 div.sk-label-container {\n",
              "  text-align: center;\n",
              "}\n",
              "\n",
              "/* Estimator-specific */\n",
              "#sk-container-id-1 div.sk-estimator {\n",
              "  font-family: monospace;\n",
              "  border: 1px dotted var(--sklearn-color-border-box);\n",
              "  border-radius: 0.25em;\n",
              "  box-sizing: border-box;\n",
              "  margin-bottom: 0.5em;\n",
              "  /* unfitted */\n",
              "  background-color: var(--sklearn-color-unfitted-level-0);\n",
              "}\n",
              "\n",
              "#sk-container-id-1 div.sk-estimator.fitted {\n",
              "  /* fitted */\n",
              "  background-color: var(--sklearn-color-fitted-level-0);\n",
              "}\n",
              "\n",
              "/* on hover */\n",
              "#sk-container-id-1 div.sk-estimator:hover {\n",
              "  /* unfitted */\n",
              "  background-color: var(--sklearn-color-unfitted-level-2);\n",
              "}\n",
              "\n",
              "#sk-container-id-1 div.sk-estimator.fitted:hover {\n",
              "  /* fitted */\n",
              "  background-color: var(--sklearn-color-fitted-level-2);\n",
              "}\n",
              "\n",
              "/* Specification for estimator info (e.g. \"i\" and \"?\") */\n",
              "\n",
              "/* Common style for \"i\" and \"?\" */\n",
              "\n",
              ".sk-estimator-doc-link,\n",
              "a:link.sk-estimator-doc-link,\n",
              "a:visited.sk-estimator-doc-link {\n",
              "  float: right;\n",
              "  font-size: smaller;\n",
              "  line-height: 1em;\n",
              "  font-family: monospace;\n",
              "  background-color: var(--sklearn-color-background);\n",
              "  border-radius: 1em;\n",
              "  height: 1em;\n",
              "  width: 1em;\n",
              "  text-decoration: none !important;\n",
              "  margin-left: 1ex;\n",
              "  /* unfitted */\n",
              "  border: var(--sklearn-color-unfitted-level-1) 1pt solid;\n",
              "  color: var(--sklearn-color-unfitted-level-1);\n",
              "}\n",
              "\n",
              ".sk-estimator-doc-link.fitted,\n",
              "a:link.sk-estimator-doc-link.fitted,\n",
              "a:visited.sk-estimator-doc-link.fitted {\n",
              "  /* fitted */\n",
              "  border: var(--sklearn-color-fitted-level-1) 1pt solid;\n",
              "  color: var(--sklearn-color-fitted-level-1);\n",
              "}\n",
              "\n",
              "/* On hover */\n",
              "div.sk-estimator:hover .sk-estimator-doc-link:hover,\n",
              ".sk-estimator-doc-link:hover,\n",
              "div.sk-label-container:hover .sk-estimator-doc-link:hover,\n",
              ".sk-estimator-doc-link:hover {\n",
              "  /* unfitted */\n",
              "  background-color: var(--sklearn-color-unfitted-level-3);\n",
              "  color: var(--sklearn-color-background);\n",
              "  text-decoration: none;\n",
              "}\n",
              "\n",
              "div.sk-estimator.fitted:hover .sk-estimator-doc-link.fitted:hover,\n",
              ".sk-estimator-doc-link.fitted:hover,\n",
              "div.sk-label-container:hover .sk-estimator-doc-link.fitted:hover,\n",
              ".sk-estimator-doc-link.fitted:hover {\n",
              "  /* fitted */\n",
              "  background-color: var(--sklearn-color-fitted-level-3);\n",
              "  color: var(--sklearn-color-background);\n",
              "  text-decoration: none;\n",
              "}\n",
              "\n",
              "/* Span, style for the box shown on hovering the info icon */\n",
              ".sk-estimator-doc-link span {\n",
              "  display: none;\n",
              "  z-index: 9999;\n",
              "  position: relative;\n",
              "  font-weight: normal;\n",
              "  right: .2ex;\n",
              "  padding: .5ex;\n",
              "  margin: .5ex;\n",
              "  width: min-content;\n",
              "  min-width: 20ex;\n",
              "  max-width: 50ex;\n",
              "  color: var(--sklearn-color-text);\n",
              "  box-shadow: 2pt 2pt 4pt #999;\n",
              "  /* unfitted */\n",
              "  background: var(--sklearn-color-unfitted-level-0);\n",
              "  border: .5pt solid var(--sklearn-color-unfitted-level-3);\n",
              "}\n",
              "\n",
              ".sk-estimator-doc-link.fitted span {\n",
              "  /* fitted */\n",
              "  background: var(--sklearn-color-fitted-level-0);\n",
              "  border: var(--sklearn-color-fitted-level-3);\n",
              "}\n",
              "\n",
              ".sk-estimator-doc-link:hover span {\n",
              "  display: block;\n",
              "}\n",
              "\n",
              "/* \"?\"-specific style due to the `<a>` HTML tag */\n",
              "\n",
              "#sk-container-id-1 a.estimator_doc_link {\n",
              "  float: right;\n",
              "  font-size: 1rem;\n",
              "  line-height: 1em;\n",
              "  font-family: monospace;\n",
              "  background-color: var(--sklearn-color-background);\n",
              "  border-radius: 1rem;\n",
              "  height: 1rem;\n",
              "  width: 1rem;\n",
              "  text-decoration: none;\n",
              "  /* unfitted */\n",
              "  color: var(--sklearn-color-unfitted-level-1);\n",
              "  border: var(--sklearn-color-unfitted-level-1) 1pt solid;\n",
              "}\n",
              "\n",
              "#sk-container-id-1 a.estimator_doc_link.fitted {\n",
              "  /* fitted */\n",
              "  border: var(--sklearn-color-fitted-level-1) 1pt solid;\n",
              "  color: var(--sklearn-color-fitted-level-1);\n",
              "}\n",
              "\n",
              "/* On hover */\n",
              "#sk-container-id-1 a.estimator_doc_link:hover {\n",
              "  /* unfitted */\n",
              "  background-color: var(--sklearn-color-unfitted-level-3);\n",
              "  color: var(--sklearn-color-background);\n",
              "  text-decoration: none;\n",
              "}\n",
              "\n",
              "#sk-container-id-1 a.estimator_doc_link.fitted:hover {\n",
              "  /* fitted */\n",
              "  background-color: var(--sklearn-color-fitted-level-3);\n",
              "}\n",
              "</style><div id=\"sk-container-id-1\" class=\"sk-top-container\"><div class=\"sk-text-repr-fallback\"><pre>LinearDiscriminantAnalysis(covariance_estimator=None, n_components=None,\n",
              "                           priors=None, shrinkage=None, solver=&#x27;svd&#x27;,\n",
              "                           store_covariance=False, tol=0.0001)</pre><b>In a Jupyter environment, please rerun this cell to show the HTML representation or trust the notebook. <br />On GitHub, the HTML representation is unable to render, please try loading this page with nbviewer.org.</b></div><div class=\"sk-container\" hidden><div class=\"sk-item\"><div class=\"sk-estimator fitted sk-toggleable\"><input class=\"sk-toggleable__control sk-hidden--visually\" id=\"sk-estimator-id-1\" type=\"checkbox\" checked><label for=\"sk-estimator-id-1\" class=\"sk-toggleable__label fitted sk-toggleable__label-arrow fitted\">&nbsp;&nbsp;LinearDiscriminantAnalysis<a class=\"sk-estimator-doc-link fitted\" rel=\"noreferrer\" target=\"_blank\" href=\"https://scikit-learn.org/1.4/modules/generated/sklearn.discriminant_analysis.LinearDiscriminantAnalysis.html\">?<span>Documentation for LinearDiscriminantAnalysis</span></a><span class=\"sk-estimator-doc-link fitted\">i<span>Fitted</span></span></label><div class=\"sk-toggleable__content fitted\"><pre>LinearDiscriminantAnalysis(covariance_estimator=None, n_components=None,\n",
              "                           priors=None, shrinkage=None, solver=&#x27;svd&#x27;,\n",
              "                           store_covariance=False, tol=0.0001)</pre></div> </div></div></div></div>"
            ],
            "text/plain": [
              "LinearDiscriminantAnalysis(covariance_estimator=None, n_components=None,\n",
              "                           priors=None, shrinkage=None, solver='svd',\n",
              "                           store_covariance=False, tol=0.0001)"
            ]
          },
          "execution_count": 14,
          "metadata": {},
          "output_type": "execute_result"
        }
      ],
      "source": [
        "compare_models()"
      ]
    },
    {
      "cell_type": "code",
      "execution_count": 15,
      "metadata": {
        "colab": {
          "base_uri": "https://localhost:8080/",
          "height": 457,
          "referenced_widgets": [
            "137c63964f284766b9ae620a7f782d3f",
            "09cb8af233ae4809b7ae8b2700d8f342",
            "735d2d1a45c1470e83cdf907aa5755fa",
            "2eaecb9a99ed4147a51c613b9587c4f0",
            "3ccf22dfed634fc5a51ea3f00776ef0c",
            "ea3f2731ad2749c888defacb912878d1",
            "ca9aef02537348d682fb3b673a683883",
            "7513b2a8ff51468bbbf9ce1c7501b898",
            "e34ad792bf7847fbb3b347d02df340b3",
            "77ef5d26b5664327a88ef7691e102caa",
            "876d47496e70430bba161428021f79f2"
          ]
        },
        "id": "_8fH_os8rP8Z",
        "outputId": "866490d0-0c0b-4a70-98fb-34017a2fcc54"
      },
      "outputs": [
        {
          "data": {
            "text/html": [],
            "text/plain": [
              "<IPython.core.display.HTML object>"
            ]
          },
          "metadata": {},
          "output_type": "display_data"
        },
        {
          "data": {
            "text/html": [
              "<style type=\"text/css\">\n",
              "#T_9b104_row10_col0, #T_9b104_row10_col1, #T_9b104_row10_col2, #T_9b104_row10_col3, #T_9b104_row10_col4, #T_9b104_row10_col5, #T_9b104_row10_col6 {\n",
              "  background: yellow;\n",
              "}\n",
              "</style>\n",
              "<table id=\"T_9b104\">\n",
              "  <thead>\n",
              "    <tr>\n",
              "      <th class=\"blank level0\" >&nbsp;</th>\n",
              "      <th id=\"T_9b104_level0_col0\" class=\"col_heading level0 col0\" >Accuracy</th>\n",
              "      <th id=\"T_9b104_level0_col1\" class=\"col_heading level0 col1\" >AUC</th>\n",
              "      <th id=\"T_9b104_level0_col2\" class=\"col_heading level0 col2\" >Recall</th>\n",
              "      <th id=\"T_9b104_level0_col3\" class=\"col_heading level0 col3\" >Prec.</th>\n",
              "      <th id=\"T_9b104_level0_col4\" class=\"col_heading level0 col4\" >F1</th>\n",
              "      <th id=\"T_9b104_level0_col5\" class=\"col_heading level0 col5\" >Kappa</th>\n",
              "      <th id=\"T_9b104_level0_col6\" class=\"col_heading level0 col6\" >MCC</th>\n",
              "    </tr>\n",
              "    <tr>\n",
              "      <th class=\"index_name level0\" >Fold</th>\n",
              "      <th class=\"blank col0\" >&nbsp;</th>\n",
              "      <th class=\"blank col1\" >&nbsp;</th>\n",
              "      <th class=\"blank col2\" >&nbsp;</th>\n",
              "      <th class=\"blank col3\" >&nbsp;</th>\n",
              "      <th class=\"blank col4\" >&nbsp;</th>\n",
              "      <th class=\"blank col5\" >&nbsp;</th>\n",
              "      <th class=\"blank col6\" >&nbsp;</th>\n",
              "    </tr>\n",
              "  </thead>\n",
              "  <tbody>\n",
              "    <tr>\n",
              "      <th id=\"T_9b104_level0_row0\" class=\"row_heading level0 row0\" >0</th>\n",
              "      <td id=\"T_9b104_row0_col0\" class=\"data row0 col0\" >0.7593</td>\n",
              "      <td id=\"T_9b104_row0_col1\" class=\"data row0 col1\" >0.8060</td>\n",
              "      <td id=\"T_9b104_row0_col2\" class=\"data row0 col2\" >0.4737</td>\n",
              "      <td id=\"T_9b104_row0_col3\" class=\"data row0 col3\" >0.7500</td>\n",
              "      <td id=\"T_9b104_row0_col4\" class=\"data row0 col4\" >0.5806</td>\n",
              "      <td id=\"T_9b104_row0_col5\" class=\"data row0 col5\" >0.4236</td>\n",
              "      <td id=\"T_9b104_row0_col6\" class=\"data row0 col6\" >0.4456</td>\n",
              "    </tr>\n",
              "    <tr>\n",
              "      <th id=\"T_9b104_level0_row1\" class=\"row_heading level0 row1\" >1</th>\n",
              "      <td id=\"T_9b104_row1_col0\" class=\"data row1 col0\" >0.8333</td>\n",
              "      <td id=\"T_9b104_row1_col1\" class=\"data row1 col1\" >0.8211</td>\n",
              "      <td id=\"T_9b104_row1_col2\" class=\"data row1 col2\" >0.7368</td>\n",
              "      <td id=\"T_9b104_row1_col3\" class=\"data row1 col3\" >0.7778</td>\n",
              "      <td id=\"T_9b104_row1_col4\" class=\"data row1 col4\" >0.7568</td>\n",
              "      <td id=\"T_9b104_row1_col5\" class=\"data row1 col5\" >0.6301</td>\n",
              "      <td id=\"T_9b104_row1_col6\" class=\"data row1 col6\" >0.6307</td>\n",
              "    </tr>\n",
              "    <tr>\n",
              "      <th id=\"T_9b104_level0_row2\" class=\"row_heading level0 row2\" >2</th>\n",
              "      <td id=\"T_9b104_row2_col0\" class=\"data row2 col0\" >0.7963</td>\n",
              "      <td id=\"T_9b104_row2_col1\" class=\"data row2 col1\" >0.8767</td>\n",
              "      <td id=\"T_9b104_row2_col2\" class=\"data row2 col2\" >0.6316</td>\n",
              "      <td id=\"T_9b104_row2_col3\" class=\"data row2 col3\" >0.7500</td>\n",
              "      <td id=\"T_9b104_row2_col4\" class=\"data row2 col4\" >0.6857</td>\n",
              "      <td id=\"T_9b104_row2_col5\" class=\"data row2 col5\" >0.5367</td>\n",
              "      <td id=\"T_9b104_row2_col6\" class=\"data row2 col6\" >0.5410</td>\n",
              "    </tr>\n",
              "    <tr>\n",
              "      <th id=\"T_9b104_level0_row3\" class=\"row_heading level0 row3\" >3</th>\n",
              "      <td id=\"T_9b104_row3_col0\" class=\"data row3 col0\" >0.7593</td>\n",
              "      <td id=\"T_9b104_row3_col1\" class=\"data row3 col1\" >0.7835</td>\n",
              "      <td id=\"T_9b104_row3_col2\" class=\"data row3 col2\" >0.5789</td>\n",
              "      <td id=\"T_9b104_row3_col3\" class=\"data row3 col3\" >0.6875</td>\n",
              "      <td id=\"T_9b104_row3_col4\" class=\"data row3 col4\" >0.6286</td>\n",
              "      <td id=\"T_9b104_row3_col5\" class=\"data row3 col5\" >0.4524</td>\n",
              "      <td id=\"T_9b104_row3_col6\" class=\"data row3 col6\" >0.4561</td>\n",
              "    </tr>\n",
              "    <tr>\n",
              "      <th id=\"T_9b104_level0_row4\" class=\"row_heading level0 row4\" >4</th>\n",
              "      <td id=\"T_9b104_row4_col0\" class=\"data row4 col0\" >0.7222</td>\n",
              "      <td id=\"T_9b104_row4_col1\" class=\"data row4 col1\" >0.8316</td>\n",
              "      <td id=\"T_9b104_row4_col2\" class=\"data row4 col2\" >0.6842</td>\n",
              "      <td id=\"T_9b104_row4_col3\" class=\"data row4 col3\" >0.5909</td>\n",
              "      <td id=\"T_9b104_row4_col4\" class=\"data row4 col4\" >0.6341</td>\n",
              "      <td id=\"T_9b104_row4_col5\" class=\"data row4 col5\" >0.4122</td>\n",
              "      <td id=\"T_9b104_row4_col6\" class=\"data row4 col6\" >0.4151</td>\n",
              "    </tr>\n",
              "    <tr>\n",
              "      <th id=\"T_9b104_level0_row5\" class=\"row_heading level0 row5\" >5</th>\n",
              "      <td id=\"T_9b104_row5_col0\" class=\"data row5 col0\" >0.8333</td>\n",
              "      <td id=\"T_9b104_row5_col1\" class=\"data row5 col1\" >0.8150</td>\n",
              "      <td id=\"T_9b104_row5_col2\" class=\"data row5 col2\" >0.5789</td>\n",
              "      <td id=\"T_9b104_row5_col3\" class=\"data row5 col3\" >0.9167</td>\n",
              "      <td id=\"T_9b104_row5_col4\" class=\"data row5 col4\" >0.7097</td>\n",
              "      <td id=\"T_9b104_row5_col5\" class=\"data row5 col5\" >0.6010</td>\n",
              "      <td id=\"T_9b104_row5_col6\" class=\"data row5 col6\" >0.6322</td>\n",
              "    </tr>\n",
              "    <tr>\n",
              "      <th id=\"T_9b104_level0_row6\" class=\"row_heading level0 row6\" >6</th>\n",
              "      <td id=\"T_9b104_row6_col0\" class=\"data row6 col0\" >0.7407</td>\n",
              "      <td id=\"T_9b104_row6_col1\" class=\"data row6 col1\" >0.8211</td>\n",
              "      <td id=\"T_9b104_row6_col2\" class=\"data row6 col2\" >0.4737</td>\n",
              "      <td id=\"T_9b104_row6_col3\" class=\"data row6 col3\" >0.6923</td>\n",
              "      <td id=\"T_9b104_row6_col4\" class=\"data row6 col4\" >0.5625</td>\n",
              "      <td id=\"T_9b104_row6_col5\" class=\"data row6 col5\" >0.3874</td>\n",
              "      <td id=\"T_9b104_row6_col6\" class=\"data row6 col6\" >0.4014</td>\n",
              "    </tr>\n",
              "    <tr>\n",
              "      <th id=\"T_9b104_level0_row7\" class=\"row_heading level0 row7\" >7</th>\n",
              "      <td id=\"T_9b104_row7_col0\" class=\"data row7 col0\" >0.8302</td>\n",
              "      <td id=\"T_9b104_row7_col1\" class=\"data row7 col1\" >0.9222</td>\n",
              "      <td id=\"T_9b104_row7_col2\" class=\"data row7 col2\" >0.6111</td>\n",
              "      <td id=\"T_9b104_row7_col3\" class=\"data row7 col3\" >0.8462</td>\n",
              "      <td id=\"T_9b104_row7_col4\" class=\"data row7 col4\" >0.7097</td>\n",
              "      <td id=\"T_9b104_row7_col5\" class=\"data row7 col5\" >0.5940</td>\n",
              "      <td id=\"T_9b104_row7_col6\" class=\"data row7 col6\" >0.6098</td>\n",
              "    </tr>\n",
              "    <tr>\n",
              "      <th id=\"T_9b104_level0_row8\" class=\"row_heading level0 row8\" >8</th>\n",
              "      <td id=\"T_9b104_row8_col0\" class=\"data row8 col0\" >0.8679</td>\n",
              "      <td id=\"T_9b104_row8_col1\" class=\"data row8 col1\" >0.9048</td>\n",
              "      <td id=\"T_9b104_row8_col2\" class=\"data row8 col2\" >0.7222</td>\n",
              "      <td id=\"T_9b104_row8_col3\" class=\"data row8 col3\" >0.8667</td>\n",
              "      <td id=\"T_9b104_row8_col4\" class=\"data row8 col4\" >0.7879</td>\n",
              "      <td id=\"T_9b104_row8_col5\" class=\"data row8 col5\" >0.6931</td>\n",
              "      <td id=\"T_9b104_row8_col6\" class=\"data row8 col6\" >0.6992</td>\n",
              "    </tr>\n",
              "    <tr>\n",
              "      <th id=\"T_9b104_level0_row9\" class=\"row_heading level0 row9\" >9</th>\n",
              "      <td id=\"T_9b104_row9_col0\" class=\"data row9 col0\" >0.8302</td>\n",
              "      <td id=\"T_9b104_row9_col1\" class=\"data row9 col1\" >0.8889</td>\n",
              "      <td id=\"T_9b104_row9_col2\" class=\"data row9 col2\" >0.6667</td>\n",
              "      <td id=\"T_9b104_row9_col3\" class=\"data row9 col3\" >0.8000</td>\n",
              "      <td id=\"T_9b104_row9_col4\" class=\"data row9 col4\" >0.7273</td>\n",
              "      <td id=\"T_9b104_row9_col5\" class=\"data row9 col5\" >0.6055</td>\n",
              "      <td id=\"T_9b104_row9_col6\" class=\"data row9 col6\" >0.6108</td>\n",
              "    </tr>\n",
              "    <tr>\n",
              "      <th id=\"T_9b104_level0_row10\" class=\"row_heading level0 row10\" >Mean</th>\n",
              "      <td id=\"T_9b104_row10_col0\" class=\"data row10 col0\" >0.7973</td>\n",
              "      <td id=\"T_9b104_row10_col1\" class=\"data row10 col1\" >0.8471</td>\n",
              "      <td id=\"T_9b104_row10_col2\" class=\"data row10 col2\" >0.6158</td>\n",
              "      <td id=\"T_9b104_row10_col3\" class=\"data row10 col3\" >0.7678</td>\n",
              "      <td id=\"T_9b104_row10_col4\" class=\"data row10 col4\" >0.6783</td>\n",
              "      <td id=\"T_9b104_row10_col5\" class=\"data row10 col5\" >0.5336</td>\n",
              "      <td id=\"T_9b104_row10_col6\" class=\"data row10 col6\" >0.5442</td>\n",
              "    </tr>\n",
              "    <tr>\n",
              "      <th id=\"T_9b104_level0_row11\" class=\"row_heading level0 row11\" >Std</th>\n",
              "      <td id=\"T_9b104_row11_col0\" class=\"data row11 col0\" >0.0463</td>\n",
              "      <td id=\"T_9b104_row11_col1\" class=\"data row11 col1\" >0.0447</td>\n",
              "      <td id=\"T_9b104_row11_col2\" class=\"data row11 col2\" >0.0875</td>\n",
              "      <td id=\"T_9b104_row11_col3\" class=\"data row11 col3\" >0.0913</td>\n",
              "      <td id=\"T_9b104_row11_col4\" class=\"data row11 col4\" >0.0707</td>\n",
              "      <td id=\"T_9b104_row11_col5\" class=\"data row11 col5\" >0.1015</td>\n",
              "      <td id=\"T_9b104_row11_col6\" class=\"data row11 col6\" >0.1013</td>\n",
              "    </tr>\n",
              "  </tbody>\n",
              "</table>\n"
            ],
            "text/plain": [
              "<pandas.io.formats.style.Styler at 0x22ce2126c50>"
            ]
          },
          "metadata": {},
          "output_type": "display_data"
        },
        {
          "data": {
            "text/html": [],
            "text/plain": [
              "<IPython.core.display.HTML object>"
            ]
          },
          "metadata": {},
          "output_type": "display_data"
        }
      ],
      "source": [
        "best_model = create_model('lda')"
      ]
    },
    {
      "cell_type": "code",
      "execution_count": 16,
      "metadata": {
        "colab": {
          "base_uri": "https://localhost:8080/",
          "height": 485
        },
        "id": "NKfcTXKSrYWK",
        "outputId": "f8bba1a3-6189-4d5b-af05-00c1dc08e2d9"
      },
      "outputs": [
        {
          "data": {
            "text/html": [],
            "text/plain": [
              "<IPython.core.display.HTML object>"
            ]
          },
          "metadata": {},
          "output_type": "display_data"
        },
        {
          "data": {
            "image/png": "[encoded data removed]",
            "text/plain": [
              "<Figure size 800x500 with 1 Axes>"
            ]
          },
          "metadata": {},
          "output_type": "display_data"
        }
      ],
      "source": [
        "plot_model(best_model, plot = 'feature')"
      ]
    },
    {
      "cell_type": "markdown",
      "metadata": {
        "id": "Y3Ql--N2rjoS"
      },
      "source": [
        "# Clustering"
      ]
    },
    {
      "cell_type": "code",
      "execution_count": 17,
      "metadata": {
        "colab": {
          "base_uri": "https://localhost:8080/",
          "height": 568
        },
        "id": "xMVcowmvrcwJ",
        "outputId": "07ef0c01-f1f1-47ee-fa1f-a2c000e95b3f"
      },
      "outputs": [
        {
          "data": {
            "text/html": [
              "<style type=\"text/css\">\n",
              "#T_861da_row5_col1 {\n",
              "  background-color: lightgreen;\n",
              "}\n",
              "</style>\n",
              "<table id=\"T_861da\">\n",
              "  <thead>\n",
              "    <tr>\n",
              "      <th class=\"blank level0\" >&nbsp;</th>\n",
              "      <th id=\"T_861da_level0_col0\" class=\"col_heading level0 col0\" >Description</th>\n",
              "      <th id=\"T_861da_level0_col1\" class=\"col_heading level0 col1\" >Value</th>\n",
              "    </tr>\n",
              "  </thead>\n",
              "  <tbody>\n",
              "    <tr>\n",
              "      <th id=\"T_861da_level0_row0\" class=\"row_heading level0 row0\" >0</th>\n",
              "      <td id=\"T_861da_row0_col0\" class=\"data row0 col0\" >Session id</td>\n",
              "      <td id=\"T_861da_row0_col1\" class=\"data row0 col1\" >4444</td>\n",
              "    </tr>\n",
              "    <tr>\n",
              "      <th id=\"T_861da_level0_row1\" class=\"row_heading level0 row1\" >1</th>\n",
              "      <td id=\"T_861da_row1_col0\" class=\"data row1 col0\" >Original data shape</td>\n",
              "      <td id=\"T_861da_row1_col1\" class=\"data row1 col1\" >(804, 12)</td>\n",
              "    </tr>\n",
              "    <tr>\n",
              "      <th id=\"T_861da_level0_row2\" class=\"row_heading level0 row2\" >2</th>\n",
              "      <td id=\"T_861da_row2_col0\" class=\"data row2 col0\" >Transformed data shape</td>\n",
              "      <td id=\"T_861da_row2_col1\" class=\"data row2 col1\" >(804, 98)</td>\n",
              "    </tr>\n",
              "    <tr>\n",
              "      <th id=\"T_861da_level0_row3\" class=\"row_heading level0 row3\" >3</th>\n",
              "      <td id=\"T_861da_row3_col0\" class=\"data row3 col0\" >Numeric features</td>\n",
              "      <td id=\"T_861da_row3_col1\" class=\"data row3 col1\" >8</td>\n",
              "    </tr>\n",
              "    <tr>\n",
              "      <th id=\"T_861da_level0_row4\" class=\"row_heading level0 row4\" >4</th>\n",
              "      <td id=\"T_861da_row4_col0\" class=\"data row4 col0\" >Categorical features</td>\n",
              "      <td id=\"T_861da_row4_col1\" class=\"data row4 col1\" >4</td>\n",
              "    </tr>\n",
              "    <tr>\n",
              "      <th id=\"T_861da_level0_row5\" class=\"row_heading level0 row5\" >5</th>\n",
              "      <td id=\"T_861da_row5_col0\" class=\"data row5 col0\" >Preprocess</td>\n",
              "      <td id=\"T_861da_row5_col1\" class=\"data row5 col1\" >True</td>\n",
              "    </tr>\n",
              "    <tr>\n",
              "      <th id=\"T_861da_level0_row6\" class=\"row_heading level0 row6\" >6</th>\n",
              "      <td id=\"T_861da_row6_col0\" class=\"data row6 col0\" >Imputation type</td>\n",
              "      <td id=\"T_861da_row6_col1\" class=\"data row6 col1\" >simple</td>\n",
              "    </tr>\n",
              "    <tr>\n",
              "      <th id=\"T_861da_level0_row7\" class=\"row_heading level0 row7\" >7</th>\n",
              "      <td id=\"T_861da_row7_col0\" class=\"data row7 col0\" >Numeric imputation</td>\n",
              "      <td id=\"T_861da_row7_col1\" class=\"data row7 col1\" >mean</td>\n",
              "    </tr>\n",
              "    <tr>\n",
              "      <th id=\"T_861da_level0_row8\" class=\"row_heading level0 row8\" >8</th>\n",
              "      <td id=\"T_861da_row8_col0\" class=\"data row8 col0\" >Categorical imputation</td>\n",
              "      <td id=\"T_861da_row8_col1\" class=\"data row8 col1\" >mode</td>\n",
              "    </tr>\n",
              "    <tr>\n",
              "      <th id=\"T_861da_level0_row9\" class=\"row_heading level0 row9\" >9</th>\n",
              "      <td id=\"T_861da_row9_col0\" class=\"data row9 col0\" >Maximum one-hot encoding</td>\n",
              "      <td id=\"T_861da_row9_col1\" class=\"data row9 col1\" >-1</td>\n",
              "    </tr>\n",
              "    <tr>\n",
              "      <th id=\"T_861da_level0_row10\" class=\"row_heading level0 row10\" >10</th>\n",
              "      <td id=\"T_861da_row10_col0\" class=\"data row10 col0\" >Encoding method</td>\n",
              "      <td id=\"T_861da_row10_col1\" class=\"data row10 col1\" >None</td>\n",
              "    </tr>\n",
              "    <tr>\n",
              "      <th id=\"T_861da_level0_row11\" class=\"row_heading level0 row11\" >11</th>\n",
              "      <td id=\"T_861da_row11_col0\" class=\"data row11 col0\" >CPU Jobs</td>\n",
              "      <td id=\"T_861da_row11_col1\" class=\"data row11 col1\" >-1</td>\n",
              "    </tr>\n",
              "    <tr>\n",
              "      <th id=\"T_861da_level0_row12\" class=\"row_heading level0 row12\" >12</th>\n",
              "      <td id=\"T_861da_row12_col0\" class=\"data row12 col0\" >Use GPU</td>\n",
              "      <td id=\"T_861da_row12_col1\" class=\"data row12 col1\" >False</td>\n",
              "    </tr>\n",
              "    <tr>\n",
              "      <th id=\"T_861da_level0_row13\" class=\"row_heading level0 row13\" >13</th>\n",
              "      <td id=\"T_861da_row13_col0\" class=\"data row13 col0\" >Log Experiment</td>\n",
              "      <td id=\"T_861da_row13_col1\" class=\"data row13 col1\" >False</td>\n",
              "    </tr>\n",
              "    <tr>\n",
              "      <th id=\"T_861da_level0_row14\" class=\"row_heading level0 row14\" >14</th>\n",
              "      <td id=\"T_861da_row14_col0\" class=\"data row14 col0\" >Experiment Name</td>\n",
              "      <td id=\"T_861da_row14_col1\" class=\"data row14 col1\" >cluster-default-name</td>\n",
              "    </tr>\n",
              "    <tr>\n",
              "      <th id=\"T_861da_level0_row15\" class=\"row_heading level0 row15\" >15</th>\n",
              "      <td id=\"T_861da_row15_col0\" class=\"data row15 col0\" >USI</td>\n",
              "      <td id=\"T_861da_row15_col1\" class=\"data row15 col1\" >afdc</td>\n",
              "    </tr>\n",
              "  </tbody>\n",
              "</table>\n"
            ],
            "text/plain": [
              "<pandas.io.formats.style.Styler at 0x22ce216dd90>"
            ]
          },
          "metadata": {},
          "output_type": "display_data"
        },
        {
          "data": {
            "text/plain": [
              "<pycaret.clustering.oop.ClusteringExperiment at 0x22ce018a910>"
            ]
          },
          "execution_count": 17,
          "metadata": {},
          "output_type": "execute_result"
        }
      ],
      "source": [
        "df = pd.read_excel(\"data/cars.xls\")\n",
        "from pycaret.clustering import *\n",
        "setup(data = df)"
      ]
    },
    {
      "cell_type": "code",
      "execution_count": 18,
      "metadata": {
        "colab": {
          "base_uri": "https://localhost:8080/",
          "height": 81,
          "referenced_widgets": [
            "2728564234074c588856050d7bff84b2",
            "f6e682baa26d4ccda6b095c263cfc438",
            "6e959f1339bc402abc75d86eed22d5c7",
            "f266b333c69248dcba71381f7e12b5b1",
            "4a8b7cb5cc144e438958c7ea8f601338",
            "1ac57eab5aa04766921728c6aed918e8",
            "83dd66e124a64621a40e0c7772ec2bd3",
            "a3b749247e684b34a2c5b97bf21d76f9",
            "11262b6a39de49fe9ac320a26c314650",
            "91fadb3bf1714e06a85c1fbbce469756",
            "3b7c254d47764ecbaa09d42f0b6d1fe8"
          ]
        },
        "id": "QC_xqIdSrrWx",
        "outputId": "9278b6bc-fedf-4ab5-cb36-657e973ffc08"
      },
      "outputs": [
        {
          "data": {
            "text/html": [],
            "text/plain": [
              "<IPython.core.display.HTML object>"
            ]
          },
          "metadata": {},
          "output_type": "display_data"
        },
        {
          "data": {
            "text/html": [
              "<style type=\"text/css\">\n",
              "</style>\n",
              "<table id=\"T_2a2a4\">\n",
              "  <thead>\n",
              "    <tr>\n",
              "      <th class=\"blank level0\" >&nbsp;</th>\n",
              "      <th id=\"T_2a2a4_level0_col0\" class=\"col_heading level0 col0\" >Silhouette</th>\n",
              "      <th id=\"T_2a2a4_level0_col1\" class=\"col_heading level0 col1\" >Calinski-Harabasz</th>\n",
              "      <th id=\"T_2a2a4_level0_col2\" class=\"col_heading level0 col2\" >Davies-Bouldin</th>\n",
              "      <th id=\"T_2a2a4_level0_col3\" class=\"col_heading level0 col3\" >Homogeneity</th>\n",
              "      <th id=\"T_2a2a4_level0_col4\" class=\"col_heading level0 col4\" >Rand Index</th>\n",
              "      <th id=\"T_2a2a4_level0_col5\" class=\"col_heading level0 col5\" >Completeness</th>\n",
              "    </tr>\n",
              "  </thead>\n",
              "  <tbody>\n",
              "    <tr>\n",
              "      <th id=\"T_2a2a4_level0_row0\" class=\"row_heading level0 row0\" >0</th>\n",
              "      <td id=\"T_2a2a4_row0_col0\" class=\"data row0 col0\" >0.4127</td>\n",
              "      <td id=\"T_2a2a4_row0_col1\" class=\"data row0 col1\" >601.0470</td>\n",
              "      <td id=\"T_2a2a4_row0_col2\" class=\"data row0 col2\" >0.8828</td>\n",
              "      <td id=\"T_2a2a4_row0_col3\" class=\"data row0 col3\" >0</td>\n",
              "      <td id=\"T_2a2a4_row0_col4\" class=\"data row0 col4\" >0</td>\n",
              "      <td id=\"T_2a2a4_row0_col5\" class=\"data row0 col5\" >0</td>\n",
              "    </tr>\n",
              "  </tbody>\n",
              "</table>\n"
            ],
            "text/plain": [
              "<pandas.io.formats.style.Styler at 0x22ce41c2d10>"
            ]
          },
          "metadata": {},
          "output_type": "display_data"
        },
        {
          "data": {
            "text/html": [],
            "text/plain": [
              "<IPython.core.display.HTML object>"
            ]
          },
          "metadata": {},
          "output_type": "display_data"
        }
      ],
      "source": [
        "kmeans = create_model('kmeans',4)"
      ]
    },
    {
      "cell_type": "code",
      "execution_count": 19,
      "metadata": {
        "colab": {
          "base_uri": "https://localhost:8080/",
          "height": 617
        },
        "id": "TCOW8ZJgrtsR",
        "outputId": "940e5253-be13-4cae-85a0-a87d439be09e"
      },
      "outputs": [
        {
          "data": {
            "text/html": [],
            "text/plain": [
              "<IPython.core.display.HTML object>"
            ]
          },
          "metadata": {},
          "output_type": "display_data"
        },
        {
          "data": {
            "application/vnd.plotly.v1+json": {
              "config": {
                "plotlyServerURL": "https://plot.ly"
              },
              "data": [
                {
                  "customdata": [
                    [
                      13585.637
                    ],
                    [
                      18529.342
                    ],
                    [
                      11581.905
                    ],
                    [
                      12379.127
                    ],
                    [
                      14220.014
                    ],
                    [
                      13161.942
                    ],
                    [
                      13436
                    ],
                    [
                      12981.952
                    ],
                    [
                      14077.969
                    ],
                    [
                      13540.042
                    ],
                    [
                      19294.787
                    ],
                    [
                      12810.91
                    ],
                    [
                      10546.783
                    ],
                    [
                      11671.858
                    ],
                    [
                      12243.061
                    ],
                    [
                      11539.049
                    ],
                    [
                      11574.174
                    ],
                    [
                      12257.164
                    ],
                    [
                      11699.034
                    ],
                    [
                      18548.979
                    ],
                    [
                      18042.22
                    ],
                    [
                      12846.062
                    ],
                    [
                      12944.938
                    ],
                    [
                      11464.629
                    ],
                    [
                      13135.905
                    ],
                    [
                      13106.9
                    ],
                    [
                      12845.174
                    ],
                    [
                      19338.377
                    ],
                    [
                      12741.19
                    ],
                    [
                      13545.031
                    ],
                    [
                      13744.85
                    ],
                    [
                      13688.945
                    ],
                    [
                      14304.741
                    ],
                    [
                      14593.8545
                    ],
                    [
                      20627.662
                    ],
                    [
                      12553.071
                    ],
                    [
                      12684.986
                    ],
                    [
                      13019.071
                    ],
                    [
                      13530.068
                    ],
                    [
                      13310.06
                    ],
                    [
                      13699.036
                    ],
                    [
                      14185.021
                    ],
                    [
                      19540.244
                    ],
                    [
                      19204.809
                    ],
                    [
                      18158.084
                    ],
                    [
                      12487.055
                    ],
                    [
                      12706.911
                    ],
                    [
                      11961.62
                    ],
                    [
                      12897.93
                    ],
                    [
                      12570.137
                    ],
                    [
                      14145.881
                    ],
                    [
                      15163.17
                    ],
                    [
                      13308.834
                    ],
                    [
                      14275.128
                    ],
                    [
                      12425.39
                    ],
                    [
                      12630.775
                    ],
                    [
                      12274.958
                    ],
                    [
                      12327.642
                    ],
                    [
                      13446.214
                    ],
                    [
                      13811.155
                    ],
                    [
                      14077.969
                    ],
                    [
                      11149.618
                    ],
                    [
                      10788.971
                    ],
                    [
                      11203.146
                    ],
                    [
                      12319.696
                    ],
                    [
                      12207.873
                    ],
                    [
                      11539.846
                    ],
                    [
                      16646.771
                    ],
                    [
                      12045.921
                    ],
                    [
                      14411.858
                    ],
                    [
                      13600.034
                    ],
                    [
                      8768.999
                    ],
                    [
                      8870.947
                    ],
                    [
                      9041.906
                    ],
                    [
                      8638.931
                    ],
                    [
                      9482.22
                    ],
                    [
                      11726.003
                    ],
                    [
                      12549.893
                    ],
                    [
                      12234.888
                    ],
                    [
                      13825.154
                    ],
                    [
                      13762.901
                    ],
                    [
                      14255.748
                    ],
                    [
                      18620.871
                    ],
                    [
                      17023.938
                    ],
                    [
                      12230.1
                    ],
                    [
                      12733.858
                    ],
                    [
                      13594.086
                    ],
                    [
                      13141.048
                    ],
                    [
                      12507.485
                    ],
                    [
                      13678.863
                    ],
                    [
                      14702.798
                    ],
                    [
                      15033.15
                    ],
                    [
                      13991.04
                    ],
                    [
                      14771.004
                    ],
                    [
                      11328.959
                    ],
                    [
                      11080.517
                    ],
                    [
                      13230.919
                    ],
                    [
                      12383.402
                    ],
                    [
                      12573.9
                    ],
                    [
                      13471.005
                    ],
                    [
                      13719.238
                    ],
                    [
                      13869.155
                    ],
                    [
                      13518.235
                    ],
                    [
                      13688
                    ],
                    [
                      14897.041
                    ],
                    [
                      14508.75
                    ],
                    [
                      14418.165
                    ],
                    [
                      16345.943
                    ],
                    [
                      15797.195
                    ],
                    [
                      15503.509
                    ],
                    [
                      15233.16
                    ],
                    [
                      15138.4
                    ],
                    [
                      15623.2
                    ],
                    [
                      16300.465
                    ],
                    [
                      16993.781
                    ],
                    [
                      16472.898
                    ],
                    [
                      17158.922
                    ],
                    [
                      17553.754
                    ],
                    [
                      15118.894
                    ],
                    [
                      16143.957
                    ],
                    [
                      16543.98
                    ],
                    [
                      16825.191
                    ],
                    [
                      16744.03
                    ],
                    [
                      16723.994
                    ],
                    [
                      17801.23
                    ],
                    [
                      20676.166
                    ],
                    [
                      20839.15
                    ],
                    [
                      20017.969
                    ],
                    [
                      20294.576
                    ],
                    [
                      14914.201
                    ],
                    [
                      18004.871
                    ],
                    [
                      17663.225
                    ],
                    [
                      17115.121
                    ],
                    [
                      16752.514
                    ],
                    [
                      16507.07
                    ],
                    [
                      15664.625
                    ],
                    [
                      15680.864
                    ],
                    [
                      16027.286
                    ],
                    [
                      16860.094
                    ],
                    [
                      16267.095
                    ],
                    [
                      16456.975
                    ],
                    [
                      17173.941
                    ],
                    [
                      17986.225
                    ],
                    [
                      17515.398
                    ],
                    [
                      16295.212
                    ],
                    [
                      16713.984
                    ],
                    [
                      16341.804
                    ],
                    [
                      16536.744
                    ],
                    [
                      16403.254
                    ],
                    [
                      17312.906
                    ],
                    [
                      16860.871
                    ],
                    [
                      17316.096
                    ],
                    [
                      17119.457
                    ],
                    [
                      16357.992
                    ],
                    [
                      16803.123
                    ],
                    [
                      16988.303
                    ],
                    [
                      22120.758
                    ],
                    [
                      18876.871
                    ],
                    [
                      22064.293
                    ],
                    [
                      22894.44
                    ],
                    [
                      22189.115
                    ],
                    [
                      21765.066
                    ],
                    [
                      21403.756
                    ],
                    [
                      21200.69
                    ],
                    [
                      20127.045
                    ],
                    [
                      19751.041
                    ],
                    [
                      17844.73
                    ],
                    [
                      18856.02
                    ],
                    [
                      18566.07
                    ],
                    [
                      18063.006
                    ],
                    [
                      17768.059
                    ],
                    [
                      12678.854
                    ],
                    [
                      12495.971
                    ],
                    [
                      13159.821
                    ],
                    [
                      13830.249
                    ],
                    [
                      13994.906
                    ],
                    [
                      20830.994
                    ],
                    [
                      20109.904
                    ],
                    [
                      19116.13
                    ],
                    [
                      19689.74
                    ],
                    [
                      14175.879
                    ],
                    [
                      14401.907
                    ],
                    [
                      14191.882
                    ],
                    [
                      22231.562
                    ],
                    [
                      9665.849
                    ],
                    [
                      21982.648
                    ],
                    [
                      20221.809
                    ],
                    [
                      17586.928
                    ],
                    [
                      22113.629
                    ],
                    [
                      22470.36
                    ],
                    [
                      20619.113
                    ],
                    [
                      15554.283
                    ],
                    [
                      15832.519
                    ],
                    [
                      16508.59
                    ],
                    [
                      15951.812
                    ],
                    [
                      16644.088
                    ],
                    [
                      17154.576
                    ],
                    [
                      16805.057
                    ],
                    [
                      20047.951
                    ],
                    [
                      21525.34
                    ],
                    [
                      20382.15
                    ],
                    [
                      18083.396
                    ],
                    [
                      17294.182
                    ],
                    [
                      17789.348
                    ],
                    [
                      17839.8
                    ],
                    [
                      18912.982
                    ],
                    [
                      18527.209
                    ],
                    [
                      19409.752
                    ],
                    [
                      19075.68
                    ],
                    [
                      21020.836
                    ],
                    [
                      22525.27
                    ],
                    [
                      9563.789
                    ],
                    [
                      12469.527
                    ],
                    [
                      13032.868
                    ],
                    [
                      14869.282
                    ],
                    [
                      21536.742
                    ],
                    [
                      14398.923
                    ],
                    [
                      12099.015
                    ],
                    [
                      12119.09
                    ],
                    [
                      11679.924
                    ],
                    [
                      13216.912
                    ],
                    [
                      21831.822
                    ],
                    [
                      21698.016
                    ],
                    [
                      14396.2705
                    ],
                    [
                      15622.121
                    ],
                    [
                      22435.203
                    ],
                    [
                      14909.051
                    ],
                    [
                      22661.049
                    ],
                    [
                      14853.199
                    ],
                    [
                      12412.521
                    ],
                    [
                      12284.288
                    ],
                    [
                      19641.742
                    ],
                    [
                      19191.99
                    ],
                    [
                      19425.848
                    ],
                    [
                      21878.12
                    ],
                    [
                      19981.127
                    ],
                    [
                      15086.899
                    ],
                    [
                      15730.046
                    ],
                    [
                      12878.047
                    ],
                    [
                      12832.462
                    ],
                    [
                      12464.073
                    ],
                    [
                      12465.509
                    ],
                    [
                      12258.857
                    ],
                    [
                      11903.098
                    ],
                    [
                      12209.56
                    ],
                    [
                      9654.061
                    ],
                    [
                      16033.931
                    ],
                    [
                      15802.653
                    ],
                    [
                      16106.827
                    ],
                    [
                      17325.27
                    ],
                    [
                      16078.665
                    ],
                    [
                      15297.836
                    ],
                    [
                      15505.294
                    ],
                    [
                      15174.347
                    ],
                    [
                      14546.885
                    ],
                    [
                      22244.877
                    ],
                    [
                      15568.975
                    ],
                    [
                      15589.78
                    ],
                    [
                      16551.219
                    ],
                    [
                      21562.047
                    ],
                    [
                      20952.219
                    ],
                    [
                      21575.457
                    ],
                    [
                      21183.123
                    ],
                    [
                      21460.014
                    ],
                    [
                      21273.062
                    ],
                    [
                      11504.824
                    ],
                    [
                      11521.526
                    ],
                    [
                      17968.838
                    ],
                    [
                      17808.2
                    ],
                    [
                      18543.428
                    ],
                    [
                      19105.13
                    ],
                    [
                      20406.1
                    ],
                    [
                      19344.166
                    ],
                    [
                      19924.158
                    ],
                    [
                      15295.019
                    ],
                    [
                      14862.094
                    ],
                    [
                      15048.042
                    ],
                    [
                      15230.003
                    ],
                    [
                      15709.053
                    ],
                    [
                      16339.17
                    ],
                    [
                      16175.958
                    ],
                    [
                      15731.133
                    ],
                    [
                      19774.25
                    ],
                    [
                      21058.139
                    ],
                    [
                      19556.898
                    ],
                    [
                      11413.53
                    ],
                    [
                      21646.117
                    ],
                    [
                      12594.183
                    ],
                    [
                      12105.981
                    ],
                    [
                      17645.744
                    ],
                    [
                      17394.021
                    ],
                    [
                      17772.969
                    ],
                    [
                      17750.885
                    ],
                    [
                      18348.898
                    ],
                    [
                      19027.863
                    ],
                    [
                      17944.857
                    ],
                    [
                      18145.127
                    ],
                    [
                      11873.534
                    ],
                    [
                      12965.224
                    ],
                    [
                      20902.104
                    ],
                    [
                      20986.016
                    ],
                    [
                      21683.031
                    ],
                    [
                      21341.258
                    ],
                    [
                      21799.172
                    ],
                    [
                      22625.074
                    ],
                    [
                      22230.027
                    ],
                    [
                      10563.066
                    ],
                    [
                      12828.031
                    ],
                    [
                      12830.099
                    ],
                    [
                      16391.926
                    ],
                    [
                      15594.807
                    ],
                    [
                      10491.075
                    ],
                    [
                      10144.952
                    ],
                    [
                      11215.019
                    ],
                    [
                      12293.06
                    ],
                    [
                      13998.129
                    ],
                    [
                      14568.002
                    ],
                    [
                      13122.905
                    ],
                    [
                      13494.289
                    ],
                    [
                      12036.217
                    ],
                    [
                      9928.188
                    ],
                    [
                      10777.053
                    ],
                    [
                      9954.054
                    ],
                    [
                      11045.108
                    ],
                    [
                      10386.04
                    ],
                    [
                      11096.857
                    ],
                    [
                      11017.169
                    ],
                    [
                      11472.022
                    ],
                    [
                      12162.14
                    ],
                    [
                      12333.604
                    ],
                    [
                      15059.134
                    ],
                    [
                      14703.137
                    ],
                    [
                      13961.111
                    ],
                    [
                      13034.068
                    ],
                    [
                      13162.853
                    ],
                    [
                      11137.046
                    ],
                    [
                      17095.035
                    ],
                    [
                      11031.13
                    ],
                    [
                      11391.214
                    ],
                    [
                      11539.049
                    ],
                    [
                      9220.83
                    ],
                    [
                      9789.038
                    ],
                    [
                      9506.048
                    ],
                    [
                      9720.979
                    ],
                    [
                      10287.978
                    ],
                    [
                      16216.98
                    ],
                    [
                      15792.831
                    ],
                    [
                      9919.048
                    ],
                    [
                      10921.945
                    ],
                    [
                      10872.014
                    ],
                    [
                      11343.054
                    ],
                    [
                      10770.106
                    ],
                    [
                      10805.13
                    ],
                    [
                      11615.021
                    ],
                    [
                      15595.884
                    ],
                    [
                      15253.868
                    ],
                    [
                      11115.014
                    ],
                    [
                      11013.871
                    ],
                    [
                      11070.061
                    ],
                    [
                      11394.887
                    ],
                    [
                      11179.953
                    ],
                    [
                      10921.945
                    ],
                    [
                      11247.862
                    ],
                    [
                      11169.918
                    ],
                    [
                      17162.873
                    ],
                    [
                      15623.92
                    ],
                    [
                      15788.1045
                    ],
                    [
                      15457.171
                    ],
                    [
                      14963.046
                    ],
                    [
                      19646.717
                    ],
                    [
                      20173.906
                    ],
                    [
                      18701.223
                    ],
                    [
                      19423.164
                    ],
                    [
                      19956.758
                    ],
                    [
                      16283.959
                    ],
                    [
                      16391.172
                    ],
                    [
                      16516.955
                    ],
                    [
                      15979.015
                    ],
                    [
                      16256.236
                    ],
                    [
                      15724.252
                    ],
                    [
                      15967.245
                    ],
                    [
                      16041.686
                    ],
                    [
                      15756.146
                    ],
                    [
                      16853.107
                    ],
                    [
                      16997.693
                    ],
                    [
                      19448.227
                    ],
                    [
                      16569.14
                    ]
                  ],
                  "hovertemplate": "Cluster=Cluster 0<br>PCA1=%{x}<br>PCA2=%{y}<br>Feature=%{customdata[0]}<extra></extra>",
                  "legendgroup": "Cluster 0",
                  "marker": {
                    "color": "#636efa",
                    "opacity": 0.5,
                    "symbol": "circle"
                  },
                  "mode": "markers",
                  "name": "Cluster 0",
                  "orientation": "v",
                  "showlegend": true,
                  "textposition": "top center",
                  "type": "scatter",
                  "x": [
                    -12402.209358106951,
                    -5930.647656844907,
                    -14589.635044756298,
                    -12121.912522322109,
                    -7783.617238534484,
                    -8172.617999528862,
                    -7716.68552918001,
                    -8076.506716781572,
                    -6124.097225193251,
                    -6601.37746275722,
                    -1847.8783845420503,
                    -7968.086545338152,
                    -16304.407051580283,
                    -11046.573265058474,
                    -10277.75868014905,
                    -10673.50328225083,
                    -9798.65075678176,
                    -9140.81957569168,
                    -9135.116956511525,
                    -2979.3277046267635,
                    -3725.0280439164117,
                    -10518.478208793696,
                    -8550.232708928743,
                    -12417.908908899268,
                    -8404.97372053289,
                    -8468.83086481077,
                    -8867.457371247343,
                    -4494.909521269671,
                    -12932.327028080681,
                    -9814.877021299471,
                    -8450.565274880393,
                    -7821.81245639121,
                    -7084.107743422144,
                    -6064.242593885159,
                    -977.3548202322831,
                    -12481.837312675405,
                    -11414.762201254895,
                    -10476.372184707869,
                    -9770.997242032467,
                    -9626.679346129851,
                    -9162.960391599623,
                    -6957.034368009502,
                    -2600.685416902831,
                    -4146.484842457163,
                    -5737.309622137208,
                    -11156.049179851625,
                    -10637.91630006251,
                    -11303.750522518165,
                    -9078.412690798137,
                    -9159.068172291507,
                    -7038.154011289019,
                    -5004.040905498273,
                    -7681.846527910615,
                    -6284.32853901617,
                    -9389.404658124147,
                    -9130.947311573755,
                    -8524.206266545023,
                    -8389.736332759294,
                    -6817.271173072567,
                    -9181.43458712998,
                    -9104.658785384674,
                    -14323.341118208942,
                    -13704.588972587017,
                    -12013.023066688475,
                    -10062.84627920995,
                    -9831.94635739921,
                    -10111.918824348799,
                    -4553.728419081744,
                    -8589.424721463494,
                    -8851.38008509714,
                    -9698.94490284563,
                    -16851.372976494087,
                    -15993.899660071564,
                    -13687.132331862267,
                    -13758.012160076285,
                    -12839.473567556946,
                    -10158.161207716978,
                    -10242.809191466551,
                    -11970.863240486717,
                    -9103.725888574858,
                    -6612.516378403561,
                    -5800.246456300379,
                    -4393.337442125637,
                    -7466.17810856481,
                    -11372.780928746508,
                    -8655.217102453355,
                    -7615.349987205746,
                    -7794.608474132813,
                    -8336.687185079567,
                    -6670.151348036884,
                    -5599.227989179593,
                    -5860.045380984627,
                    -7346.964176825055,
                    -7001.737895037644,
                    -15907.637064511884,
                    -15157.02139097452,
                    -9612.041521934265,
                    -10162.2956688761,
                    -9975.051915105842,
                    -7166.704592305855,
                    -8441.979775085858,
                    -8524.48290350142,
                    -9377.70034014852,
                    -6915.109346931049,
                    -5591.868723667466,
                    -6183.18218949976,
                    -6558.700092704558,
                    -6681.79048372331,
                    -7447.189071716809,
                    -9845.38815701501,
                    -9843.208456449693,
                    -9909.728847286528,
                    -7859.648913876993,
                    -6650.243133847807,
                    -5330.876745908824,
                    -5203.739039192403,
                    -4471.2546931288325,
                    -3150.8529325427944,
                    -7860.039113768499,
                    -7064.951257172366,
                    -6064.0680992706375,
                    -5439.296194759047,
                    -4995.903302910492,
                    -4348.468267130083,
                    -3214.586596839624,
                    -54.41169931690598,
                    -1217.79627347284,
                    -2180.1426940246733,
                    -5479.157916790623,
                    -10582.871891632187,
                    -2825.3917955374345,
                    -3378.5591904551857,
                    -5483.849969034008,
                    -3945.638659882315,
                    -3823.8313047891675,
                    -7281.571415522257,
                    -7320.094299269268,
                    -6013.352682460846,
                    -5208.746919501406,
                    -5327.648969266601,
                    -4748.28302988751,
                    -3596.9542180186904,
                    -2433.7671366931436,
                    -3235.3755928077894,
                    -7466.158949421331,
                    -6459.628968236269,
                    -6514.402569520758,
                    -5954.4856586273245,
                    -5734.869170714111,
                    -4326.27310676971,
                    -4264.362414565515,
                    -3740.409030499345,
                    -3506.948867857536,
                    -5891.973452764802,
                    -6230.314812087127,
                    -5745.684860023015,
                    -1945.9577411597165,
                    -4693.677902216398,
                    -1725.756990679588,
                    -584.2408660013563,
                    -1054.6027196625573,
                    -1502.1139977266048,
                    -2282.873151359588,
                    -3760.642592132153,
                    -701.8091094476586,
                    -1725.2279779533262,
                    -3726.8513137067935,
                    -3183.760758836998,
                    -4199.95194459365,
                    -5578.587779352479,
                    -6116.845452209871,
                    -11035.20390626009,
                    -10417.691636806587,
                    -8683.457951663573,
                    -6406.406781402961,
                    -6146.9919631140765,
                    -353.65707003499864,
                    -2144.691333638677,
                    -4158.750620688034,
                    -3878.300400775577,
                    -7365.425649178775,
                    -7119.305873941675,
                    -7207.977961629092,
                    173.00224975251436,
                    -10981.994714814347,
                    401.89961907705685,
                    -3101.5936537167927,
                    -9690.493155474884,
                    41.132572822040814,
                    176.96788497730617,
                    -2037.2509709048968,
                    -9801.094928241353,
                    -8849.91916314199,
                    -7015.417027413796,
                    -7099.671891530618,
                    -5267.357252252999,
                    -4523.225605635015,
                    -4194.439554564021,
                    -2769.34083417599,
                    -1482.3969455725473,
                    -2636.037583431341,
                    -6148.16515763936,
                    -6879.554333395148,
                    -5648.452033989916,
                    -5113.498467429614,
                    -2839.151126232932,
                    -2682.220360155035,
                    -1501.572997796818,
                    -1627.737576807538,
                    -2129.6184727507284,
                    1219.5522068398964,
                    -10985.569092368643,
                    -8371.704838344254,
                    -11154.283710443695,
                    -9950.726277850474,
                    -5334.229754176362,
                    -7173.495810014072,
                    -9694.57918839751,
                    -9697.24598976028,
                    -10292.752065416957,
                    -9053.321733306831,
                    -1365.4727980514833,
                    -1468.361814217526,
                    -10281.944236873589,
                    -6501.984930551285,
                    251.7948231555022,
                    -7211.61262037001,
                    1161.9317415194448,
                    -7566.653567526492,
                    -10005.49674784115,
                    -10151.275052897963,
                    -5278.649240070779,
                    -5023.165357969614,
                    -4371.4942487356275,
                    -579.2459529705786,
                    -2723.5701607299607,
                    -8355.805344242342,
                    -5817.177009820539,
                    -7829.170085119096,
                    -8316.761766395917,
                    -9072.008646441245,
                    -9721.439694420134,
                    -10040.752396591377,
                    -10686.411518430823,
                    -10655.002958506833,
                    -10871.302957179936,
                    -4572.123948601441,
                    -5770.694446713939,
                    -4845.658947140074,
                    -3827.7384263264667,
                    -5929.566868311029,
                    -6759.878645375542,
                    -6938.741619821391,
                    -8416.165196884163,
                    -10761.27982497834,
                    -8892.921807080884,
                    -4953.767955679276,
                    -5923.316387354116,
                    -4445.542048650316,
                    -1047.8814784611313,
                    -474.5189399448803,
                    122.85415483145682,
                    -649.9826414554017,
                    227.1831377832749,
                    228.32990231718045,
                    -13831.972270258473,
                    -14146.642848563082,
                    -7929.974166790579,
                    -7517.881018217195,
                    -4631.98436065431,
                    -3453.3051526167656,
                    -1769.8628177803507,
                    -3149.2389471661854,
                    -1334.6552744597618,
                    -8122.511544168379,
                    -7478.788675637607,
                    -6965.356975924849,
                    -6669.125583807524,
                    -6106.641109009953,
                    -4742.5346447383,
                    -4662.104273185976,
                    -5526.799625297892,
                    -2612.10677626251,
                    -1749.4091060470134,
                    -3419.764798801118,
                    -13490.05825444394,
                    373.25618748880044,
                    -10364.16924606808,
                    -11455.322161058737,
                    -6055.7153210278975,
                    -5539.494734306807,
                    -5048.913276678588,
                    -5066.015176135111,
                    -4120.257632435096,
                    -2821.1922272836946,
                    -3144.18137270669,
                    -2554.649638775358,
                    -11707.525483468977,
                    -11090.46860543574,
                    -3549.7914989649894,
                    -2655.8173317965375,
                    -1894.0932206326868,
                    -1718.1115688152156,
                    -1037.5247836772655,
                    9.049554809419506,
                    116.35744426932675,
                    -14244.723491623892,
                    -7830.6341402674825,
                    -7429.586419439914,
                    -4138.724679415686,
                    -6271.702525063931,
                    -13831.2398182672,
                    -11930.95465012054,
                    -9634.995579458433,
                    -7718.125242483515,
                    -6458.805954389325,
                    -5999.7389895910665,
                    -7557.547776563303,
                    -7332.85612875041,
                    -8827.355875047519,
                    -13960.203791361277,
                    -12589.759667973858,
                    -16380.943651920523,
                    -11270.83636580242,
                    -11148.014838589379,
                    -9871.07973806204,
                    -9871.954852584804,
                    -9312.942443145877,
                    -9319.565228296045,
                    -9191.195084636209,
                    -6851.802698655377,
                    -7410.595501093511,
                    -6922.9651580503405,
                    -9196.943358350189,
                    -9255.450975479791,
                    -10518.87441715337,
                    -3671.418511252837,
                    -9876.588241293503,
                    -9938.873401394272,
                    -15393.337216143696,
                    -14730.135171561227,
                    -11956.593916785552,
                    -11964.162121589878,
                    -11335.214057917136,
                    -9421.289233551051,
                    -9896.232018852868,
                    -12193.809362905104,
                    -15545.122287573697,
                    -12410.965768410428,
                    -11849.925961050541,
                    -9590.533036359635,
                    -11690.02004690151,
                    -10364.175871593827,
                    -8958.889592128764,
                    -4963.037224262786,
                    -6117.260612313288,
                    -12955.340612274202,
                    -11676.241740949315,
                    -11536.85405331456,
                    -11111.283500703032,
                    -10681.421972573551,
                    -10925.310717063037,
                    -10076.648849136694,
                    -10454.542323632824,
                    -4279.928822036732,
                    -5879.794761287434,
                    -7007.588151585117,
                    -8798.27195116032,
                    -9759.776598190187,
                    -2022.5288355329567,
                    -1548.087512147515,
                    -4150.020171807297,
                    -3646.04430175445,
                    -3290.5873921382226,
                    -6925.565110903743,
                    -5162.840578155777,
                    -4867.214043407655,
                    -5767.202744898897,
                    -5715.9732966569745,
                    -6651.470145195942,
                    -6934.469395327366,
                    -7566.3905972709545,
                    -8323.508701224328,
                    -3657.9346214515103,
                    -6031.874174669072,
                    -4312.640818790195,
                    -6421.127000914204
                  ],
                  "xaxis": "x",
                  "y": [
                    12528.172417834341,
                    8798.841358717407,
                    12745.716528691204,
                    7913.470990871782,
                    795.53885218958,
                    -1365.472308770774,
                    -1860.9096455195402,
                    -2215.210565310636,
                    -4579.918907870495,
                    -4848.19631589551,
                    -931.0855487460348,
                    -3073.4671756313874,
                    14595.320444616736,
                    2501.756079583256,
                    2008.2330046629943,
                    977.107533885759,
                    -1511.8502444753867,
                    -1325.2415157498801,
                    -3091.721755658938,
                    92.44456335416704,
                    719.3085697185797,
                    4613.569887442353,
                    -923.8629425181635,
                    5926.208095939344,
                    -756.7936085123127,
                    -658.0031818021153,
                    -294.1602271818008,
                    7069.50538476938,
                    11456.03704054037,
                    4714.292346805225,
                    1287.4760644186977,
                    -755.698954927515,
                    -1017.0135578752269,
                    -3140.6202930752893,
                    660.8018395288506,
                    9528.00987298197,
                    6771.388520206208,
                    5030.803004448177,
                    4537.028568247585,
                    3418.6314069872806,
                    3260.2915957897458,
                    -1769.8091158957263,
                    2074.8172618051226,
                    5615.69598909127,
                    7060.700463219737,
                    5382.343697237951,
                    4532.216545139071,
                    4174.092992932829,
                    497.92880408597654,
                    -289.9696288975332,
                    -1651.5061521364744,
                    -4505.727045533553,
                    -2363.0315847560655,
                    -3485.870609385556,
                    -59.40333057650737,
                    -183.43199173972457,
                    -3101.3340302066877,
                    -3335.6807783797817,
                    -4500.924625990967,
                    3666.6293938796953,
                    4274.9047526775585,
                    10599.529072265945,
                    7630.8031898357385,
                    3903.6956836822774,
                    1609.9847253876035,
                    573.4879049234842,
                    -688.781867021195,
                    -1192.9775767429628,
                    -3625.5291849319196,
                    4569.075129173971,
                    4542.289253461589,
                    10647.55727077557,
                    8419.697771766463,
                    2102.516401388727,
                    1049.9051828328763,
                    964.4691362914158,
                    32.13432361380118,
                    2866.2122760180573,
                    7012.586391670939,
                    3479.6499031292233,
                    -4116.519314321551,
                    -4984.758574379991,
                    4518.623616478443,
                    8641.776674433568,
                    5220.760090909263,
                    -1273.63008182239,
                    -1666.419839848964,
                    -2553.9816112554827,
                    -2929.5360106765384,
                    -4208.7234662823075,
                    -4180.613582792633,
                    -2370.22465306404,
                    -1219.446009566018,
                    199.84518993031824,
                    15868.416085344134,
                    12859.665387766843,
                    3127.0666865551825,
                    2105.130430434158,
                    2145.9995151007925,
                    -3385.096739887559,
                    1181.6874820637915,
                    1896.72898047441,
                    3331.507289827554,
                    -3452.3478679599516,
                    -3593.5938038054023,
                    -3054.040001738608,
                    -2222.3814543454746,
                    4186.202523881395,
                    4739.962776940025,
                    10944.06770382705,
                    10090.145170625197,
                    9990.729625353422,
                    5419.909226877619,
                    3949.920767642371,
                    2203.5714430201747,
                    193.0812387998015,
                    167.4139462045598,
                    -2517.6535620622785,
                    3840.246599761159,
                    4691.363191509506,
                    2971.813059359719,
                    1997.201004020405,
                    425.5295911366532,
                    -1560.7106411039736,
                    -1552.5589108153763,
                    -1929.0880357231567,
                    2038.0597064149706,
                    2322.9415237249286,
                    12990.911292843253,
                    11287.756892470927,
                    -2070.46035775723,
                    -1498.0189667365944,
                    3038.3903153414826,
                    -2668.061385852975,
                    -3799.3113266896116,
                    3832.375477061923,
                    3997.7257074673607,
                    1201.491908119267,
                    1421.6784573101054,
                    -83.92148032471609,
                    -1209.9292414341064,
                    -2382.927259857482,
                    -3292.3714915009036,
                    -2386.779337693509,
                    6357.424235773571,
                    4679.869834606794,
                    3675.940395286727,
                    2623.5759999806073,
                    1552.6823358854278,
                    219.38060369688384,
                    -1381.5165956341214,
                    -1511.140258856965,
                    -2821.109387415997,
                    1877.5374918496134,
                    4278.0281737963805,
                    3418.734087857729,
                    8218.706780751478,
                    6213.361244600134,
                    7387.5245458439085,
                    6598.456667520587,
                    5784.894988363449,
                    5785.145030768323,
                    6972.089197439345,
                    10725.790627299086,
                    -1727.0618704900228,
                    134.73128739832507,
                    105.66366918067091,
                    1662.2503833374315,
                    3772.321952017368,
                    6291.124462453126,
                    6965.656569891798,
                    5624.550631346267,
                    3216.7371592866166,
                    145.5114889784451,
                    -4517.730659494895,
                    -4772.27329662636,
                    -554.741674675014,
                    2505.8057970059626,
                    5374.1627890556665,
                    6339.046388914846,
                    -585.1956229653309,
                    -607.8640423297634,
                    -1002.786709874755,
                    2270.9126571359425,
                    -3978.2245561056957,
                    810.6341898305802,
                    5699.406361253267,
                    17014.673768613786,
                    2292.9981473121024,
                    3007.6738728890496,
                    3782.8047694827014,
                    10971.638508022117,
                    9017.999704547581,
                    5687.19825434708,
                    4192.205542500246,
                    918.6999857721772,
                    308.19005314563293,
                    -1764.205816460978,
                    4167.349419900462,
                    4975.1103422127435,
                    4818.920110835565,
                    8047.174967879361,
                    7746.120244312195,
                    5640.860044075848,
                    4209.741883853226,
                    817.0226201497826,
                    -858.4587658199935,
                    -1599.5356177046444,
                    -2271.916289806975,
                    5316.473028733249,
                    82.4289338398281,
                    -4287.525986786271,
                    -2944.488459490259,
                    7088.029862320418,
                    9268.936756039453,
                    16454.098882102076,
                    -456.2284320274823,
                    -175.84274407241037,
                    -104.99148240743096,
                    287.54298274641866,
                    1423.2834335597727,
                    5588.458704781698,
                    5474.691103249208,
                    8770.21462097214,
                    1383.099736681965,
                    2675.1714031484885,
                    1256.0807115803543,
                    679.2302554349029,
                    2135.78198202957,
                    1730.581338473978,
                    1761.7018698714528,
                    10348.826431348247,
                    8180.007905544148,
                    6977.045703670567,
                    3397.8150201978724,
                    3821.90112745215,
                    5212.806399984011,
                    -313.0611880214962,
                    -3275.7183977119153,
                    -1970.0456436836914,
                    -881.082208503872,
                    1052.784734783906,
                    1353.6388208095925,
                    2156.6197130417877,
                    3023.9584039971533,
                    -4344.025448356883,
                    -3059.3657639660623,
                    -223.55583082544604,
                    -2018.2276767451447,
                    -1222.94116711394,
                    1113.6300304645008,
                    1132.7465729045816,
                    2314.4300662881483,
                    5666.242955477522,
                    10666.374435497099,
                    29246.2154234923,
                    -3383.027597038125,
                    -437.4190502212053,
                    -1813.9084137668863,
                    3799.290324759937,
                    184.31774269463156,
                    363.23765737829916,
                    1429.3981735044874,
                    -308.58272762293586,
                    -898.0150213231592,
                    10253.186774615455,
                    11240.383505752012,
                    12981.575171896377,
                    11253.760070546565,
                    4984.8522357507,
                    3243.9037248541254,
                    2320.7105812270356,
                    3089.8565036416667,
                    -482.94380274622915,
                    5172.104044881309,
                    1902.6299706756386,
                    960.1791010923772,
                    650.5006470852916,
                    481.09011448515463,
                    -1596.2825581337895,
                    -2346.8410842965536,
                    -1172.3231400054965,
                    2842.273652938826,
                    4303.855954242575,
                    4560.390710137897,
                    8951.235021194909,
                    -159.17662192688763,
                    3365.5892328222603,
                    5076.912024515091,
                    6400.635398133374,
                    4077.9566414615815,
                    3808.373885707011,
                    3789.9557589414617,
                    2854.8049594729764,
                    1123.7800225479773,
                    -1311.5032668670547,
                    -2435.144323278615,
                    5097.532705406327,
                    6686.402633815483,
                    9163.420772846519,
                    6770.585546041748,
                    6692.507716679297,
                    5098.353229951902,
                    4511.82453332658,
                    3991.511321246945,
                    2434.383502005266,
                    8527.336204768888,
                    -3428.150084779302,
                    -4613.125189671911,
                    -3224.745879998146,
                    613.3432619128826,
                    7073.268106501177,
                    342.81921066259366,
                    -3123.8705712178353,
                    -5439.343877993402,
                    -3835.8164467063975,
                    -3413.2897532944853,
                    -3315.125743763113,
                    -2818.4965012089096,
                    -2949.0885522598423,
                    5691.952168502806,
                    4281.445372976574,
                    12964.70353770981,
                    1203.3714402623966,
                    -1227.4586700210816,
                    -2792.8912325420706,
                    -3040.0864888813508,
                    -3275.028723963486,
                    -1092.0814149369933,
                    -935.9725869220512,
                    657.5944829240501,
                    1201.76405615363,
                    -2572.902546766275,
                    1276.8127424281506,
                    1854.323108657299,
                    -742.4090602831565,
                    -2409.047292081184,
                    -2982.558757421879,
                    -1668.7832701949046,
                    14999.061500410859,
                    5761.991750686532,
                    -696.6741576176727,
                    -1561.263762740732,
                    -2756.0476443914513,
                    -6664.705298239507,
                    13331.597313306123,
                    18827.81465604729,
                    10371.866469426921,
                    4204.46092252965,
                    2381.1736381143733,
                    -2854.617734461609,
                    1586.6730489458523,
                    -2242.4349167377623,
                    -3878.6182384708936,
                    -3271.1383361308954,
                    -914.202386898177,
                    6426.921589037413,
                    2309.855170937232,
                    2071.888098616604,
                    1825.7931053650668,
                    -125.00455534121998,
                    -209.20853837467868,
                    -1708.828128897666,
                    -830.4883128793633,
                    -388.60224726362884,
                    -459.69909219233824,
                    3405.4746030730294,
                    7687.981879285285,
                    8995.569095567194,
                    690.9504379008021,
                    934.004245361576,
                    4047.636272549409,
                    4813.4252252896895,
                    5430.0398965407485,
                    4716.123265060315,
                    -184.6058497118544,
                    -668.5845353977409,
                    318.90179131099876,
                    1035.6977187101716,
                    2147.343804453636,
                    3749.791338461503,
                    5860.483395056269,
                    7214.710012965609,
                    -3207.463356769545,
                    4298.398159829092,
                    6872.350481517007,
                    4111.452479722786
                  ],
                  "yaxis": "y"
                },
                {
                  "customdata": [
                    [
                      26775.031
                    ],
                    [
                      29142.715
                    ],
                    [
                      32737.084
                    ],
                    [
                      33540.535
                    ],
                    [
                      31024.873
                    ],
                    [
                      33248.344
                    ],
                    [
                      33984.43
                    ],
                    [
                      29595.795
                    ],
                    [
                      24852.496
                    ],
                    [
                      24173.525
                    ],
                    [
                      23733.402
                    ],
                    [
                      31970.543
                    ],
                    [
                      33287.41
                    ],
                    [
                      25299.969
                    ],
                    [
                      24063.012
                    ],
                    [
                      28502.963
                    ],
                    [
                      32075.984
                    ],
                    [
                      33381.82
                    ],
                    [
                      25527.014
                    ],
                    [
                      28502.307
                    ],
                    [
                      27548.629
                    ],
                    [
                      27370.959
                    ],
                    [
                      24912.08
                    ],
                    [
                      31849.309
                    ],
                    [
                      34392.996
                    ],
                    [
                      31969.07
                    ],
                    [
                      35304.496
                    ],
                    [
                      35580.332
                    ],
                    [
                      28054.982
                    ],
                    [
                      28432.824
                    ],
                    [
                      25148.379
                    ],
                    [
                      29612.154
                    ],
                    [
                      25267.367
                    ],
                    [
                      28291.762
                    ],
                    [
                      26789.832
                    ],
                    [
                      30122.43
                    ],
                    [
                      24801.617
                    ],
                    [
                      36338.75
                    ],
                    [
                      30251.018
                    ],
                    [
                      30166.852
                    ],
                    [
                      23249.842
                    ],
                    [
                      30315.17
                    ],
                    [
                      30731.941
                    ],
                    [
                      25996.807
                    ],
                    [
                      23578.164
                    ],
                    [
                      31002.734
                    ],
                    [
                      29664.703
                    ],
                    [
                      30075.994
                    ],
                    [
                      27109.406
                    ],
                    [
                      27256.494
                    ],
                    [
                      28777.959
                    ],
                    [
                      25790.514
                    ],
                    [
                      33586.906
                    ],
                    [
                      34355.004
                    ],
                    [
                      33358.77
                    ],
                    [
                      29844.203
                    ],
                    [
                      25618.281
                    ],
                    [
                      27060.137
                    ],
                    [
                      27284.752
                    ],
                    [
                      24896.598
                    ],
                    [
                      27425.844
                    ],
                    [
                      29321.082
                    ],
                    [
                      29961.256
                    ],
                    [
                      32509.479
                    ],
                    [
                      31132.213
                    ],
                    [
                      31181.715
                    ],
                    [
                      31059.182
                    ],
                    [
                      37192.895
                    ],
                    [
                      36210.12
                    ],
                    [
                      36633.633
                    ],
                    [
                      35895.5
                    ],
                    [
                      34974.38
                    ],
                    [
                      32038.34
                    ],
                    [
                      41516.43
                    ],
                    [
                      41053.48
                    ],
                    [
                      38208.5
                    ],
                    [
                      39072.39
                    ],
                    [
                      32649.76
                    ],
                    [
                      52001.996
                    ],
                    [
                      23329.209
                    ],
                    [
                      23274.48
                    ],
                    [
                      25959.121
                    ],
                    [
                      26012.375
                    ],
                    [
                      27788.812
                    ],
                    [
                      26792.3
                    ],
                    [
                      29481.53
                    ],
                    [
                      27666.23
                    ],
                    [
                      29197.791
                    ],
                    [
                      33220.027
                    ],
                    [
                      32501.246
                    ],
                    [
                      32537.188
                    ],
                    [
                      32954.14
                    ],
                    [
                      23016.008
                    ],
                    [
                      23420.707
                    ],
                    [
                      23493.082
                    ],
                    [
                      23077.566
                    ],
                    [
                      26190.271
                    ],
                    [
                      25508.21
                    ],
                    [
                      23348.018
                    ],
                    [
                      23406.69
                    ],
                    [
                      23159.543
                    ],
                    [
                      40619.074
                    ],
                    [
                      30781.516
                    ],
                    [
                      30646.438
                    ],
                    [
                      28328.266
                    ],
                    [
                      30792.148
                    ],
                    [
                      28817.082
                    ],
                    [
                      29275.209
                    ],
                    [
                      28040.129
                    ],
                    [
                      36077.797
                    ],
                    [
                      35866.582
                    ],
                    [
                      35338.652
                    ],
                    [
                      36154.305
                    ],
                    [
                      34685.664
                    ],
                    [
                      37510.254
                    ],
                    [
                      37215.168
                    ],
                    [
                      36332.895
                    ],
                    [
                      36245.16
                    ],
                    [
                      30392.75
                    ],
                    [
                      29908.182
                    ],
                    [
                      26337.83
                    ],
                    [
                      30959.932
                    ],
                    [
                      28185.775
                    ],
                    [
                      28204.604
                    ],
                    [
                      26653.24
                    ],
                    [
                      27610.863
                    ],
                    [
                      29986.791
                    ],
                    [
                      27241.436
                    ],
                    [
                      28416.46
                    ],
                    [
                      31186.742
                    ],
                    [
                      34297.305
                    ],
                    [
                      35575.418
                    ],
                    [
                      35261.438
                    ],
                    [
                      37288.938
                    ],
                    [
                      36970.9
                    ],
                    [
                      38824.867
                    ],
                    [
                      34739.215
                    ],
                    [
                      24903.479
                    ],
                    [
                      23345.328
                    ],
                    [
                      23151.547
                    ],
                    [
                      31554.406
                    ],
                    [
                      29914.379
                    ],
                    [
                      30575.248
                    ],
                    [
                      30271.922
                    ],
                    [
                      28678.076
                    ],
                    [
                      28829.027
                    ],
                    [
                      26955.041
                    ],
                    [
                      30661.26
                    ],
                    [
                      30443.88
                    ],
                    [
                      30322.15
                    ],
                    [
                      31153.01
                    ],
                    [
                      31084.938
                    ],
                    [
                      31156.596
                    ],
                    [
                      29114.545
                    ],
                    [
                      25845.207
                    ],
                    [
                      39691.727
                    ],
                    [
                      39547.59
                    ],
                    [
                      26698.078
                    ],
                    [
                      24405.066
                    ],
                    [
                      27703.203
                    ]
                  ],
                  "hovertemplate": "Cluster=Cluster 1<br>PCA1=%{x}<br>PCA2=%{y}<br>Feature=%{customdata[0]}<extra></extra>",
                  "legendgroup": "Cluster 1",
                  "marker": {
                    "color": "#EF553B",
                    "opacity": 0.5,
                    "symbol": "circle"
                  },
                  "mode": "markers",
                  "name": "Cluster 1",
                  "orientation": "v",
                  "showlegend": true,
                  "textposition": "top center",
                  "type": "scatter",
                  "x": [
                    6151.032166323198,
                    3620.298526870726,
                    11028.27119111865,
                    11211.366586030075,
                    11139.054696924968,
                    8980.153526722574,
                    10198.092840367863,
                    8982.322701939604,
                    2374.661634318044,
                    390.98347569331065,
                    -212.7669803570865,
                    9633.125883357907,
                    10736.67210375992,
                    3833.958828797463,
                    76.01299807675765,
                    3989.204224623376,
                    8984.966633518952,
                    12191.535514453535,
                    -1345.729651365113,
                    4434.885401558728,
                    3873.3414102664888,
                    4076.926874928376,
                    -2642.1707586652556,
                    10874.67986504665,
                    11028.4239497265,
                    8562.709320909484,
                    12765.761991304795,
                    13067.381301704936,
                    4305.384893116179,
                    4991.751191647048,
                    2827.9908097915068,
                    3802.9788132909744,
                    -856.4793161487836,
                    5789.265428140142,
                    4410.1554730483995,
                    9999.8401772709,
                    1199.9975290892494,
                    14734.285545877046,
                    5977.698297854118,
                    6698.339820035653,
                    -698.4965763965694,
                    7289.996353358265,
                    8053.773209157975,
                    3899.741751832561,
                    2336.425250373763,
                    10668.579489412432,
                    7380.774557762029,
                    7568.3191085503995,
                    4582.554456273427,
                    3509.0600819442993,
                    -2255.850938877613,
                    3791.318921922848,
                    11891.75064284798,
                    13008.594663686641,
                    12103.014913665083,
                    7000.593405528817,
                    3931.788467786785,
                    6219.941976792575,
                    7401.989962396447,
                    2910.294814296597,
                    4471.566509822657,
                    7014.592384591457,
                    8109.410484519379,
                    10238.968825312511,
                    8227.365749356795,
                    7285.9712627765475,
                    6748.102017113308,
                    15255.091817246222,
                    13469.345339400848,
                    13786.508268770101,
                    12763.46157225215,
                    11016.367112926424,
                    5193.5200766571525,
                    17833.88762438042,
                    16803.035011067797,
                    12324.68574675909,
                    13052.83726516174,
                    11627.245764348312,
                    21764.516585213656,
                    164.05386624628787,
                    1261.2786739868839,
                    5140.72526185442,
                    -180.38596659742342,
                    3890.4245947265003,
                    3401.854225398863,
                    7078.288908712418,
                    1103.7689990393892,
                    7101.2752594509175,
                    11629.856926607457,
                    11316.457199104354,
                    3591.7452654051745,
                    5822.846447694582,
                    2122.9762413864096,
                    2263.120923782007,
                    1839.4734037392313,
                    378.5619237676701,
                    5390.423623637401,
                    4697.743825522532,
                    561.8273417184284,
                    183.57253532268902,
                    -204.42588745510102,
                    14998.824217570045,
                    10506.77203351371,
                    9690.635427441235,
                    6348.004440303838,
                    9581.176886728275,
                    6698.348649920017,
                    7127.114972818772,
                    3905.936969358009,
                    13283.960426356954,
                    12302.512759238945,
                    11563.54409097143,
                    12280.431463678626,
                    10862.368780869252,
                    14760.56363467158,
                    14283.74452094648,
                    12509.026782387293,
                    12075.916590678331,
                    9017.93725676773,
                    8118.127281533934,
                    5934.464568814152,
                    9803.039199325556,
                    6478.061245063434,
                    5804.599055808687,
                    4152.775475262808,
                    4967.528736315653,
                    8628.404421948728,
                    4514.3617869911695,
                    8368.653468826158,
                    4748.501658426276,
                    10864.997416558796,
                    12560.913147759813,
                    12706.769821160196,
                    11218.375536407988,
                    11407.280959542273,
                    14613.347211006721,
                    10809.12251895882,
                    -3288.9918706843746,
                    898.3918404006944,
                    -872.6852498232063,
                    9591.24460972901,
                    7398.240536937999,
                    7963.008943103806,
                    7315.682258881001,
                    5181.759555749942,
                    4966.569074564409,
                    1509.2879123359771,
                    10603.030625061729,
                    10150.729928173987,
                    9660.51674850626,
                    10099.598412047078,
                    9757.5394876077,
                    9628.301949997454,
                    6686.4555218932865,
                    -1068.7267314654982,
                    15687.253986775946,
                    15979.086267108398,
                    4046.928367620778,
                    -770.5916197107232,
                    4462.632039184735
                  ],
                  "xaxis": "x",
                  "y": [
                    -1246.8058723417537,
                    13693.488706811617,
                    2952.5260190795107,
                    4927.109232465418,
                    -2743.7663582358437,
                    10639.809128343559,
                    9328.852483115794,
                    -816.0743784957708,
                    3945.7891416043594,
                    7710.682657944344,
                    8124.710053126137,
                    4694.470536358716,
                    5543.902077587152,
                    1013.0926907196139,
                    8299.99400947711,
                    10592.127679414449,
                    6950.580567867159,
                    1517.6524892211312,
                    17112.915675226075,
                    9266.017000154166,
                    7944.843827889846,
                    6783.088449959472,
                    19036.85776048918,
                    625.9639919872843,
                    8142.767427686336,
                    7869.909335203029,
                    5838.611882786353,
                    5807.1913688067225,
                    8248.540625925469,
                    7393.843763339115,
                    3526.5001043710004,
                    14622.29724933659,
                    14845.521573050324,
                    4582.361823728144,
                    3971.485838986653,
                    -2188.1629335294033,
                    7276.061488068898,
                    3232.4269030880223,
                    10164.124704812079,
                    7759.370929538318,
                    8051.953218138263,
                    6466.568979451921,
                    5503.927102227733,
                    3001.9998418634973,
                    64.80801809495459,
                    -1415.4501166712262,
                    4157.899573239601,
                    4889.980719497622,
                    4461.064510652669,
                    8111.331437297625,
                    30007.31138047393,
                    2677.45357889495,
                    3051.142065498525,
                    2140.870444765925,
                    1708.3785801186164,
                    5850.030510336304,
                    1720.2512462683596,
                    -557.8228739746305,
                    -3365.430142614039,
                    2492.741982622359,
                    5782.714574316127,
                    4168.643084771731,
                    2922.811692665358,
                    4583.970155982525,
                    6242.918514761719,
                    9194.838377647438,
                    10408.673232574136,
                    4362.625620948677,
                    6587.1788662014005,
                    6972.491522140725,
                    7698.033733818068,
                    10001.015499968567,
                    18096.42640545308,
                    10254.135719266893,
                    11865.470838969124,
                    16252.006793064273,
                    16796.762132439955,
                    899.3275364207962,
                    31445.31685892435,
                    5738.226816965815,
                    2306.9738451989033,
                    -802.9159339433252,
                    15172.279060141253,
                    8646.980558305795,
                    6974.743858175777,
                    4482.354853672988,
                    16541.486117059645,
                    3524.6471584360006,
                    2679.1575866169046,
                    1357.1000666500015,
                    24418.781663837926,
                    19097.4977591206,
                    -1063.2258685570216,
                    -210.98768062231525,
                    1274.478543937981,
                    4312.144736302901,
                    -820.1592416274389,
                    -900.323438339772,
                    4615.457481716952,
                    5923.114045747858,
                    6301.085751770482,
                    15863.81514919301,
                    -1628.1846666956906,
                    373.01900595797764,
                    3036.8547154115668,
                    1154.9566660742767,
                    3528.2981136167114,
                    3690.559436900132,
                    9388.683607636198,
                    6723.142400550837,
                    8976.800133310284,
                    9517.299029874137,
                    9944.308655765324,
                    9553.505037825795,
                    6826.607790644884,
                    7318.1800057876835,
                    9825.00017553376,
                    10836.692756183145,
                    1576.2893490858196,
                    2730.5465364544584,
                    -1973.8845041547895,
                    1021.7753744495665,
                    2203.818278713637,
                    4263.597921377201,
                    4307.958501253353,
                    4889.250175560436,
                    1460.9983225134824,
                    5077.520103034347,
                    -2689.7446192322946,
                    16749.058025572613,
                    8328.327495425936,
                    7296.433907200114,
                    5878.897462117035,
                    16656.195811018835,
                    15098.045438748977,
                    11384.811902330235,
                    9879.554937311808,
                    20931.508238871265,
                    3607.1417640671802,
                    8261.324089830683,
                    3514.4532726364655,
                    4888.653691266575,
                    5282.3968221947625,
                    6254.692523136897,
                    7598.133623349853,
                    8710.612077886592,
                    13107.421341932306,
                    -2291.1151429283836,
                    -1628.799758629844,
                    -554.027996398619,
                    745.9714640170542,
                    1548.7974239042692,
                    2157.366694082375,
                    4496.070596550006,
                    17287.40076161144,
                    10911.68359115873,
                    9592.874161282212,
                    4762.966002369865,
                    11887.355442337002,
                    6678.67884700316
                  ],
                  "yaxis": "y"
                },
                {
                  "customdata": [
                    [
                      38167.17
                    ],
                    [
                      39801.55
                    ],
                    [
                      40335.74
                    ],
                    [
                      39307.008
                    ],
                    [
                      38600.24
                    ],
                    [
                      38445.9
                    ],
                    [
                      30274.71
                    ],
                    [
                      32053.098
                    ],
                    [
                      32197.34
                    ],
                    [
                      66374.305
                    ],
                    [
                      42820.33
                    ],
                    [
                      41378.047
                    ],
                    [
                      40856.39
                    ],
                    [
                      41419.04
                    ],
                    [
                      30800.658
                    ],
                    [
                      37383.504
                    ],
                    [
                      35622.14
                    ],
                    [
                      35033.215
                    ],
                    [
                      30353.586
                    ],
                    [
                      51154.047
                    ],
                    [
                      49248.16
                    ],
                    [
                      46747.67
                    ],
                    [
                      44130.617
                    ],
                    [
                      44084.914
                    ],
                    [
                      43892.47
                    ],
                    [
                      44300.64
                    ],
                    [
                      33183.332
                    ],
                    [
                      42677.6
                    ],
                    [
                      47065.21
                    ],
                    [
                      33417.965
                    ],
                    [
                      37088.562
                    ],
                    [
                      30957.08
                    ],
                    [
                      31431.13
                    ],
                    [
                      44749.688
                    ],
                    [
                      42773.027
                    ],
                    [
                      43374.05
                    ],
                    [
                      32746.13
                    ],
                    [
                      34819.297
                    ],
                    [
                      38324.81
                    ],
                    [
                      38990.605
                    ],
                    [
                      39713.668
                    ],
                    [
                      39875.855
                    ],
                    [
                      48310.33
                    ],
                    [
                      48365.98
                    ],
                    [
                      45061.953
                    ],
                    [
                      44205.875
                    ],
                    [
                      39092.19
                    ],
                    [
                      42377.957
                    ],
                    [
                      57154.445
                    ],
                    [
                      60567.55
                    ],
                    [
                      63913.117
                    ],
                    [
                      65281.48
                    ],
                    [
                      70755.47
                    ],
                    [
                      68566.19
                    ],
                    [
                      69133.734
                    ],
                    [
                      41671.582
                    ],
                    [
                      46732.605
                    ],
                    [
                      39365.883
                    ],
                    [
                      38297.46
                    ],
                    [
                      32219.59
                    ],
                    [
                      32422.762
                    ],
                    [
                      35715.77
                    ],
                    [
                      35651.68
                    ],
                    [
                      35129.34
                    ],
                    [
                      35165.758
                    ],
                    [
                      55639.086
                    ],
                    [
                      33005.78
                    ],
                    [
                      41371.38
                    ],
                    [
                      42741.523
                    ],
                    [
                      40966.605
                    ],
                    [
                      38795.38
                    ]
                  ],
                  "hovertemplate": "Cluster=Cluster 2<br>PCA1=%{x}<br>PCA2=%{y}<br>Feature=%{customdata[0]}<extra></extra>",
                  "legendgroup": "Cluster 2",
                  "marker": {
                    "color": "#00cc96",
                    "opacity": 0.5,
                    "symbol": "circle"
                  },
                  "mode": "markers",
                  "name": "Cluster 2",
                  "orientation": "v",
                  "showlegend": true,
                  "textposition": "top center",
                  "type": "scatter",
                  "x": [
                    18072.776364241618,
                    19324.117138596117,
                    19623.671046835032,
                    18234.61017170849,
                    17214.809724868388,
                    16582.673645911615,
                    11346.214960963212,
                    14836.031614678932,
                    15380.119838004846,
                    45170.06950933408,
                    24927.41888553037,
                    22722.762912603317,
                    20739.837248662017,
                    20743.2023246031,
                    12732.501312715263,
                    16396.616157051205,
                    16560.985925647823,
                    18766.78188211721,
                    11270.074382928562,
                    33877.49074686871,
                    30641.041189584786,
                    25509.168678278194,
                    21115.401588468307,
                    21063.79206717209,
                    20242.095110583537,
                    20507.713920587583,
                    14423.46972520098,
                    18873.455801582022,
                    29033.448546556385,
                    15665.735513720678,
                    20028.215310302974,
                    12048.757886461313,
                    12374.261273158312,
                    24645.361960887458,
                    21996.45665911964,
                    19167.604445432982,
                    14605.990492532426,
                    15190.452593986764,
                    18564.161070359994,
                    20050.13167807348,
                    20876.73765695887,
                    21640.727388677315,
                    31633.4455457664,
                    31103.029732580602,
                    24394.518941342583,
                    23176.42659975412,
                    19729.45647317895,
                    20334.801449613933,
                    30932.444609896884,
                    36102.68050291364,
                    40866.2836625337,
                    42992.589515132735,
                    52971.21456979291,
                    49034.23102823934,
                    49102.532515695464,
                    19029.218038082032,
                    29233.11285705247,
                    19701.095407898843,
                    17050.35438254506,
                    13152.786703181475,
                    13897.239518787388,
                    17891.650355624948,
                    16520.39365999162,
                    15572.344358796847,
                    15136.63065966455,
                    28684.369139051552,
                    15335.382462305026,
                    18928.134654388497,
                    25699.079630115586,
                    22539.860355260196,
                    18409.43792096462
                  ],
                  "xaxis": "x",
                  "y": [
                    -954.3014855930829,
                    451.3411479951163,
                    1235.896905196625,
                    2137.89482817582,
                    2952.105620814279,
                    4346.291320375226,
                    -5710.703000858126,
                    -10503.841328701194,
                    -11668.101958360367,
                    6962.828316414353,
                    -6732.476926833434,
                    -4703.796757472639,
                    -448.0139815966854,
                    1305.69150897163,
                    -8180.504545301528,
                    1568.8113621881498,
                    -4440.754945788592,
                    -12839.933113385878,
                    -5237.255139189196,
                    -7198.621805988252,
                    -3557.8681169287365,
                    3850.0526528912865,
                    8699.773258479823,
                    8709.834737259156,
                    10547.731719506275,
                    11038.08967504393,
                    -5735.296112361194,
                    10805.587704145295,
                    -5624.708466881804,
                    -8690.399705881171,
                    -10144.688457862881,
                    -5658.872759695395,
                    -5139.9164177536795,
                    153.32933893560792,
                    1826.723211360229,
                    12114.834459197908,
                    -7648.009371776223,
                    -2885.7252130970214,
                    -1920.0004082120934,
                    -4247.5693606171,
                    -4436.754267224781,
                    -6198.058745967937,
                    -9445.929912987089,
                    -7695.689861732039,
                    1877.3895071931074,
                    2812.6679648195545,
                    -2976.4532705103493,
                    5524.858884020891,
                    20359.804262166836,
                    15698.641460581093,
                    12033.815622545198,
                    10006.195964668153,
                    -2479.8714128809947,
                    2353.7278628178383,
                    3929.871369709765,
                    7189.326845106908,
                    -7260.482460074673,
                    -2034.271423025213,
                    2491.5790530676354,
                    -4981.265100721276,
                    -6556.0567745365115,
                    -8100.474508240742,
                    -4227.565193758636,
                    -3048.3953869211264,
                    -1639.7947196079112,
                    22288.403673414203,
                    -9001.017382591892,
                    6548.601483908374,
                    -9271.996381315872,
                    -5450.14246609667,
                    14.73120820704131
                  ],
                  "yaxis": "y"
                },
                {
                  "customdata": [
                    [
                      17978.357
                    ],
                    [
                      16425.174
                    ],
                    [
                      16507.07
                    ],
                    [
                      18173.979
                    ],
                    [
                      17322.078
                    ],
                    [
                      18490.982
                    ],
                    [
                      26841.08
                    ],
                    [
                      16916.87
                    ],
                    [
                      15639.037
                    ],
                    [
                      16256.236
                    ],
                    [
                      15395.011
                    ],
                    [
                      14881.955
                    ],
                    [
                      15277.067
                    ],
                    [
                      14739.067
                    ],
                    [
                      15110.192
                    ],
                    [
                      14202.997
                    ],
                    [
                      15194.976
                    ],
                    [
                      14116.922
                    ],
                    [
                      13174.071
                    ],
                    [
                      13258.366
                    ],
                    [
                      12791.751
                    ],
                    [
                      27280.982
                    ],
                    [
                      27825.95
                    ],
                    [
                      17314.104
                    ],
                    [
                      15821.95
                    ],
                    [
                      15553.209
                    ],
                    [
                      13072.842
                    ],
                    [
                      14061.123
                    ],
                    [
                      14266.912
                    ],
                    [
                      14222.306
                    ],
                    [
                      13464.803
                    ],
                    [
                      14642.323
                    ],
                    [
                      15047.003
                    ],
                    [
                      14397.928
                    ],
                    [
                      13167.702
                    ],
                    [
                      14678.105
                    ],
                    [
                      14198.093
                    ],
                    [
                      14894.982
                    ],
                    [
                      13681.698
                    ],
                    [
                      14584.448
                    ],
                    [
                      13041.874
                    ],
                    [
                      15053.934
                    ],
                    [
                      13007.984
                    ],
                    [
                      14023.938
                    ],
                    [
                      15747.804
                    ],
                    [
                      20021.195
                    ],
                    [
                      19528.1
                    ],
                    [
                      21757.049
                    ],
                    [
                      14072.135
                    ],
                    [
                      14194.823
                    ],
                    [
                      14582.77
                    ],
                    [
                      14696.029
                    ],
                    [
                      15635.796
                    ],
                    [
                      14429.79
                    ],
                    [
                      16428.578
                    ],
                    [
                      16116.844
                    ],
                    [
                      15000.993
                    ],
                    [
                      15128.992
                    ],
                    [
                      14847.044
                    ],
                    [
                      14997.885
                    ],
                    [
                      14619.078
                    ],
                    [
                      15084.815
                    ],
                    [
                      10315.019
                    ],
                    [
                      10971.096
                    ],
                    [
                      10354.044
                    ],
                    [
                      21956.342
                    ],
                    [
                      21908.367
                    ],
                    [
                      20099.258
                    ],
                    [
                      20698.076
                    ],
                    [
                      23547.24
                    ],
                    [
                      23447.688
                    ],
                    [
                      21895.758
                    ],
                    [
                      25589.982
                    ],
                    [
                      22926.09
                    ],
                    [
                      22358.877
                    ],
                    [
                      20512.094
                    ],
                    [
                      20538.088
                    ],
                    [
                      21335.852
                    ],
                    [
                      16336.913
                    ],
                    [
                      16218.848
                    ],
                    [
                      17542.035
                    ],
                    [
                      23785.922
                    ],
                    [
                      25098.629
                    ],
                    [
                      26831.193
                    ],
                    [
                      26060.336
                    ],
                    [
                      10106.017
                    ],
                    [
                      10897.076
                    ],
                    [
                      11167.861
                    ],
                    [
                      10813.344
                    ],
                    [
                      11302.903
                    ],
                    [
                      12408.806
                    ],
                    [
                      11918.456
                    ],
                    [
                      11700.111
                    ],
                    [
                      11555.268
                    ],
                    [
                      12409.949
                    ],
                    [
                      11318.008
                    ],
                    [
                      12314.591
                    ],
                    [
                      12649.111
                    ],
                    [
                      12163.82
                    ],
                    [
                      12146.188
                    ],
                    [
                      26302.074
                    ],
                    [
                      26781.814
                    ],
                    [
                      18835.19
                    ],
                    [
                      18727.508
                    ],
                    [
                      25948.963
                    ],
                    [
                      27714.05
                    ],
                    [
                      16379.853
                    ],
                    [
                      15979.015
                    ],
                    [
                      16792.68
                    ],
                    [
                      17202.834
                    ],
                    [
                      17141.941
                    ],
                    [
                      17675.838
                    ],
                    [
                      17360.81
                    ],
                    [
                      15327.101
                    ],
                    [
                      20677.594
                    ],
                    [
                      21383.066
                    ],
                    [
                      21875.098
                    ],
                    [
                      22311.049
                    ],
                    [
                      22104.973
                    ],
                    [
                      22736.834
                    ],
                    [
                      21903.322
                    ],
                    [
                      22004.93
                    ],
                    [
                      20452.67
                    ],
                    [
                      15846.013
                    ],
                    [
                      15604.1455
                    ],
                    [
                      14841.917
                    ],
                    [
                      17214.324
                    ],
                    [
                      16706.674
                    ],
                    [
                      16379.099
                    ],
                    [
                      17418.068
                    ],
                    [
                      16927.78
                    ],
                    [
                      15977.911
                    ],
                    [
                      16353.097
                    ],
                    [
                      17803.28
                    ],
                    [
                      13160.125
                    ],
                    [
                      19567.26
                    ],
                    [
                      19822.115
                    ],
                    [
                      21281.88
                    ],
                    [
                      21300.02
                    ],
                    [
                      22100.393
                    ],
                    [
                      21230.979
                    ],
                    [
                      18254.922
                    ],
                    [
                      15077.176
                    ],
                    [
                      21607.773
                    ],
                    [
                      29246.238
                    ],
                    [
                      22460.53
                    ],
                    [
                      23197.438
                    ],
                    [
                      18169.375
                    ],
                    [
                      19581.23
                    ],
                    [
                      18324.832
                    ],
                    [
                      18974.922
                    ],
                    [
                      19446.883
                    ],
                    [
                      18311.756
                    ],
                    [
                      18273.006
                    ],
                    [
                      17089.918
                    ],
                    [
                      18009.846
                    ],
                    [
                      17458.22
                    ],
                    [
                      19164.611
                    ],
                    [
                      17891.633
                    ],
                    [
                      18950.906
                    ],
                    [
                      18957.89
                    ],
                    [
                      24809.043
                    ],
                    [
                      25097.473
                    ],
                    [
                      19471.975
                    ],
                    [
                      17463.047
                    ],
                    [
                      17218.686
                    ],
                    [
                      17162.479
                    ],
                    [
                      20318.89
                    ],
                    [
                      18678.414
                    ],
                    [
                      19682.035
                    ],
                    [
                      23449.307
                    ],
                    [
                      25452.475
                    ],
                    [
                      23527.729
                    ],
                    [
                      23573.822
                    ],
                    [
                      21233.912
                    ],
                    [
                      20537.143
                    ],
                    [
                      22384.12
                    ],
                    [
                      21725.012
                    ],
                    [
                      21745.03
                    ],
                    [
                      17685.201
                    ],
                    [
                      18040.145
                    ],
                    [
                      19177.412
                    ],
                    [
                      18910.805
                    ],
                    [
                      18800.094
                    ],
                    [
                      23102.021
                    ],
                    [
                      18800.959
                    ]
                  ],
                  "hovertemplate": "Cluster=Cluster 3<br>PCA1=%{x}<br>PCA2=%{y}<br>Feature=%{customdata[0]}<extra></extra>",
                  "legendgroup": "Cluster 3",
                  "marker": {
                    "color": "#ab63fa",
                    "opacity": 0.5,
                    "symbol": "circle"
                  },
                  "mode": "markers",
                  "name": "Cluster 3",
                  "orientation": "v",
                  "showlegend": true,
                  "textposition": "top center",
                  "type": "scatter",
                  "x": [
                    -366.9846331379513,
                    -2877.7279965055886,
                    -3433.9943940781545,
                    1464.5350155656442,
                    -706.9633222085964,
                    1149.594457232386,
                    8346.248361990227,
                    1213.2486616333015,
                    -1793.2351101547722,
                    -1861.6285629757247,
                    -3432.326270984657,
                    -4383.061069509753,
                    -4830.0584344210865,
                    -486.4462236452743,
                    -343.6678213086705,
                    -4216.243887723325,
                    -3459.84965235462,
                    -4630.235719645029,
                    -5664.188711186665,
                    -6101.103299488037,
                    -6934.131624098424,
                    10411.518577305824,
                    9276.148439428755,
                    -114.45313765501258,
                    -3469.212078412368,
                    -1615.538144113763,
                    -6076.911297913492,
                    -2145.0319377149754,
                    -3128.1196098851365,
                    -3110.420436765987,
                    -5679.9092462121225,
                    -2009.5578778938266,
                    -3565.956004621375,
                    -1911.0025812647036,
                    -6088.773389241973,
                    -3654.942755985542,
                    -4056.9179793096814,
                    -570.6020983074459,
                    -4191.585411714484,
                    -448.91449716740544,
                    -5881.674080837974,
                    -1117.9620284726457,
                    -3924.7314718548887,
                    -5004.836599472965,
                    -905.6925918537582,
                    4503.7373513327875,
                    103.58335298517083,
                    6127.836626976886,
                    -5423.964152490118,
                    -3498.2304332972735,
                    -2350.2426617405745,
                    -2113.380492398186,
                    544.6285645549455,
                    -2175.8944081242416,
                    -1483.594330401895,
                    1097.522130472803,
                    -4311.076793133963,
                    -3974.1113043111422,
                    -3970.802503717743,
                    -2519.8797422178613,
                    -5076.272106796292,
                    -4333.719216614618,
                    -8731.151897850767,
                    -5765.548399479866,
                    -8720.643902452444,
                    1233.5238685570587,
                    1326.5086778720797,
                    1946.162406458729,
                    4760.837221665325,
                    3236.409086511847,
                    3295.1854604478585,
                    1584.126221321471,
                    9615.345503910221,
                    3244.9110791805383,
                    4427.785798052705,
                    232.88235076662468,
                    757.4155346063962,
                    3054.0213922336593,
                    -3631.3095569901934,
                    -2739.583328257449,
                    -190.01119013006007,
                    5267.609047461776,
                    6691.332200983631,
                    10030.212608865862,
                    7672.653947429874,
                    -8853.307704080333,
                    -5710.646325419345,
                    -4821.402130581746,
                    -3737.777110886842,
                    -7855.178541870585,
                    -5398.925827710588,
                    -4927.344011100287,
                    -7678.4285179715735,
                    -7225.844500611792,
                    -5961.8613745113125,
                    -6733.560546559996,
                    -3551.4749602285715,
                    -3070.7783771077743,
                    -6233.41179229173,
                    -5583.380012285823,
                    6863.365910133703,
                    7636.416922174967,
                    1330.345482557143,
                    -635.7171667152828,
                    10488.96292381529,
                    10648.733685475645,
                    286.70017223196265,
                    -15.991993356853769,
                    -1836.8418635892945,
                    -589.6477059837861,
                    188.14293061335786,
                    1214.1382651593449,
                    2271.387028155746,
                    -752.5169942534164,
                    2121.669901409044,
                    4039.8648828827086,
                    2902.815477313412,
                    3664.3528768920064,
                    4161.945900615291,
                    5832.365140843786,
                    5410.229662410505,
                    2004.0571654083376,
                    2184.76586242564,
                    -589.9422724267312,
                    -958.9005399597816,
                    -3797.012885086275,
                    -1609.1780658279858,
                    -986.509943225635,
                    -1170.6390477417594,
                    1182.939425301195,
                    1193.6012462675772,
                    -4198.373720149411,
                    -3531.7517284172486,
                    -953.0584340338573,
                    -5622.216609111813,
                    3945.2759562357965,
                    4377.267331838644,
                    712.339579384902,
                    2211.3573736316407,
                    3116.0196168386037,
                    2638.164664187724,
                    -1881.1489315622769,
                    -3842.657515583937,
                    3046.314352230266,
                    12570.454194315726,
                    4537.525425020547,
                    7351.959450179495,
                    -1387.998135543249,
                    2217.9681948834327,
                    1106.3330580138029,
                    2285.517680064165,
                    4232.191158904092,
                    -2110.251329822554,
                    -1794.1455071117696,
                    -489.9417991397983,
                    -1678.2826943671696,
                    -2186.4102838200265,
                    3789.848035478703,
                    -2374.117222639334,
                    1288.1646057218124,
                    2172.3956166282637,
                    4471.839904434942,
                    5271.574532651871,
                    2445.240073569466,
                    -985.2092279138095,
                    -2233.1858594164205,
                    -2708.8325515961033,
                    -253.29050911226742,
                    -1461.2815300965967,
                    1066.4743515005537,
                    2812.454709632901,
                    6427.578425022648,
                    3628.4897805004252,
                    4463.97151913225,
                    692.398462653484,
                    155.4944749695623,
                    2595.6770490200634,
                    2395.617910479323,
                    4453.736479285467,
                    -2211.8272904664072,
                    -519.2951062382947,
                    951.8957426740143,
                    1359.2617219815404,
                    2057.6164469924715,
                    6190.2750010011605,
                    1377.6573949807616
                  ],
                  "xaxis": "x",
                  "y": [
                    -9457.148524620612,
                    -6866.765729995198,
                    -4957.461215991265,
                    -14285.12982086476,
                    -10504.322333854161,
                    -12355.791873105514,
                    -7561.440725315084,
                    -17479.18502809898,
                    -12552.899000210771,
                    -10415.011919041834,
                    -8448.32861691787,
                    -7232.078041501,
                    -4665.576129689187,
                    -19256.26744365551,
                    -18517.096897629624,
                    -9855.959909839872,
                    -8993.599696694733,
                    -8895.864233036242,
                    -8779.638381907816,
                    -7217.392791726996,
                    -6205.257132215082,
                    -12318.126754676516,
                    -7236.826979281027,
                    -12289.583176258211,
                    -7000.443041323452,
                    -13349.852131968459,
                    -7870.816911644107,
                    -16453.960014205317,
                    -12888.271194205101,
                    -13080.678247526312,
                    -7821.595245037657,
                    -15034.578289811448,
                    -9142.214462088648,
                    -16093.464976732948,
                    -7538.222901023609,
                    -10034.209810479257,
                    -10344.667704917993,
                    -18517.51425963498,
                    -11563.302986034769,
                    -19852.444798133372,
                    -8547.911747542075,
                    -16393.130432148024,
                    -14467.941228986181,
                    -8074.448325936303,
                    -14848.716829476358,
                    -17523.79932144159,
                    -5997.248575916491,
                    -16907.483727454928,
                    -6678.201948986678,
                    -12014.697624743,
                    -14209.132037378582,
                    -14557.786719249423,
                    -19508.518894355817,
                    -15206.632117745668,
                    -10997.8676668456,
                    -19643.17304047843,
                    -7072.7911402780865,
                    -7672.636126883134,
                    -8566.273570055742,
                    -12403.925989170379,
                    -5996.672545917211,
                    -6742.770687808013,
                    -8630.241020055322,
                    -15384.057872520889,
                    -8539.128118625084,
                    -1742.4655485120072,
                    -2169.0934723607215,
                    -9680.910489992644,
                    -16165.825684393307,
                    -2705.8515658965325,
                    -3192.530191293896,
                    -2973.9643932664203,
                    -15253.492574943688,
                    -4678.1952289981,
                    -9970.358006260942,
                    -3296.9059559336238,
                    -4773.736898788521,
                    -9095.920304696301,
                    -4904.648303186411,
                    -7923.932952180571,
                    -11350.626411479163,
                    -7992.075137603053,
                    -8106.884255356436,
                    -12595.24901100635,
                    -8007.64197454399,
                    -8922.480255130262,
                    -15779.189068998236,
                    -17572.19167797493,
                    -21902.77356411668,
                    -8135.965848169034,
                    -11966.532201755963,
                    -14904.606117362055,
                    -7415.9591427688265,
                    -9214.55538097885,
                    -10290.546257660259,
                    -11420.785813547764,
                    -17750.375453752975,
                    -18129.85373271487,
                    -10255.335252513645,
                    -12241.756548496214,
                    -4845.599080705902,
                    -5638.408530496224,
                    -11813.810710124211,
                    -6310.462460390959,
                    -16723.609431848654,
                    -11665.343183204104,
                    -16409.897553062503,
                    -16767.126422288038,
                    -8807.089832809046,
                    -11226.638197522005,
                    -13728.219817652525,
                    -15102.730284186635,
                    -19231.16428133464,
                    -16622.534288851217,
                    -8389.440972775614,
                    -11876.719091941426,
                    -6956.3644887788405,
                    -7852.231784957458,
                    -9976.48519916024,
                    -12958.402250110667,
                    -14317.060568250348,
                    -3879.3043907039278,
                    -9281.94622170924,
                    -15478.915807295321,
                    -15140.960887994326,
                    -9098.64886435352,
                    -8161.741842320324,
                    -11602.903471669746,
                    -12082.713835904628,
                    -15818.059530103288,
                    -17386.616104760444,
                    -4345.3256959443215,
                    -5149.691478007496,
                    -8264.815157213221,
                    -8948.048118622779,
                    -17287.61647673605,
                    -17772.12009777995,
                    -2308.296342061797,
                    -6704.806283988529,
                    -6883.544172603029,
                    -8189.2089239041525,
                    -4091.8509141279683,
                    -8225.592586730787,
                    -8220.645427910662,
                    -12571.639027982827,
                    -9977.734807467892,
                    -16029.072167044935,
                    -5825.0908326151375,
                    -12112.238332296556,
                    -12748.090739436158,
                    -14213.479909923213,
                    -18517.339745861358,
                    -3233.0662124457776,
                    -4293.639015603352,
                    -11876.801849412232,
                    -5462.764361357586,
                    -5682.337737432911,
                    -18088.021977071236,
                    -3766.0945062521064,
                    -11325.76652429957,
                    -13930.797291597686,
                    -2420.83791826554,
                    -3892.611071159997,
                    -13129.908868384964,
                    -9235.806509315402,
                    -6294.231627596032,
                    -5057.342204852232,
                    -2458.178713572093,
                    -4011.7198310762083,
                    -8375.327225047426,
                    -1753.3298168685612,
                    -6214.128334053161,
                    -3931.8297188996657,
                    -6269.43937337025,
                    -2399.4190689976094,
                    -2988.4783876993743,
                    -4448.298721079385,
                    -5920.018782241734,
                    -11971.64770741288,
                    -4895.324302483418,
                    -8810.97502565747,
                    -9616.744221550409,
                    -11662.689833957238,
                    -14084.441595559612,
                    -12876.968510327746,
                    -12061.668163333721
                  ],
                  "yaxis": "y"
                }
              ],
              "layout": {
                "height": 600,
                "legend": {
                  "title": {
                    "text": "Cluster"
                  },
                  "tracegroupgap": 0
                },
                "margin": {
                  "t": 60
                },
                "plot_bgcolor": "rgb(240,240,240)",
                "template": {
                  "data": {
                    "bar": [
                      {
                        "error_x": {
                          "color": "#2a3f5f"
                        },
                        "error_y": {
                          "color": "#2a3f5f"
                        },
                        "marker": {
                          "line": {
                            "color": "#E5ECF6",
                            "width": 0.5
                          },
                          "pattern": {
                            "fillmode": "overlay",
                            "size": 10,
                            "solidity": 0.2
                          }
                        },
                        "type": "bar"
                      }
                    ],
                    "barpolar": [
                      {
                        "marker": {
                          "line": {
                            "color": "#E5ECF6",
                            "width": 0.5
                          },
                          "pattern": {
                            "fillmode": "overlay",
                            "size": 10,
                            "solidity": 0.2
                          }
                        },
                        "type": "barpolar"
                      }
                    ],
                    "carpet": [
                      {
                        "aaxis": {
                          "endlinecolor": "#2a3f5f",
                          "gridcolor": "white",
                          "linecolor": "white",
                          "minorgridcolor": "white",
                          "startlinecolor": "#2a3f5f"
                        },
                        "baxis": {
                          "endlinecolor": "#2a3f5f",
                          "gridcolor": "white",
                          "linecolor": "white",
                          "minorgridcolor": "white",
                          "startlinecolor": "#2a3f5f"
                        },
                        "type": "carpet"
                      }
                    ],
                    "choropleth": [
                      {
                        "colorbar": {
                          "outlinewidth": 0,
                          "ticks": ""
                        },
                        "type": "choropleth"
                      }
                    ],
                    "contour": [
                      {
                        "colorbar": {
                          "outlinewidth": 0,
                          "ticks": ""
                        },
                        "colorscale": [
                          [
                            0,
                            "#0d0887"
                          ],
                          [
                            0.1111111111111111,
                            "#46039f"
                          ],
                          [
                            0.2222222222222222,
                            "#7201a8"
                          ],
                          [
                            0.3333333333333333,
                            "#9c179e"
                          ],
                          [
                            0.4444444444444444,
                            "#bd3786"
                          ],
                          [
                            0.5555555555555556,
                            "#d8576b"
                          ],
                          [
                            0.6666666666666666,
                            "#ed7953"
                          ],
                          [
                            0.7777777777777778,
                            "#fb9f3a"
                          ],
                          [
                            0.8888888888888888,
                            "#fdca26"
                          ],
                          [
                            1,
                            "#f0f921"
                          ]
                        ],
                        "type": "contour"
                      }
                    ],
                    "contourcarpet": [
                      {
                        "colorbar": {
                          "outlinewidth": 0,
                          "ticks": ""
                        },
                        "type": "contourcarpet"
                      }
                    ],
                    "heatmap": [
                      {
                        "colorbar": {
                          "outlinewidth": 0,
                          "ticks": ""
                        },
                        "colorscale": [
                          [
                            0,
                            "#0d0887"
                          ],
                          [
                            0.1111111111111111,
                            "#46039f"
                          ],
                          [
                            0.2222222222222222,
                            "#7201a8"
                          ],
                          [
                            0.3333333333333333,
                            "#9c179e"
                          ],
                          [
                            0.4444444444444444,
                            "#bd3786"
                          ],
                          [
                            0.5555555555555556,
                            "#d8576b"
                          ],
                          [
                            0.6666666666666666,
                            "#ed7953"
                          ],
                          [
                            0.7777777777777778,
                            "#fb9f3a"
                          ],
                          [
                            0.8888888888888888,
                            "#fdca26"
                          ],
                          [
                            1,
                            "#f0f921"
                          ]
                        ],
                        "type": "heatmap"
                      }
                    ],
                    "heatmapgl": [
                      {
                        "colorbar": {
                          "outlinewidth": 0,
                          "ticks": ""
                        },
                        "colorscale": [
                          [
                            0,
                            "#0d0887"
                          ],
                          [
                            0.1111111111111111,
                            "#46039f"
                          ],
                          [
                            0.2222222222222222,
                            "#7201a8"
                          ],
                          [
                            0.3333333333333333,
                            "#9c179e"
                          ],
                          [
                            0.4444444444444444,
                            "#bd3786"
                          ],
                          [
                            0.5555555555555556,
                            "#d8576b"
                          ],
                          [
                            0.6666666666666666,
                            "#ed7953"
                          ],
                          [
                            0.7777777777777778,
                            "#fb9f3a"
                          ],
                          [
                            0.8888888888888888,
                            "#fdca26"
                          ],
                          [
                            1,
                            "#f0f921"
                          ]
                        ],
                        "type": "heatmapgl"
                      }
                    ],
                    "histogram": [
                      {
                        "marker": {
                          "pattern": {
                            "fillmode": "overlay",
                            "size": 10,
                            "solidity": 0.2
                          }
                        },
                        "type": "histogram"
                      }
                    ],
                    "histogram2d": [
                      {
                        "colorbar": {
                          "outlinewidth": 0,
                          "ticks": ""
                        },
                        "colorscale": [
                          [
                            0,
                            "#0d0887"
                          ],
                          [
                            0.1111111111111111,
                            "#46039f"
                          ],
                          [
                            0.2222222222222222,
                            "#7201a8"
                          ],
                          [
                            0.3333333333333333,
                            "#9c179e"
                          ],
                          [
                            0.4444444444444444,
                            "#bd3786"
                          ],
                          [
                            0.5555555555555556,
                            "#d8576b"
                          ],
                          [
                            0.6666666666666666,
                            "#ed7953"
                          ],
                          [
                            0.7777777777777778,
                            "#fb9f3a"
                          ],
                          [
                            0.8888888888888888,
                            "#fdca26"
                          ],
                          [
                            1,
                            "#f0f921"
                          ]
                        ],
                        "type": "histogram2d"
                      }
                    ],
                    "histogram2dcontour": [
                      {
                        "colorbar": {
                          "outlinewidth": 0,
                          "ticks": ""
                        },
                        "colorscale": [
                          [
                            0,
                            "#0d0887"
                          ],
                          [
                            0.1111111111111111,
                            "#46039f"
                          ],
                          [
                            0.2222222222222222,
                            "#7201a8"
                          ],
                          [
                            0.3333333333333333,
                            "#9c179e"
                          ],
                          [
                            0.4444444444444444,
                            "#bd3786"
                          ],
                          [
                            0.5555555555555556,
                            "#d8576b"
                          ],
                          [
                            0.6666666666666666,
                            "#ed7953"
                          ],
                          [
                            0.7777777777777778,
                            "#fb9f3a"
                          ],
                          [
                            0.8888888888888888,
                            "#fdca26"
                          ],
                          [
                            1,
                            "#f0f921"
                          ]
                        ],
                        "type": "histogram2dcontour"
                      }
                    ],
                    "mesh3d": [
                      {
                        "colorbar": {
                          "outlinewidth": 0,
                          "ticks": ""
                        },
                        "type": "mesh3d"
                      }
                    ],
                    "parcoords": [
                      {
                        "line": {
                          "colorbar": {
                            "outlinewidth": 0,
                            "ticks": ""
                          }
                        },
                        "type": "parcoords"
                      }
                    ],
                    "pie": [
                      {
                        "automargin": true,
                        "type": "pie"
                      }
                    ],
                    "scatter": [
                      {
                        "fillpattern": {
                          "fillmode": "overlay",
                          "size": 10,
                          "solidity": 0.2
                        },
                        "type": "scatter"
                      }
                    ],
                    "scatter3d": [
                      {
                        "line": {
                          "colorbar": {
                            "outlinewidth": 0,
                            "ticks": ""
                          }
                        },
                        "marker": {
                          "colorbar": {
                            "outlinewidth": 0,
                            "ticks": ""
                          }
                        },
                        "type": "scatter3d"
                      }
                    ],
                    "scattercarpet": [
                      {
                        "marker": {
                          "colorbar": {
                            "outlinewidth": 0,
                            "ticks": ""
                          }
                        },
                        "type": "scattercarpet"
                      }
                    ],
                    "scattergeo": [
                      {
                        "marker": {
                          "colorbar": {
                            "outlinewidth": 0,
                            "ticks": ""
                          }
                        },
                        "type": "scattergeo"
                      }
                    ],
                    "scattergl": [
                      {
                        "marker": {
                          "colorbar": {
                            "outlinewidth": 0,
                            "ticks": ""
                          }
                        },
                        "type": "scattergl"
                      }
                    ],
                    "scattermapbox": [
                      {
                        "marker": {
                          "colorbar": {
                            "outlinewidth": 0,
                            "ticks": ""
                          }
                        },
                        "type": "scattermapbox"
                      }
                    ],
                    "scatterpolar": [
                      {
                        "marker": {
                          "colorbar": {
                            "outlinewidth": 0,
                            "ticks": ""
                          }
                        },
                        "type": "scatterpolar"
                      }
                    ],
                    "scatterpolargl": [
                      {
                        "marker": {
                          "colorbar": {
                            "outlinewidth": 0,
                            "ticks": ""
                          }
                        },
                        "type": "scatterpolargl"
                      }
                    ],
                    "scatterternary": [
                      {
                        "marker": {
                          "colorbar": {
                            "outlinewidth": 0,
                            "ticks": ""
                          }
                        },
                        "type": "scatterternary"
                      }
                    ],
                    "surface": [
                      {
                        "colorbar": {
                          "outlinewidth": 0,
                          "ticks": ""
                        },
                        "colorscale": [
                          [
                            0,
                            "#0d0887"
                          ],
                          [
                            0.1111111111111111,
                            "#46039f"
                          ],
                          [
                            0.2222222222222222,
                            "#7201a8"
                          ],
                          [
                            0.3333333333333333,
                            "#9c179e"
                          ],
                          [
                            0.4444444444444444,
                            "#bd3786"
                          ],
                          [
                            0.5555555555555556,
                            "#d8576b"
                          ],
                          [
                            0.6666666666666666,
                            "#ed7953"
                          ],
                          [
                            0.7777777777777778,
                            "#fb9f3a"
                          ],
                          [
                            0.8888888888888888,
                            "#fdca26"
                          ],
                          [
                            1,
                            "#f0f921"
                          ]
                        ],
                        "type": "surface"
                      }
                    ],
                    "table": [
                      {
                        "cells": {
                          "fill": {
                            "color": "#EBF0F8"
                          },
                          "line": {
                            "color": "white"
                          }
                        },
                        "header": {
                          "fill": {
                            "color": "#C8D4E3"
                          },
                          "line": {
                            "color": "white"
                          }
                        },
                        "type": "table"
                      }
                    ]
                  },
                  "layout": {
                    "annotationdefaults": {
                      "arrowcolor": "#2a3f5f",
                      "arrowhead": 0,
                      "arrowwidth": 1
                    },
                    "autotypenumbers": "strict",
                    "coloraxis": {
                      "colorbar": {
                        "outlinewidth": 0,
                        "ticks": ""
                      }
                    },
                    "colorscale": {
                      "diverging": [
                        [
                          0,
                          "#8e0152"
                        ],
                        [
                          0.1,
                          "#c51b7d"
                        ],
                        [
                          0.2,
                          "#de77ae"
                        ],
                        [
                          0.3,
                          "#f1b6da"
                        ],
                        [
                          0.4,
                          "#fde0ef"
                        ],
                        [
                          0.5,
                          "#f7f7f7"
                        ],
                        [
                          0.6,
                          "#e6f5d0"
                        ],
                        [
                          0.7,
                          "#b8e186"
                        ],
                        [
                          0.8,
                          "#7fbc41"
                        ],
                        [
                          0.9,
                          "#4d9221"
                        ],
                        [
                          1,
                          "#276419"
                        ]
                      ],
                      "sequential": [
                        [
                          0,
                          "#0d0887"
                        ],
                        [
                          0.1111111111111111,
                          "#46039f"
                        ],
                        [
                          0.2222222222222222,
                          "#7201a8"
                        ],
                        [
                          0.3333333333333333,
                          "#9c179e"
                        ],
                        [
                          0.4444444444444444,
                          "#bd3786"
                        ],
                        [
                          0.5555555555555556,
                          "#d8576b"
                        ],
                        [
                          0.6666666666666666,
                          "#ed7953"
                        ],
                        [
                          0.7777777777777778,
                          "#fb9f3a"
                        ],
                        [
                          0.8888888888888888,
                          "#fdca26"
                        ],
                        [
                          1,
                          "#f0f921"
                        ]
                      ],
                      "sequentialminus": [
                        [
                          0,
                          "#0d0887"
                        ],
                        [
                          0.1111111111111111,
                          "#46039f"
                        ],
                        [
                          0.2222222222222222,
                          "#7201a8"
                        ],
                        [
                          0.3333333333333333,
                          "#9c179e"
                        ],
                        [
                          0.4444444444444444,
                          "#bd3786"
                        ],
                        [
                          0.5555555555555556,
                          "#d8576b"
                        ],
                        [
                          0.6666666666666666,
                          "#ed7953"
                        ],
                        [
                          0.7777777777777778,
                          "#fb9f3a"
                        ],
                        [
                          0.8888888888888888,
                          "#fdca26"
                        ],
                        [
                          1,
                          "#f0f921"
                        ]
                      ]
                    },
                    "colorway": [
                      "#636efa",
                      "#EF553B",
                      "#00cc96",
                      "#ab63fa",
                      "#FFA15A",
                      "#19d3f3",
                      "#FF6692",
                      "#B6E880",
                      "#FF97FF",
                      "#FECB52"
                    ],
                    "font": {
                      "color": "#2a3f5f"
                    },
                    "geo": {
                      "bgcolor": "white",
                      "lakecolor": "white",
                      "landcolor": "#E5ECF6",
                      "showlakes": true,
                      "showland": true,
                      "subunitcolor": "white"
                    },
                    "hoverlabel": {
                      "align": "left"
                    },
                    "hovermode": "closest",
                    "mapbox": {
                      "style": "light"
                    },
                    "paper_bgcolor": "white",
                    "plot_bgcolor": "#E5ECF6",
                    "polar": {
                      "angularaxis": {
                        "gridcolor": "white",
                        "linecolor": "white",
                        "ticks": ""
                      },
                      "bgcolor": "#E5ECF6",
                      "radialaxis": {
                        "gridcolor": "white",
                        "linecolor": "white",
                        "ticks": ""
                      }
                    },
                    "scene": {
                      "xaxis": {
                        "backgroundcolor": "#E5ECF6",
                        "gridcolor": "white",
                        "gridwidth": 2,
                        "linecolor": "white",
                        "showbackground": true,
                        "ticks": "",
                        "zerolinecolor": "white"
                      },
                      "yaxis": {
                        "backgroundcolor": "#E5ECF6",
                        "gridcolor": "white",
                        "gridwidth": 2,
                        "linecolor": "white",
                        "showbackground": true,
                        "ticks": "",
                        "zerolinecolor": "white"
                      },
                      "zaxis": {
                        "backgroundcolor": "#E5ECF6",
                        "gridcolor": "white",
                        "gridwidth": 2,
                        "linecolor": "white",
                        "showbackground": true,
                        "ticks": "",
                        "zerolinecolor": "white"
                      }
                    },
                    "shapedefaults": {
                      "line": {
                        "color": "#2a3f5f"
                      }
                    },
                    "ternary": {
                      "aaxis": {
                        "gridcolor": "white",
                        "linecolor": "white",
                        "ticks": ""
                      },
                      "baxis": {
                        "gridcolor": "white",
                        "linecolor": "white",
                        "ticks": ""
                      },
                      "bgcolor": "#E5ECF6",
                      "caxis": {
                        "gridcolor": "white",
                        "linecolor": "white",
                        "ticks": ""
                      }
                    },
                    "title": {
                      "x": 0.05
                    },
                    "xaxis": {
                      "automargin": true,
                      "gridcolor": "white",
                      "linecolor": "white",
                      "ticks": "",
                      "title": {
                        "standoff": 15
                      },
                      "zerolinecolor": "white",
                      "zerolinewidth": 2
                    },
                    "yaxis": {
                      "automargin": true,
                      "gridcolor": "white",
                      "linecolor": "white",
                      "ticks": "",
                      "title": {
                        "standoff": 15
                      },
                      "zerolinecolor": "white",
                      "zerolinewidth": 2
                    }
                  }
                },
                "title": {
                  "text": "2D Cluster PCA Plot"
                },
                "xaxis": {
                  "anchor": "y",
                  "domain": [
                    0,
                    1
                  ],
                  "title": {
                    "text": "PCA1"
                  }
                },
                "yaxis": {
                  "anchor": "x",
                  "domain": [
                    0,
                    1
                  ],
                  "title": {
                    "text": "PCA2"
                  }
                }
              }
            }
          },
          "metadata": {},
          "output_type": "display_data"
        }
      ],
      "source": [
        "plot_model(kmeans)"
      ]
    },
    {
      "cell_type": "code",
      "execution_count": 20,
      "metadata": {
        "colab": {
          "base_uri": "https://localhost:8080/",
          "height": 524
        },
        "id": "YbYaFOJNr0RJ",
        "outputId": "3ca2e46d-eec3-4bc9-e5f3-5b5eb0a66aee"
      },
      "outputs": [
        {
          "data": {
            "text/html": [],
            "text/plain": [
              "<IPython.core.display.HTML object>"
            ]
          },
          "metadata": {},
          "output_type": "display_data"
        },
        {
          "data": {
            "image/png": "[encoded data removed]",
            "text/plain": [
              "<Figure size 800x550 with 1 Axes>"
            ]
          },
          "metadata": {},
          "output_type": "display_data"
        }
      ],
      "source": [
        "plot_model(kmeans, plot = 'elbow')"
      ]
    },
    {
      "cell_type": "code",
      "execution_count": 21,
      "metadata": {
        "colab": {
          "base_uri": "https://localhost:8080/",
          "height": 817
        },
        "id": "nPa_9MXgsIhP",
        "outputId": "37bc3ff8-5870-4d51-9c5b-975949586c16"
      },
      "outputs": [
        {
          "data": {
            "text/html": [],
            "text/plain": [
              "<IPython.core.display.HTML object>"
            ]
          },
          "metadata": {},
          "output_type": "display_data"
        },
        {
          "data": {
            "application/vnd.plotly.v1+json": {
              "config": {
                "plotlyServerURL": "https://plot.ly"
              },
              "data": [
                {
                  "customdata": [
                    [
                      13585.637
                    ],
                    [
                      18529.342
                    ],
                    [
                      11581.905
                    ],
                    [
                      12379.127
                    ],
                    [
                      14220.014
                    ],
                    [
                      13161.942
                    ],
                    [
                      13436
                    ],
                    [
                      12981.952
                    ],
                    [
                      14077.969
                    ],
                    [
                      13540.042
                    ],
                    [
                      19294.787
                    ],
                    [
                      12810.91
                    ],
                    [
                      10546.783
                    ],
                    [
                      11671.858
                    ],
                    [
                      12243.061
                    ],
                    [
                      11539.049
                    ],
                    [
                      11574.174
                    ],
                    [
                      12257.164
                    ],
                    [
                      11699.034
                    ],
                    [
                      18548.979
                    ],
                    [
                      18042.22
                    ],
                    [
                      12846.062
                    ],
                    [
                      12944.938
                    ],
                    [
                      11464.629
                    ],
                    [
                      13135.905
                    ],
                    [
                      13106.9
                    ],
                    [
                      12845.174
                    ],
                    [
                      19338.377
                    ],
                    [
                      12741.19
                    ],
                    [
                      13545.031
                    ],
                    [
                      13744.85
                    ],
                    [
                      13688.945
                    ],
                    [
                      14304.741
                    ],
                    [
                      14593.8545
                    ],
                    [
                      20627.662
                    ],
                    [
                      12553.071
                    ],
                    [
                      12684.986
                    ],
                    [
                      13019.071
                    ],
                    [
                      13530.068
                    ],
                    [
                      13310.06
                    ],
                    [
                      13699.036
                    ],
                    [
                      14185.021
                    ],
                    [
                      19540.244
                    ],
                    [
                      19204.809
                    ],
                    [
                      18158.084
                    ],
                    [
                      12487.055
                    ],
                    [
                      12706.911
                    ],
                    [
                      11961.62
                    ],
                    [
                      12897.93
                    ],
                    [
                      12570.137
                    ],
                    [
                      14145.881
                    ],
                    [
                      15163.17
                    ],
                    [
                      13308.834
                    ],
                    [
                      14275.128
                    ],
                    [
                      12425.39
                    ],
                    [
                      12630.775
                    ],
                    [
                      12274.958
                    ],
                    [
                      12327.642
                    ],
                    [
                      13446.214
                    ],
                    [
                      13811.155
                    ],
                    [
                      14077.969
                    ],
                    [
                      11149.618
                    ],
                    [
                      10788.971
                    ],
                    [
                      11203.146
                    ],
                    [
                      12319.696
                    ],
                    [
                      12207.873
                    ],
                    [
                      11539.846
                    ],
                    [
                      16646.771
                    ],
                    [
                      12045.921
                    ],
                    [
                      14411.858
                    ],
                    [
                      13600.034
                    ],
                    [
                      8768.999
                    ],
                    [
                      8870.947
                    ],
                    [
                      9041.906
                    ],
                    [
                      8638.931
                    ],
                    [
                      9482.22
                    ],
                    [
                      11726.003
                    ],
                    [
                      12549.893
                    ],
                    [
                      12234.888
                    ],
                    [
                      13825.154
                    ],
                    [
                      13762.901
                    ],
                    [
                      14255.748
                    ],
                    [
                      18620.871
                    ],
                    [
                      17023.938
                    ],
                    [
                      12230.1
                    ],
                    [
                      12733.858
                    ],
                    [
                      13594.086
                    ],
                    [
                      13141.048
                    ],
                    [
                      12507.485
                    ],
                    [
                      13678.863
                    ],
                    [
                      14702.798
                    ],
                    [
                      15033.15
                    ],
                    [
                      13991.04
                    ],
                    [
                      14771.004
                    ],
                    [
                      11328.959
                    ],
                    [
                      11080.517
                    ],
                    [
                      13230.919
                    ],
                    [
                      12383.402
                    ],
                    [
                      12573.9
                    ],
                    [
                      13471.005
                    ],
                    [
                      13719.238
                    ],
                    [
                      13869.155
                    ],
                    [
                      13518.235
                    ],
                    [
                      13688
                    ],
                    [
                      14897.041
                    ],
                    [
                      14508.75
                    ],
                    [
                      14418.165
                    ],
                    [
                      16345.943
                    ],
                    [
                      15797.195
                    ],
                    [
                      15503.509
                    ],
                    [
                      15233.16
                    ],
                    [
                      15138.4
                    ],
                    [
                      15623.2
                    ],
                    [
                      16300.465
                    ],
                    [
                      16993.781
                    ],
                    [
                      16472.898
                    ],
                    [
                      17158.922
                    ],
                    [
                      17553.754
                    ],
                    [
                      15118.894
                    ],
                    [
                      16143.957
                    ],
                    [
                      16543.98
                    ],
                    [
                      16825.191
                    ],
                    [
                      16744.03
                    ],
                    [
                      16723.994
                    ],
                    [
                      17801.23
                    ],
                    [
                      20676.166
                    ],
                    [
                      20839.15
                    ],
                    [
                      20017.969
                    ],
                    [
                      20294.576
                    ],
                    [
                      14914.201
                    ],
                    [
                      18004.871
                    ],
                    [
                      17663.225
                    ],
                    [
                      17115.121
                    ],
                    [
                      16752.514
                    ],
                    [
                      16507.07
                    ],
                    [
                      15664.625
                    ],
                    [
                      15680.864
                    ],
                    [
                      16027.286
                    ],
                    [
                      16860.094
                    ],
                    [
                      16267.095
                    ],
                    [
                      16456.975
                    ],
                    [
                      17173.941
                    ],
                    [
                      17986.225
                    ],
                    [
                      17515.398
                    ],
                    [
                      16295.212
                    ],
                    [
                      16713.984
                    ],
                    [
                      16341.804
                    ],
                    [
                      16536.744
                    ],
                    [
                      16403.254
                    ],
                    [
                      17312.906
                    ],
                    [
                      16860.871
                    ],
                    [
                      17316.096
                    ],
                    [
                      17119.457
                    ],
                    [
                      16357.992
                    ],
                    [
                      16803.123
                    ],
                    [
                      16988.303
                    ],
                    [
                      22120.758
                    ],
                    [
                      18876.871
                    ],
                    [
                      22064.293
                    ],
                    [
                      22894.44
                    ],
                    [
                      22189.115
                    ],
                    [
                      21765.066
                    ],
                    [
                      21403.756
                    ],
                    [
                      21200.69
                    ],
                    [
                      20127.045
                    ],
                    [
                      19751.041
                    ],
                    [
                      17844.73
                    ],
                    [
                      18856.02
                    ],
                    [
                      18566.07
                    ],
                    [
                      18063.006
                    ],
                    [
                      17768.059
                    ],
                    [
                      12678.854
                    ],
                    [
                      12495.971
                    ],
                    [
                      13159.821
                    ],
                    [
                      13830.249
                    ],
                    [
                      13994.906
                    ],
                    [
                      20830.994
                    ],
                    [
                      20109.904
                    ],
                    [
                      19116.13
                    ],
                    [
                      19689.74
                    ],
                    [
                      14175.879
                    ],
                    [
                      14401.907
                    ],
                    [
                      14191.882
                    ],
                    [
                      22231.562
                    ],
                    [
                      9665.849
                    ],
                    [
                      21982.648
                    ],
                    [
                      20221.809
                    ],
                    [
                      17586.928
                    ],
                    [
                      22113.629
                    ],
                    [
                      22470.36
                    ],
                    [
                      20619.113
                    ],
                    [
                      15554.283
                    ],
                    [
                      15832.519
                    ],
                    [
                      16508.59
                    ],
                    [
                      15951.812
                    ],
                    [
                      16644.088
                    ],
                    [
                      17154.576
                    ],
                    [
                      16805.057
                    ],
                    [
                      20047.951
                    ],
                    [
                      21525.34
                    ],
                    [
                      20382.15
                    ],
                    [
                      18083.396
                    ],
                    [
                      17294.182
                    ],
                    [
                      17789.348
                    ],
                    [
                      17839.8
                    ],
                    [
                      18912.982
                    ],
                    [
                      18527.209
                    ],
                    [
                      19409.752
                    ],
                    [
                      19075.68
                    ],
                    [
                      21020.836
                    ],
                    [
                      22525.27
                    ],
                    [
                      9563.789
                    ],
                    [
                      12469.527
                    ],
                    [
                      13032.868
                    ],
                    [
                      14869.282
                    ],
                    [
                      21536.742
                    ],
                    [
                      14398.923
                    ],
                    [
                      12099.015
                    ],
                    [
                      12119.09
                    ],
                    [
                      11679.924
                    ],
                    [
                      13216.912
                    ],
                    [
                      21831.822
                    ],
                    [
                      21698.016
                    ],
                    [
                      14396.2705
                    ],
                    [
                      15622.121
                    ],
                    [
                      22435.203
                    ],
                    [
                      14909.051
                    ],
                    [
                      22661.049
                    ],
                    [
                      14853.199
                    ],
                    [
                      12412.521
                    ],
                    [
                      12284.288
                    ],
                    [
                      19641.742
                    ],
                    [
                      19191.99
                    ],
                    [
                      19425.848
                    ],
                    [
                      21878.12
                    ],
                    [
                      19981.127
                    ],
                    [
                      15086.899
                    ],
                    [
                      15730.046
                    ],
                    [
                      12878.047
                    ],
                    [
                      12832.462
                    ],
                    [
                      12464.073
                    ],
                    [
                      12465.509
                    ],
                    [
                      12258.857
                    ],
                    [
                      11903.098
                    ],
                    [
                      12209.56
                    ],
                    [
                      9654.061
                    ],
                    [
                      16033.931
                    ],
                    [
                      15802.653
                    ],
                    [
                      16106.827
                    ],
                    [
                      17325.27
                    ],
                    [
                      16078.665
                    ],
                    [
                      15297.836
                    ],
                    [
                      15505.294
                    ],
                    [
                      15174.347
                    ],
                    [
                      14546.885
                    ],
                    [
                      22244.877
                    ],
                    [
                      15568.975
                    ],
                    [
                      15589.78
                    ],
                    [
                      16551.219
                    ],
                    [
                      21562.047
                    ],
                    [
                      20952.219
                    ],
                    [
                      21575.457
                    ],
                    [
                      21183.123
                    ],
                    [
                      21460.014
                    ],
                    [
                      21273.062
                    ],
                    [
                      11504.824
                    ],
                    [
                      11521.526
                    ],
                    [
                      17968.838
                    ],
                    [
                      17808.2
                    ],
                    [
                      18543.428
                    ],
                    [
                      19105.13
                    ],
                    [
                      20406.1
                    ],
                    [
                      19344.166
                    ],
                    [
                      19924.158
                    ],
                    [
                      15295.019
                    ],
                    [
                      14862.094
                    ],
                    [
                      15048.042
                    ],
                    [
                      15230.003
                    ],
                    [
                      15709.053
                    ],
                    [
                      16339.17
                    ],
                    [
                      16175.958
                    ],
                    [
                      15731.133
                    ],
                    [
                      19774.25
                    ],
                    [
                      21058.139
                    ],
                    [
                      19556.898
                    ],
                    [
                      11413.53
                    ],
                    [
                      21646.117
                    ],
                    [
                      12594.183
                    ],
                    [
                      12105.981
                    ],
                    [
                      17645.744
                    ],
                    [
                      17394.021
                    ],
                    [
                      17772.969
                    ],
                    [
                      17750.885
                    ],
                    [
                      18348.898
                    ],
                    [
                      19027.863
                    ],
                    [
                      17944.857
                    ],
                    [
                      18145.127
                    ],
                    [
                      11873.534
                    ],
                    [
                      12965.224
                    ],
                    [
                      20902.104
                    ],
                    [
                      20986.016
                    ],
                    [
                      21683.031
                    ],
                    [
                      21341.258
                    ],
                    [
                      21799.172
                    ],
                    [
                      22625.074
                    ],
                    [
                      22230.027
                    ],
                    [
                      10563.066
                    ],
                    [
                      12828.031
                    ],
                    [
                      12830.099
                    ],
                    [
                      16391.926
                    ],
                    [
                      15594.807
                    ],
                    [
                      10491.075
                    ],
                    [
                      10144.952
                    ],
                    [
                      11215.019
                    ],
                    [
                      12293.06
                    ],
                    [
                      13998.129
                    ],
                    [
                      14568.002
                    ],
                    [
                      13122.905
                    ],
                    [
                      13494.289
                    ],
                    [
                      12036.217
                    ],
                    [
                      9928.188
                    ],
                    [
                      10777.053
                    ],
                    [
                      9954.054
                    ],
                    [
                      11045.108
                    ],
                    [
                      10386.04
                    ],
                    [
                      11096.857
                    ],
                    [
                      11017.169
                    ],
                    [
                      11472.022
                    ],
                    [
                      12162.14
                    ],
                    [
                      12333.604
                    ],
                    [
                      15059.134
                    ],
                    [
                      14703.137
                    ],
                    [
                      13961.111
                    ],
                    [
                      13034.068
                    ],
                    [
                      13162.853
                    ],
                    [
                      11137.046
                    ],
                    [
                      17095.035
                    ],
                    [
                      11031.13
                    ],
                    [
                      11391.214
                    ],
                    [
                      11539.049
                    ],
                    [
                      9220.83
                    ],
                    [
                      9789.038
                    ],
                    [
                      9506.048
                    ],
                    [
                      9720.979
                    ],
                    [
                      10287.978
                    ],
                    [
                      16216.98
                    ],
                    [
                      15792.831
                    ],
                    [
                      9919.048
                    ],
                    [
                      10921.945
                    ],
                    [
                      10872.014
                    ],
                    [
                      11343.054
                    ],
                    [
                      10770.106
                    ],
                    [
                      10805.13
                    ],
                    [
                      11615.021
                    ],
                    [
                      15595.884
                    ],
                    [
                      15253.868
                    ],
                    [
                      11115.014
                    ],
                    [
                      11013.871
                    ],
                    [
                      11070.061
                    ],
                    [
                      11394.887
                    ],
                    [
                      11179.953
                    ],
                    [
                      10921.945
                    ],
                    [
                      11247.862
                    ],
                    [
                      11169.918
                    ],
                    [
                      17162.873
                    ],
                    [
                      15623.92
                    ],
                    [
                      15788.1045
                    ],
                    [
                      15457.171
                    ],
                    [
                      14963.046
                    ],
                    [
                      19646.717
                    ],
                    [
                      20173.906
                    ],
                    [
                      18701.223
                    ],
                    [
                      19423.164
                    ],
                    [
                      19956.758
                    ],
                    [
                      16283.959
                    ],
                    [
                      16391.172
                    ],
                    [
                      16516.955
                    ],
                    [
                      15979.015
                    ],
                    [
                      16256.236
                    ],
                    [
                      15724.252
                    ],
                    [
                      15967.245
                    ],
                    [
                      16041.686
                    ],
                    [
                      15756.146
                    ],
                    [
                      16853.107
                    ],
                    [
                      16997.693
                    ],
                    [
                      19448.227
                    ],
                    [
                      16569.14
                    ]
                  ],
                  "hovertemplate": "Cluster=Cluster 0<br>0=%{x}<br>1=%{y}<br>2=%{z}<br>Feature=%{customdata[0]}<extra></extra>",
                  "legendgroup": "Cluster 0",
                  "marker": {
                    "color": "#636efa",
                    "opacity": 0.7,
                    "symbol": "circle"
                  },
                  "mode": "markers",
                  "name": "Cluster 0",
                  "scene": "scene",
                  "showlegend": true,
                  "type": "scatter3d",
                  "x": [
                    -6.607176,
                    -4.0504503,
                    -7.0693717,
                    -8.349,
                    -7.8998995,
                    -8.899207,
                    -8.237142,
                    -8.612128,
                    -5.315486,
                    -5.5752325,
                    -0.64298236,
                    -8.587265,
                    -6.820149,
                    -11.407042,
                    -10.774393,
                    -11.432303,
                    -11.106509,
                    -10.294779,
                    -10.10514,
                    -1.9628412,
                    -2.7136028,
                    -9.6338005,
                    -9.51059,
                    -9.439328,
                    -9.327132,
                    -9.423431,
                    -9.896277,
                    -3.1039774,
                    -7.0365324,
                    -9.230188,
                    -8.892063,
                    -8.377594,
                    -7.5289087,
                    -5.8779774,
                    0.044230565,
                    -7.557299,
                    -8.805812,
                    -9.454577,
                    -9.270789,
                    -9.75544,
                    -9.496016,
                    -7.442721,
                    -1.4364734,
                    -2.7262008,
                    -4.0185137,
                    -9.496301,
                    -9.721259,
                    -10.180621,
                    -9.973195,
                    -10.2040825,
                    -7.5327377,
                    -4.102221,
                    -8.204583,
                    -5.998714,
                    -10.4280815,
                    -10.163389,
                    -9.326725,
                    -9.176584,
                    -5.920242,
                    -9.325599,
                    -8.887178,
                    -7.627849,
                    -8.741819,
                    -10.510323,
                    -10.652682,
                    -10.77694,
                    -11.349016,
                    -3.6955945,
                    -9.491337,
                    -8.379682,
                    -9.216318,
                    -7.8212543,
                    -8.475267,
                    -13.073064,
                    -13.080209,
                    -12.878251,
                    -11.275323,
                    -10.503135,
                    -8.78192,
                    -9.366212,
                    -6.005349,
                    -4.851534,
                    -3.1161022,
                    -5.120724,
                    -9.63846,
                    -9.617784,
                    -8.121025,
                    -8.339595,
                    -9.040162,
                    -5.9970517,
                    -4.9243217,
                    -5.9141374,
                    -7.810289,
                    -7.0109363,
                    -6.562671,
                    -7.1077476,
                    -9.866061,
                    -10.640563,
                    -10.4592705,
                    -7.290125,
                    -8.89565,
                    -8.916891,
                    -9.615462,
                    -6.828151,
                    -5.1176314,
                    -6.0483117,
                    -6.8749127,
                    -5.8139195,
                    -6.460945,
                    -5.9574933,
                    -6.144733,
                    -6.1883435,
                    -6.648294,
                    -5.8240256,
                    -5.0499926,
                    -4.664884,
                    -3.7391133,
                    -2.0455236,
                    -7.005594,
                    -6.115093,
                    -5.3721046,
                    -5.1416593,
                    -4.4116054,
                    -3.4306145,
                    -2.1314027,
                    1.0211959,
                    -0.24701436,
                    -1.1616209,
                    -3.846641,
                    -6.145108,
                    -1.7456625,
                    -2.2998598,
                    -4.8419094,
                    -2.9293177,
                    -2.8026319,
                    -6.458874,
                    -6.4683204,
                    -5.722332,
                    -4.9454794,
                    -4.829084,
                    -3.8979578,
                    -2.5226371,
                    -1.2321565,
                    -2.1318471,
                    -5.9313684,
                    -5.508075,
                    -5.727205,
                    -5.3806863,
                    -5.3898106,
                    -3.5666041,
                    -3.3516366,
                    -2.708913,
                    -2.4421077,
                    -5.509154,
                    -5.3122835,
                    -4.9466987,
                    -0.39258575,
                    -3.1949096,
                    -0.343791,
                    0.415476,
                    0.09973691,
                    -0.23619218,
                    -0.7805126,
                    -3.0460687,
                    0.48241985,
                    -0.5920242,
                    -2.8773913,
                    -1.8144782,
                    -3.0504532,
                    -3.9657795,
                    -4.3036137,
                    -9.339988,
                    -10.494997,
                    -9.682963,
                    -5.59348,
                    -5.2561245,
                    0.67080545,
                    -1.1437739,
                    -2.7467544,
                    -2.5477958,
                    -7.707461,
                    -7.468323,
                    -7.64279,
                    1.0534765,
                    -11.624181,
                    1.1968337,
                    -1.784746,
                    -5.085113,
                    0.97258914,
                    1.078546,
                    -0.91706514,
                    -5.9361134,
                    -5.975762,
                    -5.86697,
                    -6.2305694,
                    -4.876633,
                    -3.803589,
                    -3.2360356,
                    -1.555849,
                    -0.2585143,
                    -1.3506787,
                    -4.2415934,
                    -4.771536,
                    -4.1585608,
                    -3.990233,
                    -1.7227604,
                    -1.5756714,
                    -0.2958851,
                    -0.47865486,
                    -0.7830434,
                    1.7666997,
                    -11.652744,
                    -9.089679,
                    -8.575347,
                    -6.3471165,
                    -3.0767188,
                    -7.473321,
                    -10.803011,
                    -10.793225,
                    -11.339456,
                    -9.605789,
                    -0.1364201,
                    -0.21823156,
                    -6.6281557,
                    -6.3165894,
                    1.1145931,
                    -7.1648474,
                    1.7301873,
                    -7.380321,
                    -10.570741,
                    -10.706886,
                    -3.5813904,
                    -3.5533485,
                    -3.0046968,
                    0.5736089,
                    -1.5484504,
                    -7.1653423,
                    -5.418356,
                    -8.393816,
                    -8.8615675,
                    -10.145485,
                    -10.472423,
                    -10.697071,
                    -11.145753,
                    -10.782889,
                    -11.630981,
                    -3.6761806,
                    -5.366774,
                    -3.8901,
                    -2.8380656,
                    -5.6275077,
                    -6.6638966,
                    -6.6737294,
                    -6.9524426,
                    -6.3442082,
                    -3.139018,
                    -4.2012153,
                    -5.5384316,
                    -3.5160136,
                    0.10983065,
                    0.5313785,
                    0.99290514,
                    0.3377974,
                    1.0828336,
                    1.1088923,
                    -7.655409,
                    -7.4002557,
                    -4.8733673,
                    -4.908462,
                    -3.1969993,
                    -2.2359223,
                    -0.8273875,
                    -1.9329709,
                    -0.1944542,
                    -6.962834,
                    -7.3528686,
                    -6.911427,
                    -6.5876675,
                    -5.8526034,
                    -3.8262074,
                    -3.7209365,
                    -4.948769,
                    -1.4894663,
                    -0.5512646,
                    -2.1731684,
                    -8.110967,
                    1.1806172,
                    -10.376424,
                    -9.741892,
                    -4.341673,
                    -4.551358,
                    -4.0277042,
                    -4.0539556,
                    -2.8920693,
                    -1.6591231,
                    -2.0640874,
                    -1.4648453,
                    -9.800214,
                    -8.786242,
                    -2.780189,
                    -1.124849,
                    -0.52424455,
                    -0.4396585,
                    0.090348326,
                    0.959064,
                    1.0271872,
                    -8.379106,
                    -8.378343,
                    -6.211201,
                    -3.1783693,
                    -6.084622,
                    -9.004673,
                    -12.534338,
                    -10.589051,
                    -5.6141734,
                    -6.0205913,
                    -5.6955576,
                    -7.965632,
                    -7.744487,
                    -9.713094,
                    -9.592179,
                    -10.403369,
                    -7.1740694,
                    -11.91135,
                    -12.2084465,
                    -10.80111,
                    -10.783107,
                    -10.292014,
                    -10.48482,
                    -10.29941,
                    -6.7984524,
                    -7.393705,
                    -7.215713,
                    -9.804142,
                    -9.797041,
                    -11.73078,
                    -2.6080685,
                    -10.787964,
                    -11.227646,
                    -6.6650457,
                    -9.547396,
                    -12.592117,
                    -12.561744,
                    -11.732456,
                    -4.4464383,
                    -5.503293,
                    -5.476078,
                    -7.832146,
                    -10.41994,
                    -12.102443,
                    -10.567107,
                    -12.139871,
                    -11.277106,
                    -9.959554,
                    -4.2048316,
                    -5.834468,
                    -9.229236,
                    -11.999046,
                    -11.949464,
                    -11.64992,
                    -11.782431,
                    -11.982374,
                    -11.315338,
                    -11.680219,
                    -3.5079815,
                    -5.48997,
                    -6.2704463,
                    -6.0510244,
                    -6.329222,
                    -0.9451723,
                    -0.51268905,
                    -2.9722915,
                    -2.366518,
                    -1.9930966,
                    -5.976044,
                    -4.6127,
                    -4.17202,
                    -5.3931665,
                    -5.3800573,
                    -6.3839793,
                    -6.1525297,
                    -6.2648253,
                    -5.958085,
                    -2.6472406,
                    -5.0913014,
                    -2.9492738,
                    -5.544558
                  ],
                  "y": [
                    10.754842,
                    8.15731,
                    11.2374735,
                    9.318495,
                    1.485402,
                    -1.7345878,
                    -2.6411507,
                    -3.1956973,
                    -5.825665,
                    -6.2065268,
                    -0.76777214,
                    -4.34291,
                    11.597003,
                    4.1774573,
                    3.501606,
                    2.3355289,
                    -1.4989362,
                    -1.291997,
                    -4.0039654,
                    0.5302066,
                    0.879981,
                    6.86,
                    -1.0208623,
                    8.616645,
                    -0.90321136,
                    -0.7583276,
                    -0.15451574,
                    7.0269,
                    10.663744,
                    6.45481,
                    2.0081952,
                    -1.1282145,
                    -1.4284242,
                    -4.492619,
                    0.8170956,
                    10.06135,
                    8.611934,
                    7.109952,
                    6.2959576,
                    5.224403,
                    5.06031,
                    -2.509433,
                    2.2445061,
                    5.8124976,
                    7.253477,
                    7.7489233,
                    6.8881555,
                    7.1232486,
                    1.0108296,
                    -0.05301368,
                    -2.312532,
                    -5.334451,
                    -3.4285536,
                    -4.8854465,
                    0.31740972,
                    0.076706484,
                    -4.2526155,
                    -4.4552608,
                    -6.0271573,
                    5.3666353,
                    5.808998,
                    10.779488,
                    9.787376,
                    7.394692,
                    2.9440236,
                    1.32344,
                    -0.313324,
                    -1.2552733,
                    -4.542899,
                    5.9524198,
                    6.2600303,
                    11.1990795,
                    10.580634,
                    3.233058,
                    2.9710875,
                    2.8518803,
                    0.6155993,
                    4.599737,
                    8.904429,
                    5.218046,
                    -5.609332,
                    -5.9939723,
                    4.6821694,
                    8.374338,
                    7.765523,
                    -1.3669649,
                    -2.3342001,
                    -3.7177887,
                    -4.148052,
                    -5.716117,
                    -5.3050857,
                    -3.6843088,
                    -1.6962186,
                    0.49410462,
                    11.624151,
                    11.332078,
                    4.942757,
                    3.586695,
                    3.570854,
                    -4.818735,
                    1.9351143,
                    2.3905632,
                    5.1310596,
                    -4.948151,
                    -4.7528253,
                    -4.4318624,
                    -3.376512,
                    4.715438,
                    5.5788674,
                    9.8749,
                    9.62363,
                    9.603378,
                    6.3436165,
                    4.471892,
                    2.4858127,
                    0.5599877,
                    0.5018765,
                    -2.8033478,
                    4.8767905,
                    5.3685436,
                    3.3388202,
                    2.2994523,
                    0.76048046,
                    -1.71265,
                    -1.7497514,
                    -1.4983739,
                    2.1332345,
                    2.4307997,
                    9.660966,
                    10.0917425,
                    -2.292073,
                    -1.6937237,
                    3.3686686,
                    -3.102555,
                    -4.284018,
                    4.6145473,
                    4.7807164,
                    1.6040171,
                    1.7871935,
                    0.27294338,
                    -1.2416366,
                    -2.7152808,
                    -3.4813414,
                    -2.6741118,
                    6.9728994,
                    5.129412,
                    4.168951,
                    2.938642,
                    1.9200163,
                    0.53778833,
                    -1.5105729,
                    -1.6971474,
                    -3.1815066,
                    2.1984978,
                    4.6343293,
                    3.7495818,
                    7.2934136,
                    6.495754,
                    6.89638,
                    6.3067737,
                    5.666631,
                    5.675629,
                    6.676115,
                    8.754471,
                    -1.3832968,
                    0.43052596,
                    0.49423543,
                    1.8229793,
                    4.027129,
                    6.756559,
                    7.26255,
                    7.8438644,
                    5.023942,
                    0.39323652,
                    -5.885706,
                    -5.9782968,
                    -0.22866696,
                    2.5762708,
                    5.566125,
                    6.414314,
                    -0.98870987,
                    -0.97434473,
                    -1.4236509,
                    2.3993862,
                    -3.7744415,
                    0.8603849,
                    5.7368574,
                    11.040082,
                    2.4208057,
                    2.9766521,
                    3.8961146,
                    9.875477,
                    9.027378,
                    6.3984833,
                    4.878683,
                    1.2943131,
                    0.60392624,
                    -1.964964,
                    4.2631493,
                    4.9895487,
                    4.8878818,
                    7.8529983,
                    7.8394575,
                    6.2631836,
                    4.3457975,
                    1.1131874,
                    -0.9317423,
                    -1.3940601,
                    -2.1180265,
                    5.3014145,
                    0.25422528,
                    -3.8591611,
                    -4.1573243,
                    8.678401,
                    9.372941,
                    10.408693,
                    -0.8156436,
                    0.25761414,
                    0.3499801,
                    0.970763,
                    2.285621,
                    5.507823,
                    5.4136887,
                    9.262028,
                    1.7514716,
                    2.7163177,
                    1.694571,
                    0.692253,
                    2.3637428,
                    3.0600083,
                    3.154854,
                    8.740309,
                    7.7835355,
                    6.9489255,
                    3.3978746,
                    3.9149551,
                    6.2971573,
                    -0.004412219,
                    -4.555526,
                    -2.7581253,
                    -0.8115199,
                    2.0943162,
                    2.629392,
                    3.7899692,
                    4.7823024,
                    -3.8882148,
                    -3.735102,
                    0.095253654,
                    -2.2530558,
                    -1.3728495,
                    1.5264709,
                    1.53475,
                    2.543185,
                    6.587765,
                    9.962215,
                    11.512429,
                    -4.249732,
                    -0.1484506,
                    -2.0075777,
                    3.8774734,
                    0.38351536,
                    0.49421358,
                    1.5658623,
                    -0.022644486,
                    -0.54533917,
                    10.597815,
                    10.8809,
                    10.023598,
                    9.615909,
                    5.1653605,
                    3.4676554,
                    2.3951993,
                    3.264023,
                    -0.2047532,
                    6.2261434,
                    2.211442,
                    1.4022169,
                    1.0893137,
                    0.8954059,
                    -1.7161902,
                    -2.7219524,
                    -0.91338164,
                    2.9292629,
                    4.4075303,
                    4.7109013,
                    10.16451,
                    0.09374335,
                    5.2153864,
                    7.7225614,
                    6.9009957,
                    4.269186,
                    4.059393,
                    4.0453796,
                    3.3450494,
                    1.3620448,
                    -1.4917914,
                    -2.6490843,
                    7.8548155,
                    8.479704,
                    8.277417,
                    6.5717783,
                    6.4505095,
                    5.1018486,
                    4.546419,
                    3.819544,
                    2.534429,
                    10.222174,
                    -4.6786985,
                    -6.341539,
                    -3.7527695,
                    1.0428586,
                    9.64199,
                    1.9076664,
                    -3.7699342,
                    -7.0279903,
                    -5.289703,
                    -4.731857,
                    -4.6439433,
                    -4.139405,
                    -4.0493073,
                    9.257801,
                    7.791871,
                    11.474156,
                    2.8912113,
                    -0.60537827,
                    -3.3900087,
                    -3.5937586,
                    -4.0098896,
                    -1.0217764,
                    -0.8543575,
                    1.106656,
                    1.689491,
                    -3.8114333,
                    2.1992695,
                    2.7802043,
                    -0.25675222,
                    -2.7552173,
                    -3.5488727,
                    -1.696723,
                    11.562349,
                    9.483703,
                    0.052484352,
                    -0.6517016,
                    -2.9954515,
                    -9.320259,
                    10.390946,
                    11.351989,
                    10.956572,
                    7.6917133,
                    3.9398897,
                    -3.6054394,
                    3.353617,
                    -2.5488133,
                    -4.4834037,
                    -4.149451,
                    -0.65476716,
                    9.100387,
                    3.9186862,
                    3.750137,
                    3.5065174,
                    0.4844661,
                    0.4181991,
                    -1.7430224,
                    -0.3948539,
                    -0.08166221,
                    -0.16306935,
                    4.1187954,
                    8.35192,
                    9.23912,
                    0.95287657,
                    1.1077795,
                    4.2584763,
                    4.979902,
                    5.516198,
                    5.340152,
                    0.17364463,
                    -0.45539185,
                    0.6984453,
                    1.4549631,
                    2.4279194,
                    4.3982453,
                    6.616382,
                    7.8883123,
                    -3.6004472,
                    4.580287,
                    6.872249,
                    4.542325
                  ],
                  "z": [
                    -0.2538393,
                    1.4730304,
                    -0.7202799,
                    0.1843106,
                    -0.15510334,
                    -0.8731273,
                    -0.9728883,
                    -0.78415,
                    -0.753834,
                    -0.5986258,
                    -0.9806482,
                    -0.5450805,
                    -0.9854751,
                    0.60480684,
                    0.56616306,
                    0.3765813,
                    -0.109004445,
                    -0.45227748,
                    -0.16228232,
                    -1.0052803,
                    -1.0219284,
                    0.8427182,
                    -0.70980805,
                    0.115957536,
                    -0.7540702,
                    -0.7121531,
                    -0.47175497,
                    1.7128408,
                    -0.26690662,
                    1.1970435,
                    0.16566141,
                    -1.0192292,
                    -1.2307953,
                    -1.1481274,
                    -0.3334886,
                    -0.008406683,
                    0.42758995,
                    0.85089487,
                    1.2215015,
                    1.1793613,
                    1.3243642,
                    -1.1920393,
                    0.053649697,
                    1.6873051,
                    1.8635917,
                    0.54938495,
                    0.78204167,
                    0.42718542,
                    -0.10101698,
                    -0.36295664,
                    -1.1926339,
                    -0.95625633,
                    -0.85089624,
                    -0.99703586,
                    -0.2185456,
                    -0.3454948,
                    -0.35769624,
                    -0.35239026,
                    -0.61446667,
                    1.3948296,
                    1.5202869,
                    -0.5159377,
                    -0.26811004,
                    0.13263838,
                    0.45537186,
                    0.118527524,
                    -0.0028384307,
                    -2.1129534,
                    -0.24010003,
                    1.6936561,
                    1.2588898,
                    -0.89761895,
                    -0.6781829,
                    0.46534204,
                    0.45626003,
                    0.45634288,
                    0.079751514,
                    0.8095312,
                    0.26504043,
                    1.3893692,
                    -0.7420835,
                    -0.7133773,
                    1.6614832,
                    1.425039,
                    0.46852407,
                    -0.68020844,
                    -1.0409172,
                    -0.7574602,
                    -0.4685543,
                    -0.706927,
                    -0.96699244,
                    -1.3711017,
                    -1.1657791,
                    -0.7562174,
                    -0.97476035,
                    -0.81128776,
                    1.1230019,
                    0.59387344,
                    0.6093673,
                    -0.7247632,
                    0.1353243,
                    0.32778025,
                    1.2626854,
                    -0.79233,
                    -1.1666391,
                    -1.1332018,
                    -1.1938548,
                    2.3843424,
                    2.347014,
                    0.491005,
                    0.6515902,
                    0.6597707,
                    2.1873362,
                    2.3056195,
                    0.5556366,
                    -1.3368412,
                    -1.3920327,
                    -1.7153071,
                    2.2630222,
                    2.405522,
                    1.4265987,
                    0.37352335,
                    -1.206424,
                    -2.1695302,
                    -1.8517723,
                    -0.33251217,
                    0.057658106,
                    0.16452882,
                    0.5040237,
                    0.31244066,
                    -1.6683115,
                    -1.9145119,
                    1.3810999,
                    -1.8423287,
                    -1.3246024,
                    2.343005,
                    2.3696237,
                    -0.293824,
                    -0.19081461,
                    -1.5055597,
                    -2.1090686,
                    -1.8848528,
                    -1.1978768,
                    -1.7767822,
                    2.0573103,
                    2.3956041,
                    2.1330554,
                    1.047886,
                    -0.0067111747,
                    -1.3569603,
                    -2.1439028,
                    -2.0445774,
                    -1.7236172,
                    0.30273426,
                    2.2883873,
                    1.719366,
                    0.92557806,
                    1.8156035,
                    0.9738036,
                    0.78782034,
                    0.8736115,
                    0.9685764,
                    1.1168866,
                    0.9507018,
                    -0.56726915,
                    -0.62488663,
                    -1.2692254,
                    -0.25113964,
                    1.436148,
                    1.9863526,
                    1.9052773,
                    0.58550644,
                    0.8156867,
                    -0.35812613,
                    -0.7075436,
                    -0.7038762,
                    -0.36638838,
                    0.23791155,
                    1.6785172,
                    1.6378009,
                    -1.1422046,
                    -1.1916701,
                    -1.2034807,
                    0.23384084,
                    0.2542708,
                    -0.011376949,
                    1.4110382,
                    -0.43114996,
                    0.22538139,
                    0.35440823,
                    0.7537808,
                    0.49190786,
                    1.0364449,
                    2.238537,
                    2.405061,
                    -0.694481,
                    -1.3296984,
                    -2.14454,
                    1.0412657,
                    0.89656836,
                    1.1618229,
                    1.6532364,
                    1.6977332,
                    2.082142,
                    1.8446548,
                    -0.6603114,
                    -1.4432623,
                    -0.9116697,
                    -1.0115151,
                    1.0823011,
                    0.10814257,
                    0.26959684,
                    -0.45166028,
                    0.48528057,
                    0.7818676,
                    -0.06416655,
                    -1.1497978,
                    -0.123894505,
                    -0.10921529,
                    0.15785338,
                    0.27006647,
                    0.9293091,
                    0.9434048,
                    0.7835132,
                    -0.075801946,
                    0.30599746,
                    -0.05575787,
                    0.14192162,
                    0.51898915,
                    0.48074278,
                    0.4986259,
                    1.054831,
                    1.5579183,
                    1.7036579,
                    0.44690108,
                    0.91281843,
                    2.0708654,
                    -1.5627159,
                    -0.5381244,
                    -0.777756,
                    -0.49039468,
                    0.26253903,
                    0.39355445,
                    0.5851824,
                    0.7279088,
                    0.26591888,
                    -1.6477575,
                    -1.5236714,
                    -2.1354818,
                    -2.0312803,
                    -0.38264087,
                    -0.23245665,
                    0.71476847,
                    2.054586,
                    0.38168183,
                    -0.78595877,
                    -1.4284738,
                    -1.5995275,
                    -2.166199,
                    0.60380995,
                    -0.30499834,
                    -0.14028756,
                    -0.067353584,
                    -0.18596065,
                    -0.22811249,
                    -0.39483285,
                    -0.5207972,
                    0.34993798,
                    0.6367817,
                    1.7695122,
                    0.9315123,
                    0.14849645,
                    0.7402709,
                    -0.67535,
                    2.1449082,
                    0.38980263,
                    -0.3039062,
                    -0.5767872,
                    -0.88928276,
                    -2.1795676,
                    -2.0157814,
                    -1.9340559,
                    0.45835745,
                    0.8382522,
                    1.3644638,
                    -0.26505858,
                    -0.13590662,
                    0.8477621,
                    0.4323326,
                    2.021255,
                    1.9766657,
                    1.7294614,
                    1.72884,
                    1.0461144,
                    -0.50970674,
                    -1.7975233,
                    -1.4875132,
                    0.33420357,
                    0.51133937,
                    1.1385728,
                    1.2223864,
                    1.054714,
                    0.9606943,
                    0.74783134,
                    0.5075317,
                    0.25713462,
                    -0.40529248,
                    -0.50612384,
                    -0.45922616,
                    -1.615566,
                    -0.7277437,
                    -0.28803292,
                    0.40876046,
                    -0.043839823,
                    -0.3307256,
                    -0.85168165,
                    -1.1015096,
                    -0.6202693,
                    -0.8081915,
                    -0.28136423,
                    -0.32760456,
                    0.020785404,
                    -0.94430983,
                    0.45564586,
                    0.26662865,
                    -0.01892176,
                    -0.004417829,
                    -0.10227557,
                    -0.37491742,
                    -0.43786553,
                    -0.5185546,
                    -0.051612187,
                    -1.0164764,
                    0.24993326,
                    0.41759795,
                    0.12726514,
                    -1.8940926,
                    -0.0073929327,
                    -0.046004295,
                    -0.9357836,
                    -0.43743715,
                    0.38046762,
                    0.37059155,
                    0.23217312,
                    0.0984419,
                    0.100215286,
                    -0.68960375,
                    -0.7159569,
                    0.0596431,
                    0.52774847,
                    -0.06893673,
                    0.4944478,
                    0.05588027,
                    -0.116389915,
                    -1.4699488,
                    -1.6785984,
                    -0.059918214,
                    0.5349702,
                    0.52956665,
                    0.5207544,
                    0.19623603,
                    0.24022552,
                    -0.0064814016,
                    0.106198125,
                    -1.6596498,
                    -1.6179286,
                    2.1239498,
                    1.4093574,
                    0.86763495,
                    -0.52939093,
                    -0.3666318,
                    1.4955417,
                    1.4873176,
                    1.453741,
                    2.413794,
                    -1.5752553,
                    -1.8547802,
                    -1.1327423,
                    -0.48459715,
                    0.602268,
                    2.2870302,
                    2.1593277,
                    1.6534828,
                    -1.6046759,
                    2.2249024,
                    1.703579,
                    2.298769
                  ]
                },
                {
                  "customdata": [
                    [
                      26775.031
                    ],
                    [
                      29142.715
                    ],
                    [
                      32737.084
                    ],
                    [
                      33540.535
                    ],
                    [
                      31024.873
                    ],
                    [
                      33248.344
                    ],
                    [
                      33984.43
                    ],
                    [
                      29595.795
                    ],
                    [
                      24852.496
                    ],
                    [
                      24173.525
                    ],
                    [
                      23733.402
                    ],
                    [
                      31970.543
                    ],
                    [
                      33287.41
                    ],
                    [
                      25299.969
                    ],
                    [
                      24063.012
                    ],
                    [
                      28502.963
                    ],
                    [
                      32075.984
                    ],
                    [
                      33381.82
                    ],
                    [
                      25527.014
                    ],
                    [
                      28502.307
                    ],
                    [
                      27548.629
                    ],
                    [
                      27370.959
                    ],
                    [
                      24912.08
                    ],
                    [
                      31849.309
                    ],
                    [
                      34392.996
                    ],
                    [
                      31969.07
                    ],
                    [
                      35304.496
                    ],
                    [
                      35580.332
                    ],
                    [
                      28054.982
                    ],
                    [
                      28432.824
                    ],
                    [
                      25148.379
                    ],
                    [
                      29612.154
                    ],
                    [
                      25267.367
                    ],
                    [
                      28291.762
                    ],
                    [
                      26789.832
                    ],
                    [
                      30122.43
                    ],
                    [
                      24801.617
                    ],
                    [
                      36338.75
                    ],
                    [
                      30251.018
                    ],
                    [
                      30166.852
                    ],
                    [
                      23249.842
                    ],
                    [
                      30315.17
                    ],
                    [
                      30731.941
                    ],
                    [
                      25996.807
                    ],
                    [
                      23578.164
                    ],
                    [
                      31002.734
                    ],
                    [
                      29664.703
                    ],
                    [
                      30075.994
                    ],
                    [
                      27109.406
                    ],
                    [
                      27256.494
                    ],
                    [
                      28777.959
                    ],
                    [
                      25790.514
                    ],
                    [
                      33586.906
                    ],
                    [
                      34355.004
                    ],
                    [
                      33358.77
                    ],
                    [
                      29844.203
                    ],
                    [
                      25618.281
                    ],
                    [
                      27060.137
                    ],
                    [
                      27284.752
                    ],
                    [
                      24896.598
                    ],
                    [
                      27425.844
                    ],
                    [
                      29321.082
                    ],
                    [
                      29961.256
                    ],
                    [
                      32509.479
                    ],
                    [
                      31132.213
                    ],
                    [
                      31181.715
                    ],
                    [
                      31059.182
                    ],
                    [
                      37192.895
                    ],
                    [
                      36210.12
                    ],
                    [
                      36633.633
                    ],
                    [
                      35895.5
                    ],
                    [
                      34974.38
                    ],
                    [
                      32038.34
                    ],
                    [
                      41516.43
                    ],
                    [
                      41053.48
                    ],
                    [
                      38208.5
                    ],
                    [
                      39072.39
                    ],
                    [
                      32649.76
                    ],
                    [
                      52001.996
                    ],
                    [
                      23329.209
                    ],
                    [
                      23274.48
                    ],
                    [
                      25959.121
                    ],
                    [
                      26012.375
                    ],
                    [
                      27788.812
                    ],
                    [
                      26792.3
                    ],
                    [
                      29481.53
                    ],
                    [
                      27666.23
                    ],
                    [
                      29197.791
                    ],
                    [
                      33220.027
                    ],
                    [
                      32501.246
                    ],
                    [
                      32537.188
                    ],
                    [
                      32954.14
                    ],
                    [
                      23016.008
                    ],
                    [
                      23420.707
                    ],
                    [
                      23493.082
                    ],
                    [
                      23077.566
                    ],
                    [
                      26190.271
                    ],
                    [
                      25508.21
                    ],
                    [
                      23348.018
                    ],
                    [
                      23406.69
                    ],
                    [
                      23159.543
                    ],
                    [
                      40619.074
                    ],
                    [
                      30781.516
                    ],
                    [
                      30646.438
                    ],
                    [
                      28328.266
                    ],
                    [
                      30792.148
                    ],
                    [
                      28817.082
                    ],
                    [
                      29275.209
                    ],
                    [
                      28040.129
                    ],
                    [
                      36077.797
                    ],
                    [
                      35866.582
                    ],
                    [
                      35338.652
                    ],
                    [
                      36154.305
                    ],
                    [
                      34685.664
                    ],
                    [
                      37510.254
                    ],
                    [
                      37215.168
                    ],
                    [
                      36332.895
                    ],
                    [
                      36245.16
                    ],
                    [
                      30392.75
                    ],
                    [
                      29908.182
                    ],
                    [
                      26337.83
                    ],
                    [
                      30959.932
                    ],
                    [
                      28185.775
                    ],
                    [
                      28204.604
                    ],
                    [
                      26653.24
                    ],
                    [
                      27610.863
                    ],
                    [
                      29986.791
                    ],
                    [
                      27241.436
                    ],
                    [
                      28416.46
                    ],
                    [
                      31186.742
                    ],
                    [
                      34297.305
                    ],
                    [
                      35575.418
                    ],
                    [
                      35261.438
                    ],
                    [
                      37288.938
                    ],
                    [
                      36970.9
                    ],
                    [
                      38824.867
                    ],
                    [
                      34739.215
                    ],
                    [
                      24903.479
                    ],
                    [
                      23345.328
                    ],
                    [
                      23151.547
                    ],
                    [
                      31554.406
                    ],
                    [
                      29914.379
                    ],
                    [
                      30575.248
                    ],
                    [
                      30271.922
                    ],
                    [
                      28678.076
                    ],
                    [
                      28829.027
                    ],
                    [
                      26955.041
                    ],
                    [
                      30661.26
                    ],
                    [
                      30443.88
                    ],
                    [
                      30322.15
                    ],
                    [
                      31153.01
                    ],
                    [
                      31084.938
                    ],
                    [
                      31156.596
                    ],
                    [
                      29114.545
                    ],
                    [
                      25845.207
                    ],
                    [
                      39691.727
                    ],
                    [
                      39547.59
                    ],
                    [
                      26698.078
                    ],
                    [
                      24405.066
                    ],
                    [
                      27703.203
                    ]
                  ],
                  "hovertemplate": "Cluster=Cluster 1<br>0=%{x}<br>1=%{y}<br>2=%{z}<br>Feature=%{customdata[0]}<extra></extra>",
                  "legendgroup": "Cluster 1",
                  "marker": {
                    "color": "#EF553B",
                    "opacity": 0.7,
                    "symbol": "circle"
                  },
                  "mode": "markers",
                  "name": "Cluster 1",
                  "scene": "scene",
                  "showlegend": true,
                  "type": "scatter3d",
                  "x": [
                    4.627092,
                    -0.80367774,
                    8.534459,
                    9.226371,
                    7.469949,
                    9.727288,
                    10.085971,
                    6.8834014,
                    3.281109,
                    0.8017731,
                    0.51740813,
                    8.305282,
                    9.15658,
                    3.5133917,
                    0.6203286,
                    6.602124,
                    8.28449,
                    8.710101,
                    -2.0810585,
                    6.428716,
                    5.843091,
                    5.515753,
                    -2.4149015,
                    7.893026,
                    10.180339,
                    8.355604,
                    10.316136,
                    10.420755,
                    6.069346,
                    6.0387874,
                    3.566327,
                    -0.8850593,
                    -1.7447785,
                    5.6465645,
                    4.5937624,
                    7.1013947,
                    1.1639091,
                    10.595932,
                    7.1974783,
                    7.232556,
                    0.2955661,
                    7.3416796,
                    7.4188604,
                    4.0003247,
                    2.4352763,
                    7.3697977,
                    6.618208,
                    6.9578137,
                    4.8430414,
                    5.7993603,
                    -2.814866,
                    3.8597634,
                    8.934686,
                    9.177147,
                    8.714704,
                    6.9906783,
                    3.674104,
                    4.644273,
                    5.536991,
                    3.4079113,
                    5.2146726,
                    6.380391,
                    6.765895,
                    8.630855,
                    7.7093086,
                    7.716126,
                    7.5456247,
                    10.877188,
                    10.677005,
                    10.819807,
                    10.660053,
                    10.469373,
                    -1.0231196,
                    12.3951435,
                    12.299451,
                    11.861522,
                    11.898096,
                    8.3213215,
                    12.924796,
                    0.88738936,
                    1.7490512,
                    4.313552,
                    -1.6508158,
                    6.0731487,
                    5.417387,
                    6.518327,
                    -1.5398064,
                    6.2934766,
                    8.738839,
                    8.283797,
                    -1.8654032,
                    -1.0497459,
                    2.3655612,
                    2.399216,
                    2.1934056,
                    1.1499282,
                    4.391696,
                    4.141974,
                    1.2150698,
                    0.88161683,
                    0.65650046,
                    12.007558,
                    7.2976294,
                    7.302837,
                    5.791498,
                    7.3595147,
                    6.050145,
                    6.3410416,
                    6.298828,
                    10.647866,
                    10.7193575,
                    10.573876,
                    10.856429,
                    10.356107,
                    11.0313,
                    11.000124,
                    10.910079,
                    10.924639,
                    7.1610775,
                    6.758541,
                    4.5712156,
                    7.442494,
                    5.800966,
                    5.6025314,
                    4.5681505,
                    5.154163,
                    6.994243,
                    4.988028,
                    6.260042,
                    -0.96273685,
                    10.150965,
                    10.536325,
                    10.302473,
                    11.840694,
                    11.774117,
                    11.805346,
                    10.384963,
                    -2.5641372,
                    1.4868816,
                    0.20472021,
                    7.936547,
                    6.855024,
                    7.3105946,
                    7.291079,
                    6.208246,
                    6.471986,
                    -1.10785,
                    7.290736,
                    7.191017,
                    7.181611,
                    7.5406137,
                    7.504559,
                    7.5423827,
                    6.2609572,
                    -2.0429747,
                    12.043655,
                    11.971475,
                    4.682917,
                    -1.3715459,
                    5.5702806
                  ],
                  "y": [
                    -1.3239652,
                    10.4794035,
                    0.63489443,
                    1.7871865,
                    -2.2845562,
                    4.1897144,
                    3.764707,
                    -1.1975807,
                    3.0713408,
                    6.9880414,
                    7.1658316,
                    2.1048799,
                    2.0922363,
                    1.276478,
                    7.210689,
                    6.010342,
                    3.6364753,
                    -0.18166168,
                    10.5098,
                    5.705056,
                    5.4574857,
                    4.9330525,
                    10.667704,
                    -0.555102,
                    3.2773817,
                    4.0216417,
                    1.8664923,
                    1.7866864,
                    5.4755445,
                    5.0370035,
                    2.8549008,
                    10.616124,
                    10.222901,
                    3.1774383,
                    3.1022344,
                    -1.8983585,
                    6.822824,
                    -0.024859149,
                    5.5237627,
                    4.6404705,
                    7.1664343,
                    3.816536,
                    3.2208767,
                    2.5841227,
                    0.18311967,
                    -1.6194713,
                    2.6343253,
                    3.0190656,
                    3.3493388,
                    5.578754,
                    11.504108,
                    2.392234,
                    0.48435643,
                    -0.03661753,
                    -0.10431759,
                    3.5941172,
                    1.7999513,
                    -1.1344209,
                    -2.4140384,
                    2.2969863,
                    4.194565,
                    2.7362435,
                    1.6255378,
                    1.8530469,
                    3.5242736,
                    4.994359,
                    5.3722796,
                    0.2960702,
                    1.9589385,
                    2.0009124,
                    2.5343747,
                    3.6410244,
                    11.109912,
                    1.5408568,
                    1.9880306,
                    3.445559,
                    3.397475,
                    -0.4345651,
                    0.9920211,
                    5.638847,
                    2.2883115,
                    -1.149134,
                    10.307198,
                    5.6616497,
                    5.1660657,
                    2.9091644,
                    10.576161,
                    2.33003,
                    0.3545332,
                    -0.19436692,
                    11.450342,
                    11.227292,
                    -0.724642,
                    -0.022468142,
                    1.1514438,
                    4.0405183,
                    -1.1713212,
                    -1.1428486,
                    4.2982965,
                    5.8094144,
                    6.0964046,
                    3.1238174,
                    -1.7051747,
                    -0.5716012,
                    2.2600527,
                    -0.08826105,
                    2.439078,
                    2.4190798,
                    5.8227587,
                    2.0540595,
                    3.0680413,
                    3.4232593,
                    3.2700171,
                    3.6269004,
                    1.6746534,
                    1.9667063,
                    3.1762817,
                    3.4227595,
                    0.2937167,
                    1.4874067,
                    -1.5742952,
                    -0.20549181,
                    1.8312969,
                    3.0207908,
                    3.2830563,
                    3.5232947,
                    0.35012433,
                    3.7086515,
                    -2.0530798,
                    10.951592,
                    3.3872745,
                    2.451842,
                    1.8931676,
                    3.520361,
                    3.5140893,
                    2.5731845,
                    3.6792266,
                    10.84888,
                    3.366919,
                    7.25358,
                    1.4242514,
                    3.058288,
                    3.1338582,
                    3.715881,
                    5.072,
                    5.473142,
                    10.125058,
                    -2.0026069,
                    -1.6732403,
                    -1.1013091,
                    -0.4117043,
                    0.10814034,
                    0.48454103,
                    2.9863496,
                    10.53578,
                    2.205524,
                    2.0001466,
                    3.5460722,
                    9.552718,
                    4.8017926
                  ],
                  "z": [
                    1.3536384,
                    -0.36608836,
                    2.684,
                    2.1489084,
                    2.19295,
                    0.26040283,
                    0.500011,
                    2.4930537,
                    0.7841154,
                    0.66418445,
                    0.71017754,
                    2.266874,
                    2.0455272,
                    0.8316544,
                    0.6812926,
                    0.062548205,
                    1.3918437,
                    2.7541258,
                    -0.22257441,
                    0.21865438,
                    0.35177496,
                    0.5685241,
                    -0.2820518,
                    2.7932303,
                    0.8880518,
                    1.0623908,
                    1.6795169,
                    1.6517041,
                    0.34481457,
                    0.57986724,
                    0.8429206,
                    -0.42934468,
                    -0.108394936,
                    1.6402755,
                    1.1490996,
                    2.3105,
                    0.6088535,
                    1.770586,
                    0.2321917,
                    0.8702134,
                    0.7651755,
                    1.5121837,
                    1.9072758,
                    0.98658055,
                    0.36934382,
                    2.4666536,
                    2.225369,
                    2.057091,
                    1.1700836,
                    0.2991787,
                    -0.7944916,
                    0.94535947,
                    2.621019,
                    2.5884285,
                    2.7534292,
                    1.6905335,
                    0.8947164,
                    1.3834442,
                    1.5915059,
                    0.80069655,
                    0.8702246,
                    2.1452892,
                    2.5348804,
                    2.2989547,
                    1.65284,
                    0.48457122,
                    0.2541582,
                    1.5660797,
                    1.4351692,
                    1.3131078,
                    1.1237022,
                    0.3497366,
                    -0.69279313,
                    -0.08100351,
                    -0.2648581,
                    -1.222072,
                    -1.2290559,
                    2.7925155,
                    -2.0333853,
                    0.6634912,
                    0.36837944,
                    1.2216464,
                    -0.16517964,
                    0.254691,
                    0.46406484,
                    2.0861309,
                    -0.32416487,
                    2.2910213,
                    2.7012787,
                    2.8221393,
                    -0.8316385,
                    -0.75887424,
                    0.30650866,
                    0.3460786,
                    0.35098734,
                    0.52772886,
                    1.2577822,
                    1.1390055,
                    0.5491096,
                    0.66915065,
                    0.72642076,
                    -1.1016028,
                    2.4248683,
                    2.7588894,
                    2.1574404,
                    2.8330145,
                    2.187419,
                    2.2684658,
                    0.1689794,
                    1.413784,
                    0.67852044,
                    0.48345158,
                    0.3596083,
                    0.45282093,
                    1.2569205,
                    1.177429,
                    0.39291942,
                    0.11818761,
                    2.804799,
                    2.5661092,
                    1.3020725,
                    2.83194,
                    2.28579,
                    1.710873,
                    1.0663207,
                    1.2309182,
                    2.7765827,
                    1.0532019,
                    1.9692882,
                    -0.6082536,
                    0.81307673,
                    1.2621619,
                    1.6765462,
                    -1.2709968,
                    -1.1684064,
                    -0.10032692,
                    0.37928447,
                    -0.38201123,
                    0.468446,
                    0.77551925,
                    2.5509791,
                    2.033549,
                    1.9711113,
                    1.5923955,
                    0.5734396,
                    0.3391838,
                    -0.14489393,
                    2.303288,
                    2.4178455,
                    2.603492,
                    2.811863,
                    2.8450189,
                    2.8033037,
                    1.9770122,
                    -0.24186054,
                    -0.07978002,
                    0.1577678,
                    1.0015377,
                    0.16407242,
                    0.6369577
                  ]
                },
                {
                  "customdata": [
                    [
                      38167.17
                    ],
                    [
                      39801.55
                    ],
                    [
                      40335.74
                    ],
                    [
                      39307.008
                    ],
                    [
                      38600.24
                    ],
                    [
                      38445.9
                    ],
                    [
                      30274.71
                    ],
                    [
                      32053.098
                    ],
                    [
                      32197.34
                    ],
                    [
                      66374.305
                    ],
                    [
                      42820.33
                    ],
                    [
                      41378.047
                    ],
                    [
                      40856.39
                    ],
                    [
                      41419.04
                    ],
                    [
                      30800.658
                    ],
                    [
                      37383.504
                    ],
                    [
                      35622.14
                    ],
                    [
                      35033.215
                    ],
                    [
                      30353.586
                    ],
                    [
                      51154.047
                    ],
                    [
                      49248.16
                    ],
                    [
                      46747.67
                    ],
                    [
                      44130.617
                    ],
                    [
                      44084.914
                    ],
                    [
                      43892.47
                    ],
                    [
                      44300.64
                    ],
                    [
                      33183.332
                    ],
                    [
                      42677.6
                    ],
                    [
                      47065.21
                    ],
                    [
                      33417.965
                    ],
                    [
                      37088.562
                    ],
                    [
                      30957.08
                    ],
                    [
                      31431.13
                    ],
                    [
                      44749.688
                    ],
                    [
                      42773.027
                    ],
                    [
                      43374.05
                    ],
                    [
                      32746.13
                    ],
                    [
                      34819.297
                    ],
                    [
                      38324.81
                    ],
                    [
                      38990.605
                    ],
                    [
                      39713.668
                    ],
                    [
                      39875.855
                    ],
                    [
                      48310.33
                    ],
                    [
                      48365.98
                    ],
                    [
                      45061.953
                    ],
                    [
                      44205.875
                    ],
                    [
                      39092.19
                    ],
                    [
                      42377.957
                    ],
                    [
                      57154.445
                    ],
                    [
                      60567.55
                    ],
                    [
                      63913.117
                    ],
                    [
                      65281.48
                    ],
                    [
                      70755.47
                    ],
                    [
                      68566.19
                    ],
                    [
                      69133.734
                    ],
                    [
                      41671.582
                    ],
                    [
                      46732.605
                    ],
                    [
                      39365.883
                    ],
                    [
                      38297.46
                    ],
                    [
                      32219.59
                    ],
                    [
                      32422.762
                    ],
                    [
                      35715.77
                    ],
                    [
                      35651.68
                    ],
                    [
                      35129.34
                    ],
                    [
                      35165.758
                    ],
                    [
                      55639.086
                    ],
                    [
                      33005.78
                    ],
                    [
                      41371.38
                    ],
                    [
                      42741.523
                    ],
                    [
                      40966.605
                    ],
                    [
                      38795.38
                    ]
                  ],
                  "hovertemplate": "Cluster=Cluster 2<br>0=%{x}<br>1=%{y}<br>2=%{z}<br>Feature=%{customdata[0]}<extra></extra>",
                  "legendgroup": "Cluster 2",
                  "marker": {
                    "color": "#00cc96",
                    "opacity": 0.7,
                    "symbol": "circle"
                  },
                  "mode": "markers",
                  "name": "Cluster 2",
                  "scene": "scene",
                  "showlegend": true,
                  "type": "scatter3d",
                  "x": [
                    10.9079,
                    11.379572,
                    11.5302925,
                    11.3509,
                    11.226869,
                    11.200976,
                    7.7835517,
                    8.826351,
                    8.8998995,
                    13.096778,
                    11.614211,
                    11.367115,
                    11.558448,
                    11.776283,
                    8.317767,
                    10.985078,
                    9.806902,
                    9.614716,
                    7.7591605,
                    12.296872,
                    12.278195,
                    12.553721,
                    12.611935,
                    12.609456,
                    12.635914,
                    12.665512,
                    8.872948,
                    12.533888,
                    12.121372,
                    9.06884,
                    10.0978775,
                    8.044563,
                    8.159065,
                    12.268382,
                    12.0776825,
                    12.59101,
                    8.8281765,
                    9.632901,
                    10.879567,
                    10.977407,
                    11.119575,
                    11.108975,
                    12.194277,
                    12.192753,
                    12.379253,
                    12.332139,
                    11.038577,
                    12.293261,
                    13.007347,
                    13.066511,
                    13.097451,
                    13.100495,
                    13.071934,
                    13.085755,
                    13.090674,
                    12.358815,
                    12.098186,
                    11.148023,
                    11.168921,
                    8.457401,
                    8.644791,
                    9.716713,
                    9.828186,
                    9.716859,
                    9.80358,
                    12.984981,
                    8.983351,
                    12.272031,
                    11.701118,
                    11.297054,
                    11.140349
                  ],
                  "y": [
                    -2.325009,
                    -1.9221237,
                    -1.7084639,
                    -1.2082472,
                    -0.7361925,
                    -0.12910257,
                    -3.7245855,
                    -5.255699,
                    -5.431738,
                    -1.3544633,
                    -3.8923974,
                    -3.6183898,
                    -2.304557,
                    -1.8036315,
                    -4.586857,
                    -1.0265571,
                    -3.443143,
                    -5.2564917,
                    -3.568298,
                    -3.6180916,
                    -3.4864252,
                    -1.5869238,
                    0.6783663,
                    0.6851735,
                    1.1056769,
                    1.1366655,
                    -3.8671565,
                    1.3767647,
                    -3.681703,
                    -4.789445,
                    -4.8004704,
                    -3.7515929,
                    -3.6275892,
                    -2.2289486,
                    -1.7614993,
                    1.4779356,
                    -4.4753065,
                    -3.0688252,
                    -2.668058,
                    -3.4123414,
                    -3.492336,
                    -3.8784943,
                    -3.7654624,
                    -3.7208893,
                    -1.8696966,
                    -1.6234193,
                    -3.035997,
                    -0.15468487,
                    0.2938091,
                    -0.38799557,
                    -0.9526529,
                    -1.1524118,
                    -1.744102,
                    -1.5824283,
                    -1.5349036,
                    0.48972434,
                    -3.7665486,
                    -2.7459505,
                    -0.85168463,
                    -3.625609,
                    -4.1047797,
                    -4.5923615,
                    -3.3817775,
                    -3.1002698,
                    -2.7624702,
                    0.4963677,
                    -4.8712606,
                    0.31260824,
                    -4.0446153,
                    -3.7497625,
                    -1.981173
                  ],
                  "z": [
                    1.1443332,
                    1.0062962,
                    0.9616686,
                    1.1842777,
                    1.3312697,
                    1.3585783,
                    1.5697491,
                    0.9348964,
                    0.8529182,
                    -2.043806,
                    -0.34322548,
                    0.16276595,
                    0.7431749,
                    0.7552928,
                    1.2569793,
                    1.4603224,
                    1.199879,
                    0.52067107,
                    1.6332417,
                    -1.1162872,
                    -0.9564026,
                    0.09728604,
                    0.0026421032,
                    0.0039191195,
                    -0.1650897,
                    -0.22179753,
                    1.3471566,
                    -0.16665186,
                    -0.859908,
                    0.9653815,
                    0.39407215,
                    1.5439727,
                    1.5771921,
                    0.14288117,
                    0.5188015,
                    -0.31623122,
                    1.1556535,
                    1.4445245,
                    1.024556,
                    0.5992914,
                    0.4552969,
                    0.2041179,
                    -1.043865,
                    -1.0077226,
                    0.20733197,
                    0.3208089,
                    0.7594796,
                    0.41735435,
                    -1.9104587,
                    -1.9572226,
                    -2.0139115,
                    -2.0316768,
                    -2.0533617,
                    -2.0526564,
                    -2.0547454,
                    0.31214786,
                    -0.8968331,
                    0.8330596,
                    1.3632672,
                    1.525655,
                    1.3238547,
                    0.71897006,
                    1.2196146,
                    1.397595,
                    1.5126654,
                    -1.9183267,
                    0.9758361,
                    0.42071795,
                    -0.5882243,
                    0.13057604,
                    1.1344435
                  ]
                },
                {
                  "customdata": [
                    [
                      17978.357
                    ],
                    [
                      16425.174
                    ],
                    [
                      16507.07
                    ],
                    [
                      18173.979
                    ],
                    [
                      17322.078
                    ],
                    [
                      18490.982
                    ],
                    [
                      26841.08
                    ],
                    [
                      16916.87
                    ],
                    [
                      15639.037
                    ],
                    [
                      16256.236
                    ],
                    [
                      15395.011
                    ],
                    [
                      14881.955
                    ],
                    [
                      15277.067
                    ],
                    [
                      14739.067
                    ],
                    [
                      15110.192
                    ],
                    [
                      14202.997
                    ],
                    [
                      15194.976
                    ],
                    [
                      14116.922
                    ],
                    [
                      13174.071
                    ],
                    [
                      13258.366
                    ],
                    [
                      12791.751
                    ],
                    [
                      27280.982
                    ],
                    [
                      27825.95
                    ],
                    [
                      17314.104
                    ],
                    [
                      15821.95
                    ],
                    [
                      15553.209
                    ],
                    [
                      13072.842
                    ],
                    [
                      14061.123
                    ],
                    [
                      14266.912
                    ],
                    [
                      14222.306
                    ],
                    [
                      13464.803
                    ],
                    [
                      14642.323
                    ],
                    [
                      15047.003
                    ],
                    [
                      14397.928
                    ],
                    [
                      13167.702
                    ],
                    [
                      14678.105
                    ],
                    [
                      14198.093
                    ],
                    [
                      14894.982
                    ],
                    [
                      13681.698
                    ],
                    [
                      14584.448
                    ],
                    [
                      13041.874
                    ],
                    [
                      15053.934
                    ],
                    [
                      13007.984
                    ],
                    [
                      14023.938
                    ],
                    [
                      15747.804
                    ],
                    [
                      20021.195
                    ],
                    [
                      19528.1
                    ],
                    [
                      21757.049
                    ],
                    [
                      14072.135
                    ],
                    [
                      14194.823
                    ],
                    [
                      14582.77
                    ],
                    [
                      14696.029
                    ],
                    [
                      15635.796
                    ],
                    [
                      14429.79
                    ],
                    [
                      16428.578
                    ],
                    [
                      16116.844
                    ],
                    [
                      15000.993
                    ],
                    [
                      15128.992
                    ],
                    [
                      14847.044
                    ],
                    [
                      14997.885
                    ],
                    [
                      14619.078
                    ],
                    [
                      15084.815
                    ],
                    [
                      10315.019
                    ],
                    [
                      10971.096
                    ],
                    [
                      10354.044
                    ],
                    [
                      21956.342
                    ],
                    [
                      21908.367
                    ],
                    [
                      20099.258
                    ],
                    [
                      20698.076
                    ],
                    [
                      23547.24
                    ],
                    [
                      23447.688
                    ],
                    [
                      21895.758
                    ],
                    [
                      25589.982
                    ],
                    [
                      22926.09
                    ],
                    [
                      22358.877
                    ],
                    [
                      20512.094
                    ],
                    [
                      20538.088
                    ],
                    [
                      21335.852
                    ],
                    [
                      16336.913
                    ],
                    [
                      16218.848
                    ],
                    [
                      17542.035
                    ],
                    [
                      23785.922
                    ],
                    [
                      25098.629
                    ],
                    [
                      26831.193
                    ],
                    [
                      26060.336
                    ],
                    [
                      10106.017
                    ],
                    [
                      10897.076
                    ],
                    [
                      11167.861
                    ],
                    [
                      10813.344
                    ],
                    [
                      11302.903
                    ],
                    [
                      12408.806
                    ],
                    [
                      11918.456
                    ],
                    [
                      11700.111
                    ],
                    [
                      11555.268
                    ],
                    [
                      12409.949
                    ],
                    [
                      11318.008
                    ],
                    [
                      12314.591
                    ],
                    [
                      12649.111
                    ],
                    [
                      12163.82
                    ],
                    [
                      12146.188
                    ],
                    [
                      26302.074
                    ],
                    [
                      26781.814
                    ],
                    [
                      18835.19
                    ],
                    [
                      18727.508
                    ],
                    [
                      25948.963
                    ],
                    [
                      27714.05
                    ],
                    [
                      16379.853
                    ],
                    [
                      15979.015
                    ],
                    [
                      16792.68
                    ],
                    [
                      17202.834
                    ],
                    [
                      17141.941
                    ],
                    [
                      17675.838
                    ],
                    [
                      17360.81
                    ],
                    [
                      15327.101
                    ],
                    [
                      20677.594
                    ],
                    [
                      21383.066
                    ],
                    [
                      21875.098
                    ],
                    [
                      22311.049
                    ],
                    [
                      22104.973
                    ],
                    [
                      22736.834
                    ],
                    [
                      21903.322
                    ],
                    [
                      22004.93
                    ],
                    [
                      20452.67
                    ],
                    [
                      15846.013
                    ],
                    [
                      15604.1455
                    ],
                    [
                      14841.917
                    ],
                    [
                      17214.324
                    ],
                    [
                      16706.674
                    ],
                    [
                      16379.099
                    ],
                    [
                      17418.068
                    ],
                    [
                      16927.78
                    ],
                    [
                      15977.911
                    ],
                    [
                      16353.097
                    ],
                    [
                      17803.28
                    ],
                    [
                      13160.125
                    ],
                    [
                      19567.26
                    ],
                    [
                      19822.115
                    ],
                    [
                      21281.88
                    ],
                    [
                      21300.02
                    ],
                    [
                      22100.393
                    ],
                    [
                      21230.979
                    ],
                    [
                      18254.922
                    ],
                    [
                      15077.176
                    ],
                    [
                      21607.773
                    ],
                    [
                      29246.238
                    ],
                    [
                      22460.53
                    ],
                    [
                      23197.438
                    ],
                    [
                      18169.375
                    ],
                    [
                      19581.23
                    ],
                    [
                      18324.832
                    ],
                    [
                      18974.922
                    ],
                    [
                      19446.883
                    ],
                    [
                      18311.756
                    ],
                    [
                      18273.006
                    ],
                    [
                      17089.918
                    ],
                    [
                      18009.846
                    ],
                    [
                      17458.22
                    ],
                    [
                      19164.611
                    ],
                    [
                      17891.633
                    ],
                    [
                      18950.906
                    ],
                    [
                      18957.89
                    ],
                    [
                      24809.043
                    ],
                    [
                      25097.473
                    ],
                    [
                      19471.975
                    ],
                    [
                      17463.047
                    ],
                    [
                      17218.686
                    ],
                    [
                      17162.479
                    ],
                    [
                      20318.89
                    ],
                    [
                      18678.414
                    ],
                    [
                      19682.035
                    ],
                    [
                      23449.307
                    ],
                    [
                      25452.475
                    ],
                    [
                      23527.729
                    ],
                    [
                      23573.822
                    ],
                    [
                      21233.912
                    ],
                    [
                      20537.143
                    ],
                    [
                      22384.12
                    ],
                    [
                      21725.012
                    ],
                    [
                      21745.03
                    ],
                    [
                      17685.201
                    ],
                    [
                      18040.145
                    ],
                    [
                      19177.412
                    ],
                    [
                      18910.805
                    ],
                    [
                      18800.094
                    ],
                    [
                      23102.021
                    ],
                    [
                      18800.959
                    ]
                  ],
                  "hovertemplate": "Cluster=Cluster 3<br>0=%{x}<br>1=%{y}<br>2=%{z}<br>Feature=%{customdata[0]}<extra></extra>",
                  "legendgroup": "Cluster 3",
                  "marker": {
                    "color": "#ab63fa",
                    "opacity": 0.7,
                    "symbol": "circle"
                  },
                  "mode": "markers",
                  "name": "Cluster 3",
                  "scene": "scene",
                  "showlegend": true,
                  "type": "scatter3d",
                  "x": [
                    1.6597397,
                    -0.991493,
                    -1.978549,
                    4.5221133,
                    1.8805988,
                    3.6450272,
                    6.0044627,
                    5.4948874,
                    2.00064,
                    1.3001739,
                    -0.8073525,
                    -1.9105362,
                    -3.826363,
                    5.409984,
                    5.276817,
                    -0.74862283,
                    -0.64895594,
                    -1.4038357,
                    -2.1517453,
                    -3.0182076,
                    -4.48979,
                    7.6928973,
                    6.431648,
                    2.8362572,
                    -1.3541219,
                    2.3919272,
                    -2.7519424,
                    3.741168,
                    1.5536972,
                    1.6614326,
                    -2.5496464,
                    3.1525035,
                    -0.66385466,
                    3.675633,
                    -2.8825111,
                    -0.40856633,
                    -0.46190083,
                    5.1982665,
                    0.16943525,
                    5.5116053,
                    -2.377345,
                    4.1355915,
                    2.1645055,
                    -2.0112832,
                    3.5523171,
                    6.609614,
                    0.6844059,
                    6.766027,
                    -2.8460863,
                    0.9059017,
                    2.5750005,
                    2.8656337,
                    5.744045,
                    3.1691298,
                    1.7061709,
                    5.9079027,
                    -1.9200267,
                    -1.4521345,
                    -1.1028086,
                    1.6235055,
                    -2.9982731,
                    -2.059245,
                    -3.8197272,
                    2.2501829,
                    -3.837881,
                    1.8339858,
                    1.9088391,
                    3.3031828,
                    6.53677,
                    3.1393092,
                    3.1712525,
                    2.1309118,
                    7.3936934,
                    3.2123666,
                    4.612014,
                    1.3441374,
                    1.7564763,
                    3.7967472,
                    -2.1798778,
                    -0.51842964,
                    2.4670985,
                    4.713029,
                    5.412892,
                    7.615975,
                    5.7755313,
                    -3.7835634,
                    2.3699315,
                    3.1695392,
                    4.7915726,
                    -3.6618853,
                    -0.34428978,
                    2.1830611,
                    -3.8197331,
                    -2.958732,
                    -1.5208455,
                    -1.1507596,
                    3.6721454,
                    3.9888046,
                    -1.6690308,
                    -0.31254596,
                    5.3484616,
                    5.6804338,
                    3.5532584,
                    0.25932756,
                    7.4537582,
                    7.757691,
                    4.7458057,
                    4.757812,
                    0.58118707,
                    2.1953297,
                    3.7157073,
                    4.681976,
                    6.184105,
                    4.387777,
                    3.260813,
                    5.037509,
                    3.4338574,
                    3.8735027,
                    4.516351,
                    5.9589205,
                    6.196547,
                    2.5248768,
                    3.3772511,
                    3.9843533,
                    3.6591587,
                    -0.806261,
                    0.5228759,
                    2.111473,
                    2.1551304,
                    4.8934584,
                    5.4556003,
                    -3.0493832,
                    -2.0042915,
                    0.9535507,
                    -2.0533438,
                    6.5084634,
                    6.597967,
                    1.5357045,
                    3.1487427,
                    3.5037243,
                    3.467569,
                    -0.82227206,
                    -1.150693,
                    3.6496134,
                    8.090527,
                    4.6516905,
                    6.921299,
                    -0.29356912,
                    4.1120844,
                    3.7797313,
                    4.7621837,
                    6.5874743,
                    -1.0079763,
                    -0.7673618,
                    2.4613845,
                    -0.53840584,
                    -0.79533416,
                    6.5075583,
                    -1.1175995,
                    3.3794556,
                    4.645449,
                    3.8618083,
                    4.294292,
                    4.519453,
                    1.2613692,
                    -0.6960466,
                    -1.3045764,
                    0.96014357,
                    -0.61388505,
                    2.6878886,
                    2.8405726,
                    5.2673426,
                    3.336884,
                    4.0691485,
                    1.5303775,
                    1.2748139,
                    2.912038,
                    3.0967343,
                    5.2298455,
                    -0.9537983,
                    1.3656734,
                    2.6959262,
                    3.5215063,
                    4.65162,
                    6.046829,
                    3.663598
                  ],
                  "y": [
                    -7.2998734,
                    -6.6394043,
                    -5.1562266,
                    -9.221484,
                    -8.069013,
                    -8.338109,
                    -4.2616153,
                    -10.796952,
                    -9.7658415,
                    -8.39518,
                    -7.9886355,
                    -7.5935636,
                    -5.370169,
                    -11.686316,
                    -11.537014,
                    -9.127162,
                    -8.347679,
                    -8.754081,
                    -9.087772,
                    -8.328482,
                    -7.651822,
                    -6.511344,
                    -4.15821,
                    -8.750766,
                    -7.0656986,
                    -10.188346,
                    -8.7017765,
                    -11.614961,
                    -10.490667,
                    -10.571125,
                    -8.527921,
                    -11.12218,
                    -8.4833765,
                    -11.437129,
                    -8.513783,
                    -9.033964,
                    -9.353983,
                    -11.60482,
                    -10.14708,
                    -11.749144,
                    -9.02726,
                    -11.290066,
                    -11.466421,
                    -8.401163,
                    -10.718639,
                    -9.529899,
                    -4.915355,
                    -8.9101305,
                    -7.7045927,
                    -10.239517,
                    -10.876822,
                    -10.965337,
                    -11.427011,
                    -11.224484,
                    -8.638062,
                    -11.265167,
                    -7.470315,
                    -7.696711,
                    -8.281893,
                    -10.055265,
                    -7.047966,
                    -7.288453,
                    -9.585114,
                    -12.139592,
                    -9.567857,
                    -1.3116426,
                    -1.6227934,
                    -6.3862195,
                    -9.0642805,
                    -2.053384,
                    -2.3334148,
                    -2.139089,
                    -7.320801,
                    -3.2037215,
                    -6.104317,
                    -2.3271286,
                    -3.4262233,
                    -5.8465424,
                    -5.167357,
                    -7.3854713,
                    -8.351981,
                    -4.933362,
                    -4.591977,
                    -6.621052,
                    -4.414066,
                    -9.644276,
                    -12.188684,
                    -12.368354,
                    -12.508808,
                    -9.381577,
                    -10.47188,
                    -11.922825,
                    -9.075483,
                    -9.657238,
                    -9.971252,
                    -10.43061,
                    -12.2625885,
                    -12.225602,
                    -10.004629,
                    -10.558764,
                    -3.2719982,
                    -3.6711376,
                    -8.034825,
                    -5.2462444,
                    -7.4644017,
                    -6.347533,
                    -10.79484,
                    -11.019167,
                    -7.429214,
                    -8.443912,
                    -9.435993,
                    -9.772238,
                    -10.721731,
                    -11.236231,
                    -5.6892333,
                    -7.211629,
                    -4.7962136,
                    -5.1600757,
                    -6.1324368,
                    -7.5068655,
                    -8.05178,
                    -2.7307823,
                    -6.1071463,
                    -10.827881,
                    -10.850852,
                    -8.54628,
                    -7.0949774,
                    -8.798691,
                    -9.149665,
                    -10.18132,
                    -10.779157,
                    -4.926835,
                    -5.2793365,
                    -6.9887652,
                    -9.170054,
                    -9.645385,
                    -9.625158,
                    -1.7316293,
                    -4.717511,
                    -4.7327538,
                    -5.4837255,
                    -4.138308,
                    -8.0055895,
                    -5.431574,
                    -6.1536293,
                    -6.0976405,
                    -8.247423,
                    -5.2059226,
                    -7.941351,
                    -8.540514,
                    -8.931005,
                    -9.835872,
                    -3.4263895,
                    -4.281869,
                    -8.725933,
                    -5.0646415,
                    -5.3021255,
                    -9.889215,
                    -3.9096696,
                    -7.800029,
                    -8.830097,
                    -1.827906,
                    -2.6194777,
                    -8.37192,
                    -7.3764725,
                    -5.7424026,
                    -5.0343137,
                    -1.8644353,
                    -4.0287623,
                    -6.0462947,
                    -1.3903699,
                    -3.9436533,
                    -2.7218232,
                    -4.243367,
                    -1.7883289,
                    -2.146173,
                    -3.0800312,
                    -4.1810346,
                    -7.1955175,
                    -4.800244,
                    -7.0809727,
                    -6.7333775,
                    -7.9536643,
                    -8.936282,
                    -7.4647245,
                    -8.138101
                  ],
                  "z": [
                    1.0174187,
                    -0.049731355,
                    -0.76912564,
                    1.8216646,
                    1.2603918,
                    1.7705468,
                    1.3356005,
                    1.3611187,
                    1.3573649,
                    1.1096985,
                    0.336462,
                    0.000980483,
                    -0.9271451,
                    1.0369191,
                    1.1404138,
                    0.52628404,
                    0.44326937,
                    0.33743277,
                    0.26033977,
                    -0.0024347762,
                    -0.2178152,
                    1.1003662,
                    1.3761728,
                    1.6335597,
                    -0.01919053,
                    1.4122258,
                    0.102469854,
                    1.2524014,
                    1.1456643,
                    1.1583717,
                    0.09267464,
                    1.3972576,
                    0.4593011,
                    1.336965,
                    0.049325474,
                    0.5954141,
                    0.61460274,
                    1.1228389,
                    0.8210575,
                    0.98359054,
                    0.21543184,
                    1.4091145,
                    1.0257118,
                    0.15399097,
                    1.5697963,
                    1.215536,
                    0.043406975,
                    1.2140355,
                    -0.12179628,
                    1.0084901,
                    1.3342494,
                    1.3827138,
                    1.0598365,
                    1.3638433,
                    1.2772834,
                    1.0641865,
                    -0.030510386,
                    0.11638006,
                    0.31586614,
                    1.2255138,
                    -0.30456066,
                    -0.10181547,
                    0.18412228,
                    0.77011824,
                    0.17948176,
                    0.043290127,
                    0.07139739,
                    1.2199458,
                    1.263136,
                    0.64933985,
                    0.6642657,
                    0.18643522,
                    1.1404407,
                    0.7110135,
                    1.26698,
                    -0.16235386,
                    0.17605273,
                    1.1586668,
                    -0.80683744,
                    0.2972283,
                    1.5032263,
                    1.1940982,
                    1.2756053,
                    1.1094173,
                    1.308424,
                    0.19780457,
                    0.7690128,
                    0.78095436,
                    0.7156023,
                    0.15750466,
                    0.72375935,
                    0.84721035,
                    0.087504975,
                    0.27359858,
                    0.49028626,
                    0.59145665,
                    0.87580884,
                    0.9014174,
                    0.47284317,
                    0.7285283,
                    1.3690296,
                    1.381182,
                    1.7171652,
                    -0.038598217,
                    1.1304922,
                    1.096771,
                    1.534296,
                    1.4608914,
                    0.68879414,
                    1.4291621,
                    1.761448,
                    1.7495272,
                    1.1293428,
                    1.4171771,
                    1.0539483,
                    1.449217,
                    0.93391,
                    1.0696326,
                    1.2645588,
                    1.3426335,
                    1.3316754,
                    0.40075514,
                    1.1620258,
                    1.5708921,
                    1.5488222,
                    0.4319792,
                    0.5889843,
                    1.4287672,
                    1.4423667,
                    1.6537734,
                    1.3795437,
                    -1.0507044,
                    -0.7299576,
                    0.71084785,
                    0.2892249,
                    1.2344277,
                    1.2089049,
                    -0.10293089,
                    0.85020083,
                    0.94112563,
                    1.0521578,
                    -0.82893664,
                    0.25102523,
                    1.071913,
                    1.0375992,
                    1.2688131,
                    1.2043288,
                    -0.26376954,
                    1.7275017,
                    1.7981725,
                    1.8087707,
                    1.1855661,
                    -1.1114585,
                    -0.76030123,
                    1.5348568,
                    -0.40233672,
                    -0.4078921,
                    1.2012485,
                    -1.0178818,
                    1.63539,
                    1.81992,
                    0.9778301,
                    1.0872517,
                    1.784213,
                    0.9085187,
                    -0.23502506,
                    -0.64912325,
                    -0.36618787,
                    -0.7728133,
                    0.9998019,
                    0.51395106,
                    1.2796613,
                    0.73863614,
                    1.021673,
                    -0.10532273,
                    -0.21033032,
                    0.586857,
                    0.758436,
                    1.4146062,
                    -0.6356601,
                    0.8718695,
                    1.1726601,
                    1.6961106,
                    1.8220996,
                    1.3270648,
                    1.748402
                  ]
                }
              ],
              "layout": {
                "height": 800,
                "legend": {
                  "title": {
                    "text": "Cluster"
                  },
                  "tracegroupgap": 0
                },
                "scene": {
                  "domain": {
                    "x": [
                      0,
                      1
                    ],
                    "y": [
                      0,
                      1
                    ]
                  },
                  "xaxis": {
                    "title": {
                      "text": "0"
                    }
                  },
                  "yaxis": {
                    "title": {
                      "text": "1"
                    }
                  },
                  "zaxis": {
                    "title": {
                      "text": "2"
                    }
                  }
                },
                "template": {
                  "data": {
                    "bar": [
                      {
                        "error_x": {
                          "color": "#2a3f5f"
                        },
                        "error_y": {
                          "color": "#2a3f5f"
                        },
                        "marker": {
                          "line": {
                            "color": "#E5ECF6",
                            "width": 0.5
                          },
                          "pattern": {
                            "fillmode": "overlay",
                            "size": 10,
                            "solidity": 0.2
                          }
                        },
                        "type": "bar"
                      }
                    ],
                    "barpolar": [
                      {
                        "marker": {
                          "line": {
                            "color": "#E5ECF6",
                            "width": 0.5
                          },
                          "pattern": {
                            "fillmode": "overlay",
                            "size": 10,
                            "solidity": 0.2
                          }
                        },
                        "type": "barpolar"
                      }
                    ],
                    "carpet": [
                      {
                        "aaxis": {
                          "endlinecolor": "#2a3f5f",
                          "gridcolor": "white",
                          "linecolor": "white",
                          "minorgridcolor": "white",
                          "startlinecolor": "#2a3f5f"
                        },
                        "baxis": {
                          "endlinecolor": "#2a3f5f",
                          "gridcolor": "white",
                          "linecolor": "white",
                          "minorgridcolor": "white",
                          "startlinecolor": "#2a3f5f"
                        },
                        "type": "carpet"
                      }
                    ],
                    "choropleth": [
                      {
                        "colorbar": {
                          "outlinewidth": 0,
                          "ticks": ""
                        },
                        "type": "choropleth"
                      }
                    ],
                    "contour": [
                      {
                        "colorbar": {
                          "outlinewidth": 0,
                          "ticks": ""
                        },
                        "colorscale": [
                          [
                            0,
                            "#0d0887"
                          ],
                          [
                            0.1111111111111111,
                            "#46039f"
                          ],
                          [
                            0.2222222222222222,
                            "#7201a8"
                          ],
                          [
                            0.3333333333333333,
                            "#9c179e"
                          ],
                          [
                            0.4444444444444444,
                            "#bd3786"
                          ],
                          [
                            0.5555555555555556,
                            "#d8576b"
                          ],
                          [
                            0.6666666666666666,
                            "#ed7953"
                          ],
                          [
                            0.7777777777777778,
                            "#fb9f3a"
                          ],
                          [
                            0.8888888888888888,
                            "#fdca26"
                          ],
                          [
                            1,
                            "#f0f921"
                          ]
                        ],
                        "type": "contour"
                      }
                    ],
                    "contourcarpet": [
                      {
                        "colorbar": {
                          "outlinewidth": 0,
                          "ticks": ""
                        },
                        "type": "contourcarpet"
                      }
                    ],
                    "heatmap": [
                      {
                        "colorbar": {
                          "outlinewidth": 0,
                          "ticks": ""
                        },
                        "colorscale": [
                          [
                            0,
                            "#0d0887"
                          ],
                          [
                            0.1111111111111111,
                            "#46039f"
                          ],
                          [
                            0.2222222222222222,
                            "#7201a8"
                          ],
                          [
                            0.3333333333333333,
                            "#9c179e"
                          ],
                          [
                            0.4444444444444444,
                            "#bd3786"
                          ],
                          [
                            0.5555555555555556,
                            "#d8576b"
                          ],
                          [
                            0.6666666666666666,
                            "#ed7953"
                          ],
                          [
                            0.7777777777777778,
                            "#fb9f3a"
                          ],
                          [
                            0.8888888888888888,
                            "#fdca26"
                          ],
                          [
                            1,
                            "#f0f921"
                          ]
                        ],
                        "type": "heatmap"
                      }
                    ],
                    "heatmapgl": [
                      {
                        "colorbar": {
                          "outlinewidth": 0,
                          "ticks": ""
                        },
                        "colorscale": [
                          [
                            0,
                            "#0d0887"
                          ],
                          [
                            0.1111111111111111,
                            "#46039f"
                          ],
                          [
                            0.2222222222222222,
                            "#7201a8"
                          ],
                          [
                            0.3333333333333333,
                            "#9c179e"
                          ],
                          [
                            0.4444444444444444,
                            "#bd3786"
                          ],
                          [
                            0.5555555555555556,
                            "#d8576b"
                          ],
                          [
                            0.6666666666666666,
                            "#ed7953"
                          ],
                          [
                            0.7777777777777778,
                            "#fb9f3a"
                          ],
                          [
                            0.8888888888888888,
                            "#fdca26"
                          ],
                          [
                            1,
                            "#f0f921"
                          ]
                        ],
                        "type": "heatmapgl"
                      }
                    ],
                    "histogram": [
                      {
                        "marker": {
                          "pattern": {
                            "fillmode": "overlay",
                            "size": 10,
                            "solidity": 0.2
                          }
                        },
                        "type": "histogram"
                      }
                    ],
                    "histogram2d": [
                      {
                        "colorbar": {
                          "outlinewidth": 0,
                          "ticks": ""
                        },
                        "colorscale": [
                          [
                            0,
                            "#0d0887"
                          ],
                          [
                            0.1111111111111111,
                            "#46039f"
                          ],
                          [
                            0.2222222222222222,
                            "#7201a8"
                          ],
                          [
                            0.3333333333333333,
                            "#9c179e"
                          ],
                          [
                            0.4444444444444444,
                            "#bd3786"
                          ],
                          [
                            0.5555555555555556,
                            "#d8576b"
                          ],
                          [
                            0.6666666666666666,
                            "#ed7953"
                          ],
                          [
                            0.7777777777777778,
                            "#fb9f3a"
                          ],
                          [
                            0.8888888888888888,
                            "#fdca26"
                          ],
                          [
                            1,
                            "#f0f921"
                          ]
                        ],
                        "type": "histogram2d"
                      }
                    ],
                    "histogram2dcontour": [
                      {
                        "colorbar": {
                          "outlinewidth": 0,
                          "ticks": ""
                        },
                        "colorscale": [
                          [
                            0,
                            "#0d0887"
                          ],
                          [
                            0.1111111111111111,
                            "#46039f"
                          ],
                          [
                            0.2222222222222222,
                            "#7201a8"
                          ],
                          [
                            0.3333333333333333,
                            "#9c179e"
                          ],
                          [
                            0.4444444444444444,
                            "#bd3786"
                          ],
                          [
                            0.5555555555555556,
                            "#d8576b"
                          ],
                          [
                            0.6666666666666666,
                            "#ed7953"
                          ],
                          [
                            0.7777777777777778,
                            "#fb9f3a"
                          ],
                          [
                            0.8888888888888888,
                            "#fdca26"
                          ],
                          [
                            1,
                            "#f0f921"
                          ]
                        ],
                        "type": "histogram2dcontour"
                      }
                    ],
                    "mesh3d": [
                      {
                        "colorbar": {
                          "outlinewidth": 0,
                          "ticks": ""
                        },
                        "type": "mesh3d"
                      }
                    ],
                    "parcoords": [
                      {
                        "line": {
                          "colorbar": {
                            "outlinewidth": 0,
                            "ticks": ""
                          }
                        },
                        "type": "parcoords"
                      }
                    ],
                    "pie": [
                      {
                        "automargin": true,
                        "type": "pie"
                      }
                    ],
                    "scatter": [
                      {
                        "fillpattern": {
                          "fillmode": "overlay",
                          "size": 10,
                          "solidity": 0.2
                        },
                        "type": "scatter"
                      }
                    ],
                    "scatter3d": [
                      {
                        "line": {
                          "colorbar": {
                            "outlinewidth": 0,
                            "ticks": ""
                          }
                        },
                        "marker": {
                          "colorbar": {
                            "outlinewidth": 0,
                            "ticks": ""
                          }
                        },
                        "type": "scatter3d"
                      }
                    ],
                    "scattercarpet": [
                      {
                        "marker": {
                          "colorbar": {
                            "outlinewidth": 0,
                            "ticks": ""
                          }
                        },
                        "type": "scattercarpet"
                      }
                    ],
                    "scattergeo": [
                      {
                        "marker": {
                          "colorbar": {
                            "outlinewidth": 0,
                            "ticks": ""
                          }
                        },
                        "type": "scattergeo"
                      }
                    ],
                    "scattergl": [
                      {
                        "marker": {
                          "colorbar": {
                            "outlinewidth": 0,
                            "ticks": ""
                          }
                        },
                        "type": "scattergl"
                      }
                    ],
                    "scattermapbox": [
                      {
                        "marker": {
                          "colorbar": {
                            "outlinewidth": 0,
                            "ticks": ""
                          }
                        },
                        "type": "scattermapbox"
                      }
                    ],
                    "scatterpolar": [
                      {
                        "marker": {
                          "colorbar": {
                            "outlinewidth": 0,
                            "ticks": ""
                          }
                        },
                        "type": "scatterpolar"
                      }
                    ],
                    "scatterpolargl": [
                      {
                        "marker": {
                          "colorbar": {
                            "outlinewidth": 0,
                            "ticks": ""
                          }
                        },
                        "type": "scatterpolargl"
                      }
                    ],
                    "scatterternary": [
                      {
                        "marker": {
                          "colorbar": {
                            "outlinewidth": 0,
                            "ticks": ""
                          }
                        },
                        "type": "scatterternary"
                      }
                    ],
                    "surface": [
                      {
                        "colorbar": {
                          "outlinewidth": 0,
                          "ticks": ""
                        },
                        "colorscale": [
                          [
                            0,
                            "#0d0887"
                          ],
                          [
                            0.1111111111111111,
                            "#46039f"
                          ],
                          [
                            0.2222222222222222,
                            "#7201a8"
                          ],
                          [
                            0.3333333333333333,
                            "#9c179e"
                          ],
                          [
                            0.4444444444444444,
                            "#bd3786"
                          ],
                          [
                            0.5555555555555556,
                            "#d8576b"
                          ],
                          [
                            0.6666666666666666,
                            "#ed7953"
                          ],
                          [
                            0.7777777777777778,
                            "#fb9f3a"
                          ],
                          [
                            0.8888888888888888,
                            "#fdca26"
                          ],
                          [
                            1,
                            "#f0f921"
                          ]
                        ],
                        "type": "surface"
                      }
                    ],
                    "table": [
                      {
                        "cells": {
                          "fill": {
                            "color": "#EBF0F8"
                          },
                          "line": {
                            "color": "white"
                          }
                        },
                        "header": {
                          "fill": {
                            "color": "#C8D4E3"
                          },
                          "line": {
                            "color": "white"
                          }
                        },
                        "type": "table"
                      }
                    ]
                  },
                  "layout": {
                    "annotationdefaults": {
                      "arrowcolor": "#2a3f5f",
                      "arrowhead": 0,
                      "arrowwidth": 1
                    },
                    "autotypenumbers": "strict",
                    "coloraxis": {
                      "colorbar": {
                        "outlinewidth": 0,
                        "ticks": ""
                      }
                    },
                    "colorscale": {
                      "diverging": [
                        [
                          0,
                          "#8e0152"
                        ],
                        [
                          0.1,
                          "#c51b7d"
                        ],
                        [
                          0.2,
                          "#de77ae"
                        ],
                        [
                          0.3,
                          "#f1b6da"
                        ],
                        [
                          0.4,
                          "#fde0ef"
                        ],
                        [
                          0.5,
                          "#f7f7f7"
                        ],
                        [
                          0.6,
                          "#e6f5d0"
                        ],
                        [
                          0.7,
                          "#b8e186"
                        ],
                        [
                          0.8,
                          "#7fbc41"
                        ],
                        [
                          0.9,
                          "#4d9221"
                        ],
                        [
                          1,
                          "#276419"
                        ]
                      ],
                      "sequential": [
                        [
                          0,
                          "#0d0887"
                        ],
                        [
                          0.1111111111111111,
                          "#46039f"
                        ],
                        [
                          0.2222222222222222,
                          "#7201a8"
                        ],
                        [
                          0.3333333333333333,
                          "#9c179e"
                        ],
                        [
                          0.4444444444444444,
                          "#bd3786"
                        ],
                        [
                          0.5555555555555556,
                          "#d8576b"
                        ],
                        [
                          0.6666666666666666,
                          "#ed7953"
                        ],
                        [
                          0.7777777777777778,
                          "#fb9f3a"
                        ],
                        [
                          0.8888888888888888,
                          "#fdca26"
                        ],
                        [
                          1,
                          "#f0f921"
                        ]
                      ],
                      "sequentialminus": [
                        [
                          0,
                          "#0d0887"
                        ],
                        [
                          0.1111111111111111,
                          "#46039f"
                        ],
                        [
                          0.2222222222222222,
                          "#7201a8"
                        ],
                        [
                          0.3333333333333333,
                          "#9c179e"
                        ],
                        [
                          0.4444444444444444,
                          "#bd3786"
                        ],
                        [
                          0.5555555555555556,
                          "#d8576b"
                        ],
                        [
                          0.6666666666666666,
                          "#ed7953"
                        ],
                        [
                          0.7777777777777778,
                          "#fb9f3a"
                        ],
                        [
                          0.8888888888888888,
                          "#fdca26"
                        ],
                        [
                          1,
                          "#f0f921"
                        ]
                      ]
                    },
                    "colorway": [
                      "#636efa",
                      "#EF553B",
                      "#00cc96",
                      "#ab63fa",
                      "#FFA15A",
                      "#19d3f3",
                      "#FF6692",
                      "#B6E880",
                      "#FF97FF",
                      "#FECB52"
                    ],
                    "font": {
                      "color": "#2a3f5f"
                    },
                    "geo": {
                      "bgcolor": "white",
                      "lakecolor": "white",
                      "landcolor": "#E5ECF6",
                      "showlakes": true,
                      "showland": true,
                      "subunitcolor": "white"
                    },
                    "hoverlabel": {
                      "align": "left"
                    },
                    "hovermode": "closest",
                    "mapbox": {
                      "style": "light"
                    },
                    "paper_bgcolor": "white",
                    "plot_bgcolor": "#E5ECF6",
                    "polar": {
                      "angularaxis": {
                        "gridcolor": "white",
                        "linecolor": "white",
                        "ticks": ""
                      },
                      "bgcolor": "#E5ECF6",
                      "radialaxis": {
                        "gridcolor": "white",
                        "linecolor": "white",
                        "ticks": ""
                      }
                    },
                    "scene": {
                      "xaxis": {
                        "backgroundcolor": "#E5ECF6",
                        "gridcolor": "white",
                        "gridwidth": 2,
                        "linecolor": "white",
                        "showbackground": true,
                        "ticks": "",
                        "zerolinecolor": "white"
                      },
                      "yaxis": {
                        "backgroundcolor": "#E5ECF6",
                        "gridcolor": "white",
                        "gridwidth": 2,
                        "linecolor": "white",
                        "showbackground": true,
                        "ticks": "",
                        "zerolinecolor": "white"
                      },
                      "zaxis": {
                        "backgroundcolor": "#E5ECF6",
                        "gridcolor": "white",
                        "gridwidth": 2,
                        "linecolor": "white",
                        "showbackground": true,
                        "ticks": "",
                        "zerolinecolor": "white"
                      }
                    },
                    "shapedefaults": {
                      "line": {
                        "color": "#2a3f5f"
                      }
                    },
                    "ternary": {
                      "aaxis": {
                        "gridcolor": "white",
                        "linecolor": "white",
                        "ticks": ""
                      },
                      "baxis": {
                        "gridcolor": "white",
                        "linecolor": "white",
                        "ticks": ""
                      },
                      "bgcolor": "#E5ECF6",
                      "caxis": {
                        "gridcolor": "white",
                        "linecolor": "white",
                        "ticks": ""
                      }
                    },
                    "title": {
                      "x": 0.05
                    },
                    "xaxis": {
                      "automargin": true,
                      "gridcolor": "white",
                      "linecolor": "white",
                      "ticks": "",
                      "title": {
                        "standoff": 15
                      },
                      "zerolinecolor": "white",
                      "zerolinewidth": 2
                    },
                    "yaxis": {
                      "automargin": true,
                      "gridcolor": "white",
                      "linecolor": "white",
                      "ticks": "",
                      "title": {
                        "standoff": 15
                      },
                      "zerolinecolor": "white",
                      "zerolinewidth": 2
                    }
                  }
                },
                "title": {
                  "text": "3d TSNE Plot for Clusters"
                },
                "width": 900
              }
            }
          },
          "metadata": {},
          "output_type": "display_data"
        }
      ],
      "source": [
        "plot_model(kmeans, plot = 'tsne')"
      ]
    }
  ],
  "metadata": {
    "colab": {
      "provenance": []
    },
    "kernelspec": {
      "display_name": "Python 3",
      "name": "python3"
    },
    "language_info": {
      "codemirror_mode": {
        "name": "ipython",
        "version": 3
      },
      "file_extension": ".py",
      "mimetype": "text/x-python",
      "name": "python",
      "nbconvert_exporter": "python",
      "pygments_lexer": "ipython3",
      "version": "3.11.5"
    },
    "widgets": {
      "application/vnd.jupyter.widget-state+json": {
        "06c3b305bf7b4b90a2343f5697823957": {
          "model_module": "@jupyter-widgets/base",
          "model_module_version": "1.2.0",
          "model_name": "LayoutModel",
          "state": {
            "_model_module": "@jupyter-widgets/base",
            "_model_module_version": "1.2.0",
            "_model_name": "LayoutModel",
            "_view_count": null,
            "_view_module": "@jupyter-widgets/base",
            "_view_module_version": "1.2.0",
            "_view_name": "LayoutView",
            "align_content": null,
            "align_items": null,
            "align_self": null,
            "border": null,
            "bottom": null,
            "display": null,
            "flex": null,
            "flex_flow": null,
            "grid_area": null,
            "grid_auto_columns": null,
            "grid_auto_flow": null,
            "grid_auto_rows": null,
            "grid_column": null,
            "grid_gap": null,
            "grid_row": null,
            "grid_template_areas": null,
            "grid_template_columns": null,
            "grid_template_rows": null,
            "height": null,
            "justify_content": null,
            "justify_items": null,
            "left": null,
            "margin": null,
            "max_height": null,
            "max_width": null,
            "min_height": null,
            "min_width": null,
            "object_fit": null,
            "object_position": null,
            "order": null,
            "overflow": null,
            "overflow_x": null,
            "overflow_y": null,
            "padding": null,
            "right": null,
            "top": null,
            "visibility": null,
            "width": null
          }
        },
        "09cb8af233ae4809b7ae8b2700d8f342": {
          "model_module": "@jupyter-widgets/controls",
          "model_module_version": "1.5.0",
          "model_name": "HTMLModel",
          "state": {
            "_dom_classes": [],
            "_model_module": "@jupyter-widgets/controls",
            "_model_module_version": "1.5.0",
            "_model_name": "HTMLModel",
            "_view_count": null,
            "_view_module": "@jupyter-widgets/controls",
            "_view_module_version": "1.5.0",
            "_view_name": "HTMLView",
            "description": "",
            "description_tooltip": null,
            "layout": "IPY_MODEL_ea3f2731ad2749c888defacb912878d1",
            "placeholder": "​",
            "style": "IPY_MODEL_ca9aef02537348d682fb3b673a683883",
            "value": "Processing:   0%"
          }
        },
        "11262b6a39de49fe9ac320a26c314650": {
          "model_module": "@jupyter-widgets/controls",
          "model_module_version": "1.5.0",
          "model_name": "ProgressStyleModel",
          "state": {
            "_model_module": "@jupyter-widgets/controls",
            "_model_module_version": "1.5.0",
            "_model_name": "ProgressStyleModel",
            "_view_count": null,
            "_view_module": "@jupyter-widgets/base",
            "_view_module_version": "1.2.0",
            "_view_name": "StyleView",
            "bar_color": null,
            "description_width": ""
          }
        },
        "137c63964f284766b9ae620a7f782d3f": {
          "model_module": "@jupyter-widgets/controls",
          "model_module_version": "1.5.0",
          "model_name": "HBoxModel",
          "state": {
            "_dom_classes": [],
            "_model_module": "@jupyter-widgets/controls",
            "_model_module_version": "1.5.0",
            "_model_name": "HBoxModel",
            "_view_count": null,
            "_view_module": "@jupyter-widgets/controls",
            "_view_module_version": "1.5.0",
            "_view_name": "HBoxView",
            "box_style": "",
            "children": [
              "IPY_MODEL_09cb8af233ae4809b7ae8b2700d8f342",
              "IPY_MODEL_735d2d1a45c1470e83cdf907aa5755fa",
              "IPY_MODEL_2eaecb9a99ed4147a51c613b9587c4f0"
            ],
            "layout": "IPY_MODEL_3ccf22dfed634fc5a51ea3f00776ef0c"
          }
        },
        "1ac57eab5aa04766921728c6aed918e8": {
          "model_module": "@jupyter-widgets/base",
          "model_module_version": "1.2.0",
          "model_name": "LayoutModel",
          "state": {
            "_model_module": "@jupyter-widgets/base",
            "_model_module_version": "1.2.0",
            "_model_name": "LayoutModel",
            "_view_count": null,
            "_view_module": "@jupyter-widgets/base",
            "_view_module_version": "1.2.0",
            "_view_name": "LayoutView",
            "align_content": null,
            "align_items": null,
            "align_self": null,
            "border": null,
            "bottom": null,
            "display": null,
            "flex": null,
            "flex_flow": null,
            "grid_area": null,
            "grid_auto_columns": null,
            "grid_auto_flow": null,
            "grid_auto_rows": null,
            "grid_column": null,
            "grid_gap": null,
            "grid_row": null,
            "grid_template_areas": null,
            "grid_template_columns": null,
            "grid_template_rows": null,
            "height": null,
            "justify_content": null,
            "justify_items": null,
            "left": null,
            "margin": null,
            "max_height": null,
            "max_width": null,
            "min_height": null,
            "min_width": null,
            "object_fit": null,
            "object_position": null,
            "order": null,
            "overflow": null,
            "overflow_x": null,
            "overflow_y": null,
            "padding": null,
            "right": null,
            "top": null,
            "visibility": null,
            "width": null
          }
        },
        "20667251f1794d1a88cd69ffe7fbd7bd": {
          "model_module": "@jupyter-widgets/controls",
          "model_module_version": "1.5.0",
          "model_name": "DescriptionStyleModel",
          "state": {
            "_model_module": "@jupyter-widgets/controls",
            "_model_module_version": "1.5.0",
            "_model_name": "DescriptionStyleModel",
            "_view_count": null,
            "_view_module": "@jupyter-widgets/base",
            "_view_module_version": "1.2.0",
            "_view_name": "StyleView",
            "description_width": ""
          }
        },
        "220a229802f64c9aa6d3395884f59693": {
          "model_module": "@jupyter-widgets/controls",
          "model_module_version": "1.5.0",
          "model_name": "FloatProgressModel",
          "state": {
            "_dom_classes": [],
            "_model_module": "@jupyter-widgets/controls",
            "_model_module_version": "1.5.0",
            "_model_name": "FloatProgressModel",
            "_view_count": null,
            "_view_module": "@jupyter-widgets/controls",
            "_view_module_version": "1.5.0",
            "_view_name": "ProgressView",
            "bar_style": "",
            "description": "",
            "description_tooltip": null,
            "layout": "IPY_MODEL_06c3b305bf7b4b90a2343f5697823957",
            "max": 65,
            "min": 0,
            "orientation": "horizontal",
            "style": "IPY_MODEL_5168a326e37f495893c228b283b5ca50",
            "value": 65
          }
        },
        "2728564234074c588856050d7bff84b2": {
          "model_module": "@jupyter-widgets/controls",
          "model_module_version": "1.5.0",
          "model_name": "HBoxModel",
          "state": {
            "_dom_classes": [],
            "_model_module": "@jupyter-widgets/controls",
            "_model_module_version": "1.5.0",
            "_model_name": "HBoxModel",
            "_view_count": null,
            "_view_module": "@jupyter-widgets/controls",
            "_view_module_version": "1.5.0",
            "_view_name": "HBoxView",
            "box_style": "",
            "children": [
              "IPY_MODEL_f6e682baa26d4ccda6b095c263cfc438",
              "IPY_MODEL_6e959f1339bc402abc75d86eed22d5c7",
              "IPY_MODEL_f266b333c69248dcba71381f7e12b5b1"
            ],
            "layout": "IPY_MODEL_4a8b7cb5cc144e438958c7ea8f601338"
          }
        },
        "2eaecb9a99ed4147a51c613b9587c4f0": {
          "model_module": "@jupyter-widgets/controls",
          "model_module_version": "1.5.0",
          "model_name": "HTMLModel",
          "state": {
            "_dom_classes": [],
            "_model_module": "@jupyter-widgets/controls",
            "_model_module_version": "1.5.0",
            "_model_name": "HTMLModel",
            "_view_count": null,
            "_view_module": "@jupyter-widgets/controls",
            "_view_module_version": "1.5.0",
            "_view_name": "HTMLView",
            "description": "",
            "description_tooltip": null,
            "layout": "IPY_MODEL_77ef5d26b5664327a88ef7691e102caa",
            "placeholder": "​",
            "style": "IPY_MODEL_876d47496e70430bba161428021f79f2",
            "value": " 0/4 [00:00&lt;?, ?it/s]"
          }
        },
        "3b2ac814f532463f8f1f1b5a0a332c9f": {
          "model_module": "@jupyter-widgets/base",
          "model_module_version": "1.2.0",
          "model_name": "LayoutModel",
          "state": {
            "_model_module": "@jupyter-widgets/base",
            "_model_module_version": "1.2.0",
            "_model_name": "LayoutModel",
            "_view_count": null,
            "_view_module": "@jupyter-widgets/base",
            "_view_module_version": "1.2.0",
            "_view_name": "LayoutView",
            "align_content": null,
            "align_items": null,
            "align_self": null,
            "border": null,
            "bottom": null,
            "display": null,
            "flex": null,
            "flex_flow": null,
            "grid_area": null,
            "grid_auto_columns": null,
            "grid_auto_flow": null,
            "grid_auto_rows": null,
            "grid_column": null,
            "grid_gap": null,
            "grid_row": null,
            "grid_template_areas": null,
            "grid_template_columns": null,
            "grid_template_rows": null,
            "height": null,
            "justify_content": null,
            "justify_items": null,
            "left": null,
            "margin": null,
            "max_height": null,
            "max_width": null,
            "min_height": null,
            "min_width": null,
            "object_fit": null,
            "object_position": null,
            "order": null,
            "overflow": null,
            "overflow_x": null,
            "overflow_y": null,
            "padding": null,
            "right": null,
            "top": null,
            "visibility": null,
            "width": null
          }
        },
        "3b7c254d47764ecbaa09d42f0b6d1fe8": {
          "model_module": "@jupyter-widgets/controls",
          "model_module_version": "1.5.0",
          "model_name": "DescriptionStyleModel",
          "state": {
            "_model_module": "@jupyter-widgets/controls",
            "_model_module_version": "1.5.0",
            "_model_name": "DescriptionStyleModel",
            "_view_count": null,
            "_view_module": "@jupyter-widgets/base",
            "_view_module_version": "1.2.0",
            "_view_name": "StyleView",
            "description_width": ""
          }
        },
        "3ccf22dfed634fc5a51ea3f00776ef0c": {
          "model_module": "@jupyter-widgets/base",
          "model_module_version": "1.2.0",
          "model_name": "LayoutModel",
          "state": {
            "_model_module": "@jupyter-widgets/base",
            "_model_module_version": "1.2.0",
            "_model_name": "LayoutModel",
            "_view_count": null,
            "_view_module": "@jupyter-widgets/base",
            "_view_module_version": "1.2.0",
            "_view_name": "LayoutView",
            "align_content": null,
            "align_items": null,
            "align_self": null,
            "border": null,
            "bottom": null,
            "display": null,
            "flex": null,
            "flex_flow": null,
            "grid_area": null,
            "grid_auto_columns": null,
            "grid_auto_flow": null,
            "grid_auto_rows": null,
            "grid_column": null,
            "grid_gap": null,
            "grid_row": null,
            "grid_template_areas": null,
            "grid_template_columns": null,
            "grid_template_rows": null,
            "height": null,
            "justify_content": null,
            "justify_items": null,
            "left": null,
            "margin": null,
            "max_height": null,
            "max_width": null,
            "min_height": null,
            "min_width": null,
            "object_fit": null,
            "object_position": null,
            "order": null,
            "overflow": null,
            "overflow_x": null,
            "overflow_y": null,
            "padding": null,
            "right": null,
            "top": null,
            "visibility": "hidden",
            "width": null
          }
        },
        "40c065bec8e84f0b9edac4860515eeca": {
          "model_module": "@jupyter-widgets/base",
          "model_module_version": "1.2.0",
          "model_name": "LayoutModel",
          "state": {
            "_model_module": "@jupyter-widgets/base",
            "_model_module_version": "1.2.0",
            "_model_name": "LayoutModel",
            "_view_count": null,
            "_view_module": "@jupyter-widgets/base",
            "_view_module_version": "1.2.0",
            "_view_name": "LayoutView",
            "align_content": null,
            "align_items": null,
            "align_self": null,
            "border": null,
            "bottom": null,
            "display": null,
            "flex": null,
            "flex_flow": null,
            "grid_area": null,
            "grid_auto_columns": null,
            "grid_auto_flow": null,
            "grid_auto_rows": null,
            "grid_column": null,
            "grid_gap": null,
            "grid_row": null,
            "grid_template_areas": null,
            "grid_template_columns": null,
            "grid_template_rows": null,
            "height": null,
            "justify_content": null,
            "justify_items": null,
            "left": null,
            "margin": null,
            "max_height": null,
            "max_width": null,
            "min_height": null,
            "min_width": null,
            "object_fit": null,
            "object_position": null,
            "order": null,
            "overflow": null,
            "overflow_x": null,
            "overflow_y": null,
            "padding": null,
            "right": null,
            "top": null,
            "visibility": null,
            "width": null
          }
        },
        "4a8b7cb5cc144e438958c7ea8f601338": {
          "model_module": "@jupyter-widgets/base",
          "model_module_version": "1.2.0",
          "model_name": "LayoutModel",
          "state": {
            "_model_module": "@jupyter-widgets/base",
            "_model_module_version": "1.2.0",
            "_model_name": "LayoutModel",
            "_view_count": null,
            "_view_module": "@jupyter-widgets/base",
            "_view_module_version": "1.2.0",
            "_view_name": "LayoutView",
            "align_content": null,
            "align_items": null,
            "align_self": null,
            "border": null,
            "bottom": null,
            "display": null,
            "flex": null,
            "flex_flow": null,
            "grid_area": null,
            "grid_auto_columns": null,
            "grid_auto_flow": null,
            "grid_auto_rows": null,
            "grid_column": null,
            "grid_gap": null,
            "grid_row": null,
            "grid_template_areas": null,
            "grid_template_columns": null,
            "grid_template_rows": null,
            "height": null,
            "justify_content": null,
            "justify_items": null,
            "left": null,
            "margin": null,
            "max_height": null,
            "max_width": null,
            "min_height": null,
            "min_width": null,
            "object_fit": null,
            "object_position": null,
            "order": null,
            "overflow": null,
            "overflow_x": null,
            "overflow_y": null,
            "padding": null,
            "right": null,
            "top": null,
            "visibility": "hidden",
            "width": null
          }
        },
        "5168a326e37f495893c228b283b5ca50": {
          "model_module": "@jupyter-widgets/controls",
          "model_module_version": "1.5.0",
          "model_name": "ProgressStyleModel",
          "state": {
            "_model_module": "@jupyter-widgets/controls",
            "_model_module_version": "1.5.0",
            "_model_name": "ProgressStyleModel",
            "_view_count": null,
            "_view_module": "@jupyter-widgets/base",
            "_view_module_version": "1.2.0",
            "_view_name": "StyleView",
            "bar_color": null,
            "description_width": ""
          }
        },
        "539bd04ad1d648f2ac1e3fd6cbd6faf5": {
          "model_module": "@jupyter-widgets/controls",
          "model_module_version": "1.5.0",
          "model_name": "ProgressStyleModel",
          "state": {
            "_model_module": "@jupyter-widgets/controls",
            "_model_module_version": "1.5.0",
            "_model_name": "ProgressStyleModel",
            "_view_count": null,
            "_view_module": "@jupyter-widgets/base",
            "_view_module_version": "1.2.0",
            "_view_name": "StyleView",
            "bar_color": null,
            "description_width": ""
          }
        },
        "5e25a8d89d424b20b5d8ac84d290a3cf": {
          "model_module": "@jupyter-widgets/base",
          "model_module_version": "1.2.0",
          "model_name": "LayoutModel",
          "state": {
            "_model_module": "@jupyter-widgets/base",
            "_model_module_version": "1.2.0",
            "_model_name": "LayoutModel",
            "_view_count": null,
            "_view_module": "@jupyter-widgets/base",
            "_view_module_version": "1.2.0",
            "_view_name": "LayoutView",
            "align_content": null,
            "align_items": null,
            "align_self": null,
            "border": null,
            "bottom": null,
            "display": null,
            "flex": null,
            "flex_flow": null,
            "grid_area": null,
            "grid_auto_columns": null,
            "grid_auto_flow": null,
            "grid_auto_rows": null,
            "grid_column": null,
            "grid_gap": null,
            "grid_row": null,
            "grid_template_areas": null,
            "grid_template_columns": null,
            "grid_template_rows": null,
            "height": null,
            "justify_content": null,
            "justify_items": null,
            "left": null,
            "margin": null,
            "max_height": null,
            "max_width": null,
            "min_height": null,
            "min_width": null,
            "object_fit": null,
            "object_position": null,
            "order": null,
            "overflow": null,
            "overflow_x": null,
            "overflow_y": null,
            "padding": null,
            "right": null,
            "top": null,
            "visibility": null,
            "width": null
          }
        },
        "6e959f1339bc402abc75d86eed22d5c7": {
          "model_module": "@jupyter-widgets/controls",
          "model_module_version": "1.5.0",
          "model_name": "FloatProgressModel",
          "state": {
            "_dom_classes": [],
            "_model_module": "@jupyter-widgets/controls",
            "_model_module_version": "1.5.0",
            "_model_name": "FloatProgressModel",
            "_view_count": null,
            "_view_module": "@jupyter-widgets/controls",
            "_view_module_version": "1.5.0",
            "_view_name": "ProgressView",
            "bar_style": "",
            "description": "",
            "description_tooltip": null,
            "layout": "IPY_MODEL_a3b749247e684b34a2c5b97bf21d76f9",
            "max": 3,
            "min": 0,
            "orientation": "horizontal",
            "style": "IPY_MODEL_11262b6a39de49fe9ac320a26c314650",
            "value": 3
          }
        },
        "735d2d1a45c1470e83cdf907aa5755fa": {
          "model_module": "@jupyter-widgets/controls",
          "model_module_version": "1.5.0",
          "model_name": "FloatProgressModel",
          "state": {
            "_dom_classes": [],
            "_model_module": "@jupyter-widgets/controls",
            "_model_module_version": "1.5.0",
            "_model_name": "FloatProgressModel",
            "_view_count": null,
            "_view_module": "@jupyter-widgets/controls",
            "_view_module_version": "1.5.0",
            "_view_name": "ProgressView",
            "bar_style": "",
            "description": "",
            "description_tooltip": null,
            "layout": "IPY_MODEL_7513b2a8ff51468bbbf9ce1c7501b898",
            "max": 4,
            "min": 0,
            "orientation": "horizontal",
            "style": "IPY_MODEL_e34ad792bf7847fbb3b347d02df340b3",
            "value": 4
          }
        },
        "74548851d14d4651bd4c433f4d00fab5": {
          "model_module": "@jupyter-widgets/controls",
          "model_module_version": "1.5.0",
          "model_name": "DescriptionStyleModel",
          "state": {
            "_model_module": "@jupyter-widgets/controls",
            "_model_module_version": "1.5.0",
            "_model_name": "DescriptionStyleModel",
            "_view_count": null,
            "_view_module": "@jupyter-widgets/base",
            "_view_module_version": "1.2.0",
            "_view_name": "StyleView",
            "description_width": ""
          }
        },
        "7513b2a8ff51468bbbf9ce1c7501b898": {
          "model_module": "@jupyter-widgets/base",
          "model_module_version": "1.2.0",
          "model_name": "LayoutModel",
          "state": {
            "_model_module": "@jupyter-widgets/base",
            "_model_module_version": "1.2.0",
            "_model_name": "LayoutModel",
            "_view_count": null,
            "_view_module": "@jupyter-widgets/base",
            "_view_module_version": "1.2.0",
            "_view_name": "LayoutView",
            "align_content": null,
            "align_items": null,
            "align_self": null,
            "border": null,
            "bottom": null,
            "display": null,
            "flex": null,
            "flex_flow": null,
            "grid_area": null,
            "grid_auto_columns": null,
            "grid_auto_flow": null,
            "grid_auto_rows": null,
            "grid_column": null,
            "grid_gap": null,
            "grid_row": null,
            "grid_template_areas": null,
            "grid_template_columns": null,
            "grid_template_rows": null,
            "height": null,
            "justify_content": null,
            "justify_items": null,
            "left": null,
            "margin": null,
            "max_height": null,
            "max_width": null,
            "min_height": null,
            "min_width": null,
            "object_fit": null,
            "object_position": null,
            "order": null,
            "overflow": null,
            "overflow_x": null,
            "overflow_y": null,
            "padding": null,
            "right": null,
            "top": null,
            "visibility": null,
            "width": null
          }
        },
        "77ef5d26b5664327a88ef7691e102caa": {
          "model_module": "@jupyter-widgets/base",
          "model_module_version": "1.2.0",
          "model_name": "LayoutModel",
          "state": {
            "_model_module": "@jupyter-widgets/base",
            "_model_module_version": "1.2.0",
            "_model_name": "LayoutModel",
            "_view_count": null,
            "_view_module": "@jupyter-widgets/base",
            "_view_module_version": "1.2.0",
            "_view_name": "LayoutView",
            "align_content": null,
            "align_items": null,
            "align_self": null,
            "border": null,
            "bottom": null,
            "display": null,
            "flex": null,
            "flex_flow": null,
            "grid_area": null,
            "grid_auto_columns": null,
            "grid_auto_flow": null,
            "grid_auto_rows": null,
            "grid_column": null,
            "grid_gap": null,
            "grid_row": null,
            "grid_template_areas": null,
            "grid_template_columns": null,
            "grid_template_rows": null,
            "height": null,
            "justify_content": null,
            "justify_items": null,
            "left": null,
            "margin": null,
            "max_height": null,
            "max_width": null,
            "min_height": null,
            "min_width": null,
            "object_fit": null,
            "object_position": null,
            "order": null,
            "overflow": null,
            "overflow_x": null,
            "overflow_y": null,
            "padding": null,
            "right": null,
            "top": null,
            "visibility": null,
            "width": null
          }
        },
        "7af5442f92ce4d32b73a23919d452ce5": {
          "model_module": "@jupyter-widgets/controls",
          "model_module_version": "1.5.0",
          "model_name": "HTMLModel",
          "state": {
            "_dom_classes": [],
            "_model_module": "@jupyter-widgets/controls",
            "_model_module_version": "1.5.0",
            "_model_name": "HTMLModel",
            "_view_count": null,
            "_view_module": "@jupyter-widgets/controls",
            "_view_module_version": "1.5.0",
            "_view_name": "HTMLView",
            "description": "",
            "description_tooltip": null,
            "layout": "IPY_MODEL_bb1daf069e5341edadab89d6998c344c",
            "placeholder": "​",
            "style": "IPY_MODEL_74548851d14d4651bd4c433f4d00fab5",
            "value": " 4/81 [02:53&lt;55:40, 43.39s/it]"
          }
        },
        "7f121dce8ab44a53ae5b883057cd3869": {
          "model_module": "@jupyter-widgets/controls",
          "model_module_version": "1.5.0",
          "model_name": "HTMLModel",
          "state": {
            "_dom_classes": [],
            "_model_module": "@jupyter-widgets/controls",
            "_model_module_version": "1.5.0",
            "_model_name": "HTMLModel",
            "_view_count": null,
            "_view_module": "@jupyter-widgets/controls",
            "_view_module_version": "1.5.0",
            "_view_name": "HTMLView",
            "description": "",
            "description_tooltip": null,
            "layout": "IPY_MODEL_40c065bec8e84f0b9edac4860515eeca",
            "placeholder": "​",
            "style": "IPY_MODEL_9553e71f5edf44068ebc75edeb8af0d7",
            "value": "Processing:   5%"
          }
        },
        "81612a5f2b0e4904bb66441384976317": {
          "model_module": "@jupyter-widgets/controls",
          "model_module_version": "1.5.0",
          "model_name": "HBoxModel",
          "state": {
            "_dom_classes": [],
            "_model_module": "@jupyter-widgets/controls",
            "_model_module_version": "1.5.0",
            "_model_name": "HBoxModel",
            "_view_count": null,
            "_view_module": "@jupyter-widgets/controls",
            "_view_module_version": "1.5.0",
            "_view_name": "HBoxView",
            "box_style": "",
            "children": [
              "IPY_MODEL_bb64774798b2423abf6317e33bb68205",
              "IPY_MODEL_220a229802f64c9aa6d3395884f59693",
              "IPY_MODEL_b4a8c30a328e48f5a96d2f95255fdab2"
            ],
            "layout": "IPY_MODEL_bad769505f314985bc35fd9c6babd837"
          }
        },
        "83dd66e124a64621a40e0c7772ec2bd3": {
          "model_module": "@jupyter-widgets/controls",
          "model_module_version": "1.5.0",
          "model_name": "DescriptionStyleModel",
          "state": {
            "_model_module": "@jupyter-widgets/controls",
            "_model_module_version": "1.5.0",
            "_model_name": "DescriptionStyleModel",
            "_view_count": null,
            "_view_module": "@jupyter-widgets/base",
            "_view_module_version": "1.2.0",
            "_view_name": "StyleView",
            "description_width": ""
          }
        },
        "876d47496e70430bba161428021f79f2": {
          "model_module": "@jupyter-widgets/controls",
          "model_module_version": "1.5.0",
          "model_name": "DescriptionStyleModel",
          "state": {
            "_model_module": "@jupyter-widgets/controls",
            "_model_module_version": "1.5.0",
            "_model_name": "DescriptionStyleModel",
            "_view_count": null,
            "_view_module": "@jupyter-widgets/base",
            "_view_module_version": "1.2.0",
            "_view_name": "StyleView",
            "description_width": ""
          }
        },
        "91fadb3bf1714e06a85c1fbbce469756": {
          "model_module": "@jupyter-widgets/base",
          "model_module_version": "1.2.0",
          "model_name": "LayoutModel",
          "state": {
            "_model_module": "@jupyter-widgets/base",
            "_model_module_version": "1.2.0",
            "_model_name": "LayoutModel",
            "_view_count": null,
            "_view_module": "@jupyter-widgets/base",
            "_view_module_version": "1.2.0",
            "_view_name": "LayoutView",
            "align_content": null,
            "align_items": null,
            "align_self": null,
            "border": null,
            "bottom": null,
            "display": null,
            "flex": null,
            "flex_flow": null,
            "grid_area": null,
            "grid_auto_columns": null,
            "grid_auto_flow": null,
            "grid_auto_rows": null,
            "grid_column": null,
            "grid_gap": null,
            "grid_row": null,
            "grid_template_areas": null,
            "grid_template_columns": null,
            "grid_template_rows": null,
            "height": null,
            "justify_content": null,
            "justify_items": null,
            "left": null,
            "margin": null,
            "max_height": null,
            "max_width": null,
            "min_height": null,
            "min_width": null,
            "object_fit": null,
            "object_position": null,
            "order": null,
            "overflow": null,
            "overflow_x": null,
            "overflow_y": null,
            "padding": null,
            "right": null,
            "top": null,
            "visibility": null,
            "width": null
          }
        },
        "9553e71f5edf44068ebc75edeb8af0d7": {
          "model_module": "@jupyter-widgets/controls",
          "model_module_version": "1.5.0",
          "model_name": "DescriptionStyleModel",
          "state": {
            "_model_module": "@jupyter-widgets/controls",
            "_model_module_version": "1.5.0",
            "_model_name": "DescriptionStyleModel",
            "_view_count": null,
            "_view_module": "@jupyter-widgets/base",
            "_view_module_version": "1.2.0",
            "_view_name": "StyleView",
            "description_width": ""
          }
        },
        "a0e49620f8684ce2803122a0808265fe": {
          "model_module": "@jupyter-widgets/controls",
          "model_module_version": "1.5.0",
          "model_name": "DescriptionStyleModel",
          "state": {
            "_model_module": "@jupyter-widgets/controls",
            "_model_module_version": "1.5.0",
            "_model_name": "DescriptionStyleModel",
            "_view_count": null,
            "_view_module": "@jupyter-widgets/base",
            "_view_module_version": "1.2.0",
            "_view_name": "StyleView",
            "description_width": ""
          }
        },
        "a3b749247e684b34a2c5b97bf21d76f9": {
          "model_module": "@jupyter-widgets/base",
          "model_module_version": "1.2.0",
          "model_name": "LayoutModel",
          "state": {
            "_model_module": "@jupyter-widgets/base",
            "_model_module_version": "1.2.0",
            "_model_name": "LayoutModel",
            "_view_count": null,
            "_view_module": "@jupyter-widgets/base",
            "_view_module_version": "1.2.0",
            "_view_name": "LayoutView",
            "align_content": null,
            "align_items": null,
            "align_self": null,
            "border": null,
            "bottom": null,
            "display": null,
            "flex": null,
            "flex_flow": null,
            "grid_area": null,
            "grid_auto_columns": null,
            "grid_auto_flow": null,
            "grid_auto_rows": null,
            "grid_column": null,
            "grid_gap": null,
            "grid_row": null,
            "grid_template_areas": null,
            "grid_template_columns": null,
            "grid_template_rows": null,
            "height": null,
            "justify_content": null,
            "justify_items": null,
            "left": null,
            "margin": null,
            "max_height": null,
            "max_width": null,
            "min_height": null,
            "min_width": null,
            "object_fit": null,
            "object_position": null,
            "order": null,
            "overflow": null,
            "overflow_x": null,
            "overflow_y": null,
            "padding": null,
            "right": null,
            "top": null,
            "visibility": null,
            "width": null
          }
        },
        "aa08b6c9bd984d9c92dc02c7a0b9fc2e": {
          "model_module": "@jupyter-widgets/controls",
          "model_module_version": "1.5.0",
          "model_name": "FloatProgressModel",
          "state": {
            "_dom_classes": [],
            "_model_module": "@jupyter-widgets/controls",
            "_model_module_version": "1.5.0",
            "_model_name": "FloatProgressModel",
            "_view_count": null,
            "_view_module": "@jupyter-widgets/controls",
            "_view_module_version": "1.5.0",
            "_view_name": "ProgressView",
            "bar_style": "danger",
            "description": "",
            "description_tooltip": null,
            "layout": "IPY_MODEL_5e25a8d89d424b20b5d8ac84d290a3cf",
            "max": 81,
            "min": 0,
            "orientation": "horizontal",
            "style": "IPY_MODEL_539bd04ad1d648f2ac1e3fd6cbd6faf5",
            "value": 4
          }
        },
        "b4a8c30a328e48f5a96d2f95255fdab2": {
          "model_module": "@jupyter-widgets/controls",
          "model_module_version": "1.5.0",
          "model_name": "HTMLModel",
          "state": {
            "_dom_classes": [],
            "_model_module": "@jupyter-widgets/controls",
            "_model_module_version": "1.5.0",
            "_model_name": "HTMLModel",
            "_view_count": null,
            "_view_module": "@jupyter-widgets/controls",
            "_view_module_version": "1.5.0",
            "_view_name": "HTMLView",
            "description": "",
            "description_tooltip": null,
            "layout": "IPY_MODEL_f0397b41e8fd48cf91a10b1e981ac434",
            "placeholder": "​",
            "style": "IPY_MODEL_20667251f1794d1a88cd69ffe7fbd7bd",
            "value": " 65/65 [00:26&lt;00:00,  2.75it/s]"
          }
        },
        "bad769505f314985bc35fd9c6babd837": {
          "model_module": "@jupyter-widgets/base",
          "model_module_version": "1.2.0",
          "model_name": "LayoutModel",
          "state": {
            "_model_module": "@jupyter-widgets/base",
            "_model_module_version": "1.2.0",
            "_model_name": "LayoutModel",
            "_view_count": null,
            "_view_module": "@jupyter-widgets/base",
            "_view_module_version": "1.2.0",
            "_view_name": "LayoutView",
            "align_content": null,
            "align_items": null,
            "align_self": null,
            "border": null,
            "bottom": null,
            "display": null,
            "flex": null,
            "flex_flow": null,
            "grid_area": null,
            "grid_auto_columns": null,
            "grid_auto_flow": null,
            "grid_auto_rows": null,
            "grid_column": null,
            "grid_gap": null,
            "grid_row": null,
            "grid_template_areas": null,
            "grid_template_columns": null,
            "grid_template_rows": null,
            "height": null,
            "justify_content": null,
            "justify_items": null,
            "left": null,
            "margin": null,
            "max_height": null,
            "max_width": null,
            "min_height": null,
            "min_width": null,
            "object_fit": null,
            "object_position": null,
            "order": null,
            "overflow": null,
            "overflow_x": null,
            "overflow_y": null,
            "padding": null,
            "right": null,
            "top": null,
            "visibility": "hidden",
            "width": null
          }
        },
        "bb1daf069e5341edadab89d6998c344c": {
          "model_module": "@jupyter-widgets/base",
          "model_module_version": "1.2.0",
          "model_name": "LayoutModel",
          "state": {
            "_model_module": "@jupyter-widgets/base",
            "_model_module_version": "1.2.0",
            "_model_name": "LayoutModel",
            "_view_count": null,
            "_view_module": "@jupyter-widgets/base",
            "_view_module_version": "1.2.0",
            "_view_name": "LayoutView",
            "align_content": null,
            "align_items": null,
            "align_self": null,
            "border": null,
            "bottom": null,
            "display": null,
            "flex": null,
            "flex_flow": null,
            "grid_area": null,
            "grid_auto_columns": null,
            "grid_auto_flow": null,
            "grid_auto_rows": null,
            "grid_column": null,
            "grid_gap": null,
            "grid_row": null,
            "grid_template_areas": null,
            "grid_template_columns": null,
            "grid_template_rows": null,
            "height": null,
            "justify_content": null,
            "justify_items": null,
            "left": null,
            "margin": null,
            "max_height": null,
            "max_width": null,
            "min_height": null,
            "min_width": null,
            "object_fit": null,
            "object_position": null,
            "order": null,
            "overflow": null,
            "overflow_x": null,
            "overflow_y": null,
            "padding": null,
            "right": null,
            "top": null,
            "visibility": null,
            "width": null
          }
        },
        "bb64774798b2423abf6317e33bb68205": {
          "model_module": "@jupyter-widgets/controls",
          "model_module_version": "1.5.0",
          "model_name": "HTMLModel",
          "state": {
            "_dom_classes": [],
            "_model_module": "@jupyter-widgets/controls",
            "_model_module_version": "1.5.0",
            "_model_name": "HTMLModel",
            "_view_count": null,
            "_view_module": "@jupyter-widgets/controls",
            "_view_module_version": "1.5.0",
            "_view_name": "HTMLView",
            "description": "",
            "description_tooltip": null,
            "layout": "IPY_MODEL_ef0b95fa00e842e79878e2bca83d5262",
            "placeholder": "​",
            "style": "IPY_MODEL_a0e49620f8684ce2803122a0808265fe",
            "value": "Processing: 100%"
          }
        },
        "bcee5b18f115458ebc840f1b7cc44d3f": {
          "model_module": "@jupyter-widgets/controls",
          "model_module_version": "1.5.0",
          "model_name": "HBoxModel",
          "state": {
            "_dom_classes": [],
            "_model_module": "@jupyter-widgets/controls",
            "_model_module_version": "1.5.0",
            "_model_name": "HBoxModel",
            "_view_count": null,
            "_view_module": "@jupyter-widgets/controls",
            "_view_module_version": "1.5.0",
            "_view_name": "HBoxView",
            "box_style": "",
            "children": [
              "IPY_MODEL_7f121dce8ab44a53ae5b883057cd3869",
              "IPY_MODEL_aa08b6c9bd984d9c92dc02c7a0b9fc2e",
              "IPY_MODEL_7af5442f92ce4d32b73a23919d452ce5"
            ],
            "layout": "IPY_MODEL_3b2ac814f532463f8f1f1b5a0a332c9f"
          }
        },
        "ca9aef02537348d682fb3b673a683883": {
          "model_module": "@jupyter-widgets/controls",
          "model_module_version": "1.5.0",
          "model_name": "DescriptionStyleModel",
          "state": {
            "_model_module": "@jupyter-widgets/controls",
            "_model_module_version": "1.5.0",
            "_model_name": "DescriptionStyleModel",
            "_view_count": null,
            "_view_module": "@jupyter-widgets/base",
            "_view_module_version": "1.2.0",
            "_view_name": "StyleView",
            "description_width": ""
          }
        },
        "e34ad792bf7847fbb3b347d02df340b3": {
          "model_module": "@jupyter-widgets/controls",
          "model_module_version": "1.5.0",
          "model_name": "ProgressStyleModel",
          "state": {
            "_model_module": "@jupyter-widgets/controls",
            "_model_module_version": "1.5.0",
            "_model_name": "ProgressStyleModel",
            "_view_count": null,
            "_view_module": "@jupyter-widgets/base",
            "_view_module_version": "1.2.0",
            "_view_name": "StyleView",
            "bar_color": null,
            "description_width": ""
          }
        },
        "ea3f2731ad2749c888defacb912878d1": {
          "model_module": "@jupyter-widgets/base",
          "model_module_version": "1.2.0",
          "model_name": "LayoutModel",
          "state": {
            "_model_module": "@jupyter-widgets/base",
            "_model_module_version": "1.2.0",
            "_model_name": "LayoutModel",
            "_view_count": null,
            "_view_module": "@jupyter-widgets/base",
            "_view_module_version": "1.2.0",
            "_view_name": "LayoutView",
            "align_content": null,
            "align_items": null,
            "align_self": null,
            "border": null,
            "bottom": null,
            "display": null,
            "flex": null,
            "flex_flow": null,
            "grid_area": null,
            "grid_auto_columns": null,
            "grid_auto_flow": null,
            "grid_auto_rows": null,
            "grid_column": null,
            "grid_gap": null,
            "grid_row": null,
            "grid_template_areas": null,
            "grid_template_columns": null,
            "grid_template_rows": null,
            "height": null,
            "justify_content": null,
            "justify_items": null,
            "left": null,
            "margin": null,
            "max_height": null,
            "max_width": null,
            "min_height": null,
            "min_width": null,
            "object_fit": null,
            "object_position": null,
            "order": null,
            "overflow": null,
            "overflow_x": null,
            "overflow_y": null,
            "padding": null,
            "right": null,
            "top": null,
            "visibility": null,
            "width": null
          }
        },
        "ef0b95fa00e842e79878e2bca83d5262": {
          "model_module": "@jupyter-widgets/base",
          "model_module_version": "1.2.0",
          "model_name": "LayoutModel",
          "state": {
            "_model_module": "@jupyter-widgets/base",
            "_model_module_version": "1.2.0",
            "_model_name": "LayoutModel",
            "_view_count": null,
            "_view_module": "@jupyter-widgets/base",
            "_view_module_version": "1.2.0",
            "_view_name": "LayoutView",
            "align_content": null,
            "align_items": null,
            "align_self": null,
            "border": null,
            "bottom": null,
            "display": null,
            "flex": null,
            "flex_flow": null,
            "grid_area": null,
            "grid_auto_columns": null,
            "grid_auto_flow": null,
            "grid_auto_rows": null,
            "grid_column": null,
            "grid_gap": null,
            "grid_row": null,
            "grid_template_areas": null,
            "grid_template_columns": null,
            "grid_template_rows": null,
            "height": null,
            "justify_content": null,
            "justify_items": null,
            "left": null,
            "margin": null,
            "max_height": null,
            "max_width": null,
            "min_height": null,
            "min_width": null,
            "object_fit": null,
            "object_position": null,
            "order": null,
            "overflow": null,
            "overflow_x": null,
            "overflow_y": null,
            "padding": null,
            "right": null,
            "top": null,
            "visibility": null,
            "width": null
          }
        },
        "f0397b41e8fd48cf91a10b1e981ac434": {
          "model_module": "@jupyter-widgets/base",
          "model_module_version": "1.2.0",
          "model_name": "LayoutModel",
          "state": {
            "_model_module": "@jupyter-widgets/base",
            "_model_module_version": "1.2.0",
            "_model_name": "LayoutModel",
            "_view_count": null,
            "_view_module": "@jupyter-widgets/base",
            "_view_module_version": "1.2.0",
            "_view_name": "LayoutView",
            "align_content": null,
            "align_items": null,
            "align_self": null,
            "border": null,
            "bottom": null,
            "display": null,
            "flex": null,
            "flex_flow": null,
            "grid_area": null,
            "grid_auto_columns": null,
            "grid_auto_flow": null,
            "grid_auto_rows": null,
            "grid_column": null,
            "grid_gap": null,
            "grid_row": null,
            "grid_template_areas": null,
            "grid_template_columns": null,
            "grid_template_rows": null,
            "height": null,
            "justify_content": null,
            "justify_items": null,
            "left": null,
            "margin": null,
            "max_height": null,
            "max_width": null,
            "min_height": null,
            "min_width": null,
            "object_fit": null,
            "object_position": null,
            "order": null,
            "overflow": null,
            "overflow_x": null,
            "overflow_y": null,
            "padding": null,
            "right": null,
            "top": null,
            "visibility": null,
            "width": null
          }
        },
        "f266b333c69248dcba71381f7e12b5b1": {
          "model_module": "@jupyter-widgets/controls",
          "model_module_version": "1.5.0",
          "model_name": "HTMLModel",
          "state": {
            "_dom_classes": [],
            "_model_module": "@jupyter-widgets/controls",
            "_model_module_version": "1.5.0",
            "_model_name": "HTMLModel",
            "_view_count": null,
            "_view_module": "@jupyter-widgets/controls",
            "_view_module_version": "1.5.0",
            "_view_name": "HTMLView",
            "description": "",
            "description_tooltip": null,
            "layout": "IPY_MODEL_91fadb3bf1714e06a85c1fbbce469756",
            "placeholder": "​",
            "style": "IPY_MODEL_3b7c254d47764ecbaa09d42f0b6d1fe8",
            "value": " 0/3 [00:00&lt;?, ?it/s]"
          }
        },
        "f6e682baa26d4ccda6b095c263cfc438": {
          "model_module": "@jupyter-widgets/controls",
          "model_module_version": "1.5.0",
          "model_name": "HTMLModel",
          "state": {
            "_dom_classes": [],
            "_model_module": "@jupyter-widgets/controls",
            "_model_module_version": "1.5.0",
            "_model_name": "HTMLModel",
            "_view_count": null,
            "_view_module": "@jupyter-widgets/controls",
            "_view_module_version": "1.5.0",
            "_view_name": "HTMLView",
            "description": "",
            "description_tooltip": null,
            "layout": "IPY_MODEL_1ac57eab5aa04766921728c6aed918e8",
            "placeholder": "​",
            "style": "IPY_MODEL_83dd66e124a64621a40e0c7772ec2bd3",
            "value": "Processing:   0%"
          }
        }
      }
    }
  },
  "nbformat": 4,
  "nbformat_minor": 0
}
