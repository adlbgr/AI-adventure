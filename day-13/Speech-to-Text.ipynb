{
 "cells": [
  {
   "cell_type": "markdown",
   "metadata": {},
   "source": [
    "# Speech to Text"
   ]
  },
  {
   "cell_type": "code",
   "execution_count": 7,
   "metadata": {},
   "outputs": [],
   "source": [
    "import pytube\n",
    "import yt_dlp\n",
    "url = \"https://youtu.be/jZOywn1qArI\""
   ]
  },
  {
   "cell_type": "code",
   "execution_count": 2,
   "metadata": {},
   "outputs": [
    {
     "name": "stdout",
     "output_type": "stream",
     "text": [
      "Taken Phone Speech [HD]\n"
     ]
    }
   ],
   "source": [
    "yt = pytube.YouTube(url)\n",
    "print(yt.title)"
   ]
  },
  {
   "cell_type": "code",
   "execution_count": 10,
   "metadata": {},
   "outputs": [
    {
     "name": "stdout",
     "output_type": "stream",
     "text": [
      "[youtube] Extracting URL: https://youtu.be/jZOywn1qArI\n",
      "[youtube] jZOywn1qArI: Downloading webpage\n",
      "[youtube] jZOywn1qArI: Downloading ios player API JSON\n",
      "[youtube] jZOywn1qArI: Downloading web creator player API JSON\n",
      "[youtube] jZOywn1qArI: Downloading m3u8 information\n",
      "[info] jZOywn1qArI: Downloading 1 format(s): 251\n",
      "[download] Destination: Taken Phone Speech [HD].webm\n",
      "[download] 100% of  856.57KiB in 00:00:00 at 4.12MiB/s   \n"
     ]
    }
   ],
   "source": [
    "ydl_opts = {\n",
    "    'format': 'bestaudio/best',\n",
    "    'outtmpl': '/%(title)s.%(ext)s'\n",
    "}\n",
    "\n",
    "with yt_dlp.YoutubeDL(ydl_opts) as ydl:\n",
    "    ydl.download([url])"
   ]
  },
  {
   "cell_type": "code",
   "execution_count": 12,
   "metadata": {},
   "outputs": [],
   "source": [
    "import whisper\n",
    "# model = whisper.load_model(\"large\")  --- 2GB model"
   ]
  },
  {
   "cell_type": "code",
   "execution_count": null,
   "metadata": {},
   "outputs": [],
   "source": [
    "text  = model.transcribe(yt.title)\n",
    "text[\"text\"]"
   ]
  }
 ],
 "metadata": {
  "kernelspec": {
   "display_name": "Python 3",
   "language": "python",
   "name": "python3"
  },
  "language_info": {
   "codemirror_mode": {
    "name": "ipython",
    "version": 3
   },
   "file_extension": ".py",
   "mimetype": "text/x-python",
   "name": "python",
   "nbconvert_exporter": "python",
   "pygments_lexer": "ipython3",
   "version": "3.11.5"
  }
 },
 "nbformat": 4,
 "nbformat_minor": 2
}
