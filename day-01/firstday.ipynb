{
 "cells": [
  {
   "cell_type": "markdown",
   "id": "3fca9356",
   "metadata": {},
   "source": [
    " # <font color='red'> Pythona giriş\n",
    "    "
   ]
  },
  {
   "cell_type": "code",
   "execution_count": 65,
   "id": "9283e687",
   "metadata": {},
   "outputs": [],
   "source": [
    " # $ \\int_a^b \\frac{dx}{sinx} \\theta \\Sigma$"
   ]
  },
  {
   "cell_type": "markdown",
   "id": "b2fe6416",
   "metadata": {},
   "source": [
    "$ \\int_a^b \\frac{dx}{sinx} \\theta \\Sigma $"
   ]
  },
  {
   "cell_type": "markdown",
   "id": "a1c8b20d",
   "metadata": {},
   "source": [
    "### Değişken Tanımlama"
   ]
  },
  {
   "cell_type": "code",
   "execution_count": 66,
   "id": "c3587035",
   "metadata": {},
   "outputs": [],
   "source": [
    "a=5\n",
    "b=3\n",
    "c=a*b\n"
   ]
  },
  {
   "cell_type": "code",
   "execution_count": 67,
   "id": "f3974bf6",
   "metadata": {},
   "outputs": [
    {
     "name": "stdout",
     "output_type": "stream",
     "text": [
      "15\n"
     ]
    }
   ],
   "source": [
    "print(c)"
   ]
  },
  {
   "cell_type": "code",
   "execution_count": 68,
   "id": "c41ae7d3",
   "metadata": {},
   "outputs": [],
   "source": [
    "yil=2012"
   ]
  },
  {
   "cell_type": "code",
   "execution_count": 69,
   "id": "a803530a",
   "metadata": {},
   "outputs": [
    {
     "name": "stdout",
     "output_type": "stream",
     "text": [
      "Merhaba dünya\n"
     ]
    }
   ],
   "source": [
    "print(\"Merhaba dünya\")"
   ]
  },
  {
   "cell_type": "code",
   "execution_count": 70,
   "id": "0f95a957",
   "metadata": {},
   "outputs": [
    {
     "name": "stdout",
     "output_type": "stream",
     "text": [
      "Merhaba dünya\n",
      "Merhaba dünya\n",
      "Merhaba dünya\n",
      "\n"
     ]
    }
   ],
   "source": [
    "print(\"Merhaba dünya\\n\"*3)"
   ]
  },
  {
   "cell_type": "code",
   "execution_count": 71,
   "id": "cb2c5cc7",
   "metadata": {},
   "outputs": [],
   "source": [
    "# Veri tipleri\n",
    "# 1- String yazı metin text,sözel veri bunları tek tırnak ,cift tırnak icinde yazariz\n",
    "# 2 - ınteger tam sayı \n",
    "# 3-  float ondalıklı sayı "
   ]
  },
  {
   "cell_type": "code",
   "execution_count": 72,
   "id": "03737cc3",
   "metadata": {},
   "outputs": [],
   "source": [
    "d= \"dünya\"\n",
    "d='dünya'\n",
    "d= '''dünya'''"
   ]
  },
  {
   "cell_type": "code",
   "execution_count": 73,
   "id": "8be1081c",
   "metadata": {},
   "outputs": [],
   "source": [
    "#listeler"
   ]
  },
  {
   "cell_type": "code",
   "execution_count": 74,
   "id": "0094d62a",
   "metadata": {},
   "outputs": [],
   "source": [
    "liste1=[1,4,6,'veli',\"ali\"]"
   ]
  },
  {
   "cell_type": "code",
   "execution_count": 75,
   "id": "1bff0421",
   "metadata": {},
   "outputs": [],
   "source": [
    "#dictionary sözlük "
   ]
  },
  {
   "cell_type": "code",
   "execution_count": 76,
   "id": "389e9c12",
   "metadata": {},
   "outputs": [],
   "source": [
    "sozluk ={ 'key': 'acıklaması'}"
   ]
  },
  {
   "cell_type": "code",
   "execution_count": 77,
   "id": "1c93c75a",
   "metadata": {},
   "outputs": [
    {
     "name": "stdout",
     "output_type": "stream",
     "text": [
      "1\n",
      "4\n",
      "6\n",
      "veli\n",
      "ali\n"
     ]
    }
   ],
   "source": [
    "for i in liste1:\n",
    "    print(i)"
   ]
  },
  {
   "cell_type": "code",
   "execution_count": 78,
   "id": "ddffc806",
   "metadata": {},
   "outputs": [],
   "source": [
    "#fonksiyonlar"
   ]
  },
  {
   "cell_type": "code",
   "execution_count": 79,
   "id": "dc8428ba",
   "metadata": {},
   "outputs": [],
   "source": [
    "fiyat=[25,35,65,90]"
   ]
  },
  {
   "cell_type": "code",
   "execution_count": 80,
   "id": "dea52f87",
   "metadata": {},
   "outputs": [],
   "source": [
    "#DRY- DO not repeat yourself"
   ]
  },
  {
   "cell_type": "code",
   "execution_count": 81,
   "id": "a9ab9575",
   "metadata": {},
   "outputs": [],
   "source": [
    "def tax(x):\n",
    "    return x*1.6"
   ]
  },
  {
   "cell_type": "code",
   "execution_count": 82,
   "id": "2dc1e74c",
   "metadata": {},
   "outputs": [
    {
     "data": {
      "text/plain": [
       "124.80000000000001"
      ]
     },
     "execution_count": 82,
     "metadata": {},
     "output_type": "execute_result"
    }
   ],
   "source": [
    "tax(78)"
   ]
  },
  {
   "cell_type": "code",
   "execution_count": 83,
   "id": "bcfa7a22",
   "metadata": {},
   "outputs": [
    {
     "name": "stdout",
     "output_type": "stream",
     "text": [
      "40.0\n",
      "56.0\n",
      "104.0\n",
      "144.0\n"
     ]
    }
   ],
   "source": [
    "for i in fiyat:\n",
    "    print( tax(i))"
   ]
  },
  {
   "cell_type": "code",
   "execution_count": 84,
   "id": "e50c3c09",
   "metadata": {},
   "outputs": [],
   "source": [
    "#list comprehension "
   ]
  },
  {
   "cell_type": "code",
   "execution_count": 85,
   "id": "93d9d52b",
   "metadata": {},
   "outputs": [
    {
     "data": {
      "text/plain": [
       "[40.0, 56.0, 104.0, 144.0]"
      ]
     },
     "execution_count": 85,
     "metadata": {},
     "output_type": "execute_result"
    }
   ],
   "source": [
    "[tax(x) for x in fiyat ]"
   ]
  },
  {
   "cell_type": "code",
   "execution_count": 86,
   "id": "76b78b10",
   "metadata": {},
   "outputs": [
    {
     "data": {
      "text/plain": [
       "[0, 1, 4, 9, 16, 25, 36, 49, 64, 81, 100]"
      ]
     },
     "execution_count": 86,
     "metadata": {},
     "output_type": "execute_result"
    }
   ],
   "source": [
    "[x**2 for x in range(11)]"
   ]
  },
  {
   "cell_type": "code",
   "execution_count": 87,
   "id": "129fe125",
   "metadata": {},
   "outputs": [],
   "source": [
    "# operatörler"
   ]
  },
  {
   "cell_type": "code",
   "execution_count": 88,
   "id": "03a13190",
   "metadata": {},
   "outputs": [],
   "source": [
    "# aritmetik operatörler + -  / * % moduler us alma #**#"
   ]
  },
  {
   "cell_type": "code",
   "execution_count": 89,
   "id": "2cbd30f6",
   "metadata": {},
   "outputs": [],
   "source": [
    "#mantıksal opreratörler <,>,==,!= and | &"
   ]
  },
  {
   "cell_type": "code",
   "execution_count": 90,
   "id": "85bdce09",
   "metadata": {},
   "outputs": [],
   "source": [
    "import pandas as pd "
   ]
  },
  {
   "cell_type": "code",
   "execution_count": 91,
   "id": "53c9d186",
   "metadata": {},
   "outputs": [],
   "source": [
    "#dataframe df - tablo"
   ]
  },
  {
   "cell_type": "code",
   "execution_count": 92,
   "id": "18d9bf15",
   "metadata": {},
   "outputs": [],
   "source": [
    "df = pd.read_csv('data/client_list.csv')"
   ]
  },
  {
   "cell_type": "code",
   "execution_count": 93,
   "id": "5212bc73",
   "metadata": {},
   "outputs": [
    {
     "data": {
      "text/plain": [
       "36.357142857142854"
      ]
     },
     "execution_count": 93,
     "metadata": {},
     "output_type": "execute_result"
    }
   ],
   "source": [
    "df[\"Age\"].mean()"
   ]
  },
  {
   "cell_type": "code",
   "execution_count": 94,
   "id": "1d85f875",
   "metadata": {},
   "outputs": [
    {
     "data": {
      "text/html": [
       "<div>\n",
       "<style scoped>\n",
       "    .dataframe tbody tr th:only-of-type {\n",
       "        vertical-align: middle;\n",
       "    }\n",
       "\n",
       "    .dataframe tbody tr th {\n",
       "        vertical-align: top;\n",
       "    }\n",
       "\n",
       "    .dataframe thead th {\n",
       "        text-align: right;\n",
       "    }\n",
       "</style>\n",
       "<table border=\"1\" class=\"dataframe\">\n",
       "  <thead>\n",
       "    <tr style=\"text-align: right;\">\n",
       "      <th></th>\n",
       "      <th>first_name</th>\n",
       "      <th>LAST_NAME</th>\n",
       "      <th>gender</th>\n",
       "      <th>Age</th>\n",
       "      <th>Hair_COLOR</th>\n",
       "      <th>eye_Color</th>\n",
       "    </tr>\n",
       "  </thead>\n",
       "  <tbody>\n",
       "    <tr>\n",
       "      <th>0</th>\n",
       "      <td>Jennifer</td>\n",
       "      <td>Jones</td>\n",
       "      <td>F</td>\n",
       "      <td>27</td>\n",
       "      <td>black</td>\n",
       "      <td>brown</td>\n",
       "    </tr>\n",
       "    <tr>\n",
       "      <th>1</th>\n",
       "      <td>Jaime</td>\n",
       "      <td>Roberts</td>\n",
       "      <td>M</td>\n",
       "      <td>32</td>\n",
       "      <td>brown</td>\n",
       "      <td>hazel</td>\n",
       "    </tr>\n",
       "    <tr>\n",
       "      <th>2</th>\n",
       "      <td>Michael</td>\n",
       "      <td>Johnson</td>\n",
       "      <td>M</td>\n",
       "      <td>55</td>\n",
       "      <td>red</td>\n",
       "      <td>green</td>\n",
       "    </tr>\n",
       "    <tr>\n",
       "      <th>3</th>\n",
       "      <td>Mary</td>\n",
       "      <td>Adams</td>\n",
       "      <td>F</td>\n",
       "      <td>42</td>\n",
       "      <td>blonde</td>\n",
       "      <td>blue</td>\n",
       "    </tr>\n",
       "    <tr>\n",
       "      <th>4</th>\n",
       "      <td>Robert</td>\n",
       "      <td>Phillips</td>\n",
       "      <td>M</td>\n",
       "      <td>37</td>\n",
       "      <td>blonde</td>\n",
       "      <td>brown</td>\n",
       "    </tr>\n",
       "  </tbody>\n",
       "</table>\n",
       "</div>"
      ],
      "text/plain": [
       "  first_name LAST_NAME gender  Age Hair_COLOR eye_Color\n",
       "0   Jennifer     Jones      F   27      black     brown\n",
       "1      Jaime   Roberts      M   32      brown     hazel\n",
       "2    Michael   Johnson      M   55        red     green\n",
       "3       Mary     Adams      F   42     blonde      blue\n",
       "4     Robert  Phillips      M   37     blonde     brown"
      ]
     },
     "execution_count": 94,
     "metadata": {},
     "output_type": "execute_result"
    }
   ],
   "source": [
    "df.head()"
   ]
  },
  {
   "cell_type": "code",
   "execution_count": 95,
   "id": "4ede3ca6",
   "metadata": {},
   "outputs": [
    {
     "data": {
      "text/plain": [
       "(14, 6)"
      ]
     },
     "execution_count": 95,
     "metadata": {},
     "output_type": "execute_result"
    }
   ],
   "source": [
    "df.shape"
   ]
  },
  {
   "cell_type": "code",
   "execution_count": 96,
   "id": "18618e23",
   "metadata": {},
   "outputs": [
    {
     "data": {
      "text/html": [
       "<div>\n",
       "<style scoped>\n",
       "    .dataframe tbody tr th:only-of-type {\n",
       "        vertical-align: middle;\n",
       "    }\n",
       "\n",
       "    .dataframe tbody tr th {\n",
       "        vertical-align: top;\n",
       "    }\n",
       "\n",
       "    .dataframe thead th {\n",
       "        text-align: right;\n",
       "    }\n",
       "</style>\n",
       "<table border=\"1\" class=\"dataframe\">\n",
       "  <thead>\n",
       "    <tr style=\"text-align: right;\">\n",
       "      <th></th>\n",
       "      <th>first_name</th>\n",
       "      <th>LAST_NAME</th>\n",
       "      <th>gender</th>\n",
       "      <th>Age</th>\n",
       "      <th>Hair_COLOR</th>\n",
       "      <th>eye_Color</th>\n",
       "    </tr>\n",
       "  </thead>\n",
       "  <tbody>\n",
       "    <tr>\n",
       "      <th>9</th>\n",
       "      <td>Jennifer</td>\n",
       "      <td>Smith</td>\n",
       "      <td>F</td>\n",
       "      <td>36</td>\n",
       "      <td>black</td>\n",
       "      <td>brown</td>\n",
       "    </tr>\n",
       "    <tr>\n",
       "      <th>10</th>\n",
       "      <td>Michael</td>\n",
       "      <td>Smith</td>\n",
       "      <td>M</td>\n",
       "      <td>37</td>\n",
       "      <td>black</td>\n",
       "      <td>hazel</td>\n",
       "    </tr>\n",
       "    <tr>\n",
       "      <th>11</th>\n",
       "      <td>Jessica</td>\n",
       "      <td>Rabbit</td>\n",
       "      <td>F</td>\n",
       "      <td>19</td>\n",
       "      <td>black</td>\n",
       "      <td>blue</td>\n",
       "    </tr>\n",
       "    <tr>\n",
       "      <th>12</th>\n",
       "      <td>Molly</td>\n",
       "      <td>Bryant</td>\n",
       "      <td>F</td>\n",
       "      <td>21</td>\n",
       "      <td>brown</td>\n",
       "      <td>blue</td>\n",
       "    </tr>\n",
       "    <tr>\n",
       "      <th>13</th>\n",
       "      <td>Jaime</td>\n",
       "      <td>Anderson</td>\n",
       "      <td>F</td>\n",
       "      <td>46</td>\n",
       "      <td>brown</td>\n",
       "      <td>green</td>\n",
       "    </tr>\n",
       "  </tbody>\n",
       "</table>\n",
       "</div>"
      ],
      "text/plain": [
       "   first_name LAST_NAME gender  Age Hair_COLOR eye_Color\n",
       "9    Jennifer     Smith      F   36      black     brown\n",
       "10    Michael     Smith      M   37      black     hazel\n",
       "11    Jessica    Rabbit      F   19      black      blue\n",
       "12      Molly    Bryant      F   21      brown      blue\n",
       "13      Jaime  Anderson      F   46      brown     green"
      ]
     },
     "execution_count": 96,
     "metadata": {},
     "output_type": "execute_result"
    }
   ],
   "source": [
    "df.tail()"
   ]
  },
  {
   "cell_type": "code",
   "execution_count": 97,
   "id": "8f61af91",
   "metadata": {},
   "outputs": [
    {
     "data": {
      "text/plain": [
       "<Axes: >"
      ]
     },
     "execution_count": 97,
     "metadata": {},
     "output_type": "execute_result"
    },
    {
     "data": {
      "image/png": "[encoded data removed]",
      "text/plain": [
       "<Figure size 640x480 with 1 Axes>"
      ]
     },
     "metadata": {},
     "output_type": "display_data"
    }
   ],
   "source": [
    "df.plot()"
   ]
  },
  {
   "cell_type": "code",
   "execution_count": 98,
   "id": "704c4513",
   "metadata": {},
   "outputs": [
    {
     "data": {
      "text/html": [
       "<div>\n",
       "<style scoped>\n",
       "    .dataframe tbody tr th:only-of-type {\n",
       "        vertical-align: middle;\n",
       "    }\n",
       "\n",
       "    .dataframe tbody tr th {\n",
       "        vertical-align: top;\n",
       "    }\n",
       "\n",
       "    .dataframe thead th {\n",
       "        text-align: right;\n",
       "    }\n",
       "</style>\n",
       "<table border=\"1\" class=\"dataframe\">\n",
       "  <thead>\n",
       "    <tr style=\"text-align: right;\">\n",
       "      <th></th>\n",
       "      <th>Age</th>\n",
       "    </tr>\n",
       "  </thead>\n",
       "  <tbody>\n",
       "    <tr>\n",
       "      <th>count</th>\n",
       "      <td>14.000000</td>\n",
       "    </tr>\n",
       "    <tr>\n",
       "      <th>mean</th>\n",
       "      <td>36.357143</td>\n",
       "    </tr>\n",
       "    <tr>\n",
       "      <th>std</th>\n",
       "      <td>14.457402</td>\n",
       "    </tr>\n",
       "    <tr>\n",
       "      <th>min</th>\n",
       "      <td>18.000000</td>\n",
       "    </tr>\n",
       "    <tr>\n",
       "      <th>25%</th>\n",
       "      <td>22.500000</td>\n",
       "    </tr>\n",
       "    <tr>\n",
       "      <th>50%</th>\n",
       "      <td>36.500000</td>\n",
       "    </tr>\n",
       "    <tr>\n",
       "      <th>75%</th>\n",
       "      <td>45.000000</td>\n",
       "    </tr>\n",
       "    <tr>\n",
       "      <th>max</th>\n",
       "      <td>60.000000</td>\n",
       "    </tr>\n",
       "  </tbody>\n",
       "</table>\n",
       "</div>"
      ],
      "text/plain": [
       "             Age\n",
       "count  14.000000\n",
       "mean   36.357143\n",
       "std    14.457402\n",
       "min    18.000000\n",
       "25%    22.500000\n",
       "50%    36.500000\n",
       "75%    45.000000\n",
       "max    60.000000"
      ]
     },
     "execution_count": 98,
     "metadata": {},
     "output_type": "execute_result"
    }
   ],
   "source": [
    "df.describe()"
   ]
  },
  {
   "cell_type": "code",
   "execution_count": 99,
   "id": "d8070ab6",
   "metadata": {},
   "outputs": [
    {
     "data": {
      "text/html": [
       "<div>\n",
       "<style scoped>\n",
       "    .dataframe tbody tr th:only-of-type {\n",
       "        vertical-align: middle;\n",
       "    }\n",
       "\n",
       "    .dataframe tbody tr th {\n",
       "        vertical-align: top;\n",
       "    }\n",
       "\n",
       "    .dataframe thead th {\n",
       "        text-align: right;\n",
       "    }\n",
       "</style>\n",
       "<table border=\"1\" class=\"dataframe\">\n",
       "  <thead>\n",
       "    <tr style=\"text-align: right;\">\n",
       "      <th></th>\n",
       "      <th>Age</th>\n",
       "    </tr>\n",
       "  </thead>\n",
       "  <tbody>\n",
       "    <tr>\n",
       "      <th>Age</th>\n",
       "      <td>1.0</td>\n",
       "    </tr>\n",
       "  </tbody>\n",
       "</table>\n",
       "</div>"
      ],
      "text/plain": [
       "     Age\n",
       "Age  1.0"
      ]
     },
     "execution_count": 99,
     "metadata": {},
     "output_type": "execute_result"
    }
   ],
   "source": [
    "df.corr(numeric_only=True)"
   ]
  },
  {
   "cell_type": "code",
   "execution_count": 102,
   "id": "5f7d9c7f",
   "metadata": {},
   "outputs": [
    {
     "data": {
      "text/html": [
       "<div>\n",
       "<style scoped>\n",
       "    .dataframe tbody tr th:only-of-type {\n",
       "        vertical-align: middle;\n",
       "    }\n",
       "\n",
       "    .dataframe tbody tr th {\n",
       "        vertical-align: top;\n",
       "    }\n",
       "\n",
       "    .dataframe thead th {\n",
       "        text-align: right;\n",
       "    }\n",
       "</style>\n",
       "<table border=\"1\" class=\"dataframe\">\n",
       "  <thead>\n",
       "    <tr style=\"text-align: right;\">\n",
       "      <th></th>\n",
       "      <th>first_name</th>\n",
       "      <th>LAST_NAME</th>\n",
       "      <th>gender</th>\n",
       "      <th>Age</th>\n",
       "      <th>Hair_COLOR</th>\n",
       "      <th>eye_Color</th>\n",
       "    </tr>\n",
       "  </thead>\n",
       "  <tbody>\n",
       "  </tbody>\n",
       "</table>\n",
       "</div>"
      ],
      "text/plain": [
       "Empty DataFrame\n",
       "Columns: [first_name, LAST_NAME, gender, Age, Hair_COLOR, eye_Color]\n",
       "Index: []"
      ]
     },
     "execution_count": 102,
     "metadata": {},
     "output_type": "execute_result"
    }
   ],
   "source": [
    "df[df['Age']<18]"
   ]
  },
  {
   "cell_type": "code",
   "execution_count": 103,
   "id": "0aa46b20",
   "metadata": {},
   "outputs": [],
   "source": [
    "df.columns=df.columns.str.upper()"
   ]
  },
  {
   "cell_type": "code",
   "execution_count": 104,
   "id": "b63957b3",
   "metadata": {},
   "outputs": [
    {
     "data": {
      "text/html": [
       "<div>\n",
       "<style scoped>\n",
       "    .dataframe tbody tr th:only-of-type {\n",
       "        vertical-align: middle;\n",
       "    }\n",
       "\n",
       "    .dataframe tbody tr th {\n",
       "        vertical-align: top;\n",
       "    }\n",
       "\n",
       "    .dataframe thead th {\n",
       "        text-align: right;\n",
       "    }\n",
       "</style>\n",
       "<table border=\"1\" class=\"dataframe\">\n",
       "  <thead>\n",
       "    <tr style=\"text-align: right;\">\n",
       "      <th></th>\n",
       "      <th>FIRST_NAME</th>\n",
       "      <th>LAST_NAME</th>\n",
       "      <th>GENDER</th>\n",
       "      <th>AGE</th>\n",
       "      <th>HAIR_COLOR</th>\n",
       "      <th>EYE_COLOR</th>\n",
       "    </tr>\n",
       "  </thead>\n",
       "  <tbody>\n",
       "    <tr>\n",
       "      <th>0</th>\n",
       "      <td>Jennifer</td>\n",
       "      <td>Jones</td>\n",
       "      <td>F</td>\n",
       "      <td>27</td>\n",
       "      <td>black</td>\n",
       "      <td>brown</td>\n",
       "    </tr>\n",
       "    <tr>\n",
       "      <th>1</th>\n",
       "      <td>Jaime</td>\n",
       "      <td>Roberts</td>\n",
       "      <td>M</td>\n",
       "      <td>32</td>\n",
       "      <td>brown</td>\n",
       "      <td>hazel</td>\n",
       "    </tr>\n",
       "    <tr>\n",
       "      <th>2</th>\n",
       "      <td>Michael</td>\n",
       "      <td>Johnson</td>\n",
       "      <td>M</td>\n",
       "      <td>55</td>\n",
       "      <td>red</td>\n",
       "      <td>green</td>\n",
       "    </tr>\n",
       "    <tr>\n",
       "      <th>3</th>\n",
       "      <td>Mary</td>\n",
       "      <td>Adams</td>\n",
       "      <td>F</td>\n",
       "      <td>42</td>\n",
       "      <td>blonde</td>\n",
       "      <td>blue</td>\n",
       "    </tr>\n",
       "    <tr>\n",
       "      <th>4</th>\n",
       "      <td>Robert</td>\n",
       "      <td>Phillips</td>\n",
       "      <td>M</td>\n",
       "      <td>37</td>\n",
       "      <td>blonde</td>\n",
       "      <td>brown</td>\n",
       "    </tr>\n",
       "  </tbody>\n",
       "</table>\n",
       "</div>"
      ],
      "text/plain": [
       "  FIRST_NAME LAST_NAME GENDER  AGE HAIR_COLOR EYE_COLOR\n",
       "0   Jennifer     Jones      F   27      black     brown\n",
       "1      Jaime   Roberts      M   32      brown     hazel\n",
       "2    Michael   Johnson      M   55        red     green\n",
       "3       Mary     Adams      F   42     blonde      blue\n",
       "4     Robert  Phillips      M   37     blonde     brown"
      ]
     },
     "execution_count": 104,
     "metadata": {},
     "output_type": "execute_result"
    }
   ],
   "source": [
    "df.head()"
   ]
  },
  {
   "cell_type": "code",
   "execution_count": 42,
   "id": "1c6f068b",
   "metadata": {},
   "outputs": [],
   "source": [
    "#pip install xlrd"
   ]
  },
  {
   "cell_type": "code",
   "execution_count": 106,
   "id": "8724b25d",
   "metadata": {},
   "outputs": [
    {
     "data": {
      "text/html": [
       "<div>\n",
       "<style scoped>\n",
       "    .dataframe tbody tr th:only-of-type {\n",
       "        vertical-align: middle;\n",
       "    }\n",
       "\n",
       "    .dataframe tbody tr th {\n",
       "        vertical-align: top;\n",
       "    }\n",
       "\n",
       "    .dataframe thead th {\n",
       "        text-align: right;\n",
       "    }\n",
       "</style>\n",
       "<table border=\"1\" class=\"dataframe\">\n",
       "  <thead>\n",
       "    <tr style=\"text-align: right;\">\n",
       "      <th></th>\n",
       "      <th>FIRST_NAME</th>\n",
       "      <th>LAST_NAME</th>\n",
       "      <th>GENDER</th>\n",
       "      <th>AGE</th>\n",
       "      <th>HAIR_COLOR</th>\n",
       "      <th>EYE_COLOR</th>\n",
       "    </tr>\n",
       "  </thead>\n",
       "  <tbody>\n",
       "    <tr>\n",
       "      <th>0</th>\n",
       "      <td>Jennifer</td>\n",
       "      <td>Jones</td>\n",
       "      <td>F</td>\n",
       "      <td>27</td>\n",
       "      <td>black</td>\n",
       "      <td>brown</td>\n",
       "    </tr>\n",
       "    <tr>\n",
       "      <th>1</th>\n",
       "      <td>Jaime</td>\n",
       "      <td>Roberts</td>\n",
       "      <td>M</td>\n",
       "      <td>32</td>\n",
       "      <td>brown</td>\n",
       "      <td>hazel</td>\n",
       "    </tr>\n",
       "    <tr>\n",
       "      <th>2</th>\n",
       "      <td>Michael</td>\n",
       "      <td>Johnson</td>\n",
       "      <td>M</td>\n",
       "      <td>55</td>\n",
       "      <td>red</td>\n",
       "      <td>green</td>\n",
       "    </tr>\n",
       "    <tr>\n",
       "      <th>3</th>\n",
       "      <td>Mary</td>\n",
       "      <td>Adams</td>\n",
       "      <td>F</td>\n",
       "      <td>42</td>\n",
       "      <td>blonde</td>\n",
       "      <td>blue</td>\n",
       "    </tr>\n",
       "    <tr>\n",
       "      <th>4</th>\n",
       "      <td>Robert</td>\n",
       "      <td>Phillips</td>\n",
       "      <td>M</td>\n",
       "      <td>37</td>\n",
       "      <td>blonde</td>\n",
       "      <td>brown</td>\n",
       "    </tr>\n",
       "  </tbody>\n",
       "</table>\n",
       "</div>"
      ],
      "text/plain": [
       "  FIRST_NAME LAST_NAME GENDER  AGE HAIR_COLOR EYE_COLOR\n",
       "0   Jennifer     Jones      F   27      black     brown\n",
       "1      Jaime   Roberts      M   32      brown     hazel\n",
       "2    Michael   Johnson      M   55        red     green\n",
       "3       Mary     Adams      F   42     blonde      blue\n",
       "4     Robert  Phillips      M   37     blonde     brown"
      ]
     },
     "execution_count": 106,
     "metadata": {},
     "output_type": "execute_result"
    }
   ],
   "source": [
    "df.head()"
   ]
  },
  {
   "cell_type": "code",
   "execution_count": 107,
   "id": "4bfa7fb8",
   "metadata": {
    "collapsed": true
   },
   "outputs": [
    {
     "data": {
      "text/html": [
       "<div>\n",
       "<style scoped>\n",
       "    .dataframe tbody tr th:only-of-type {\n",
       "        vertical-align: middle;\n",
       "    }\n",
       "\n",
       "    .dataframe tbody tr th {\n",
       "        vertical-align: top;\n",
       "    }\n",
       "\n",
       "    .dataframe thead th {\n",
       "        text-align: right;\n",
       "    }\n",
       "</style>\n",
       "<table border=\"1\" class=\"dataframe\">\n",
       "  <thead>\n",
       "    <tr style=\"text-align: right;\">\n",
       "      <th></th>\n",
       "      <th>FIRST_NAME</th>\n",
       "      <th>LAST_NAME</th>\n",
       "      <th>GENDER</th>\n",
       "      <th>AGE</th>\n",
       "      <th>HAIR_COLOR</th>\n",
       "      <th>EYE_COLOR</th>\n",
       "    </tr>\n",
       "  </thead>\n",
       "  <tbody>\n",
       "    <tr>\n",
       "      <th>0</th>\n",
       "      <td>Jennifer</td>\n",
       "      <td>Jones</td>\n",
       "      <td>F</td>\n",
       "      <td>27</td>\n",
       "      <td>black</td>\n",
       "      <td>brown</td>\n",
       "    </tr>\n",
       "    <tr>\n",
       "      <th>1</th>\n",
       "      <td>Jaime</td>\n",
       "      <td>Roberts</td>\n",
       "      <td>M</td>\n",
       "      <td>32</td>\n",
       "      <td>brown</td>\n",
       "      <td>hazel</td>\n",
       "    </tr>\n",
       "    <tr>\n",
       "      <th>2</th>\n",
       "      <td>Michael</td>\n",
       "      <td>Johnson</td>\n",
       "      <td>M</td>\n",
       "      <td>55</td>\n",
       "      <td>red</td>\n",
       "      <td>green</td>\n",
       "    </tr>\n",
       "    <tr>\n",
       "      <th>3</th>\n",
       "      <td>Mary</td>\n",
       "      <td>Adams</td>\n",
       "      <td>F</td>\n",
       "      <td>42</td>\n",
       "      <td>blonde</td>\n",
       "      <td>blue</td>\n",
       "    </tr>\n",
       "    <tr>\n",
       "      <th>4</th>\n",
       "      <td>Robert</td>\n",
       "      <td>Phillips</td>\n",
       "      <td>M</td>\n",
       "      <td>37</td>\n",
       "      <td>blonde</td>\n",
       "      <td>brown</td>\n",
       "    </tr>\n",
       "  </tbody>\n",
       "</table>\n",
       "</div>"
      ],
      "text/plain": [
       "  FIRST_NAME LAST_NAME GENDER  AGE HAIR_COLOR EYE_COLOR\n",
       "0   Jennifer     Jones      F   27      black     brown\n",
       "1      Jaime   Roberts      M   32      brown     hazel\n",
       "2    Michael   Johnson      M   55        red     green\n",
       "3       Mary     Adams      F   42     blonde      blue\n",
       "4     Robert  Phillips      M   37     blonde     brown"
      ]
     },
     "execution_count": 107,
     "metadata": {},
     "output_type": "execute_result"
    }
   ],
   "source": [
    "df.head()"
   ]
  },
  {
   "cell_type": "code",
   "execution_count": 109,
   "id": "dcaff48f",
   "metadata": {},
   "outputs": [],
   "source": [
    "# pip install gtts"
   ]
  },
  {
   "cell_type": "code",
   "execution_count": 110,
   "id": "111b7e74",
   "metadata": {},
   "outputs": [],
   "source": [
    "from gtts import gTTS"
   ]
  },
  {
   "cell_type": "code",
   "execution_count": 111,
   "id": "5d6e41d2",
   "metadata": {},
   "outputs": [],
   "source": [
    "text=\"Yapay zeka dersimizi nasıl buldunuz?Eğlenceli değil mi?\"\n",
    "kayit=gTTS(text=text,lang='tr',slow =False)\n",
    "kayit.save('robot.mp3')"
   ]
  },
  {
   "cell_type": "code",
   "execution_count": 112,
   "id": "22e734f5",
   "metadata": {},
   "outputs": [],
   "source": [
    "import seaborn as sns"
   ]
  },
  {
   "cell_type": "code",
   "execution_count": null,
   "id": "ee3d5731",
   "metadata": {},
   "outputs": [],
   "source": [
    "sns.pairplot(df,hue='Gender')"
   ]
  }
 ],
 "metadata": {
  "kernelspec": {
   "display_name": "Python 3 (ipykernel)",
   "language": "python",
   "name": "python3"
  },
  "language_info": {
   "codemirror_mode": {
    "name": "ipython",
    "version": 3
   },
   "file_extension": ".py",
   "mimetype": "text/x-python",
   "name": "python",
   "nbconvert_exporter": "python",
   "pygments_lexer": "ipython3",
   "version": "3.11.5"
  }
 },
 "nbformat": 4,
 "nbformat_minor": 5
}
