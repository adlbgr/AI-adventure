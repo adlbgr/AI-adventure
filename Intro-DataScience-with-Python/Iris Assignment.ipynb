{
 "cells": [
  {
   "cell_type": "markdown",
   "metadata": {},
   "source": [
    "# Human Learning with iris data\n",
    "\n",
    "\n",
    "\n",
    "TASKS:\n",
    "1. Read iris data into a pandas DataFrame, including column names.\n",
    "2. Gather some basic information about the data.\n",
    "3. Use groupby, sorting, and/or plotting to look for differences between species.\n",
    "4. Come up with a set of rules that could be used to predict species based upon measurements.\n",
    "\n"
   ]
  },
  {
   "cell_type": "code",
   "execution_count": 1,
   "metadata": {},
   "outputs": [],
   "source": [
    "import pandas as pd\n",
    "import numpy as np\n",
    "import matplotlib.pyplot as plt\n",
    "%matplotlib inline"
   ]
  },
  {
   "cell_type": "markdown",
   "metadata": {},
   "source": [
    "#  1"
   ]
  },
  {
   "cell_type": "code",
   "execution_count": 3,
   "metadata": {},
   "outputs": [],
   "source": [
    "# read the iris data into a pandas DataFrame, including column names\n",
    "df=pd.read_csv('iris.csv')"
   ]
  },
  {
   "cell_type": "markdown",
   "metadata": {},
   "source": [
    "# 2"
   ]
  },
  {
   "cell_type": "code",
   "execution_count": 4,
   "metadata": {},
   "outputs": [
    {
     "name": "stdout",
     "output_type": "stream",
     "text": [
      "<class 'pandas.core.frame.DataFrame'>\n",
      "RangeIndex: 150 entries, 0 to 149\n",
      "Data columns (total 5 columns):\n",
      " #   Column        Non-Null Count  Dtype  \n",
      "---  ------        --------------  -----  \n",
      " 0   sepal_length  150 non-null    float64\n",
      " 1   sepal_width   150 non-null    float64\n",
      " 2   petal_length  150 non-null    float64\n",
      " 3   petal_width   150 non-null    float64\n",
      " 4   species       150 non-null    object \n",
      "dtypes: float64(4), object(1)\n",
      "memory usage: 6.0+ KB\n"
     ]
    }
   ],
   "source": [
    "# gather basic information\n",
    "df.info()"
   ]
  },
  {
   "cell_type": "code",
   "execution_count": 5,
   "metadata": {},
   "outputs": [
    {
     "data": {
      "text/html": [
       "<div>\n",
       "<style scoped>\n",
       "    .dataframe tbody tr th:only-of-type {\n",
       "        vertical-align: middle;\n",
       "    }\n",
       "\n",
       "    .dataframe tbody tr th {\n",
       "        vertical-align: top;\n",
       "    }\n",
       "\n",
       "    .dataframe thead th {\n",
       "        text-align: right;\n",
       "    }\n",
       "</style>\n",
       "<table border=\"1\" class=\"dataframe\">\n",
       "  <thead>\n",
       "    <tr style=\"text-align: right;\">\n",
       "      <th></th>\n",
       "      <th>sepal_length</th>\n",
       "      <th>sepal_width</th>\n",
       "      <th>petal_length</th>\n",
       "      <th>petal_width</th>\n",
       "      <th>species</th>\n",
       "    </tr>\n",
       "  </thead>\n",
       "  <tbody>\n",
       "    <tr>\n",
       "      <th>0</th>\n",
       "      <td>5.1</td>\n",
       "      <td>3.5</td>\n",
       "      <td>1.4</td>\n",
       "      <td>0.2</td>\n",
       "      <td>setosa</td>\n",
       "    </tr>\n",
       "    <tr>\n",
       "      <th>1</th>\n",
       "      <td>4.9</td>\n",
       "      <td>3.0</td>\n",
       "      <td>1.4</td>\n",
       "      <td>0.2</td>\n",
       "      <td>setosa</td>\n",
       "    </tr>\n",
       "    <tr>\n",
       "      <th>2</th>\n",
       "      <td>4.7</td>\n",
       "      <td>3.2</td>\n",
       "      <td>1.3</td>\n",
       "      <td>0.2</td>\n",
       "      <td>setosa</td>\n",
       "    </tr>\n",
       "    <tr>\n",
       "      <th>3</th>\n",
       "      <td>4.6</td>\n",
       "      <td>3.1</td>\n",
       "      <td>1.5</td>\n",
       "      <td>0.2</td>\n",
       "      <td>setosa</td>\n",
       "    </tr>\n",
       "    <tr>\n",
       "      <th>4</th>\n",
       "      <td>5.0</td>\n",
       "      <td>3.6</td>\n",
       "      <td>1.4</td>\n",
       "      <td>0.2</td>\n",
       "      <td>setosa</td>\n",
       "    </tr>\n",
       "  </tbody>\n",
       "</table>\n",
       "</div>"
      ],
      "text/plain": [
       "   sepal_length  sepal_width  petal_length  petal_width species\n",
       "0           5.1          3.5           1.4          0.2  setosa\n",
       "1           4.9          3.0           1.4          0.2  setosa\n",
       "2           4.7          3.2           1.3          0.2  setosa\n",
       "3           4.6          3.1           1.5          0.2  setosa\n",
       "4           5.0          3.6           1.4          0.2  setosa"
      ]
     },
     "execution_count": 5,
     "metadata": {},
     "output_type": "execute_result"
    }
   ],
   "source": [
    "\n",
    "#display the first few rows\n",
    "df.head()"
   ]
  },
  {
   "cell_type": "code",
   "execution_count": 6,
   "metadata": {},
   "outputs": [
    {
     "data": {
      "text/html": [
       "<div>\n",
       "<style scoped>\n",
       "    .dataframe tbody tr th:only-of-type {\n",
       "        vertical-align: middle;\n",
       "    }\n",
       "\n",
       "    .dataframe tbody tr th {\n",
       "        vertical-align: top;\n",
       "    }\n",
       "\n",
       "    .dataframe thead th {\n",
       "        text-align: right;\n",
       "    }\n",
       "</style>\n",
       "<table border=\"1\" class=\"dataframe\">\n",
       "  <thead>\n",
       "    <tr style=\"text-align: right;\">\n",
       "      <th></th>\n",
       "      <th>sepal_length</th>\n",
       "      <th>sepal_width</th>\n",
       "      <th>petal_length</th>\n",
       "      <th>petal_width</th>\n",
       "      <th>species</th>\n",
       "    </tr>\n",
       "  </thead>\n",
       "  <tbody>\n",
       "    <tr>\n",
       "      <th>145</th>\n",
       "      <td>6.7</td>\n",
       "      <td>3.0</td>\n",
       "      <td>5.2</td>\n",
       "      <td>2.3</td>\n",
       "      <td>virginica</td>\n",
       "    </tr>\n",
       "    <tr>\n",
       "      <th>146</th>\n",
       "      <td>6.3</td>\n",
       "      <td>2.5</td>\n",
       "      <td>5.0</td>\n",
       "      <td>1.9</td>\n",
       "      <td>virginica</td>\n",
       "    </tr>\n",
       "    <tr>\n",
       "      <th>147</th>\n",
       "      <td>6.5</td>\n",
       "      <td>3.0</td>\n",
       "      <td>5.2</td>\n",
       "      <td>2.0</td>\n",
       "      <td>virginica</td>\n",
       "    </tr>\n",
       "    <tr>\n",
       "      <th>148</th>\n",
       "      <td>6.2</td>\n",
       "      <td>3.4</td>\n",
       "      <td>5.4</td>\n",
       "      <td>2.3</td>\n",
       "      <td>virginica</td>\n",
       "    </tr>\n",
       "    <tr>\n",
       "      <th>149</th>\n",
       "      <td>5.9</td>\n",
       "      <td>3.0</td>\n",
       "      <td>5.1</td>\n",
       "      <td>1.8</td>\n",
       "      <td>virginica</td>\n",
       "    </tr>\n",
       "  </tbody>\n",
       "</table>\n",
       "</div>"
      ],
      "text/plain": [
       "     sepal_length  sepal_width  petal_length  petal_width    species\n",
       "145           6.7          3.0           5.2          2.3  virginica\n",
       "146           6.3          2.5           5.0          1.9  virginica\n",
       "147           6.5          3.0           5.2          2.0  virginica\n",
       "148           6.2          3.4           5.4          2.3  virginica\n",
       "149           5.9          3.0           5.1          1.8  virginica"
      ]
     },
     "execution_count": 6,
     "metadata": {},
     "output_type": "execute_result"
    }
   ],
   "source": [
    "\n",
    "#display the last few rows\n",
    "\n",
    "df.tail()"
   ]
  },
  {
   "cell_type": "markdown",
   "metadata": {},
   "source": [
    "## Task 3"
   ]
  },
  {
   "cell_type": "code",
   "execution_count": 7,
   "metadata": {},
   "outputs": [
    {
     "name": "stdout",
     "output_type": "stream",
     "text": [
      "Mean values for each species:\n",
      "            sepal_length  sepal_width  petal_length  petal_width\n",
      "species                                                         \n",
      "setosa             5.006        3.418         1.464        0.244\n",
      "versicolor         5.936        2.770         4.260        1.326\n",
      "virginica          6.588        2.974         5.552        2.026\n",
      "Maximum values for each species:\n",
      "            sepal_length  sepal_width  petal_length  petal_width\n",
      "species                                                         \n",
      "setosa               5.8          4.4           1.9          0.6\n",
      "versicolor           7.0          3.4           5.1          1.8\n",
      "virginica            7.9          3.8           6.9          2.5\n",
      "Count of samples for each species:\n",
      "species\n",
      "setosa        50\n",
      "versicolor    50\n",
      "virginica     50\n",
      "dtype: int64\n"
     ]
    }
   ],
   "source": [
    "# use groupby to look for differences between the species\n",
    "f = pd.read_csv('iris.csv')  \n",
    "\n",
    "# Group the data by the \"species\" column\n",
    "grouped = df.groupby('species')\n",
    "means = grouped.mean()\n",
    "print(\"Mean values for each species:\")\n",
    "print(means)\n",
    "\n",
    "# Compute the maximum value of each numerical column for each species\n",
    "max_values = grouped.max()\n",
    "print(\"Maximum values for each species:\")\n",
    "print(max_values)\n",
    "\n",
    "# Compute the count of samples for each species\n",
    "counts = grouped.size()\n",
    "print(\"Count of samples for each species:\")\n",
    "print(counts)"
   ]
  },
  {
   "cell_type": "code",
   "execution_count": 8,
   "metadata": {},
   "outputs": [
    {
     "name": "stdout",
     "output_type": "stream",
     "text": [
      "     sepal_length  sepal_width  petal_length  petal_width    species\n",
      "0             5.1          3.5           1.4          0.2     setosa\n",
      "27            5.2          3.5           1.5          0.2     setosa\n",
      "28            5.2          3.4           1.4          0.2     setosa\n",
      "29            4.7          3.2           1.6          0.2     setosa\n",
      "30            4.8          3.1           1.6          0.2     setosa\n",
      "..            ...          ...           ...          ...        ...\n",
      "119           6.0          2.2           5.0          1.5  virginica\n",
      "120           6.9          3.2           5.7          2.3  virginica\n",
      "121           5.6          2.8           4.9          2.0  virginica\n",
      "111           6.4          2.7           5.3          1.9  virginica\n",
      "149           5.9          3.0           5.1          1.8  virginica\n",
      "\n",
      "[150 rows x 5 columns]\n"
     ]
    }
   ],
   "source": [
    "# use sorting to look for differences between the species\n",
    "# türlerin sütunlarını sırala\n",
    "sorted_df = df.sort_values(by='species')\n",
    "\n",
    "# datayı görüntüle\n",
    "print(sorted_df)"
   ]
  },
  {
   "cell_type": "code",
   "execution_count": 9,
   "metadata": {},
   "outputs": [
    {
     "data": {
      "image/png": "[encoded data removed]",
      "text/plain": [
       "<Figure size 640x480 with 1 Axes>"
      ]
     },
     "metadata": {},
     "output_type": "display_data"
    }
   ],
   "source": [
    "# use plotting to look for differences between the species\n",
    "# Create separate DataFrames for each species\n",
    "setosa_df = df[df['species'] == 'setosa']\n",
    "versicolor_df = df[df['species'] == 'versicolor']\n",
    "virginica_df = df[df['species'] == 'virginica']\n",
    "\n",
    "# Create a scatter plot for sepal length vs sepal width\n",
    "plt.scatter(setosa_df['sepal_length'], setosa_df['sepal_width'], label='Setosa')\n",
    "plt.scatter(versicolor_df['sepal_length'], versicolor_df['sepal_width'], label='Versicolor')\n",
    "plt.scatter(virginica_df['sepal_length'], virginica_df['sepal_width'], label='Virginica')\n",
    "\n",
    "# Set plot labels and title\n",
    "plt.xlabel('Sepal Length')\n",
    "plt.ylabel('Sepal Width')\n",
    "plt.title('Sepal Length vs Sepal Width')\n",
    "\n",
    "# Add a legend\n",
    "plt.legend()\n",
    "\n",
    "# Show the plot\n",
    "plt.show()"
   ]
  },
  {
   "cell_type": "code",
   "execution_count": 10,
   "metadata": {},
   "outputs": [
    {
     "data": {
      "image/png": "[encoded data removed]",
      "text/plain": [
       "<Figure size 640x480 with 2 Axes>"
      ]
     },
     "metadata": {},
     "output_type": "display_data"
    }
   ],
   "source": [
    "# map species to a numeric value so that plots can be colored by category\n",
    "\n",
    "import pandas as pd\n",
    "import matplotlib.pyplot as plt\n",
    "\n",
    "# Read the CSV file into a DataFrame\n",
    "df = pd.read_csv('iris.csv')\n",
    "\n",
    "# Map species to numeric values\n",
    "species_map = {'setosa': 0, 'versicolor': 1, 'virginica': 2}\n",
    "df['species_numeric'] = df['species'].map(species_map)\n",
    "\n",
    "# Create a scatter plot colored by category\n",
    "plt.scatter(df['sepal_length'], df['sepal_width'], c=df['species_numeric'], cmap='viridis')\n",
    "\n",
    "# Set plot labels and title\n",
    "plt.xlabel('Sepal Length')\n",
    "plt.ylabel('Sepal Width')\n",
    "plt.title('Sepal Length vs Sepal Width')\n",
    "\n",
    "# Add a colorbar\n",
    "plt.colorbar(label='Species')\n",
    "\n",
    "# Show the plot\n",
    "plt.show()"
   ]
  },
  {
   "cell_type": "markdown",
   "metadata": {},
   "source": [
    "## Task 4"
   ]
  },
  {
   "cell_type": "code",
   "execution_count": 11,
   "metadata": {
    "collapsed": true
   },
   "outputs": [
    {
     "data": {
      "text/plain": [
       "'setosa'"
      ]
     },
     "execution_count": 11,
     "metadata": {},
     "output_type": "execute_result"
    }
   ],
   "source": [
    "# Come up with a set of rules that could be used to predict species based upon measurements.\n",
    "def predict_species(row):\n",
    "    sepal_length = row['sepal_length']\n",
    "    sepal_width = row['sepal_width']\n",
    "    petal_length = row['petal_length']\n",
    "    petal_width = row['petal_width']\n",
    "    \n",
    "    if petal_length < 2.5:\n",
    "        return 'setosa'\n",
    "    elif sepal_length < 6.0 and petal_width < 1.7:\n",
    "        return 'versicolor'\n",
    "    else:\n",
    "        return 'virginica'\n",
    "\n",
    "# Apply the predict_species function to each row of the DataFrame\n",
    "df['predicted_species'] = df.apply(predict_species, axis=1)\n",
    "\n",
    "\n",
    "\n",
    "predict_species(df.iloc[0])\n"
   ]
  },
  {
   "cell_type": "code",
   "execution_count": 17,
   "metadata": {},
   "outputs": [],
   "source": [
    "# define function that accepts a row of data and returns a predicted species\n",
    "import pandas as pd\n",
    "from sklearn.linear_model import LogisticRegression\n",
    "\n",
    "# Read the CSV file into a DataFrame\n",
    "df = pd.read_csv('iris.csv')\n",
    "\n",
    "# Train a logistic regression model\n",
    "X = df[['sepal_length', 'sepal_width', 'petal_length', 'petal_width']]\n",
    "y = df['species']\n",
    "model = LogisticRegression()\n",
    "model.fit(X, y)\n",
    "\n",
    "# Function to predict species\n",
    "def predict_species(row):\n",
    "    # Preprocess the input row if needed\n",
    "    # For example, if the row is a dictionary, you can convert it to a DataFrame\n",
    "\n",
    "    # Extract the features from the row\n",
    "    features = [row['sepal_length'], row['sepal_width'], row['petal_length'], row['petal_width']]\n",
    "    \n",
    "    # Make the prediction\n",
    "    predicted_species = model.predict([features])[0]\n",
    "    \n",
    "    return predicted_species"
   ]
  },
  {
   "cell_type": "code",
   "execution_count": 12,
   "metadata": {},
   "outputs": [],
   "source": [
    "def predict_species(row):\n",
    "    sepal_length = row['sepal_length']\n",
    "    sepal_width = row['sepal_width']\n",
    "    petal_length = row['petal_length']\n",
    "    petal_width = row['petal_width']\n",
    "    \n",
    "    if petal_length < 2.5:\n",
    "        return 'setosa'\n",
    "    elif sepal_length < 6.0 and petal_width < 1.7:\n",
    "        return 'versicolor'\n",
    "    else:\n",
    "        return 'virginica'\n",
    "\n",
    "# Apply the predict_species function to each row of the DataFrame\n",
    "df['predicted_species'] = df.apply(predict_species, axis=1)"
   ]
  },
  {
   "cell_type": "code",
   "execution_count": 13,
   "metadata": {},
   "outputs": [
    {
     "data": {
      "text/plain": [
       "'setosa'"
      ]
     },
     "execution_count": 13,
     "metadata": {},
     "output_type": "execute_result"
    }
   ],
   "source": [
    "predict_species(df.iloc[0])"
   ]
  },
  {
   "cell_type": "code",
   "execution_count": null,
   "metadata": {},
   "outputs": [],
   "source": []
  }
 ],
 "metadata": {
  "anaconda-cloud": {},
  "kernelspec": {
   "display_name": "Python 3 (ipykernel)",
   "language": "python",
   "name": "python3"
  },
  "language_info": {
   "codemirror_mode": {
    "name": "ipython",
    "version": 3
   },
   "file_extension": ".py",
   "mimetype": "text/x-python",
   "name": "python",
   "nbconvert_exporter": "python",
   "pygments_lexer": "ipython3",
   "version": "3.11.5"
  }
 },
 "nbformat": 4,
 "nbformat_minor": 1
}
